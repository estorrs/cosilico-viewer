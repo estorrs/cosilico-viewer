{
 "cells": [
  {
   "cell_type": "code",
   "execution_count": 1,
   "id": "2c071cb1",
   "metadata": {},
   "outputs": [],
   "source": [
    "import numcodecs\n",
    "import zarr\n",
    "import os"
   ]
  },
  {
   "cell_type": "code",
   "execution_count": 2,
   "id": "71bec6d8",
   "metadata": {},
   "outputs": [],
   "source": [
    "%load_ext autoreload"
   ]
  },
  {
   "cell_type": "code",
   "execution_count": 3,
   "id": "4635650b",
   "metadata": {},
   "outputs": [],
   "source": [
    "%autoreload 2"
   ]
  },
  {
   "cell_type": "code",
   "execution_count": 4,
   "id": "b94b85a7",
   "metadata": {},
   "outputs": [],
   "source": [
    "import h5py"
   ]
  },
  {
   "cell_type": "code",
   "execution_count": 5,
   "id": "090cb386",
   "metadata": {},
   "outputs": [],
   "source": [
    "import cosilico_py.preprocessing.platform_helpers.x10 as x10\n",
    "from cosilico_py.config import get_config"
   ]
  },
  {
   "cell_type": "code",
   "execution_count": 6,
   "id": "01a1cef3",
   "metadata": {},
   "outputs": [],
   "source": [
    "import typer\n",
    "from pathlib import Path\n",
    "import json"
   ]
  },
  {
   "cell_type": "code",
   "execution_count": 7,
   "id": "f7a7f97c",
   "metadata": {},
   "outputs": [],
   "source": [
    "from dotenv import load_dotenv\n",
    "from supabase import create_client"
   ]
  },
  {
   "cell_type": "code",
   "execution_count": 8,
   "id": "8095d720",
   "metadata": {},
   "outputs": [
    {
     "data": {
      "text/plain": [
       "True"
      ]
     },
     "execution_count": 8,
     "metadata": {},
     "output_type": "execute_result"
    }
   ],
   "source": [
    "load_dotenv(dotenv_path='../../.env')\n",
    "load_dotenv(dotenv_path='../../.env.test')"
   ]
  },
  {
   "cell_type": "code",
   "execution_count": 9,
   "id": "26fb1b4e",
   "metadata": {},
   "outputs": [],
   "source": [
    "from cosilico_py.models import X10XeniumInput, DirectoryEntity, ExperimentViewSetting\n",
    "from cosilico_py.client.client import CosilicoClient\n",
    "from cosilico_py.config import get_config"
   ]
  },
  {
   "cell_type": "code",
   "execution_count": 12,
   "id": "296e6df5",
   "metadata": {},
   "outputs": [],
   "source": [
    "def save_config(email, password):\n",
    "    app_dir = typer.get_app_dir('cosilico_py')\n",
    "    config_path: Path = Path(app_dir) / \"config.json\"\n",
    "    d = {\n",
    "        'api_url': os.environ.get('API_URL'),\n",
    "        'anon_key': os.environ.get('ANON_KEY'),\n",
    "#         'cache_dir': str((Path(app_dir) / 'cache').absolute()),\n",
    "        'cache_dir': '~/Downloads/temp_cache',\n",
    "        'email': email,\n",
    "        'password': password,\n",
    "        'preprocessing': {\n",
    "            'layer': {\n",
    "                'cells_max_vert_map': {\n",
    "                    1: 64,\n",
    "                    2: 64,\n",
    "                    4: 64,\n",
    "                    8: 64,\n",
    "                    16: 64,\n",
    "                    32: 64,\n",
    "                    64: 64,\n",
    "                    128: 64,\n",
    "                    256: 64,\n",
    "                    512: 64,\n",
    "                    1024: 64,\n",
    "                    2048: 64,\n",
    "                    4096: 64,\n",
    "                    8192: 8,\n",
    "                    16384: 8,\n",
    "                    32768: 8,\n",
    "                    65536: 8,\n",
    "                    131072: 8,\n",
    "                    262144: 8,\n",
    "                    524288: 8,\n",
    "                    1048576: 8,\n",
    "                },\n",
    "                'cells_downsample_map': {\n",
    "                    1: -1,\n",
    "                    2: -1,\n",
    "                    4: -1,\n",
    "                    8: -1,\n",
    "                    16: -1,\n",
    "                    32: -1,\n",
    "                    64: -1,\n",
    "                    128: -1,\n",
    "                    256: -1,\n",
    "                    512: -1,\n",
    "                    1024: -1,\n",
    "                    2048: -1,\n",
    "                    4096: -1,\n",
    "                    8192: 100_000,\n",
    "                    16384: 100_000,\n",
    "                    32768: 100_000,\n",
    "                    65536: 100_000,\n",
    "                    131072: 100_000,\n",
    "                    262144: 100_000,\n",
    "                    524288: 100_000,\n",
    "                    1048576: 100_000,\n",
    "                },\n",
    "                'cells_object_type_map': {\n",
    "                    1: 'polygon',\n",
    "                    2: 'polygon',\n",
    "                    4: 'polygon',\n",
    "                    8: 'polygon',\n",
    "                    16: 'polygon',\n",
    "                    32: 'polygon',\n",
    "                    64: 'polygon',\n",
    "                    128: 'polygon',\n",
    "                    256: 'polygon',\n",
    "                    512: 'polygon',\n",
    "                    1024: 'polygon',\n",
    "                    2048: 'polygon',\n",
    "                    4096: 'polygon',\n",
    "                    8192: 'polygon',\n",
    "                    16384: 'polygon',\n",
    "                    32768: 'polygon',\n",
    "                    65536: 'polygon',\n",
    "                    131072: 'polygon',\n",
    "                    262144: 'polygon',\n",
    "                    524288: 'polygon',\n",
    "                    1048576: 'polygon',\n",
    "                }\n",
    "            }\n",
    "        }\n",
    "\n",
    "    }\n",
    "\n",
    "    Path(d['cache_dir']).mkdir(parents=True, exist_ok=True)\n",
    "\n",
    "\n",
    "    json.dump(d, open(config_path, 'w'))\n",
    "\n",
    "def autocreate_client(email, password):\n",
    "    save_config(email, password)\n",
    "    client = CosilicoClient()\n",
    "    client.sign_in()\n",
    "    return client\n",
    "    \n",
    "    "
   ]
  },
  {
   "cell_type": "code",
   "execution_count": 11,
   "id": "f9990ae7",
   "metadata": {},
   "outputs": [
    {
     "data": {
      "text/plain": [
       "<supabase._sync.client.SyncClient at 0x2b5fd8980>"
      ]
     },
     "execution_count": 11,
     "metadata": {},
     "output_type": "execute_result"
    }
   ],
   "source": [
    "# this is for doing the admin only\n",
    "supabase = create_client(os.environ.get('API_URL'), os.environ.get('ANON_KEY'))\n",
    "supabase"
   ]
  },
  {
   "cell_type": "code",
   "execution_count": 12,
   "id": "36f3b75a",
   "metadata": {
    "scrolled": true
   },
   "outputs": [
    {
     "ename": "AuthApiError",
     "evalue": "User already registered",
     "output_type": "error",
     "traceback": [
      "\u001b[31m---------------------------------------------------------------------------\u001b[39m",
      "\u001b[31mHTTPStatusError\u001b[39m                           Traceback (most recent call last)",
      "\u001b[36mFile \u001b[39m\u001b[32m~/miniconda3/envs/cosilico-py/lib/python3.13/site-packages/gotrue/_sync/gotrue_base_api.py:120\u001b[39m, in \u001b[36mSyncGoTrueBaseAPI._request\u001b[39m\u001b[34m(self, method, path, jwt, redirect_to, headers, query, body, no_resolve_json, xform)\u001b[39m\n\u001b[32m    113\u001b[39m response = \u001b[38;5;28mself\u001b[39m._http_client.request(\n\u001b[32m    114\u001b[39m     method,\n\u001b[32m    115\u001b[39m     url,\n\u001b[32m   (...)\u001b[39m\u001b[32m    118\u001b[39m     json=model_dump(body) \u001b[38;5;28;01mif\u001b[39;00m \u001b[38;5;28misinstance\u001b[39m(body, BaseModel) \u001b[38;5;28;01melse\u001b[39;00m body,\n\u001b[32m    119\u001b[39m )\n\u001b[32m--> \u001b[39m\u001b[32m120\u001b[39m \u001b[43mresponse\u001b[49m\u001b[43m.\u001b[49m\u001b[43mraise_for_status\u001b[49m\u001b[43m(\u001b[49m\u001b[43m)\u001b[49m\n\u001b[32m    121\u001b[39m result = response \u001b[38;5;28;01mif\u001b[39;00m no_resolve_json \u001b[38;5;28;01melse\u001b[39;00m response.json()\n",
      "\u001b[36mFile \u001b[39m\u001b[32m~/miniconda3/envs/cosilico-py/lib/python3.13/site-packages/httpx/_models.py:829\u001b[39m, in \u001b[36mResponse.raise_for_status\u001b[39m\u001b[34m(self)\u001b[39m\n\u001b[32m    828\u001b[39m message = message.format(\u001b[38;5;28mself\u001b[39m, error_type=error_type)\n\u001b[32m--> \u001b[39m\u001b[32m829\u001b[39m \u001b[38;5;28;01mraise\u001b[39;00m HTTPStatusError(message, request=request, response=\u001b[38;5;28mself\u001b[39m)\n",
      "\u001b[31mHTTPStatusError\u001b[39m: Client error '422 Unprocessable Entity' for url 'http://127.0.0.1:54321/auth/v1/signup'\nFor more information check: https://developer.mozilla.org/en-US/docs/Web/HTTP/Status/422",
      "\nDuring handling of the above exception, another exception occurred:\n",
      "\u001b[31mAuthApiError\u001b[39m                              Traceback (most recent call last)",
      "\u001b[36mCell\u001b[39m\u001b[36m \u001b[39m\u001b[32mIn[12]\u001b[39m\u001b[32m, line 1\u001b[39m\n\u001b[32m----> \u001b[39m\u001b[32m1\u001b[39m response = \u001b[43msupabase\u001b[49m\u001b[43m.\u001b[49m\u001b[43mauth\u001b[49m\u001b[43m.\u001b[49m\u001b[43msign_up\u001b[49m\u001b[43m(\u001b[49m\n\u001b[32m      2\u001b[39m \u001b[43m    \u001b[49m\u001b[43m{\u001b[49m\n\u001b[32m      3\u001b[39m \u001b[43m        \u001b[49m\u001b[33;43m\"\u001b[39;49m\u001b[33;43memail\u001b[39;49m\u001b[33;43m\"\u001b[39;49m\u001b[43m:\u001b[49m\u001b[43m \u001b[49m\u001b[43mos\u001b[49m\u001b[43m.\u001b[49m\u001b[43menviron\u001b[49m\u001b[43m.\u001b[49m\u001b[43mget\u001b[49m\u001b[43m(\u001b[49m\u001b[33;43m'\u001b[39;49m\u001b[33;43mTEST_ADMIN_EMAIL\u001b[39;49m\u001b[33;43m'\u001b[39;49m\u001b[43m)\u001b[49m\u001b[43m,\u001b[49m\n\u001b[32m      4\u001b[39m \u001b[43m        \u001b[49m\u001b[33;43m\"\u001b[39;49m\u001b[33;43mpassword\u001b[39;49m\u001b[33;43m\"\u001b[39;49m\u001b[43m:\u001b[49m\u001b[43m \u001b[49m\u001b[43mos\u001b[49m\u001b[43m.\u001b[49m\u001b[43menviron\u001b[49m\u001b[43m.\u001b[49m\u001b[43mget\u001b[49m\u001b[43m(\u001b[49m\u001b[33;43m'\u001b[39;49m\u001b[33;43mTEST_ADMIN_PASSWORD\u001b[39;49m\u001b[33;43m'\u001b[39;49m\u001b[43m)\u001b[49m\u001b[43m,\u001b[49m\n\u001b[32m      5\u001b[39m \u001b[43m        \u001b[49m\u001b[33;43m'\u001b[39;49m\u001b[33;43moptions\u001b[39;49m\u001b[33;43m'\u001b[39;49m\u001b[43m:\u001b[49m\u001b[43m \u001b[49m\u001b[43m{\u001b[49m\n\u001b[32m      6\u001b[39m \u001b[43m            \u001b[49m\u001b[33;43m'\u001b[39;49m\u001b[33;43mdata\u001b[39;49m\u001b[33;43m'\u001b[39;49m\u001b[43m:\u001b[49m\u001b[43m \u001b[49m\u001b[43m{\u001b[49m\n\u001b[32m      7\u001b[39m \u001b[43m                \u001b[49m\u001b[33;43m'\u001b[39;49m\u001b[33;43mname\u001b[39;49m\u001b[33;43m'\u001b[39;49m\u001b[43m:\u001b[49m\u001b[43m \u001b[49m\u001b[43mos\u001b[49m\u001b[43m.\u001b[49m\u001b[43menviron\u001b[49m\u001b[43m.\u001b[49m\u001b[43mget\u001b[49m\u001b[43m(\u001b[49m\u001b[33;43m'\u001b[39;49m\u001b[33;43mTEST_ADMIN_NAME\u001b[39;49m\u001b[33;43m'\u001b[39;49m\u001b[43m)\u001b[49m\u001b[43m,\u001b[49m\n\u001b[32m      8\u001b[39m \u001b[43m            \u001b[49m\u001b[43m}\u001b[49m\n\u001b[32m      9\u001b[39m \u001b[43m        \u001b[49m\u001b[43m}\u001b[49m\n\u001b[32m     10\u001b[39m \u001b[43m    \u001b[49m\u001b[43m}\u001b[49m\n\u001b[32m     11\u001b[39m \u001b[43m)\u001b[49m\n\u001b[32m     12\u001b[39m response\n",
      "\u001b[36mFile \u001b[39m\u001b[32m~/miniconda3/envs/cosilico-py/lib/python3.13/site-packages/gotrue/_sync/gotrue_client.py:217\u001b[39m, in \u001b[36mSyncGoTrueClient.sign_up\u001b[39m\u001b[34m(self, credentials)\u001b[39m\n\u001b[32m    215\u001b[39m captcha_token = options.get(\u001b[33m\"\u001b[39m\u001b[33mcaptcha_token\u001b[39m\u001b[33m\"\u001b[39m)\n\u001b[32m    216\u001b[39m \u001b[38;5;28;01mif\u001b[39;00m email:\n\u001b[32m--> \u001b[39m\u001b[32m217\u001b[39m     response = \u001b[38;5;28;43mself\u001b[39;49m\u001b[43m.\u001b[49m\u001b[43m_request\u001b[49m\u001b[43m(\u001b[49m\n\u001b[32m    218\u001b[39m \u001b[43m        \u001b[49m\u001b[33;43m\"\u001b[39;49m\u001b[33;43mPOST\u001b[39;49m\u001b[33;43m\"\u001b[39;49m\u001b[43m,\u001b[49m\n\u001b[32m    219\u001b[39m \u001b[43m        \u001b[49m\u001b[33;43m\"\u001b[39;49m\u001b[33;43msignup\u001b[39;49m\u001b[33;43m\"\u001b[39;49m\u001b[43m,\u001b[49m\n\u001b[32m    220\u001b[39m \u001b[43m        \u001b[49m\u001b[43mbody\u001b[49m\u001b[43m=\u001b[49m\u001b[43m{\u001b[49m\n\u001b[32m    221\u001b[39m \u001b[43m            \u001b[49m\u001b[33;43m\"\u001b[39;49m\u001b[33;43memail\u001b[39;49m\u001b[33;43m\"\u001b[39;49m\u001b[43m:\u001b[49m\u001b[43m \u001b[49m\u001b[43memail\u001b[49m\u001b[43m,\u001b[49m\n\u001b[32m    222\u001b[39m \u001b[43m            \u001b[49m\u001b[33;43m\"\u001b[39;49m\u001b[33;43mpassword\u001b[39;49m\u001b[33;43m\"\u001b[39;49m\u001b[43m:\u001b[49m\u001b[43m \u001b[49m\u001b[43mpassword\u001b[49m\u001b[43m,\u001b[49m\n\u001b[32m    223\u001b[39m \u001b[43m            \u001b[49m\u001b[33;43m\"\u001b[39;49m\u001b[33;43mdata\u001b[39;49m\u001b[33;43m\"\u001b[39;49m\u001b[43m:\u001b[49m\u001b[43m \u001b[49m\u001b[43mdata\u001b[49m\u001b[43m,\u001b[49m\n\u001b[32m    224\u001b[39m \u001b[43m            \u001b[49m\u001b[33;43m\"\u001b[39;49m\u001b[33;43mgotrue_meta_security\u001b[39;49m\u001b[33;43m\"\u001b[39;49m\u001b[43m:\u001b[49m\u001b[43m \u001b[49m\u001b[43m{\u001b[49m\n\u001b[32m    225\u001b[39m \u001b[43m                \u001b[49m\u001b[33;43m\"\u001b[39;49m\u001b[33;43mcaptcha_token\u001b[39;49m\u001b[33;43m\"\u001b[39;49m\u001b[43m:\u001b[49m\u001b[43m \u001b[49m\u001b[43mcaptcha_token\u001b[49m\u001b[43m,\u001b[49m\n\u001b[32m    226\u001b[39m \u001b[43m            \u001b[49m\u001b[43m}\u001b[49m\u001b[43m,\u001b[49m\n\u001b[32m    227\u001b[39m \u001b[43m        \u001b[49m\u001b[43m}\u001b[49m\u001b[43m,\u001b[49m\n\u001b[32m    228\u001b[39m \u001b[43m        \u001b[49m\u001b[43mredirect_to\u001b[49m\u001b[43m=\u001b[49m\u001b[43mredirect_to\u001b[49m\u001b[43m,\u001b[49m\n\u001b[32m    229\u001b[39m \u001b[43m        \u001b[49m\u001b[43mxform\u001b[49m\u001b[43m=\u001b[49m\u001b[43mparse_auth_response\u001b[49m\u001b[43m,\u001b[49m\n\u001b[32m    230\u001b[39m \u001b[43m    \u001b[49m\u001b[43m)\u001b[49m\n\u001b[32m    231\u001b[39m \u001b[38;5;28;01melif\u001b[39;00m phone:\n\u001b[32m    232\u001b[39m     response = \u001b[38;5;28mself\u001b[39m._request(\n\u001b[32m    233\u001b[39m         \u001b[33m\"\u001b[39m\u001b[33mPOST\u001b[39m\u001b[33m\"\u001b[39m,\n\u001b[32m    234\u001b[39m         \u001b[33m\"\u001b[39m\u001b[33msignup\u001b[39m\u001b[33m\"\u001b[39m,\n\u001b[32m   (...)\u001b[39m\u001b[32m    244\u001b[39m         xform=parse_auth_response,\n\u001b[32m    245\u001b[39m     )\n",
      "\u001b[36mFile \u001b[39m\u001b[32m~/miniconda3/envs/cosilico-py/lib/python3.13/site-packages/gotrue/_sync/gotrue_base_api.py:125\u001b[39m, in \u001b[36mSyncGoTrueBaseAPI._request\u001b[39m\u001b[34m(self, method, path, jwt, redirect_to, headers, query, body, no_resolve_json, xform)\u001b[39m\n\u001b[32m    123\u001b[39m         \u001b[38;5;28;01mreturn\u001b[39;00m xform(result)\n\u001b[32m    124\u001b[39m \u001b[38;5;28;01mexcept\u001b[39;00m \u001b[38;5;167;01mException\u001b[39;00m \u001b[38;5;28;01mas\u001b[39;00m e:\n\u001b[32m--> \u001b[39m\u001b[32m125\u001b[39m     \u001b[38;5;28;01mraise\u001b[39;00m handle_exception(e)\n",
      "\u001b[31mAuthApiError\u001b[39m: User already registered"
     ]
    }
   ],
   "source": [
    "response = supabase.auth.sign_up(\n",
    "    {\n",
    "        \"email\": os.environ.get('TEST_ADMIN_EMAIL'),\n",
    "        \"password\": os.environ.get('TEST_ADMIN_PASSWORD'),\n",
    "        'options': {\n",
    "            'data': {\n",
    "                'name': os.environ.get('TEST_ADMIN_NAME'),\n",
    "            }\n",
    "        }\n",
    "    }\n",
    ")\n",
    "response"
   ]
  },
  {
   "cell_type": "code",
   "execution_count": 12,
   "id": "89fd9650",
   "metadata": {},
   "outputs": [],
   "source": [
    "## change to admin in terminal"
   ]
  },
  {
   "cell_type": "code",
   "execution_count": null,
   "id": "59556cd1",
   "metadata": {},
   "outputs": [],
   "source": [
    "client = autocreate_client(os.environ.get('TEST_ADMIN_EMAIL'), os.environ.get('TEST_ADMIN_PASSWORD'))"
   ]
  },
  {
   "cell_type": "code",
   "execution_count": null,
   "id": "22b91db7",
   "metadata": {},
   "outputs": [],
   "source": [
    "client.create_user(os.environ.get('TEST_USER1_EMAIL'), os.environ.get('TEST_USER1_PASSWORD'), os.environ.get('TEST_USER1_NAME'))\n",
    "client.create_user(os.environ.get('TEST_USER2_EMAIL'), os.environ.get('TEST_USER2_PASSWORD'), os.environ.get('TEST_USER2_NAME'))\n"
   ]
  },
  {
   "cell_type": "code",
   "execution_count": 27,
   "id": "ee011b28",
   "metadata": {},
   "outputs": [
    {
     "data": {
      "text/html": [
       "<pre style=\"white-space:pre;overflow-x:auto;line-height:normal;font-family:Menlo,'DejaVu Sans Mono',consolas,'Courier New',monospace\"><span style=\"color: #008000; text-decoration-color: #008000\">Sign-in successful. 💥</span>\n",
       "</pre>\n"
      ],
      "text/plain": [
       "\u001b[32mSign-in successful. 💥\u001b[0m\n"
      ]
     },
     "metadata": {},
     "output_type": "display_data"
    }
   ],
   "source": [
    "client = autocreate_client(os.environ.get('TEST_USER1_EMAIL'), os.environ.get('TEST_USER1_PASSWORD'))"
   ]
  },
  {
   "cell_type": "code",
   "execution_count": 14,
   "id": "c1aa3463",
   "metadata": {},
   "outputs": [
    {
     "data": {
      "text/html": [
       "<pre style=\"white-space:pre;overflow-x:auto;line-height:normal;font-family:Menlo,'DejaVu Sans Mono',consolas,'Courier New',monospace\">Directory already exists at <span style=\"color: #008080; text-decoration-color: #008080\">/project_a/subproject_a/zzz</span>\n",
       "</pre>\n"
      ],
      "text/plain": [
       "Directory already exists at \u001b[36m/project_a/subproject_a/\u001b[0m\u001b[36mzzz\u001b[0m\n"
      ]
     },
     "metadata": {},
     "output_type": "display_data"
    }
   ],
   "source": [
    "client.create_directory('/project_a/subproject_a/zzz', permission='rw')"
   ]
  },
  {
   "cell_type": "code",
   "execution_count": 15,
   "id": "0513a842",
   "metadata": {},
   "outputs": [
    {
     "data": {
      "text/html": [
       "<pre style=\"white-space:pre;overflow-x:auto;line-height:normal;font-family:Menlo,'DejaVu Sans Mono',consolas,'Courier New',monospace\">Permission level 🔑: <span style=\"color: #008000; text-decoration-color: #008000; font-weight: bold\">read</span> <span style=\"color: #0000ff; text-decoration-color: #0000ff; font-weight: bold\">write</span> <span style=\"color: #800080; text-decoration-color: #800080; font-weight: bold\">delete</span>\n",
       "</pre>\n"
      ],
      "text/plain": [
       "Permission level 🔑: \u001b[1;32mread\u001b[0m \u001b[1;38;5;21mwrite\u001b[0m \u001b[1;35mdelete\u001b[0m\n"
      ]
     },
     "metadata": {},
     "output_type": "display_data"
    },
    {
     "data": {
      "text/html": [
       "<pre style=\"white-space:pre;overflow-x:auto;line-height:normal;font-family:Menlo,'DejaVu Sans Mono',consolas,'Courier New',monospace\">└── 📁 <span style=\"color: #800080; text-decoration-color: #800080; font-weight: bold\">project_a</span>\n",
       "</pre>\n"
      ],
      "text/plain": [
       "└── 📁 \u001b[1;35mproject_a\u001b[0m\n"
      ]
     },
     "metadata": {},
     "output_type": "display_data"
    },
    {
     "data": {
      "text/html": [
       "<pre style=\"white-space:pre;overflow-x:auto;line-height:normal;font-family:Menlo,'DejaVu Sans Mono',consolas,'Courier New',monospace\">    └── 📁 <span style=\"color: #800080; text-decoration-color: #800080; font-weight: bold\">subproject_a</span>\n",
       "</pre>\n"
      ],
      "text/plain": [
       "    └── 📁 \u001b[1;35msubproject_a\u001b[0m\n"
      ]
     },
     "metadata": {},
     "output_type": "display_data"
    },
    {
     "data": {
      "text/html": [
       "<pre style=\"white-space:pre;overflow-x:auto;line-height:normal;font-family:Menlo,'DejaVu Sans Mono',consolas,'Courier New',monospace\">        └── 📁 <span style=\"color: #800080; text-decoration-color: #800080; font-weight: bold\">zzz</span>\n",
       "</pre>\n"
      ],
      "text/plain": [
       "        └── 📁 \u001b[1;35mzzz\u001b[0m\n"
      ]
     },
     "metadata": {},
     "output_type": "display_data"
    },
    {
     "data": {
      "text/html": [
       "<pre style=\"white-space:pre;overflow-x:auto;line-height:normal;font-family:Menlo,'DejaVu Sans Mono',consolas,'Courier New',monospace\">            └── 🔬 <span style=\"color: #800080; text-decoration-color: #800080; font-weight: bold\">Xenium Prime + 100g Custom-Breast_Cancer</span>\n",
       "</pre>\n"
      ],
      "text/plain": [
       "            └── 🔬 \u001b[1;35mXenium Prime + 100g Custom-Breast_Cancer\u001b[0m\n"
      ]
     },
     "metadata": {},
     "output_type": "display_data"
    }
   ],
   "source": [
    "client.display_experiments()"
   ]
  },
  {
   "cell_type": "code",
   "execution_count": 16,
   "id": "5620b6b1",
   "metadata": {
    "scrolled": true
   },
   "outputs": [
    {
     "data": {
      "text/plain": [
       "X10XeniumInput(name=None, bbox=[25000, 28000, 25000, 28000], verbose=True, platform=<PlatformEnum.x10_xenium: '10X Xenium'>, cellranger_outs=PosixPath('/Users/erikstorrs/Downloads/Xenium_Prime_Breast_Cancer_FFPE_outs'), to_uint8=True)"
      ]
     },
     "execution_count": 16,
     "metadata": {},
     "output_type": "execute_result"
    }
   ],
   "source": [
    "x_input = X10XeniumInput(\n",
    "    cellranger_outs='/Users/erikstorrs/Downloads/Xenium_Prime_Breast_Cancer_FFPE_outs',\n",
    "    bbox=(25000, 28000, 25000, 28000),\n",
    "    to_uint8=True\n",
    ")\n",
    "x_input"
   ]
  },
  {
   "cell_type": "code",
   "execution_count": null,
   "id": "c71cfa8b",
   "metadata": {},
   "outputs": [],
   "source": [
    "bundle = client.create_experiment(x_input)"
   ]
  },
  {
   "cell_type": "code",
   "execution_count": 18,
   "id": "bcbb0e64",
   "metadata": {},
   "outputs": [
    {
     "data": {
      "text/html": [
       "<pre style=\"white-space:pre;overflow-x:auto;line-height:normal;font-family:Menlo,'DejaVu Sans Mono',consolas,'Courier New',monospace\">Experiment <span style=\"color: #008080; text-decoration-color: #008080\">Xenium Prime + 100g Custom-Breast_Cancer</span> successfuly uploaded 🔬!\n",
       "</pre>\n"
      ],
      "text/plain": [
       "Experiment \u001b[36mXenium Prime + 100g Custom-Breast_Cancer\u001b[0m successfuly uploaded 🔬!\n"
      ]
     },
     "metadata": {},
     "output_type": "display_data"
    }
   ],
   "source": [
    "client.upload_experiment(bundle, '/project_a/subproject_a/zzz')"
   ]
  },
  {
   "cell_type": "code",
   "execution_count": 16,
   "id": "e8fe2de5",
   "metadata": {},
   "outputs": [
    {
     "data": {
      "text/html": [
       "<pre style=\"white-space:pre;overflow-x:auto;line-height:normal;font-family:Menlo,'DejaVu Sans Mono',consolas,'Courier New',monospace\">Permission level 🔑: <span style=\"color: #008000; text-decoration-color: #008000; font-weight: bold\">read</span> <span style=\"color: #0000ff; text-decoration-color: #0000ff; font-weight: bold\">write</span> <span style=\"color: #800080; text-decoration-color: #800080; font-weight: bold\">delete</span>\n",
       "</pre>\n"
      ],
      "text/plain": [
       "Permission level 🔑: \u001b[1;32mread\u001b[0m \u001b[1;38;5;21mwrite\u001b[0m \u001b[1;35mdelete\u001b[0m\n"
      ]
     },
     "metadata": {},
     "output_type": "display_data"
    },
    {
     "data": {
      "text/html": [
       "<pre style=\"white-space:pre;overflow-x:auto;line-height:normal;font-family:Menlo,'DejaVu Sans Mono',consolas,'Courier New',monospace\">└── 📁 <span style=\"color: #800080; text-decoration-color: #800080; font-weight: bold\">project_a</span>\n",
       "</pre>\n"
      ],
      "text/plain": [
       "└── 📁 \u001b[1;35mproject_a\u001b[0m\n"
      ]
     },
     "metadata": {},
     "output_type": "display_data"
    },
    {
     "data": {
      "text/html": [
       "<pre style=\"white-space:pre;overflow-x:auto;line-height:normal;font-family:Menlo,'DejaVu Sans Mono',consolas,'Courier New',monospace\">    └── 📁 <span style=\"color: #800080; text-decoration-color: #800080; font-weight: bold\">subproject_a</span>\n",
       "</pre>\n"
      ],
      "text/plain": [
       "    └── 📁 \u001b[1;35msubproject_a\u001b[0m\n"
      ]
     },
     "metadata": {},
     "output_type": "display_data"
    },
    {
     "data": {
      "text/html": [
       "<pre style=\"white-space:pre;overflow-x:auto;line-height:normal;font-family:Menlo,'DejaVu Sans Mono',consolas,'Courier New',monospace\">        └── 📁 <span style=\"color: #800080; text-decoration-color: #800080; font-weight: bold\">zzz</span>\n",
       "</pre>\n"
      ],
      "text/plain": [
       "        └── 📁 \u001b[1;35mzzz\u001b[0m\n"
      ]
     },
     "metadata": {},
     "output_type": "display_data"
    },
    {
     "data": {
      "text/html": [
       "<pre style=\"white-space:pre;overflow-x:auto;line-height:normal;font-family:Menlo,'DejaVu Sans Mono',consolas,'Courier New',monospace\">            └── 🔬 <span style=\"color: #800080; text-decoration-color: #800080; font-weight: bold\">Xenium Prime + 100g Custom-Breast_Cancer</span>\n",
       "</pre>\n"
      ],
      "text/plain": [
       "            └── 🔬 \u001b[1;35mXenium Prime + 100g Custom-Breast_Cancer\u001b[0m\n"
      ]
     },
     "metadata": {},
     "output_type": "display_data"
    }
   ],
   "source": [
    "client.display_experiments()"
   ]
  },
  {
   "cell_type": "code",
   "execution_count": null,
   "id": "d46576a8",
   "metadata": {},
   "outputs": [],
   "source": []
  },
  {
   "cell_type": "code",
   "execution_count": 28,
   "id": "9b2e964c",
   "metadata": {},
   "outputs": [
    {
     "data": {
      "text/html": [
       "<pre style=\"white-space:pre;overflow-x:auto;line-height:normal;font-family:Menlo,'DejaVu Sans Mono',consolas,'Courier New',monospace\">Xenium Prime + 100g Custom-Breast_Cancer - Xenium Morphology not in cache. Downloading<span style=\"color: #808000; text-decoration-color: #808000\">...</span> ⬇\n",
       "</pre>\n"
      ],
      "text/plain": [
       "Xenium Prime + 100g Custom-Breast_Cancer - Xenium Morphology not in cache. Downloading\u001b[33m...\u001b[0m ⬇\n"
      ]
     },
     "metadata": {},
     "output_type": "display_data"
    },
    {
     "name": "stdout",
     "output_type": "stream",
     "text": [
      "filename cda6c46a-6f0c-47f4-8ce6-cf880d82f127.zarr.zip\n"
     ]
    },
    {
     "ename": "RuntimeError",
     "evalue": "Download failed: 404 - <?xml version=\"1.0\" encoding=\"UTF-8\"?>\n<Error><Code>NoSuchKey</Code><Message>The specified key does not exist.</Message><Key>cda6c46a-6f0c-47f4-8ce6-cf880d82f127.zarr.zip</Key><RequestId>4R4AR3SJ09M33ZMF</RequestId><HostId>QclL+O8fQVCSiXKEXawKrTE8lSkd9RDEUdIAAjFuaOQ/56HE8x7rfjRdUtvX/bilQjCX2mBOg0E=</HostId></Error>",
     "output_type": "error",
     "traceback": [
      "\u001b[31m---------------------------------------------------------------------------\u001b[39m",
      "\u001b[31mRuntimeError\u001b[39m                              Traceback (most recent call last)",
      "\u001b[36mCell\u001b[39m\u001b[36m \u001b[39m\u001b[32mIn[28]\u001b[39m\u001b[32m, line 1\u001b[39m\n\u001b[32m----> \u001b[39m\u001b[32m1\u001b[39m experiment = \u001b[43mclient\u001b[49m\u001b[43m.\u001b[49m\u001b[43mget_experiment\u001b[49m\u001b[43m(\u001b[49m\u001b[33;43m'\u001b[39;49m\u001b[33;43m/project_a/subproject_a/zzz/Xenium Prime + 100g Custom-Breast_Cancer\u001b[39;49m\u001b[33;43m'\u001b[39;49m\u001b[43m)\u001b[49m\n\u001b[32m      2\u001b[39m experiment\n",
      "\u001b[36mFile \u001b[39m\u001b[32m<string>:14\u001b[39m, in \u001b[36mget_experiment\u001b[39m\u001b[34m(self, path)\u001b[39m\n",
      "\u001b[36mFile \u001b[39m\u001b[32m<string>:6\u001b[39m, in \u001b[36mdownload_object\u001b[39m\u001b[34m(filename, local_path, supabase_client)\u001b[39m\n",
      "\u001b[36mFile \u001b[39m\u001b[32m~/Documents/viewer/cosilico-py/src/cosilico_py/storage/storage.py:42\u001b[39m, in \u001b[36mdownload_file_streaming\u001b[39m\u001b[34m(download_url, output_path)\u001b[39m\n\u001b[32m     40\u001b[39m \u001b[38;5;28;01mwith\u001b[39;00m requests.get(download_url, stream=\u001b[38;5;28;01mTrue\u001b[39;00m) \u001b[38;5;28;01mas\u001b[39;00m response:\n\u001b[32m     41\u001b[39m     \u001b[38;5;28;01mif\u001b[39;00m response.status_code != \u001b[32m200\u001b[39m:\n\u001b[32m---> \u001b[39m\u001b[32m42\u001b[39m         \u001b[38;5;28;01mraise\u001b[39;00m \u001b[38;5;167;01mRuntimeError\u001b[39;00m(\u001b[33mf\u001b[39m\u001b[33m'\u001b[39m\u001b[33mDownload failed: \u001b[39m\u001b[38;5;132;01m{\u001b[39;00mresponse.status_code\u001b[38;5;132;01m}\u001b[39;00m\u001b[33m - \u001b[39m\u001b[38;5;132;01m{\u001b[39;00mresponse.text\u001b[38;5;132;01m}\u001b[39;00m\u001b[33m'\u001b[39m)\n\u001b[32m     44\u001b[39m     \u001b[38;5;28;01mwith\u001b[39;00m \u001b[38;5;28mopen\u001b[39m(output_path, \u001b[33m'\u001b[39m\u001b[33mwb\u001b[39m\u001b[33m'\u001b[39m) \u001b[38;5;28;01mas\u001b[39;00m f:\n\u001b[32m     45\u001b[39m         \u001b[38;5;28;01mfor\u001b[39;00m chunk \u001b[38;5;129;01min\u001b[39;00m response.iter_content(chunk_size=\u001b[32m8192\u001b[39m):\n",
      "\u001b[31mRuntimeError\u001b[39m: Download failed: 404 - <?xml version=\"1.0\" encoding=\"UTF-8\"?>\n<Error><Code>NoSuchKey</Code><Message>The specified key does not exist.</Message><Key>cda6c46a-6f0c-47f4-8ce6-cf880d82f127.zarr.zip</Key><RequestId>4R4AR3SJ09M33ZMF</RequestId><HostId>QclL+O8fQVCSiXKEXawKrTE8lSkd9RDEUdIAAjFuaOQ/56HE8x7rfjRdUtvX/bilQjCX2mBOg0E=</HostId></Error>"
     ]
    }
   ],
   "source": [
    "experiment = client.get_experiment('/project_a/subproject_a/zzz/Xenium Prime + 100g Custom-Breast_Cancer')\n",
    "experiment"
   ]
  },
  {
   "cell_type": "code",
   "execution_count": null,
   "id": "66e88937",
   "metadata": {},
   "outputs": [],
   "source": []
  },
  {
   "cell_type": "code",
   "execution_count": null,
   "id": "c55e03c3",
   "metadata": {},
   "outputs": [],
   "source": []
  },
  {
   "cell_type": "code",
   "execution_count": null,
   "id": "07262061",
   "metadata": {},
   "outputs": [],
   "source": []
  },
  {
   "cell_type": "code",
   "execution_count": null,
   "id": "c6e6afb6",
   "metadata": {},
   "outputs": [],
   "source": []
  },
  {
   "cell_type": "code",
   "execution_count": 91,
   "id": "67521f2f",
   "metadata": {},
   "outputs": [],
   "source": [
    "# response = client.supabase.functions.invoke(\n",
    "#     \"get-directory-permissions\",\n",
    "#     invoke_options={\n",
    "#         \"body\": {\n",
    "#             'directory_ids': ['cc8d87ed-c728-46fe-aa81-dfa57c919151', '4fa3cf39-9039-4b68-bc20-e475a719e334']\n",
    "#         },\n",
    "#     },\n",
    "# )\n",
    "# body = json.loads(response.decode())\n",
    "# body"
   ]
  },
  {
   "cell_type": "code",
   "execution_count": null,
   "id": "1c37b0f8",
   "metadata": {},
   "outputs": [],
   "source": []
  },
  {
   "cell_type": "code",
   "execution_count": null,
   "id": "2b297d8b",
   "metadata": {},
   "outputs": [],
   "source": []
  },
  {
   "cell_type": "code",
   "execution_count": null,
   "id": "8f6b2dd7",
   "metadata": {},
   "outputs": [],
   "source": []
  },
  {
   "cell_type": "code",
   "execution_count": null,
   "id": "4d7cf92e",
   "metadata": {},
   "outputs": [],
   "source": []
  },
  {
   "cell_type": "code",
   "execution_count": 40,
   "id": "22ea3bfa",
   "metadata": {},
   "outputs": [],
   "source": [
    "from anytree.importer import DictImporter\n",
    "from anytree import RenderTree\n",
    "importer = DictImporter()"
   ]
  },
  {
   "cell_type": "code",
   "execution_count": 41,
   "id": "cc6acbda",
   "metadata": {},
   "outputs": [],
   "source": [
    "data = {\n",
    "    'name': 'root',\n",
    "    'id': 'lsdkfj',\n",
    "    'p'\n",
    "    'children': [\n",
    "        {\n",
    "            'name': 'sub0',\n",
    "            'id': 'aldskfj'\n",
    "            'children': [\n",
    "                {\n",
    "                    'a': 'sub0A',\n",
    "                    'b': 'foo'\n",
    "                },\n",
    "                {\n",
    "                    'a': 'sub0B'\n",
    "                }\n",
    "            ]\n",
    "        },\n",
    "        {\n",
    "            'a': 'sub1'\n",
    "        }\n",
    "    ]\n",
    "}"
   ]
  },
  {
   "cell_type": "code",
   "execution_count": 42,
   "id": "cad73fbf",
   "metadata": {},
   "outputs": [],
   "source": [
    "root = importer.import_(data)"
   ]
  },
  {
   "cell_type": "code",
   "execution_count": 43,
   "id": "7305c879",
   "metadata": {},
   "outputs": [
    {
     "data": {
      "text/html": [
       "<pre style=\"white-space:pre;overflow-x:auto;line-height:normal;font-family:Menlo,'DejaVu Sans Mono',consolas,'Courier New',monospace\"><span style=\"color: #800080; text-decoration-color: #800080; font-weight: bold\">AnyNode</span><span style=\"font-weight: bold\">(</span><span style=\"color: #808000; text-decoration-color: #808000\">a</span>=<span style=\"color: #008000; text-decoration-color: #008000\">'root'</span><span style=\"font-weight: bold\">)</span>\n",
       "├── <span style=\"color: #800080; text-decoration-color: #800080; font-weight: bold\">AnyNode</span><span style=\"font-weight: bold\">(</span><span style=\"color: #808000; text-decoration-color: #808000\">a</span>=<span style=\"color: #008000; text-decoration-color: #008000\">'sub0'</span><span style=\"font-weight: bold\">)</span>\n",
       "│   ├── <span style=\"color: #800080; text-decoration-color: #800080; font-weight: bold\">AnyNode</span><span style=\"font-weight: bold\">(</span><span style=\"color: #808000; text-decoration-color: #808000\">a</span>=<span style=\"color: #008000; text-decoration-color: #008000\">'sub0A'</span>, <span style=\"color: #808000; text-decoration-color: #808000\">b</span>=<span style=\"color: #008000; text-decoration-color: #008000\">'foo'</span><span style=\"font-weight: bold\">)</span>\n",
       "│   └── <span style=\"color: #800080; text-decoration-color: #800080; font-weight: bold\">AnyNode</span><span style=\"font-weight: bold\">(</span><span style=\"color: #808000; text-decoration-color: #808000\">a</span>=<span style=\"color: #008000; text-decoration-color: #008000\">'sub0B'</span><span style=\"font-weight: bold\">)</span>\n",
       "└── <span style=\"color: #800080; text-decoration-color: #800080; font-weight: bold\">AnyNode</span><span style=\"font-weight: bold\">(</span><span style=\"color: #808000; text-decoration-color: #808000\">a</span>=<span style=\"color: #008000; text-decoration-color: #008000\">'sub1'</span><span style=\"font-weight: bold\">)</span>\n",
       "</pre>\n"
      ],
      "text/plain": [
       "\u001b[1;35mAnyNode\u001b[0m\u001b[1m(\u001b[0m\u001b[33ma\u001b[0m=\u001b[32m'root'\u001b[0m\u001b[1m)\u001b[0m\n",
       "├── \u001b[1;35mAnyNode\u001b[0m\u001b[1m(\u001b[0m\u001b[33ma\u001b[0m=\u001b[32m'sub0'\u001b[0m\u001b[1m)\u001b[0m\n",
       "│   ├── \u001b[1;35mAnyNode\u001b[0m\u001b[1m(\u001b[0m\u001b[33ma\u001b[0m=\u001b[32m'sub0A'\u001b[0m, \u001b[33mb\u001b[0m=\u001b[32m'foo'\u001b[0m\u001b[1m)\u001b[0m\n",
       "│   └── \u001b[1;35mAnyNode\u001b[0m\u001b[1m(\u001b[0m\u001b[33ma\u001b[0m=\u001b[32m'sub0B'\u001b[0m\u001b[1m)\u001b[0m\n",
       "└── \u001b[1;35mAnyNode\u001b[0m\u001b[1m(\u001b[0m\u001b[33ma\u001b[0m=\u001b[32m'sub1'\u001b[0m\u001b[1m)\u001b[0m\n"
      ]
     },
     "metadata": {},
     "output_type": "display_data"
    }
   ],
   "source": [
    "print(RenderTree(root))"
   ]
  },
  {
   "cell_type": "code",
   "execution_count": 45,
   "id": "5f0e5693",
   "metadata": {},
   "outputs": [
    {
     "ename": "AttributeError",
     "evalue": "'AnyNode' object has no attribute 'name'",
     "output_type": "error",
     "traceback": [
      "\u001b[31m---------------------------------------------------------------------------\u001b[39m",
      "\u001b[31mAttributeError\u001b[39m                            Traceback (most recent call last)",
      "\u001b[36mCell\u001b[39m\u001b[36m \u001b[39m\u001b[32mIn[45]\u001b[39m\u001b[32m, line 3\u001b[39m\n\u001b[32m      1\u001b[39m node = \u001b[38;5;28;01mNone\u001b[39;00m\n\u001b[32m      2\u001b[39m \u001b[38;5;28;01mfor\u001b[39;00m pre, _, node \u001b[38;5;129;01min\u001b[39;00m RenderTree(root):\n\u001b[32m----> \u001b[39m\u001b[32m3\u001b[39m     \u001b[38;5;28mprint\u001b[39m(\u001b[33m\"\u001b[39m\u001b[38;5;132;01m%s\u001b[39;00m\u001b[38;5;132;01m%s\u001b[39;00m\u001b[33m\"\u001b[39m % (pre, \u001b[43mnode\u001b[49m\u001b[43m.\u001b[49m\u001b[43mname\u001b[49m))\n",
      "\u001b[31mAttributeError\u001b[39m: 'AnyNode' object has no attribute 'name'"
     ]
    }
   ],
   "source": [
    "node = None\n",
    "for pre, _, node in RenderTree(root):\n",
    "    print(\"%s%s\" % (pre, node.name))"
   ]
  },
  {
   "cell_type": "code",
   "execution_count": 46,
   "id": "c6b3d06e",
   "metadata": {},
   "outputs": [
    {
     "data": {
      "text/plain": [
       "'root'"
      ]
     },
     "execution_count": 46,
     "metadata": {},
     "output_type": "execute_result"
    }
   ],
   "source": [
    "node.a"
   ]
  },
  {
   "cell_type": "code",
   "execution_count": null,
   "id": "3fff7498",
   "metadata": {},
   "outputs": [],
   "source": []
  },
  {
   "cell_type": "code",
   "execution_count": null,
   "id": "3e3e1086",
   "metadata": {},
   "outputs": [],
   "source": []
  },
  {
   "cell_type": "code",
   "execution_count": null,
   "id": "fd9dfc0f",
   "metadata": {},
   "outputs": [],
   "source": []
  },
  {
   "cell_type": "code",
   "execution_count": null,
   "id": "1b12c016",
   "metadata": {},
   "outputs": [],
   "source": []
  },
  {
   "cell_type": "code",
   "execution_count": null,
   "id": "94bb6fcf",
   "metadata": {},
   "outputs": [],
   "source": []
  },
  {
   "cell_type": "code",
   "execution_count": null,
   "id": "48092e4e",
   "metadata": {},
   "outputs": [],
   "source": []
  },
  {
   "cell_type": "code",
   "execution_count": null,
   "id": "d58924fe",
   "metadata": {},
   "outputs": [],
   "source": []
  },
  {
   "cell_type": "code",
   "execution_count": null,
   "id": "a332e8b6",
   "metadata": {},
   "outputs": [],
   "source": []
  },
  {
   "cell_type": "code",
   "execution_count": null,
   "id": "c8fa206c",
   "metadata": {},
   "outputs": [],
   "source": []
  },
  {
   "cell_type": "code",
   "execution_count": null,
   "id": "e6dae172",
   "metadata": {},
   "outputs": [],
   "source": []
  },
  {
   "cell_type": "code",
   "execution_count": null,
   "id": "df3679f6",
   "metadata": {},
   "outputs": [],
   "source": []
  },
  {
   "cell_type": "code",
   "execution_count": null,
   "id": "14b439e1",
   "metadata": {},
   "outputs": [],
   "source": []
  },
  {
   "cell_type": "code",
   "execution_count": null,
   "id": "94205a47",
   "metadata": {},
   "outputs": [],
   "source": []
  },
  {
   "cell_type": "code",
   "execution_count": null,
   "id": "832116e0",
   "metadata": {},
   "outputs": [],
   "source": []
  },
  {
   "cell_type": "code",
   "execution_count": 21,
   "id": "4184cc7f",
   "metadata": {},
   "outputs": [],
   "source": [
    "# response = cc.supabase.functions.invoke(\n",
    "#     \"generate-upload-url\",\n",
    "#     invoke_options={\n",
    "#         \"body\": {\"filename\": \"lllll.zarr.zip\"},\n",
    "#     },\n",
    "# )\n",
    "# body = json.loads(response.decode())\n",
    "# signed_url = body['url']\n",
    "# signed_url"
   ]
  },
  {
   "cell_type": "code",
   "execution_count": 22,
   "id": "f1b71cc0",
   "metadata": {},
   "outputs": [],
   "source": [
    "# import requests\n",
    "# file_path = \"/Users/erikstorrs/Library/Application Support/cosilico_py/cache/24eb1d9a1b3b4aa29dc653fd9deeb850.zarr.zip\"\n",
    "\n",
    "# with open(file_path, \"rb\") as f:\n",
    "#     response = requests.put(\n",
    "#         signed_url,\n",
    "#         data=f,\n",
    "#         headers={\n",
    "#             \"Content-Type\": \"application/zip\"\n",
    "#         }\n",
    "#     )\n",
    "# response"
   ]
  },
  {
   "cell_type": "code",
   "execution_count": 23,
   "id": "778a2788",
   "metadata": {},
   "outputs": [],
   "source": [
    "# response = cc.supabase.functions.invoke(\n",
    "#     \"generate-download-url\",\n",
    "#     invoke_options={\n",
    "#         \"body\": {\"filename\": \"lllll.zarr.zip\"},\n",
    "#     },\n",
    "# )\n",
    "# body = json.loads(response.decode())\n",
    "# download_url = body['url']\n",
    "# download_url"
   ]
  },
  {
   "cell_type": "code",
   "execution_count": 24,
   "id": "1ae4f73f",
   "metadata": {},
   "outputs": [],
   "source": [
    "# output_path = \"/Users/erikstorrs/Downloads/test.zarr.zip\"\n",
    "\n",
    "# # Download the file\n",
    "# response = requests.get(download_url)"
   ]
  },
  {
   "cell_type": "code",
   "execution_count": 25,
   "id": "4fae482b",
   "metadata": {},
   "outputs": [],
   "source": [
    "# with open(output_path, \"wb\") as f:\n",
    "#     f.write(response.content)"
   ]
  },
  {
   "cell_type": "code",
   "execution_count": 32,
   "id": "07973a95",
   "metadata": {},
   "outputs": [
    {
     "data": {
      "text/plain": [
       "X10XeniumInput(name=None, bbox=[25000, 28000, 25000, 28000], verbose=True, platform=<PlatformEnum.x10_xenium: '10X Xenium'>, cellranger_outs=PosixPath('/Users/erikstorrs/Downloads/Xenium_Prime_Breast_Cancer_FFPE_outs'), to_uint8=False)"
      ]
     },
     "execution_count": 32,
     "metadata": {},
     "output_type": "execute_result"
    }
   ],
   "source": [
    "x_input = X10XeniumInput(\n",
    "    cellranger_outs='/Users/erikstorrs/Downloads/Xenium_Prime_Breast_Cancer_FFPE_outs',\n",
    "    bbox=(25000, 28000, 25000, 28000), \n",
    ")\n",
    "x_input"
   ]
  },
  {
   "cell_type": "code",
   "execution_count": 33,
   "id": "1a4d5075",
   "metadata": {},
   "outputs": [
    {
     "data": {
      "text/html": [
       "<pre style=\"white-space:pre;overflow-x:auto;line-height:normal;font-family:Menlo,'DejaVu Sans Mono',consolas,'Courier New',monospace\">Loading xenium experiment from <span style=\"color: #008000; text-decoration-color: #008000\">/Users/erikstorrs/Downloads/Xenium_Prime_Breast_Cancer_FFPE_outs</span>\n",
       "</pre>\n"
      ],
      "text/plain": [
       "Loading xenium experiment from \u001b[32m/Users/erikstorrs/Downloads/\u001b[0m\u001b[32mXenium_Prime_Breast_Cancer_FFPE_outs\u001b[0m\n"
      ]
     },
     "metadata": {},
     "output_type": "display_data"
    },
    {
     "data": {
      "text/html": [
       "<pre style=\"white-space:pre;overflow-x:auto;line-height:normal;font-family:Menlo,'DejaVu Sans Mono',consolas,'Courier New',monospace\">Loading xenium morphology image from \n",
       "<span style=\"color: #008000; text-decoration-color: #008000\">/Users/erikstorrs/Downloads/Xenium_Prime_Breast_Cancer_FFPE_outs/morphology_focus/morphology_focus_0002.ome.tif</span>\n",
       "</pre>\n"
      ],
      "text/plain": [
       "Loading xenium morphology image from \n",
       "\u001b[32m/Users/erikstorrs/Downloads/Xenium_Prime_Breast_Cancer_FFPE_outs/morphology_focus/\u001b[0m\u001b[32mmorphology_focus_0002.ome.tif\u001b[0m\n"
      ]
     },
     "metadata": {},
     "output_type": "display_data"
    },
    {
     "name": "stderr",
     "output_type": "stream",
     "text": [
      "<tifffile.TiffFile 'morphology_focus_0002.ome.tif'> OME series cannot read multi-file pyramids\n"
     ]
    },
    {
     "data": {
      "text/html": [
       "<pre style=\"white-space:pre;overflow-x:auto;line-height:normal;font-family:Menlo,'DejaVu Sans Mono',consolas,'Courier New',monospace\">Loading xenium transcripts from \n",
       "<span style=\"color: #008000; text-decoration-color: #008000\">/Users/erikstorrs/Downloads/Xenium_Prime_Breast_Cancer_FFPE_outs/transcripts.parquet</span>\n",
       "</pre>\n"
      ],
      "text/plain": [
       "Loading xenium transcripts from \n",
       "\u001b[32m/Users/erikstorrs/Downloads/Xenium_Prime_Breast_Cancer_FFPE_outs/\u001b[0m\u001b[32mtranscripts.parquet\u001b[0m\n"
      ]
     },
     "metadata": {},
     "output_type": "display_data"
    },
    {
     "data": {
      "text/html": [
       "<pre style=\"white-space:pre;overflow-x:auto;line-height:normal;font-family:Menlo,'DejaVu Sans Mono',consolas,'Courier New',monospace\">Loading xenium transcript metadata for <span style=\"color: #008000; text-decoration-color: #008000; font-weight: bold\">[</span><span style=\"color: #008000; text-decoration-color: #008000\">'qv'</span><span style=\"color: #008000; text-decoration-color: #008000; font-weight: bold\">]</span>\n",
       "</pre>\n"
      ],
      "text/plain": [
       "Loading xenium transcript metadata for \u001b[1;32m[\u001b[0m\u001b[32m'qv'\u001b[0m\u001b[1;32m]\u001b[0m\n"
      ]
     },
     "metadata": {},
     "output_type": "display_data"
    },
    {
     "name": "stderr",
     "output_type": "stream",
     "text": [
      "/Users/erikstorrs/Documents/viewer/cosilico-py/src/cosilico_py/preprocessing/core/tiling.py:28: RuntimeWarning: divide by zero encountered in remainder\n",
      "  groups = np.arange(num_feats) % group_size  # Vectorized operation\n"
     ]
    },
    {
     "data": {
      "text/html": [
       "<pre style=\"white-space:pre;overflow-x:auto;line-height:normal;font-family:Menlo,'DejaVu Sans Mono',consolas,'Courier New',monospace\">Loading xenium cell boundaries from \n",
       "<span style=\"color: #008000; text-decoration-color: #008000\">/Users/erikstorrs/Downloads/Xenium_Prime_Breast_Cancer_FFPE_outs/cell_boundaries.parquet</span>\n",
       "</pre>\n"
      ],
      "text/plain": [
       "Loading xenium cell boundaries from \n",
       "\u001b[32m/Users/erikstorrs/Downloads/Xenium_Prime_Breast_Cancer_FFPE_outs/\u001b[0m\u001b[32mcell_boundaries.parquet\u001b[0m\n"
      ]
     },
     "metadata": {},
     "output_type": "display_data"
    },
    {
     "data": {
      "text/html": [
       "<pre style=\"white-space:pre;overflow-x:auto;line-height:normal;font-family:Menlo,'DejaVu Sans Mono',consolas,'Courier New',monospace\">Loading xenium cell transcript counts \n",
       "<span style=\"color: #008000; text-decoration-color: #008000\">/Users/erikstorrs/Downloads/Xenium_Prime_Breast_Cancer_FFPE_outs/cell_feature_matrix.h5</span>\n",
       "</pre>\n"
      ],
      "text/plain": [
       "Loading xenium cell transcript counts \n",
       "\u001b[32m/Users/erikstorrs/Downloads/Xenium_Prime_Breast_Cancer_FFPE_outs/\u001b[0m\u001b[32mcell_feature_matrix.h5\u001b[0m\n"
      ]
     },
     "metadata": {},
     "output_type": "display_data"
    }
   ],
   "source": [
    "bundle = client.create_experiment(x_input)"
   ]
  },
  {
   "cell_type": "code",
   "execution_count": null,
   "id": "5e27e46b",
   "metadata": {},
   "outputs": [],
   "source": [
    "client.create_experiment(x_input)"
   ]
  },
  {
   "cell_type": "code",
   "execution_count": 59,
   "id": "1abd2ee1",
   "metadata": {},
   "outputs": [
    {
     "data": {
      "text/plain": [
       "PosixPath('/Users/erikstorrs/Library/Application Support/cosilico_py/cache/24eb1d9a1b3b4aa29dc653fd9deeb850.zarr.zip')"
      ]
     },
     "execution_count": 59,
     "metadata": {},
     "output_type": "execute_result"
    }
   ],
   "source": [
    "bundle.layers[0].local_path"
   ]
  },
  {
   "cell_type": "code",
   "execution_count": null,
   "id": "0562ccb7",
   "metadata": {},
   "outputs": [],
   "source": []
  },
  {
   "cell_type": "code",
   "execution_count": null,
   "id": "f6f55908",
   "metadata": {},
   "outputs": [],
   "source": []
  },
  {
   "cell_type": "code",
   "execution_count": null,
   "id": "02894879",
   "metadata": {},
   "outputs": [],
   "source": []
  },
  {
   "cell_type": "code",
   "execution_count": null,
   "id": "1356bd0d",
   "metadata": {},
   "outputs": [],
   "source": []
  },
  {
   "cell_type": "code",
   "execution_count": null,
   "id": "2e929320",
   "metadata": {},
   "outputs": [],
   "source": []
  },
  {
   "cell_type": "code",
   "execution_count": 2,
   "id": "7967fba3",
   "metadata": {},
   "outputs": [],
   "source": [
    "from ome_types import from_xml\n",
    "import tifffile\n",
    "import dask.array as da"
   ]
  },
  {
   "cell_type": "code",
   "execution_count": 19,
   "id": "0a2c1767",
   "metadata": {},
   "outputs": [
    {
     "data": {
      "text/plain": [
       "ZarrTiffStore"
      ]
     },
     "execution_count": 19,
     "metadata": {},
     "output_type": "execute_result"
    }
   ],
   "source": [
    "image"
   ]
  },
  {
   "cell_type": "code",
   "execution_count": 20,
   "id": "f4949471",
   "metadata": {},
   "outputs": [
    {
     "data": {
      "text/plain": [
       "OME(\n",
       "   plates=[{'id': 'Plate:1', 'well_origin_x': -0.0, 'well_origin_x_unit': <UnitsLength.MICROMETER: 'µm'>, 'well_origin_y': -0.0, 'well_origin_y_unit': <UnitsLength.MICROMETER: 'µm'>}],\n",
       "   instruments=[{'microscope': {'manufacturer': '10x Genomics', 'model': 'Xenium', 'kind': 'microscope'}, 'id': 'Instrument:1'}],\n",
       "   images=[<1 field_type>],\n",
       "   uuid='urn:uuid:6f6e3c8f-db12-11ed-a5c7-0644c1d5d2e3',\n",
       "   creator='tifffile.py 2021.4.8',\n",
       ")"
      ]
     },
     "execution_count": 20,
     "metadata": {},
     "output_type": "execute_result"
    }
   ],
   "source": [
    "ome_model"
   ]
  },
  {
   "cell_type": "code",
   "execution_count": 63,
   "id": "66d575ed",
   "metadata": {},
   "outputs": [],
   "source": [
    "# ome_tiff_path = '/Users/erikstorrs/Downloads/Xenium_V1_FFPE_Human_Brain_Healthy_With_Addon_outs/morphology_focus.ome.tif'\n",
    "ome_tiff_path = '/Users/erikstorrs/Downloads/Xenium_V1_FFPE_Human_Brain_Healthy_With_Addon_outs/morphology.ome.tif'\n",
    "# ome_tiff_path = '/Users/erikstorrs/Downloads/Xenium_Prime_Breast_Cancer_FFPE_outs/morphology_focus/morphology_focus_0002.ome.tif'\n",
    "# ome_tiff_path = '/Users/erikstorrs/Downloads/Xenium_V1_Human_Ductal_Adenocarcinoma_FFPE_outs/morphology_focus/morphology_focus_0000.ome.tif'\n",
    "ome_metadata = tifffile.TiffFile(ome_tiff_path).ome_metadata\n",
    "ome_model = from_xml(ome_metadata)\n",
    "\n",
    "with tifffile.TiffFile(ome_tiff_path) as tif:\n",
    "#     z = tif.aszarr()\n",
    "#     zz = tif.series[0].aszarr()\n",
    "    z = tif.series[0].pages[0].aszarr()\n",
    "    image = da.from_zarr(z)\n",
    "#     image = da.from_zarr(zz)\n",
    "#     image = da.from_zarr(image, chunks=(1, 2048, 2048))"
   ]
  },
  {
   "cell_type": "code",
   "execution_count": 64,
   "id": "724651d1",
   "metadata": {},
   "outputs": [
    {
     "data": {
      "text/plain": [
       "Image(\n",
       "   id='Image:0',\n",
       "   name='Image0',\n",
       "   instrument_ref={'id': 'Instrument:1'},\n",
       "   pixels={'channels': [{'id': 'Channel:0:0', 'name': 'DAPI', 'samples_per_pixel': 1}], 'tiff_data_blocks': [{'plane_count': 13}], 'id': 'Pixels:0', 'dimension_order': <Pixels_DimensionOrder.XYZCT: 'XYZCT'>, 'type': <PixelType.UINT16: 'uint16'>, 'size_x': 36955, 'size_y': 27282, 'size_z': 13, 'size_c': 1, 'size_t': 1, 'physical_size_x': 0.2125, 'physical_size_y': 0.2125, 'physical_size_z': 3.0},\n",
       ")"
      ]
     },
     "execution_count": 64,
     "metadata": {},
     "output_type": "execute_result"
    }
   ],
   "source": [
    "ome_model.images[0]"
   ]
  },
  {
   "cell_type": "code",
   "execution_count": 65,
   "id": "6c25fb24",
   "metadata": {},
   "outputs": [
    {
     "name": "stdout",
     "output_type": "stream",
     "text": [
      "13 TiffPageSeries 0  'Image0'  13x27282x36955  uint16  ZYX  ome  8 Levels  13 Pages\n",
      "TiffPage 0 @16  27282x36955  uint16  minisblack tiled jpeg2000  ome\n",
      "TiffFrame 1 @13939344  27282x36955  uint16\n",
      "TiffFrame 2 @146243052  27282x36955  uint16\n",
      "TiffFrame 3 @394109272  27282x36955  uint16\n",
      "TiffFrame 4 @697471996  27282x36955  uint16\n",
      "TiffFrame 5 @998401786  27282x36955  uint16\n",
      "TiffFrame 6 @1298411118  27282x36955  uint16\n",
      "TiffFrame 7 @1597568094  27282x36955  uint16\n",
      "TiffFrame 8 @1896267556  27282x36955  uint16\n",
      "TiffFrame 9 @2195048900  27282x36955  uint16\n",
      "TiffFrame 10 @2496114066  27282x36955  uint16\n",
      "TiffFrame 11 @2786268448  27282x36955  uint16\n",
      "TiffFrame 12 @2959810478  27282x36955  uint16\n"
     ]
    }
   ],
   "source": [
    "for s in tif.series:\n",
    "    print(len(s.pages), s)\n",
    "    for p in s.pages:\n",
    "        print(p)"
   ]
  },
  {
   "cell_type": "code",
   "execution_count": 49,
   "id": "40dbe055",
   "metadata": {},
   "outputs": [
    {
     "name": "stdout",
     "output_type": "stream",
     "text": [
      "TiffPage 0 @16  74945x51265  uint16  minisblack tiled jpeg2000  ome\n"
     ]
    }
   ],
   "source": [
    "for p in tif.pages:\n",
    "    print(p)"
   ]
  },
  {
   "cell_type": "code",
   "execution_count": 59,
   "id": "1cb92ae7",
   "metadata": {},
   "outputs": [
    {
     "data": {
      "text/html": [
       "<table>\n",
       "    <tr>\n",
       "        <td>\n",
       "            <table style=\"border-collapse: collapse;\">\n",
       "                <thead>\n",
       "                    <tr>\n",
       "                        <td> </td>\n",
       "                        <th> Array </th>\n",
       "                        <th> Chunk </th>\n",
       "                    </tr>\n",
       "                </thead>\n",
       "                <tbody>\n",
       "                    \n",
       "                    <tr>\n",
       "                        <th> Bytes </th>\n",
       "                        <td> 1.88 GiB </td>\n",
       "                        <td> 2.00 MiB </td>\n",
       "                    </tr>\n",
       "                    \n",
       "                    <tr>\n",
       "                        <th> Shape </th>\n",
       "                        <td> (27282, 36955) </td>\n",
       "                        <td> (1024, 1024) </td>\n",
       "                    </tr>\n",
       "                    <tr>\n",
       "                        <th> Dask graph </th>\n",
       "                        <td colspan=\"2\"> 999 chunks in 2 graph layers </td>\n",
       "                    </tr>\n",
       "                    <tr>\n",
       "                        <th> Data type </th>\n",
       "                        <td colspan=\"2\"> uint16 numpy.ndarray </td>\n",
       "                    </tr>\n",
       "                </tbody>\n",
       "            </table>\n",
       "        </td>\n",
       "        <td>\n",
       "        <svg width=\"170\" height=\"138\" style=\"stroke:rgb(0,0,0);stroke-width:1\" >\n",
       "\n",
       "  <!-- Horizontal lines -->\n",
       "  <line x1=\"0\" y1=\"0\" x2=\"120\" y2=\"0\" style=\"stroke-width:2\" />\n",
       "  <line x1=\"0\" y1=\"3\" x2=\"120\" y2=\"3\" />\n",
       "  <line x1=\"0\" y1=\"6\" x2=\"120\" y2=\"6\" />\n",
       "  <line x1=\"0\" y1=\"13\" x2=\"120\" y2=\"13\" />\n",
       "  <line x1=\"0\" y1=\"16\" x2=\"120\" y2=\"16\" />\n",
       "  <line x1=\"0\" y1=\"23\" x2=\"120\" y2=\"23\" />\n",
       "  <line x1=\"0\" y1=\"26\" x2=\"120\" y2=\"26\" />\n",
       "  <line x1=\"0\" y1=\"29\" x2=\"120\" y2=\"29\" />\n",
       "  <line x1=\"0\" y1=\"36\" x2=\"120\" y2=\"36\" />\n",
       "  <line x1=\"0\" y1=\"39\" x2=\"120\" y2=\"39\" />\n",
       "  <line x1=\"0\" y1=\"46\" x2=\"120\" y2=\"46\" />\n",
       "  <line x1=\"0\" y1=\"49\" x2=\"120\" y2=\"49\" />\n",
       "  <line x1=\"0\" y1=\"56\" x2=\"120\" y2=\"56\" />\n",
       "  <line x1=\"0\" y1=\"59\" x2=\"120\" y2=\"59\" />\n",
       "  <line x1=\"0\" y1=\"63\" x2=\"120\" y2=\"63\" />\n",
       "  <line x1=\"0\" y1=\"69\" x2=\"120\" y2=\"69\" />\n",
       "  <line x1=\"0\" y1=\"73\" x2=\"120\" y2=\"73\" />\n",
       "  <line x1=\"0\" y1=\"79\" x2=\"120\" y2=\"79\" />\n",
       "  <line x1=\"0\" y1=\"83\" x2=\"120\" y2=\"83\" />\n",
       "  <line x1=\"0\" y1=\"88\" x2=\"120\" y2=\"88\" style=\"stroke-width:2\" />\n",
       "\n",
       "  <!-- Vertical lines -->\n",
       "  <line x1=\"0\" y1=\"0\" x2=\"0\" y2=\"88\" style=\"stroke-width:2\" />\n",
       "  <line x1=\"3\" y1=\"0\" x2=\"3\" y2=\"88\" />\n",
       "  <line x1=\"9\" y1=\"0\" x2=\"9\" y2=\"88\" />\n",
       "  <line x1=\"16\" y1=\"0\" x2=\"16\" y2=\"88\" />\n",
       "  <line x1=\"23\" y1=\"0\" x2=\"23\" y2=\"88\" />\n",
       "  <line x1=\"29\" y1=\"0\" x2=\"29\" y2=\"88\" />\n",
       "  <line x1=\"36\" y1=\"0\" x2=\"36\" y2=\"88\" />\n",
       "  <line x1=\"43\" y1=\"0\" x2=\"43\" y2=\"88\" />\n",
       "  <line x1=\"49\" y1=\"0\" x2=\"49\" y2=\"88\" />\n",
       "  <line x1=\"56\" y1=\"0\" x2=\"56\" y2=\"88\" />\n",
       "  <line x1=\"63\" y1=\"0\" x2=\"63\" y2=\"88\" />\n",
       "  <line x1=\"69\" y1=\"0\" x2=\"69\" y2=\"88\" />\n",
       "  <line x1=\"76\" y1=\"0\" x2=\"76\" y2=\"88\" />\n",
       "  <line x1=\"83\" y1=\"0\" x2=\"83\" y2=\"88\" />\n",
       "  <line x1=\"89\" y1=\"0\" x2=\"89\" y2=\"88\" />\n",
       "  <line x1=\"96\" y1=\"0\" x2=\"96\" y2=\"88\" />\n",
       "  <line x1=\"103\" y1=\"0\" x2=\"103\" y2=\"88\" />\n",
       "  <line x1=\"109\" y1=\"0\" x2=\"109\" y2=\"88\" />\n",
       "  <line x1=\"116\" y1=\"0\" x2=\"116\" y2=\"88\" />\n",
       "  <line x1=\"120\" y1=\"0\" x2=\"120\" y2=\"88\" style=\"stroke-width:2\" />\n",
       "\n",
       "  <!-- Colored Rectangle -->\n",
       "  <polygon points=\"0.0,0.0 120.0,0.0 120.0,88.58990664321472 0.0,88.58990664321472\" style=\"fill:#8B4903A0;stroke-width:0\"/>\n",
       "\n",
       "  <!-- Text -->\n",
       "  <text x=\"60.000000\" y=\"108.589907\" font-size=\"1.0rem\" font-weight=\"100\" text-anchor=\"middle\" >36955</text>\n",
       "  <text x=\"140.000000\" y=\"44.294953\" font-size=\"1.0rem\" font-weight=\"100\" text-anchor=\"middle\" transform=\"rotate(-90,140.000000,44.294953)\">27282</text>\n",
       "</svg>\n",
       "        </td>\n",
       "    </tr>\n",
       "</table>"
      ],
      "text/plain": [
       "dask.array<from-zarr, shape=(27282, 36955), dtype=uint16, chunksize=(1024, 1024), chunktype=numpy.ndarray>"
      ]
     },
     "execution_count": 59,
     "metadata": {},
     "output_type": "execute_result"
    }
   ],
   "source": [
    "image"
   ]
  },
  {
   "cell_type": "code",
   "execution_count": 43,
   "id": "e2b4fbd3",
   "metadata": {},
   "outputs": [
    {
     "data": {
      "text/plain": [
       "<tifffile.TiffPageSeries 0 ome>"
      ]
     },
     "execution_count": 43,
     "metadata": {},
     "output_type": "execute_result"
    }
   ],
   "source": [
    "s = tif.series[0]\n",
    "s"
   ]
  },
  {
   "cell_type": "code",
   "execution_count": 46,
   "id": "c238f8fa",
   "metadata": {},
   "outputs": [
    {
     "ename": "AssertionError",
     "evalue": "",
     "output_type": "error",
     "traceback": [
      "\u001b[31m---------------------------------------------------------------------------\u001b[39m",
      "\u001b[31mAssertionError\u001b[39m                            Traceback (most recent call last)",
      "\u001b[32m/var/folders/l4/tr_3w7sx31z58xhsnb0_07hw0000gr/T/ipykernel_33597/1883054398.py\u001b[39m in \u001b[36m?\u001b[39m\u001b[34m()\u001b[39m\n\u001b[32m----> \u001b[39m\u001b[32m1\u001b[39m s.aszarr()\n",
      "\u001b[32m~/miniconda3/envs/cosilico-py/lib/python3.13/site-packages/tifffile/tifffile.py\u001b[39m in \u001b[36m?\u001b[39m\u001b[34m(self, level, **kwargs)\u001b[39m\n\u001b[32m  12498\u001b[39m             \u001b[38;5;28;01mraise\u001b[39;00m ValueError(\u001b[33m'no parent'\u001b[39m)\n\u001b[32m  12499\u001b[39m \n\u001b[32m  12500\u001b[39m         \u001b[38;5;28;01mfrom\u001b[39;00m .zarr \u001b[38;5;28;01mimport\u001b[39;00m ZarrTiffStore\n\u001b[32m  12501\u001b[39m \n\u001b[32m> \u001b[39m\u001b[32m12502\u001b[39m         \u001b[38;5;28;01mreturn\u001b[39;00m ZarrTiffStore(self, level=level, **kwargs)\n",
      "\u001b[32m~/miniconda3/envs/cosilico-py/lib/python3.13/site-packages/tifffile/zarr.py\u001b[39m in \u001b[36m?\u001b[39m\u001b[34m(self, arg, level, chunkmode, fillvalue, zattrs, multiscales, lock, squeeze, maxworkers, buffersize, read_only, _openfiles, **kwargs)\u001b[39m\n\u001b[32m    346\u001b[39m \n\u001b[32m    347\u001b[39m         fh = self._data[\u001b[32m0\u001b[39m].keyframe.parent._parent.filehandle\n\u001b[32m    348\u001b[39m \n\u001b[32m    349\u001b[39m         \u001b[38;5;28;01mif\u001b[39;00m read_only \u001b[38;5;28;01mis\u001b[39;00m \u001b[38;5;28;01mNone\u001b[39;00m:\n\u001b[32m--> \u001b[39m\u001b[32m350\u001b[39m             read_only = \u001b[38;5;28;01mnot\u001b[39;00m fh.writable() \u001b[38;5;28;01mor\u001b[39;00m self._chunkmode != \u001b[32m0\u001b[39m\n\u001b[32m    351\u001b[39m \n\u001b[32m    352\u001b[39m         super().__init__(\n\u001b[32m    353\u001b[39m             fillvalue=fillvalue, chunkmode=self._chunkmode, read_only=read_only\n",
      "\u001b[32m~/miniconda3/envs/cosilico-py/lib/python3.13/site-packages/tifffile/tifffile.py\u001b[39m in \u001b[36m?\u001b[39m\u001b[34m(self)\u001b[39m\n\u001b[32m  13449\u001b[39m     \u001b[38;5;28;01mdef\u001b[39;00m writable(self) -> bool:\n\u001b[32m  13450\u001b[39m         \u001b[33m\"\"\"Return True if stream supports writing.\"\"\"\u001b[39m\n\u001b[32m> \u001b[39m\u001b[32m13451\u001b[39m         \u001b[38;5;28;01massert\u001b[39;00m self._fh \u001b[38;5;28;01mis\u001b[39;00m \u001b[38;5;28;01mnot\u001b[39;00m \u001b[38;5;28;01mNone\u001b[39;00m\n\u001b[32m  13452\u001b[39m         \u001b[38;5;28;01mif\u001b[39;00m hasattr(self._fh, \u001b[33m'writable'\u001b[39m):\n\u001b[32m  13453\u001b[39m             \u001b[38;5;28;01mreturn\u001b[39;00m self._fh.writable()\n\u001b[32m  13454\u001b[39m         \u001b[38;5;28;01mreturn\u001b[39;00m \u001b[38;5;28;01mFalse\u001b[39;00m\n",
      "\u001b[31mAssertionError\u001b[39m: "
     ]
    }
   ],
   "source": [
    "s.aszarr()"
   ]
  },
  {
   "cell_type": "code",
   "execution_count": null,
   "id": "bbd8287e",
   "metadata": {},
   "outputs": [],
   "source": []
  },
  {
   "cell_type": "code",
   "execution_count": null,
   "id": "70ee7524",
   "metadata": {},
   "outputs": [],
   "source": []
  },
  {
   "cell_type": "code",
   "execution_count": 6,
   "id": "37ccbcaf",
   "metadata": {},
   "outputs": [],
   "source": [
    "import pandas as pd"
   ]
  },
  {
   "cell_type": "code",
   "execution_count": 8,
   "id": "9b072230",
   "metadata": {},
   "outputs": [
    {
     "data": {
      "text/html": [
       "<div>\n",
       "<style scoped>\n",
       "    .dataframe tbody tr th:only-of-type {\n",
       "        vertical-align: middle;\n",
       "    }\n",
       "\n",
       "    .dataframe tbody tr th {\n",
       "        vertical-align: top;\n",
       "    }\n",
       "\n",
       "    .dataframe thead th {\n",
       "        text-align: right;\n",
       "    }\n",
       "</style>\n",
       "<table border=\"1\" class=\"dataframe\">\n",
       "  <thead>\n",
       "    <tr style=\"text-align: right;\">\n",
       "      <th></th>\n",
       "      <th>run_name</th>\n",
       "      <th>cassette_name</th>\n",
       "      <th>region_name</th>\n",
       "      <th>panel_name</th>\n",
       "      <th>panel_design_id</th>\n",
       "      <th>predesigned_panel_id</th>\n",
       "      <th>region_area</th>\n",
       "      <th>total_cell_area</th>\n",
       "      <th>total_high_quality_decoded_transcripts</th>\n",
       "      <th>fraction_transcripts_decoded_q20</th>\n",
       "      <th>...</th>\n",
       "      <th>fraction_of_ambiguous_cell_mask_pixels</th>\n",
       "      <th>fraction_of_nucleus_polygons_removed</th>\n",
       "      <th>fraction_of_cell_polygons_removed</th>\n",
       "      <th>fraction_of_nuclei_without_cell</th>\n",
       "      <th>number_of_cell_non_simple_polygons</th>\n",
       "      <th>number_of_cell_multi_polygons</th>\n",
       "      <th>number_of_nucleus_non_simple_polygons</th>\n",
       "      <th>number_of_nucleus_multi_polygons</th>\n",
       "      <th>segmented_cell_imported_frac</th>\n",
       "      <th>segmented_cell_imported_count</th>\n",
       "    </tr>\n",
       "  </thead>\n",
       "  <tbody>\n",
       "    <tr>\n",
       "      <th>0</th>\n",
       "      <td>Xenium Prime + 100g Custom</td>\n",
       "      <td>NaN</td>\n",
       "      <td>Breast_Cancer</td>\n",
       "      <td>Xenium Human 5K with Cell Typing + HPV-16/18 a...</td>\n",
       "      <td>NaN</td>\n",
       "      <td>hAtlas_v1.1</td>\n",
       "      <td>1.551598e+08</td>\n",
       "      <td>4.553694e+07</td>\n",
       "      <td>80158637</td>\n",
       "      <td>0.86385</td>\n",
       "      <td>...</td>\n",
       "      <td>NaN</td>\n",
       "      <td>NaN</td>\n",
       "      <td>NaN</td>\n",
       "      <td>NaN</td>\n",
       "      <td>NaN</td>\n",
       "      <td>NaN</td>\n",
       "      <td>NaN</td>\n",
       "      <td>NaN</td>\n",
       "      <td>NaN</td>\n",
       "      <td>NaN</td>\n",
       "    </tr>\n",
       "  </tbody>\n",
       "</table>\n",
       "<p>1 rows × 51 columns</p>\n",
       "</div>"
      ],
      "text/plain": [
       "                     run_name  cassette_name    region_name  \\\n",
       "0  Xenium Prime + 100g Custom            NaN  Breast_Cancer   \n",
       "\n",
       "                                          panel_name  panel_design_id  \\\n",
       "0  Xenium Human 5K with Cell Typing + HPV-16/18 a...              NaN   \n",
       "\n",
       "  predesigned_panel_id   region_area  total_cell_area  \\\n",
       "0          hAtlas_v1.1  1.551598e+08     4.553694e+07   \n",
       "\n",
       "   total_high_quality_decoded_transcripts  fraction_transcripts_decoded_q20  \\\n",
       "0                                80158637                           0.86385   \n",
       "\n",
       "   ...  fraction_of_ambiguous_cell_mask_pixels  \\\n",
       "0  ...                                     NaN   \n",
       "\n",
       "   fraction_of_nucleus_polygons_removed  fraction_of_cell_polygons_removed  \\\n",
       "0                                   NaN                                NaN   \n",
       "\n",
       "   fraction_of_nuclei_without_cell  number_of_cell_non_simple_polygons  \\\n",
       "0                              NaN                                 NaN   \n",
       "\n",
       "   number_of_cell_multi_polygons  number_of_nucleus_non_simple_polygons  \\\n",
       "0                            NaN                                    NaN   \n",
       "\n",
       "   number_of_nucleus_multi_polygons  segmented_cell_imported_frac  \\\n",
       "0                               NaN                           NaN   \n",
       "\n",
       "   segmented_cell_imported_count  \n",
       "0                            NaN  \n",
       "\n",
       "[1 rows x 51 columns]"
      ]
     },
     "execution_count": 8,
     "metadata": {},
     "output_type": "execute_result"
    }
   ],
   "source": [
    "df = pd.read_csv('/Users/erikstorrs/Downloads/Xenium_Prime_Breast_Cancer_FFPE_outs/metrics_summary.csv')\n",
    "df"
   ]
  },
  {
   "cell_type": "code",
   "execution_count": 9,
   "id": "cc0910f9",
   "metadata": {},
   "outputs": [
    {
     "data": {
      "text/plain": [
       "'{\"run_name\":{\"0\":\"Xenium Prime + 100g Custom\"},\"cassette_name\":{\"0\":null},\"region_name\":{\"0\":\"Breast_Cancer\"},\"panel_name\":{\"0\":\"Xenium Human 5K with Cell Typing + HPV-16\\\\/18 and SNV Add-on\"},\"panel_design_id\":{\"0\":null},\"predesigned_panel_id\":{\"0\":\"hAtlas_v1.1\"},\"region_area\":{\"0\":155159780.8498440087},\"total_cell_area\":{\"0\":45536938.5737275034},\"total_high_quality_decoded_transcripts\":{\"0\":80158637},\"fraction_transcripts_decoded_q20\":{\"0\":0.8638496091},\"fraction_predesigned_transcripts_decoded_q20\":{\"0\":0.8662174711},\"fraction_custom_transcripts_decoded_q20\":{\"0\":0.8272998337},\"nuclear_transcripts_per_100um2\":{\"0\":196.2993157169},\"decoded_transcripts_per_100um2\":{\"0\":157.1654402812},\"adjusted_negative_control_probe_rate\":{\"0\":0.0013769231},\"adjusted_negative_control_codeword_rate\":{\"0\":0.0002238943},\"adjusted_genomic_control_probe_rate\":{\"0\":0.0336418666},\"negative_control_probe_counts_per_control_per_cell\":{\"0\":0.00002918},\"genomic_control_probe_counts_per_control_per_cell\":{\"0\":0.0007365147},\"estimated_number_of_false_positive_transcripts_per_cell\":{\"0\":0.1488469626},\"estimated_number_of_false_positive_transcripts_per_cell_including_genomic_counts\":{\"0\":3.7569612657},\"num_cells_detected\":{\"0\":699110},\"fraction_empty_cells\":{\"0\":0.0219021327},\"cells_per_100um2\":{\"0\":0.4505742378},\"fraction_transcripts_assigned\":{\"0\":0.8928336693},\"median_genes_per_cell\":{\"0\":47},\"median_predesigned_genes_per_cell\":{\"0\":44},\"median_custom_genes_per_cell\":{\"0\":2},\"median_transcripts_per_cell\":{\"0\":51},\"median_predesigned_transcripts_per_cell\":{\"0\":48},\"median_custom_transcripts_per_cell\":{\"0\":3},\"thickness_transcripts_high_quality\":{\"0\":4.7671447523},\"stain_definition\":{\"0\":\"xenium_cell_segmentation_stains_v1\"},\"segmented_cell_stain_frac\":{\"0\":0.9389795597},\"segmented_cell_boundary_frac\":{\"0\":0.143927279},\"segmented_cell_interior_frac\":{\"0\":0.7950522808},\"segmented_cell_nuc_expansion_frac\":{\"0\":0.0610204403},\"segmented_cell_boundary_count\":{\"0\":100621},\"segmented_cell_interior_count\":{\"0\":555829},\"segmented_cell_nuc_expansion_count\":{\"0\":42660},\"fraction_of_ambiguous_nucleus_mask_pixels\":{\"0\":null},\"fraction_of_ambiguous_cell_mask_pixels\":{\"0\":null},\"fraction_of_nucleus_polygons_removed\":{\"0\":null},\"fraction_of_cell_polygons_removed\":{\"0\":null},\"fraction_of_nuclei_without_cell\":{\"0\":null},\"number_of_cell_non_simple_polygons\":{\"0\":null},\"number_of_cell_multi_polygons\":{\"0\":null},\"number_of_nucleus_non_simple_polygons\":{\"0\":null},\"number_of_nucleus_multi_polygons\":{\"0\":null},\"segmented_cell_imported_frac\":{\"0\":null},\"segmented_cell_imported_count\":{\"0\":null}}'"
      ]
     },
     "execution_count": 9,
     "metadata": {},
     "output_type": "execute_result"
    }
   ],
   "source": [
    "df.to_json()"
   ]
  },
  {
   "cell_type": "code",
   "execution_count": 11,
   "id": "5ae38b81",
   "metadata": {},
   "outputs": [
    {
     "data": {
      "text/plain": [
       "datetime.datetime(2024, 6, 13, 21, 22, 41, tzinfo=tzutc())"
      ]
     },
     "execution_count": 11,
     "metadata": {},
     "output_type": "execute_result"
    }
   ],
   "source": [
    "from dateutil import parser\n",
    "\n",
    "dt = parser.isoparse(\"2024-06-13T21:22:41Z\")\n",
    "dt"
   ]
  },
  {
   "cell_type": "code",
   "execution_count": null,
   "id": "3f33c50e",
   "metadata": {},
   "outputs": [],
   "source": []
  },
  {
   "cell_type": "code",
   "execution_count": null,
   "id": "39f3b930",
   "metadata": {},
   "outputs": [],
   "source": []
  },
  {
   "cell_type": "code",
   "execution_count": null,
   "id": "edfac7c7",
   "metadata": {},
   "outputs": [],
   "source": []
  },
  {
   "cell_type": "code",
   "execution_count": 2,
   "id": "1c1b13af",
   "metadata": {},
   "outputs": [
    {
     "data": {
      "text/html": [
       "<pre style=\"white-space:pre;overflow-x:auto;line-height:normal;font-family:Menlo,'DejaVu Sans Mono',consolas,'Courier New',monospace\"><span style=\"color: #800000; text-decoration-color: #800000; font-weight: bold\">Sign in attempt failed.</span>\n",
       "</pre>\n"
      ],
      "text/plain": [
       "\u001b[1;31mSign in attempt failed.\u001b[0m\n"
      ]
     },
     "metadata": {},
     "output_type": "display_data"
    }
   ],
   "source": [
    "print('[bold red]Sign in attempt failed.[/bold red]')"
   ]
  },
  {
   "cell_type": "code",
   "execution_count": 5,
   "id": "2555ef75",
   "metadata": {},
   "outputs": [
    {
     "data": {
      "text/html": [
       "<pre style=\"white-space:pre;overflow-x:auto;line-height:normal;font-family:Menlo,'DejaVu Sans Mono',consolas,'Courier New',monospace\"><span style=\"color: #008000; text-decoration-color: #008000\">Sign in successfull.</span>\n",
       "</pre>\n"
      ],
      "text/plain": [
       "\u001b[32mSign in successfull.\u001b[0m\n"
      ]
     },
     "metadata": {},
     "output_type": "display_data"
    }
   ],
   "source": [
    "print('[green]Sign in successfull.[/green]')"
   ]
  },
  {
   "cell_type": "code",
   "execution_count": null,
   "id": "b206ea08",
   "metadata": {},
   "outputs": [],
   "source": []
  },
  {
   "cell_type": "code",
   "execution_count": null,
   "id": "a1197649",
   "metadata": {},
   "outputs": [],
   "source": []
  },
  {
   "cell_type": "code",
   "execution_count": null,
   "id": "326dc329",
   "metadata": {},
   "outputs": [],
   "source": []
  },
  {
   "cell_type": "code",
   "execution_count": null,
   "id": "3b5895e1",
   "metadata": {},
   "outputs": [],
   "source": []
  },
  {
   "cell_type": "code",
   "execution_count": 2,
   "id": "68b796e5",
   "metadata": {},
   "outputs": [
    {
     "data": {
      "text/html": [
       "<div>\n",
       "<style scoped>\n",
       "    .dataframe tbody tr th:only-of-type {\n",
       "        vertical-align: middle;\n",
       "    }\n",
       "\n",
       "    .dataframe tbody tr th {\n",
       "        vertical-align: top;\n",
       "    }\n",
       "\n",
       "    .dataframe thead th {\n",
       "        text-align: right;\n",
       "    }\n",
       "</style>\n",
       "<table border=\"1\" class=\"dataframe\">\n",
       "  <thead>\n",
       "    <tr style=\"text-align: right;\">\n",
       "      <th></th>\n",
       "    </tr>\n",
       "  </thead>\n",
       "  <tbody>\n",
       "    <tr>\n",
       "      <th>aaaaaohf-1</th>\n",
       "    </tr>\n",
       "    <tr>\n",
       "      <th>aaaabkoj-1</th>\n",
       "    </tr>\n",
       "    <tr>\n",
       "      <th>aaaafefl-1</th>\n",
       "    </tr>\n",
       "    <tr>\n",
       "      <th>aaaahfjm-1</th>\n",
       "    </tr>\n",
       "    <tr>\n",
       "      <th>aaaahjao-1</th>\n",
       "    </tr>\n",
       "    <tr>\n",
       "      <th>...</th>\n",
       "    </tr>\n",
       "    <tr>\n",
       "      <th>oimkalkm-1</th>\n",
       "    </tr>\n",
       "    <tr>\n",
       "      <th>oimkankb-1</th>\n",
       "    </tr>\n",
       "    <tr>\n",
       "      <th>oimkapok-1</th>\n",
       "    </tr>\n",
       "    <tr>\n",
       "      <th>oimkbcmb-1</th>\n",
       "    </tr>\n",
       "    <tr>\n",
       "      <th>oimkbodc-1</th>\n",
       "    </tr>\n",
       "  </tbody>\n",
       "</table>\n",
       "<p>699110 rows × 0 columns</p>\n",
       "</div>"
      ],
      "text/plain": [
       "Empty DataFrame\n",
       "Columns: []\n",
       "Index: [aaaaaohf-1, aaaabkoj-1, aaaafefl-1, aaaahfjm-1, aaaahjao-1, aaaajdej-1, aaaakcik-1, aaaaknop-1, aaaamepl-1, aaaanang-1, aaaapjmp-1, aaababaf-1, aaabbcid-1, aaabcigg-1, aaabdbih-1, aaabdeeh-1, aaabdgoh-1, aaabfbjp-1, aaabglhc-1, aaabiogn-1, aaabioio-1, aaabkfaa-1, aaabklil-1, aaablcba-1, aaabonao-1, aaabpkbp-1, aaabpnpd-1, aaacaaac-1, aaacafil-1, aaacbjlb-1, aaaccccj-1, aaacddml-1, aaaceool-1, aaacfhbg-1, aaachmhl-1, aaachppe-1, aaacifpc-1, aaackjao-1, aaaclhpj-1, aaacljgp-1, aaacmanj-1, aaacmdcm-1, aaacmkjp-1, aaacndie-1, aaacnllp-1, aaadamno-1, aaadbdpd-1, aaadbebc-1, aaadbgdl-1, aaadclhp-1, aaadcpdo-1, aaaddljk-1, aaadejoa-1, aaadhkcf-1, aaadigdk-1, aaadknmi-1, aaadlfng-1, aaaeaehg-1, aaaeagfl-1, aaaebfbi-1, aaaebobg-1, aaaecblc-1, aaaeeogg-1, aaaekaba-1, aaaekbbc-1, aaaeognk-1, aaaeomcm-1, aaaepeao-1, aaafdeca-1, aaafdlje-1, aaafeabm-1, aaafenei-1, aaaffnbe-1, aaafigpf-1, aaafkbmd-1, aaafkkdb-1, aaaflelb-1, aaafmofb-1, aaafncbi-1, aaafnkbi-1, aaafolfe-1, aaafpgdn-1, aaagaoki-1, aaagbakg-1, aaagcekl-1, aaagcmfl-1, aaagglol-1, aaaggohi-1, aaaghdii-1, aaaghjnl-1, aaagifea-1, aaagjhoo-1, aaagkpok-1, aaaglkbc-1, aaagpmpg-1, aaagppee-1, aaahbime-1, aaahckdh-1, aaahdmel-1, aaaheccl-1, ...]\n",
       "\n",
       "[699110 rows x 0 columns]"
      ]
     },
     "execution_count": 2,
     "metadata": {},
     "output_type": "execute_result"
    }
   ],
   "source": [
    "adata = x10.read_10x_h5('/Users/erikstorrs/Downloads/Xenium_Prime_Breast_Cancer_FFPE_outs/cell_feature_matrix.h5')\n",
    "adata.obs"
   ]
  },
  {
   "cell_type": "code",
   "execution_count": 9,
   "id": "467059ee",
   "metadata": {},
   "outputs": [
    {
     "data": {
      "text/plain": [
       "['a', 'b', 'd']"
      ]
     },
     "execution_count": 9,
     "metadata": {},
     "output_type": "execute_result"
    }
   ],
   "source": [
    "import pandas as pd\n",
    "s = pd.Series(pd.Categorical(['a', 'a', 'b', 'd']))\n",
    "s.cat.categories.to_list()"
   ]
  },
  {
   "cell_type": "code",
   "execution_count": 2,
   "id": "725221df",
   "metadata": {},
   "outputs": [],
   "source": [
    "import pandas as pd\n",
    "dtype_dict = {\n",
    "        \"feature_name\": \"category\",\n",
    "        \"is_gene\": \"bool\",\n",
    "        \"codeword_category\": \"category\",\n",
    "        \"x_location\": \"float32\",\n",
    "        \"y_location\": \"float32\",\n",
    "        \"transcript_id\": \"uint64\",\n",
    "        \"qv\": \"float32\",\n",
    "    }\n",
    "source = pd.read_parquet(\n",
    "    \"/Users/erikstorrs/Downloads/Xenium_Prime_Breast_Cancer_FFPE_outs/transcripts.parquet\",\n",
    "    columns=[\"feature_name\", \"is_gene\", \"codeword_category\", \"x_location\", \"y_location\", \"transcript_id\", \"qv\"],  # Read only needed columns\n",
    "    engine=\"pyarrow\"  # Ensure efficient Parquet reading\n",
    ").astype(dtype_dict)  # Convert data types immediately"
   ]
  },
  {
   "cell_type": "code",
   "execution_count": 3,
   "id": "fab0091e",
   "metadata": {},
   "outputs": [
    {
     "data": {
      "text/html": [
       "<div>\n",
       "<style scoped>\n",
       "    .dataframe tbody tr th:only-of-type {\n",
       "        vertical-align: middle;\n",
       "    }\n",
       "\n",
       "    .dataframe tbody tr th {\n",
       "        vertical-align: top;\n",
       "    }\n",
       "\n",
       "    .dataframe thead th {\n",
       "        text-align: right;\n",
       "    }\n",
       "</style>\n",
       "<table border=\"1\" class=\"dataframe\">\n",
       "  <thead>\n",
       "    <tr style=\"text-align: right;\">\n",
       "      <th></th>\n",
       "      <th>gene_ids</th>\n",
       "      <th>gene_names</th>\n",
       "    </tr>\n",
       "  </thead>\n",
       "  <tbody>\n",
       "    <tr>\n",
       "      <th>0</th>\n",
       "      <td>ENSG00000166535</td>\n",
       "      <td>A2ML1</td>\n",
       "    </tr>\n",
       "    <tr>\n",
       "      <th>1</th>\n",
       "      <td>ENSG00000127837</td>\n",
       "      <td>AAMP</td>\n",
       "    </tr>\n",
       "    <tr>\n",
       "      <th>2</th>\n",
       "      <td>ENSG00000131043</td>\n",
       "      <td>AAR2</td>\n",
       "    </tr>\n",
       "    <tr>\n",
       "      <th>3</th>\n",
       "      <td>ENSG00000266967</td>\n",
       "      <td>AARSD1</td>\n",
       "    </tr>\n",
       "    <tr>\n",
       "      <th>4</th>\n",
       "      <td>ENSG00000183044</td>\n",
       "      <td>ABAT</td>\n",
       "    </tr>\n",
       "    <tr>\n",
       "      <th>...</th>\n",
       "      <td>...</td>\n",
       "      <td>...</td>\n",
       "    </tr>\n",
       "    <tr>\n",
       "      <th>9470</th>\n",
       "      <td>DeprecatedCodeword_18632</td>\n",
       "      <td>DeprecatedCodeword_18632</td>\n",
       "    </tr>\n",
       "    <tr>\n",
       "      <th>9471</th>\n",
       "      <td>DeprecatedCodeword_18637</td>\n",
       "      <td>DeprecatedCodeword_18637</td>\n",
       "    </tr>\n",
       "    <tr>\n",
       "      <th>9472</th>\n",
       "      <td>DeprecatedCodeword_18639</td>\n",
       "      <td>DeprecatedCodeword_18639</td>\n",
       "    </tr>\n",
       "    <tr>\n",
       "      <th>9473</th>\n",
       "      <td>DeprecatedCodeword_18646</td>\n",
       "      <td>DeprecatedCodeword_18646</td>\n",
       "    </tr>\n",
       "    <tr>\n",
       "      <th>9474</th>\n",
       "      <td>DeprecatedCodeword_18649</td>\n",
       "      <td>DeprecatedCodeword_18649</td>\n",
       "    </tr>\n",
       "  </tbody>\n",
       "</table>\n",
       "<p>9475 rows × 2 columns</p>\n",
       "</div>"
      ],
      "text/plain": [
       "                      gene_ids                gene_names\n",
       "0              ENSG00000166535                     A2ML1\n",
       "1              ENSG00000127837                      AAMP\n",
       "2              ENSG00000131043                      AAR2\n",
       "3              ENSG00000266967                    AARSD1\n",
       "4              ENSG00000183044                      ABAT\n",
       "...                        ...                       ...\n",
       "9470  DeprecatedCodeword_18632  DeprecatedCodeword_18632\n",
       "9471  DeprecatedCodeword_18637  DeprecatedCodeword_18637\n",
       "9472  DeprecatedCodeword_18639  DeprecatedCodeword_18639\n",
       "9473  DeprecatedCodeword_18646  DeprecatedCodeword_18646\n",
       "9474  DeprecatedCodeword_18649  DeprecatedCodeword_18649\n",
       "\n",
       "[9475 rows x 2 columns]"
      ]
     },
     "execution_count": 3,
     "metadata": {},
     "output_type": "execute_result"
    }
   ],
   "source": [
    "adata.var"
   ]
  },
  {
   "cell_type": "code",
   "execution_count": 4,
   "id": "83735036",
   "metadata": {},
   "outputs": [
    {
     "data": {
      "text/plain": [
       "(699110, 9475)"
      ]
     },
     "execution_count": 4,
     "metadata": {},
     "output_type": "execute_result"
    }
   ],
   "source": [
    "adata.X.shape"
   ]
  },
  {
   "cell_type": "code",
   "execution_count": null,
   "id": "95d8bd34",
   "metadata": {},
   "outputs": [],
   "source": []
  },
  {
   "cell_type": "code",
   "execution_count": null,
   "id": "86584dff",
   "metadata": {},
   "outputs": [],
   "source": []
  },
  {
   "cell_type": "code",
   "execution_count": null,
   "id": "f5950644",
   "metadata": {},
   "outputs": [],
   "source": []
  },
  {
   "cell_type": "code",
   "execution_count": null,
   "id": "602f0225",
   "metadata": {},
   "outputs": [],
   "source": []
  },
  {
   "cell_type": "code",
   "execution_count": null,
   "id": "efdc0dce",
   "metadata": {},
   "outputs": [],
   "source": []
  },
  {
   "cell_type": "code",
   "execution_count": 17,
   "id": "9584556b",
   "metadata": {},
   "outputs": [],
   "source": [
    "import zarr\n",
    "import numpy as np"
   ]
  },
  {
   "cell_type": "code",
   "execution_count": 43,
   "id": "8383707f",
   "metadata": {},
   "outputs": [
    {
     "data": {
      "text/html": [
       "<pre style=\"white-space:pre;overflow-x:auto;line-height:normal;font-family:Menlo,'DejaVu Sans Mono',consolas,'Courier New',monospace\"><span style=\"font-weight: bold\">/</span>\n",
       "└── <span style=\"font-weight: bold\">g1</span>\n",
       "    └── <span style=\"font-weight: bold\">testa</span> (3,) float32\n",
       "</pre>\n"
      ],
      "text/plain": [
       "\u001b[1m/\u001b[0m\n",
       "└── \u001b[1mg1\u001b[0m\n",
       "    └── \u001b[1mtesta\u001b[0m (3,) float32\n"
      ]
     },
     "execution_count": 43,
     "metadata": {},
     "output_type": "execute_result"
    }
   ],
   "source": [
    "output_filepath = '/Users/erikstorrs/Downloads/tempjj.zarr.zip'\n",
    "store = zarr.storage.ZipStore(output_filepath, mode='w')\n",
    "root = zarr.group(store=store, overwrite=True)\n",
    "g = root.create_group(\"g1\")\n",
    "# x = np.asarray(['hello', 'aaaaaaaaddddddddeeeeeeeeeeaaaaaaaaddddddddeeeeeeeeeeaaaaaaaaddddddddeeeeeeeeeeaaaaaaaaddddddddeeeeeeeeeeaaaaaaaaddddddddeeeeeeeeee', 'a', 'b', ',c']).astype(str)\n",
    "# z = g.create_array(\"testd\", shape=(len(x),), chunks=(len(x),), dtype='U50')\n",
    "# z[:] = x\n",
    "\n",
    "x = np.asarray([1,2,3], dtype=np.float32)\n",
    "z = g.create_array(\"testa\", shape=(len(x),), chunks=(len(x),), dtype='float32')\n",
    "z[:] = x\n",
    "\n",
    "root.tree()\n"
   ]
  },
  {
   "cell_type": "code",
   "execution_count": 44,
   "id": "71c74b31",
   "metadata": {},
   "outputs": [],
   "source": [
    "store.close()"
   ]
  },
  {
   "cell_type": "code",
   "execution_count": 45,
   "id": "63e053d6",
   "metadata": {
    "scrolled": true
   },
   "outputs": [
    {
     "data": {
      "text/html": [
       "<pre style=\"white-space:pre;overflow-x:auto;line-height:normal;font-family:Menlo,'DejaVu Sans Mono',consolas,'Courier New',monospace\"><span style=\"font-weight: bold\">/</span>\n",
       "</pre>\n"
      ],
      "text/plain": [
       "\u001b[1m/\u001b[0m\n"
      ]
     },
     "metadata": {},
     "output_type": "display_data"
    },
    {
     "data": {
      "text/html": [
       "<pre style=\"white-space:pre;overflow-x:auto;line-height:normal;font-family:Menlo,'DejaVu Sans Mono',consolas,'Courier New',monospace\">\n",
       "</pre>\n"
      ],
      "text/plain": [
       "\n"
      ]
     },
     "metadata": {},
     "output_type": "display_data"
    }
   ],
   "source": [
    "store = zarr.storage.ZipStore(output_filepath, mode='w')\n",
    "root = zarr.group(store=store)\n",
    "print(root.tree())\n",
    "store.close()"
   ]
  },
  {
   "cell_type": "code",
   "execution_count": 22,
   "id": "0fa9b92f",
   "metadata": {},
   "outputs": [
    {
     "ename": "ValueError",
     "evalue": "Store is read-only but mode is 'r+'",
     "output_type": "error",
     "traceback": [
      "\u001b[31m---------------------------------------------------------------------------\u001b[39m",
      "\u001b[31mValueError\u001b[39m                                Traceback (most recent call last)",
      "\u001b[36mCell\u001b[39m\u001b[36m \u001b[39m\u001b[32mIn[22]\u001b[39m\u001b[32m, line 2\u001b[39m\n\u001b[32m      1\u001b[39m store = zarr.storage.ZipStore(output_filepath, mode=\u001b[33m'\u001b[39m\u001b[33mr\u001b[39m\u001b[33m'\u001b[39m)\n\u001b[32m----> \u001b[39m\u001b[32m2\u001b[39m root = \u001b[43mzarr\u001b[49m\u001b[43m.\u001b[49m\u001b[43mgroup\u001b[49m\u001b[43m(\u001b[49m\u001b[43mstore\u001b[49m\u001b[43m=\u001b[49m\u001b[43mstore\u001b[49m\u001b[43m)\u001b[49m\n\u001b[32m      3\u001b[39m root[\u001b[33m'\u001b[39m\u001b[33m/g1/testd\u001b[39m\u001b[33m'\u001b[39m]\n",
      "\u001b[36mFile \u001b[39m\u001b[32m~/miniconda3/envs/cosilico-py/lib/python3.13/site-packages/zarr/_compat.py:43\u001b[39m, in \u001b[36m_deprecate_positional_args.<locals>._inner_deprecate_positional_args.<locals>.inner_f\u001b[39m\u001b[34m(*args, **kwargs)\u001b[39m\n\u001b[32m     41\u001b[39m extra_args = \u001b[38;5;28mlen\u001b[39m(args) - \u001b[38;5;28mlen\u001b[39m(all_args)\n\u001b[32m     42\u001b[39m \u001b[38;5;28;01mif\u001b[39;00m extra_args <= \u001b[32m0\u001b[39m:\n\u001b[32m---> \u001b[39m\u001b[32m43\u001b[39m     \u001b[38;5;28;01mreturn\u001b[39;00m \u001b[43mf\u001b[49m\u001b[43m(\u001b[49m\u001b[43m*\u001b[49m\u001b[43margs\u001b[49m\u001b[43m,\u001b[49m\u001b[43m \u001b[49m\u001b[43m*\u001b[49m\u001b[43m*\u001b[49m\u001b[43mkwargs\u001b[49m\u001b[43m)\u001b[49m\n\u001b[32m     45\u001b[39m \u001b[38;5;66;03m# extra_args > 0\u001b[39;00m\n\u001b[32m     46\u001b[39m args_msg = [\n\u001b[32m     47\u001b[39m     \u001b[33mf\u001b[39m\u001b[33m\"\u001b[39m\u001b[38;5;132;01m{\u001b[39;00mname\u001b[38;5;132;01m}\u001b[39;00m\u001b[33m=\u001b[39m\u001b[38;5;132;01m{\u001b[39;00marg\u001b[38;5;132;01m}\u001b[39;00m\u001b[33m\"\u001b[39m\n\u001b[32m     48\u001b[39m     \u001b[38;5;28;01mfor\u001b[39;00m name, arg \u001b[38;5;129;01min\u001b[39;00m \u001b[38;5;28mzip\u001b[39m(kwonly_args[:extra_args], args[-extra_args:], strict=\u001b[38;5;28;01mFalse\u001b[39;00m)\n\u001b[32m     49\u001b[39m ]\n",
      "\u001b[36mFile \u001b[39m\u001b[32m~/miniconda3/envs/cosilico-py/lib/python3.13/site-packages/zarr/api/synchronous.py:433\u001b[39m, in \u001b[36mgroup\u001b[39m\u001b[34m(store, overwrite, chunk_store, cache_attrs, synchronizer, path, zarr_version, zarr_format, meta_array, attributes, storage_options)\u001b[39m\n\u001b[32m    383\u001b[39m \u001b[38;5;129m@_deprecate_positional_args\u001b[39m\n\u001b[32m    384\u001b[39m \u001b[38;5;28;01mdef\u001b[39;00m\u001b[38;5;250m \u001b[39m\u001b[34mgroup\u001b[39m(\n\u001b[32m    385\u001b[39m     store: StoreLike | \u001b[38;5;28;01mNone\u001b[39;00m = \u001b[38;5;28;01mNone\u001b[39;00m,\n\u001b[32m   (...)\u001b[39m\u001b[32m    396\u001b[39m     storage_options: \u001b[38;5;28mdict\u001b[39m[\u001b[38;5;28mstr\u001b[39m, Any] | \u001b[38;5;28;01mNone\u001b[39;00m = \u001b[38;5;28;01mNone\u001b[39;00m,\n\u001b[32m    397\u001b[39m ) -> Group:\n\u001b[32m    398\u001b[39m \u001b[38;5;250m    \u001b[39m\u001b[33;03m\"\"\"Create a group.\u001b[39;00m\n\u001b[32m    399\u001b[39m \n\u001b[32m    400\u001b[39m \u001b[33;03m    Parameters\u001b[39;00m\n\u001b[32m   (...)\u001b[39m\u001b[32m    430\u001b[39m \u001b[33;03m        The new group.\u001b[39;00m\n\u001b[32m    431\u001b[39m \u001b[33;03m    \"\"\"\u001b[39;00m\n\u001b[32m    432\u001b[39m     \u001b[38;5;28;01mreturn\u001b[39;00m Group(\n\u001b[32m--> \u001b[39m\u001b[32m433\u001b[39m         \u001b[43msync\u001b[49m\u001b[43m(\u001b[49m\n\u001b[32m    434\u001b[39m \u001b[43m            \u001b[49m\u001b[43masync_api\u001b[49m\u001b[43m.\u001b[49m\u001b[43mgroup\u001b[49m\u001b[43m(\u001b[49m\n\u001b[32m    435\u001b[39m \u001b[43m                \u001b[49m\u001b[43mstore\u001b[49m\u001b[43m=\u001b[49m\u001b[43mstore\u001b[49m\u001b[43m,\u001b[49m\n\u001b[32m    436\u001b[39m \u001b[43m                \u001b[49m\u001b[43moverwrite\u001b[49m\u001b[43m=\u001b[49m\u001b[43moverwrite\u001b[49m\u001b[43m,\u001b[49m\n\u001b[32m    437\u001b[39m \u001b[43m                \u001b[49m\u001b[43mchunk_store\u001b[49m\u001b[43m=\u001b[49m\u001b[43mchunk_store\u001b[49m\u001b[43m,\u001b[49m\n\u001b[32m    438\u001b[39m \u001b[43m                \u001b[49m\u001b[43mcache_attrs\u001b[49m\u001b[43m=\u001b[49m\u001b[43mcache_attrs\u001b[49m\u001b[43m,\u001b[49m\n\u001b[32m    439\u001b[39m \u001b[43m                \u001b[49m\u001b[43msynchronizer\u001b[49m\u001b[43m=\u001b[49m\u001b[43msynchronizer\u001b[49m\u001b[43m,\u001b[49m\n\u001b[32m    440\u001b[39m \u001b[43m                \u001b[49m\u001b[43mpath\u001b[49m\u001b[43m=\u001b[49m\u001b[43mpath\u001b[49m\u001b[43m,\u001b[49m\n\u001b[32m    441\u001b[39m \u001b[43m                \u001b[49m\u001b[43mzarr_version\u001b[49m\u001b[43m=\u001b[49m\u001b[43mzarr_version\u001b[49m\u001b[43m,\u001b[49m\n\u001b[32m    442\u001b[39m \u001b[43m                \u001b[49m\u001b[43mzarr_format\u001b[49m\u001b[43m=\u001b[49m\u001b[43mzarr_format\u001b[49m\u001b[43m,\u001b[49m\n\u001b[32m    443\u001b[39m \u001b[43m                \u001b[49m\u001b[43mmeta_array\u001b[49m\u001b[43m=\u001b[49m\u001b[43mmeta_array\u001b[49m\u001b[43m,\u001b[49m\n\u001b[32m    444\u001b[39m \u001b[43m                \u001b[49m\u001b[43mattributes\u001b[49m\u001b[43m=\u001b[49m\u001b[43mattributes\u001b[49m\u001b[43m,\u001b[49m\n\u001b[32m    445\u001b[39m \u001b[43m                \u001b[49m\u001b[43mstorage_options\u001b[49m\u001b[43m=\u001b[49m\u001b[43mstorage_options\u001b[49m\u001b[43m,\u001b[49m\n\u001b[32m    446\u001b[39m \u001b[43m            \u001b[49m\u001b[43m)\u001b[49m\n\u001b[32m    447\u001b[39m \u001b[43m        \u001b[49m\u001b[43m)\u001b[49m\n\u001b[32m    448\u001b[39m     )\n",
      "\u001b[36mFile \u001b[39m\u001b[32m~/miniconda3/envs/cosilico-py/lib/python3.13/site-packages/zarr/core/sync.py:163\u001b[39m, in \u001b[36msync\u001b[39m\u001b[34m(coro, loop, timeout)\u001b[39m\n\u001b[32m    160\u001b[39m return_result = \u001b[38;5;28mnext\u001b[39m(\u001b[38;5;28miter\u001b[39m(finished)).result()\n\u001b[32m    162\u001b[39m \u001b[38;5;28;01mif\u001b[39;00m \u001b[38;5;28misinstance\u001b[39m(return_result, \u001b[38;5;167;01mBaseException\u001b[39;00m):\n\u001b[32m--> \u001b[39m\u001b[32m163\u001b[39m     \u001b[38;5;28;01mraise\u001b[39;00m return_result\n\u001b[32m    164\u001b[39m \u001b[38;5;28;01melse\u001b[39;00m:\n\u001b[32m    165\u001b[39m     \u001b[38;5;28;01mreturn\u001b[39;00m return_result\n",
      "\u001b[36mFile \u001b[39m\u001b[32m~/miniconda3/envs/cosilico-py/lib/python3.13/site-packages/zarr/core/sync.py:119\u001b[39m, in \u001b[36m_runner\u001b[39m\u001b[34m(coro)\u001b[39m\n\u001b[32m    114\u001b[39m \u001b[38;5;250m\u001b[39m\u001b[33;03m\"\"\"\u001b[39;00m\n\u001b[32m    115\u001b[39m \u001b[33;03mAwait a coroutine and return the result of running it. If awaiting the coroutine raises an\u001b[39;00m\n\u001b[32m    116\u001b[39m \u001b[33;03mexception, the exception will be returned.\u001b[39;00m\n\u001b[32m    117\u001b[39m \u001b[33;03m\"\"\"\u001b[39;00m\n\u001b[32m    118\u001b[39m \u001b[38;5;28;01mtry\u001b[39;00m:\n\u001b[32m--> \u001b[39m\u001b[32m119\u001b[39m     \u001b[38;5;28;01mreturn\u001b[39;00m \u001b[38;5;28;01mawait\u001b[39;00m coro\n\u001b[32m    120\u001b[39m \u001b[38;5;28;01mexcept\u001b[39;00m \u001b[38;5;167;01mException\u001b[39;00m \u001b[38;5;28;01mas\u001b[39;00m ex:\n\u001b[32m    121\u001b[39m     \u001b[38;5;28;01mreturn\u001b[39;00m ex\n",
      "\u001b[36mFile \u001b[39m\u001b[32m~/miniconda3/envs/cosilico-py/lib/python3.13/site-packages/zarr/api/asynchronous.py:655\u001b[39m, in \u001b[36mgroup\u001b[39m\u001b[34m(store, overwrite, chunk_store, cache_attrs, synchronizer, path, zarr_version, zarr_format, meta_array, attributes, storage_options)\u001b[39m\n\u001b[32m    653\u001b[39m \u001b[38;5;28;01melse\u001b[39;00m:\n\u001b[32m    654\u001b[39m     mode = \u001b[33m\"\u001b[39m\u001b[33mr+\u001b[39m\u001b[33m\"\u001b[39m\n\u001b[32m--> \u001b[39m\u001b[32m655\u001b[39m store_path = \u001b[38;5;28;01mawait\u001b[39;00m make_store_path(store, path=path, mode=mode, storage_options=storage_options)\n\u001b[32m    657\u001b[39m \u001b[38;5;28;01mif\u001b[39;00m chunk_store \u001b[38;5;129;01mis\u001b[39;00m \u001b[38;5;129;01mnot\u001b[39;00m \u001b[38;5;28;01mNone\u001b[39;00m:\n\u001b[32m    658\u001b[39m     warnings.warn(\u001b[33m\"\u001b[39m\u001b[33mchunk_store is not yet implemented\u001b[39m\u001b[33m\"\u001b[39m, \u001b[38;5;167;01mRuntimeWarning\u001b[39;00m, stacklevel=\u001b[32m2\u001b[39m)\n",
      "\u001b[36mFile \u001b[39m\u001b[32m~/miniconda3/envs/cosilico-py/lib/python3.13/site-packages/zarr/storage/_common.py:318\u001b[39m, in \u001b[36mmake_store_path\u001b[39m\u001b[34m(store_like, path, mode, storage_options)\u001b[39m\n\u001b[32m    315\u001b[39m         msg = \u001b[33mf\u001b[39m\u001b[33m\"\u001b[39m\u001b[33mUnsupported type for store_like: \u001b[39m\u001b[33m'\u001b[39m\u001b[38;5;132;01m{\u001b[39;00m\u001b[38;5;28mtype\u001b[39m(store_like).\u001b[34m__name__\u001b[39m\u001b[38;5;132;01m}\u001b[39;00m\u001b[33m'\u001b[39m\u001b[33m\"\u001b[39m  \u001b[38;5;66;03m# type: ignore[unreachable]\u001b[39;00m\n\u001b[32m    316\u001b[39m         \u001b[38;5;28;01mraise\u001b[39;00m \u001b[38;5;167;01mTypeError\u001b[39;00m(msg)\n\u001b[32m--> \u001b[39m\u001b[32m318\u001b[39m     result = \u001b[38;5;28;01mawait\u001b[39;00m StorePath.open(store, path=path_normalized, mode=mode)\n\u001b[32m    320\u001b[39m \u001b[38;5;28;01mif\u001b[39;00m storage_options \u001b[38;5;129;01mand\u001b[39;00m \u001b[38;5;129;01mnot\u001b[39;00m used_storage_options:\n\u001b[32m    321\u001b[39m     msg = \u001b[33m\"\u001b[39m\u001b[33m'\u001b[39m\u001b[33mstorage_options\u001b[39m\u001b[33m'\u001b[39m\u001b[33m was provided but unused. \u001b[39m\u001b[33m'\u001b[39m\u001b[33mstorage_options\u001b[39m\u001b[33m'\u001b[39m\u001b[33m is only used for fsspec filesystem stores.\u001b[39m\u001b[33m\"\u001b[39m\n",
      "\u001b[36mFile \u001b[39m\u001b[32m~/miniconda3/envs/cosilico-py/lib/python3.13/site-packages/zarr/storage/_common.py:80\u001b[39m, in \u001b[36mStorePath.open\u001b[39m\u001b[34m(cls, store, path, mode)\u001b[39m\n\u001b[32m     77\u001b[39m     \u001b[38;5;28;01mreturn\u001b[39;00m \u001b[38;5;28mself\u001b[39m\n\u001b[32m     79\u001b[39m \u001b[38;5;28;01mif\u001b[39;00m store.read_only \u001b[38;5;129;01mand\u001b[39;00m mode != \u001b[33m\"\u001b[39m\u001b[33mr\u001b[39m\u001b[33m\"\u001b[39m:\n\u001b[32m---> \u001b[39m\u001b[32m80\u001b[39m     \u001b[38;5;28;01mraise\u001b[39;00m \u001b[38;5;167;01mValueError\u001b[39;00m(\u001b[33mf\u001b[39m\u001b[33m\"\u001b[39m\u001b[33mStore is read-only but mode is \u001b[39m\u001b[33m'\u001b[39m\u001b[38;5;132;01m{\u001b[39;00mmode\u001b[38;5;132;01m}\u001b[39;00m\u001b[33m'\u001b[39m\u001b[33m\"\u001b[39m)\n\u001b[32m     82\u001b[39m \u001b[38;5;28;01mmatch\u001b[39;00m mode:\n\u001b[32m     83\u001b[39m     \u001b[38;5;28;01mcase\u001b[39;00m \u001b[33m\"\u001b[39m\u001b[33mw-\u001b[39m\u001b[33m\"\u001b[39m:\n",
      "\u001b[31mValueError\u001b[39m: Store is read-only but mode is 'r+'"
     ]
    }
   ],
   "source": [
    "store = zarr.storage.ZipStore(output_filepath, mode='r')\n",
    "root = zarr.group(store=store)\n",
    "root['/g1/testd']"
   ]
  },
  {
   "cell_type": "code",
   "execution_count": null,
   "id": "063fc9a0",
   "metadata": {},
   "outputs": [],
   "source": []
  }
 ],
 "metadata": {
  "kernelspec": {
   "display_name": "Python 3 (ipykernel)",
   "language": "python",
   "name": "python3"
  },
  "language_info": {
   "codemirror_mode": {
    "name": "ipython",
    "version": 3
   },
   "file_extension": ".py",
   "mimetype": "text/x-python",
   "name": "python",
   "nbconvert_exporter": "python",
   "pygments_lexer": "ipython3",
   "version": "3.13.3"
  }
 },
 "nbformat": 4,
 "nbformat_minor": 5
}
