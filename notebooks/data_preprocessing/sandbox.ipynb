{
 "cells": [
  {
   "cell_type": "code",
   "execution_count": 1,
   "id": "2c071cb1",
   "metadata": {},
   "outputs": [],
   "source": [
    "import numcodecs\n",
    "import zarr\n",
    "import os"
   ]
  },
  {
   "cell_type": "code",
   "execution_count": 2,
   "id": "71bec6d8",
   "metadata": {},
   "outputs": [],
   "source": [
    "%load_ext autoreload"
   ]
  },
  {
   "cell_type": "code",
   "execution_count": 3,
   "id": "4635650b",
   "metadata": {},
   "outputs": [],
   "source": [
    "%autoreload 2"
   ]
  },
  {
   "cell_type": "code",
   "execution_count": 4,
   "id": "b94b85a7",
   "metadata": {},
   "outputs": [],
   "source": [
    "import h5py"
   ]
  },
  {
   "cell_type": "code",
   "execution_count": 5,
   "id": "090cb386",
   "metadata": {},
   "outputs": [],
   "source": [
    "import cosilico_py.preprocessing.platform_helpers.x10 as x10\n",
    "from cosilico_py.config import get_config"
   ]
  },
  {
   "cell_type": "code",
   "execution_count": 6,
   "id": "01a1cef3",
   "metadata": {},
   "outputs": [],
   "source": [
    "import typer\n",
    "from pathlib import Path\n",
    "import json"
   ]
  },
  {
   "cell_type": "code",
   "execution_count": 7,
   "id": "f7a7f97c",
   "metadata": {},
   "outputs": [],
   "source": [
    "from dotenv import load_dotenv\n",
    "from supabase import create_client"
   ]
  },
  {
   "cell_type": "code",
   "execution_count": 8,
   "id": "8095d720",
   "metadata": {},
   "outputs": [
    {
     "data": {
      "text/plain": [
       "True"
      ]
     },
     "execution_count": 8,
     "metadata": {},
     "output_type": "execute_result"
    }
   ],
   "source": [
    "load_dotenv(dotenv_path='../../.env')\n",
    "load_dotenv(dotenv_path='../../.env.test')"
   ]
  },
  {
   "cell_type": "code",
   "execution_count": 9,
   "id": "26fb1b4e",
   "metadata": {},
   "outputs": [],
   "source": [
    "from cosilico_py.models import X10XeniumInput, DirectoryEntity, ExperimentViewSetting\n",
    "from cosilico_py.client.client import CosilicoClient\n",
    "from cosilico_py.config import get_config"
   ]
  },
  {
   "cell_type": "code",
   "execution_count": 10,
   "id": "296e6df5",
   "metadata": {},
   "outputs": [],
   "source": [
    "def save_config(email, password):\n",
    "    app_dir = typer.get_app_dir('cosilico_py')\n",
    "    config_path: Path = Path(app_dir) / \"config.json\"\n",
    "    d = {\n",
    "        'api_url': os.environ.get('API_URL'),\n",
    "        'anon_key': os.environ.get('ANON_KEY'),\n",
    "#         'cache_dir': str((Path(app_dir) / 'cache').absolute()),\n",
    "        'cache_dir': '~/Downloads/temp_cache',\n",
    "        'email': email,\n",
    "        'password': password,\n",
    "        'preprocessing': {\n",
    "            'layer': {\n",
    "                'cells_max_vert_map': {\n",
    "                    1: 64,\n",
    "                    2: 64,\n",
    "                    4: 64,\n",
    "                    8: 64,\n",
    "                    16: 64,\n",
    "                    32: 64,\n",
    "                    64: 64,\n",
    "                    128: 64,\n",
    "                    256: 64,\n",
    "                    512: 64,\n",
    "                    1024: 64,\n",
    "                    2048: 64,\n",
    "                    4096: 64,\n",
    "                    8192: 8,\n",
    "                    16384: 8,\n",
    "                    32768: 8,\n",
    "                    65536: 8,\n",
    "                    131072: 8,\n",
    "                    262144: 8,\n",
    "                    524288: 8,\n",
    "                    1048576: 8,\n",
    "                },\n",
    "                'cells_downsample_map': {\n",
    "                    1: -1,\n",
    "                    2: -1,\n",
    "                    4: -1,\n",
    "                    8: -1,\n",
    "                    16: -1,\n",
    "                    32: -1,\n",
    "                    64: -1,\n",
    "                    128: -1,\n",
    "                    256: -1,\n",
    "                    512: -1,\n",
    "                    1024: -1,\n",
    "                    2048: -1,\n",
    "                    4096: -1,\n",
    "                    8192: 100_000,\n",
    "                    16384: 100_000,\n",
    "                    32768: 100_000,\n",
    "                    65536: 100_000,\n",
    "                    131072: 100_000,\n",
    "                    262144: 100_000,\n",
    "                    524288: 100_000,\n",
    "                    1048576: 100_000,\n",
    "                },\n",
    "                'cells_object_type_map': {\n",
    "                    1: 'polygon',\n",
    "                    2: 'polygon',\n",
    "                    4: 'polygon',\n",
    "                    8: 'polygon',\n",
    "                    16: 'polygon',\n",
    "                    32: 'polygon',\n",
    "                    64: 'polygon',\n",
    "                    128: 'polygon',\n",
    "                    256: 'polygon',\n",
    "                    512: 'polygon',\n",
    "                    1024: 'polygon',\n",
    "                    2048: 'polygon',\n",
    "                    4096: 'polygon',\n",
    "                    8192: 'polygon',\n",
    "                    16384: 'polygon',\n",
    "                    32768: 'polygon',\n",
    "                    65536: 'polygon',\n",
    "                    131072: 'polygon',\n",
    "                    262144: 'polygon',\n",
    "                    524288: 'polygon',\n",
    "                    1048576: 'polygon',\n",
    "                }\n",
    "            }\n",
    "        }\n",
    "\n",
    "    }\n",
    "\n",
    "    Path(d['cache_dir']).mkdir(parents=True, exist_ok=True)\n",
    "\n",
    "\n",
    "    json.dump(d, open(config_path, 'w'))\n",
    "\n",
    "def autocreate_client(email, password):\n",
    "    save_config(email, password)\n",
    "    client = CosilicoClient()\n",
    "    client.sign_in()\n",
    "    return client\n",
    "    \n",
    "    "
   ]
  },
  {
   "cell_type": "code",
   "execution_count": 11,
   "id": "f9990ae7",
   "metadata": {},
   "outputs": [
    {
     "data": {
      "text/plain": [
       "<supabase._sync.client.SyncClient at 0x2b49e16a0>"
      ]
     },
     "execution_count": 11,
     "metadata": {},
     "output_type": "execute_result"
    }
   ],
   "source": [
    "# this is for doing the admin only\n",
    "supabase = create_client(os.environ.get('API_URL'), os.environ.get('ANON_KEY'))\n",
    "supabase"
   ]
  },
  {
   "cell_type": "code",
   "execution_count": 12,
   "id": "36f3b75a",
   "metadata": {
    "scrolled": true
   },
   "outputs": [
    {
     "data": {
      "text/plain": [
       "AuthResponse(user=User(id='f22d16ff-fc2c-4a46-99dc-ad4e0f712f1d', app_metadata={'provider': 'email', 'providers': ['email']}, user_metadata={'email': 'admin@gmail.com', 'email_verified': True, 'name': 'Admin Lenny', 'phone_verified': False, 'sub': 'f22d16ff-fc2c-4a46-99dc-ad4e0f712f1d'}, aud='authenticated', confirmation_sent_at=None, recovery_sent_at=None, email_change_sent_at=None, new_email=None, new_phone=None, invited_at=None, action_link=None, email='admin@gmail.com', phone='', created_at=datetime.datetime(2025, 7, 21, 21, 28, 41, 587050, tzinfo=TzInfo(UTC)), confirmed_at=None, email_confirmed_at=datetime.datetime(2025, 7, 21, 21, 28, 41, 607227, tzinfo=TzInfo(UTC)), phone_confirmed_at=None, last_sign_in_at=datetime.datetime(2025, 7, 21, 21, 28, 41, 610693, tzinfo=TzInfo(UTC)), role='authenticated', updated_at=datetime.datetime(2025, 7, 21, 21, 28, 41, 616593, tzinfo=TzInfo(UTC)), identities=[UserIdentity(id='f22d16ff-fc2c-4a46-99dc-ad4e0f712f1d', identity_id='4f17472d-398c-441e-b8e6-f980eff1266c', user_id='f22d16ff-fc2c-4a46-99dc-ad4e0f712f1d', identity_data={'email': 'admin@gmail.com', 'email_verified': True, 'name': 'Admin Lenny', 'phone_verified': False, 'sub': 'f22d16ff-fc2c-4a46-99dc-ad4e0f712f1d'}, provider='email', created_at=datetime.datetime(2025, 7, 21, 21, 28, 41, 601439, tzinfo=TzInfo(UTC)), last_sign_in_at=datetime.datetime(2025, 7, 21, 21, 28, 41, 601419, tzinfo=TzInfo(UTC)), updated_at=datetime.datetime(2025, 7, 21, 21, 28, 41, 601439, tzinfo=TzInfo(UTC)))], is_anonymous=False, factors=None), session=Session(provider_token=None, provider_refresh_token=None, access_token='eyJhbGciOiJIUzI1NiIsInR5cCI6IkpXVCJ9.eyJpc3MiOiJodHRwOi8vMTI3LjAuMC4xOjU0MzIxL2F1dGgvdjEiLCJzdWIiOiJmMjJkMTZmZi1mYzJjLTRhNDYtOTlkYy1hZDRlMGY3MTJmMWQiLCJhdWQiOiJhdXRoZW50aWNhdGVkIiwiZXhwIjoxNzUzMTM2OTIxLCJpYXQiOjE3NTMxMzMzMjEsImVtYWlsIjoiYWRtaW5AZ21haWwuY29tIiwicGhvbmUiOiIiLCJhcHBfbWV0YWRhdGEiOnsicHJvdmlkZXIiOiJlbWFpbCIsInByb3ZpZGVycyI6WyJlbWFpbCJdfSwidXNlcl9tZXRhZGF0YSI6eyJlbWFpbCI6ImFkbWluQGdtYWlsLmNvbSIsImVtYWlsX3ZlcmlmaWVkIjp0cnVlLCJuYW1lIjoiQWRtaW4gTGVubnkiLCJwaG9uZV92ZXJpZmllZCI6ZmFsc2UsInN1YiI6ImYyMmQxNmZmLWZjMmMtNGE0Ni05OWRjLWFkNGUwZjcxMmYxZCJ9LCJyb2xlIjoiYXV0aGVudGljYXRlZCIsImFhbCI6ImFhbDEiLCJhbXIiOlt7Im1ldGhvZCI6InBhc3N3b3JkIiwidGltZXN0YW1wIjoxNzUzMTMzMzIxfV0sInNlc3Npb25faWQiOiI0N2E5NDZkOS1hNGNhLTQ2ZjEtYTJiZi04ODBhY2JkMTQ4NDQiLCJpc19hbm9ueW1vdXMiOmZhbHNlfQ.qPbTxtoLQU8oA1qcuTKVWM0Vc4TTm4zRhylwCwcKN3c', refresh_token='uufdonqrlvsl', expires_in=3600, expires_at=1753136921, token_type='bearer', user=User(id='f22d16ff-fc2c-4a46-99dc-ad4e0f712f1d', app_metadata={'provider': 'email', 'providers': ['email']}, user_metadata={'email': 'admin@gmail.com', 'email_verified': True, 'name': 'Admin Lenny', 'phone_verified': False, 'sub': 'f22d16ff-fc2c-4a46-99dc-ad4e0f712f1d'}, aud='authenticated', confirmation_sent_at=None, recovery_sent_at=None, email_change_sent_at=None, new_email=None, new_phone=None, invited_at=None, action_link=None, email='admin@gmail.com', phone='', created_at=datetime.datetime(2025, 7, 21, 21, 28, 41, 587050, tzinfo=TzInfo(UTC)), confirmed_at=None, email_confirmed_at=datetime.datetime(2025, 7, 21, 21, 28, 41, 607227, tzinfo=TzInfo(UTC)), phone_confirmed_at=None, last_sign_in_at=datetime.datetime(2025, 7, 21, 21, 28, 41, 610693, tzinfo=TzInfo(UTC)), role='authenticated', updated_at=datetime.datetime(2025, 7, 21, 21, 28, 41, 616593, tzinfo=TzInfo(UTC)), identities=[UserIdentity(id='f22d16ff-fc2c-4a46-99dc-ad4e0f712f1d', identity_id='4f17472d-398c-441e-b8e6-f980eff1266c', user_id='f22d16ff-fc2c-4a46-99dc-ad4e0f712f1d', identity_data={'email': 'admin@gmail.com', 'email_verified': True, 'name': 'Admin Lenny', 'phone_verified': False, 'sub': 'f22d16ff-fc2c-4a46-99dc-ad4e0f712f1d'}, provider='email', created_at=datetime.datetime(2025, 7, 21, 21, 28, 41, 601439, tzinfo=TzInfo(UTC)), last_sign_in_at=datetime.datetime(2025, 7, 21, 21, 28, 41, 601419, tzinfo=TzInfo(UTC)), updated_at=datetime.datetime(2025, 7, 21, 21, 28, 41, 601439, tzinfo=TzInfo(UTC)))], is_anonymous=False, factors=None)))"
      ]
     },
     "execution_count": 12,
     "metadata": {},
     "output_type": "execute_result"
    }
   ],
   "source": [
    "response = supabase.auth.sign_up(\n",
    "    {\n",
    "        \"email\": os.environ.get('TEST_ADMIN_EMAIL'),\n",
    "        \"password\": os.environ.get('TEST_ADMIN_PASSWORD'),\n",
    "        'options': {\n",
    "            'data': {\n",
    "                'name': os.environ.get('TEST_ADMIN_NAME'),\n",
    "            }\n",
    "        }\n",
    "    }\n",
    ")\n",
    "response"
   ]
  },
  {
   "cell_type": "code",
   "execution_count": 13,
   "id": "89fd9650",
   "metadata": {},
   "outputs": [],
   "source": [
    "## change to admin in terminal"
   ]
  },
  {
   "cell_type": "code",
   "execution_count": 14,
   "id": "59556cd1",
   "metadata": {},
   "outputs": [
    {
     "data": {
      "text/html": [
       "<pre style=\"white-space:pre;overflow-x:auto;line-height:normal;font-family:Menlo,'DejaVu Sans Mono',consolas,'Courier New',monospace\"><span style=\"color: #008000; text-decoration-color: #008000\">Sign-in successful. 💥</span>\n",
       "</pre>\n"
      ],
      "text/plain": [
       "\u001b[32mSign-in successful. 💥\u001b[0m\n"
      ]
     },
     "metadata": {},
     "output_type": "display_data"
    }
   ],
   "source": [
    "client = autocreate_client(os.environ.get('TEST_ADMIN_EMAIL'), os.environ.get('TEST_ADMIN_PASSWORD'))"
   ]
  },
  {
   "cell_type": "code",
   "execution_count": 15,
   "id": "22b91db7",
   "metadata": {},
   "outputs": [
    {
     "data": {
      "text/html": [
       "<pre style=\"white-space:pre;overflow-x:auto;line-height:normal;font-family:Menlo,'DejaVu Sans Mono',consolas,'Courier New',monospace\"><span style=\"color: #008000; text-decoration-color: #008000\">User created -- user1@gmail.com.</span>\n",
       "</pre>\n"
      ],
      "text/plain": [
       "\u001b[32mUser created -- user1@gmail.com.\u001b[0m\n"
      ]
     },
     "metadata": {},
     "output_type": "display_data"
    },
    {
     "data": {
      "text/html": [
       "<pre style=\"white-space:pre;overflow-x:auto;line-height:normal;font-family:Menlo,'DejaVu Sans Mono',consolas,'Courier New',monospace\"><span style=\"color: #008000; text-decoration-color: #008000\">User created -- user2@gmail.com.</span>\n",
       "</pre>\n"
      ],
      "text/plain": [
       "\u001b[32mUser created -- user2@gmail.com.\u001b[0m\n"
      ]
     },
     "metadata": {},
     "output_type": "display_data"
    }
   ],
   "source": [
    "client.create_user(os.environ.get('TEST_USER1_EMAIL'), os.environ.get('TEST_USER1_PASSWORD'), os.environ.get('TEST_USER1_NAME'))\n",
    "client.create_user(os.environ.get('TEST_USER2_EMAIL'), os.environ.get('TEST_USER2_PASSWORD'), os.environ.get('TEST_USER2_NAME'))\n"
   ]
  },
  {
   "cell_type": "code",
   "execution_count": 21,
   "id": "ee011b28",
   "metadata": {},
   "outputs": [
    {
     "data": {
      "text/html": [
       "<pre style=\"white-space:pre;overflow-x:auto;line-height:normal;font-family:Menlo,'DejaVu Sans Mono',consolas,'Courier New',monospace\"><span style=\"color: #008000; text-decoration-color: #008000\">Sign-in successful. 💥</span>\n",
       "</pre>\n"
      ],
      "text/plain": [
       "\u001b[32mSign-in successful. 💥\u001b[0m\n"
      ]
     },
     "metadata": {},
     "output_type": "display_data"
    }
   ],
   "source": [
    "client = autocreate_client(os.environ.get('TEST_USER1_EMAIL'), os.environ.get('TEST_USER1_PASSWORD'))"
   ]
  },
  {
   "cell_type": "code",
   "execution_count": 17,
   "id": "c1aa3463",
   "metadata": {},
   "outputs": [
    {
     "data": {
      "text/html": [
       "<pre style=\"white-space:pre;overflow-x:auto;line-height:normal;font-family:Menlo,'DejaVu Sans Mono',consolas,'Courier New',monospace\"><span style=\"color: #008000; text-decoration-color: #008000\">Directory successfuly created at</span> <span style=\"color: #008080; text-decoration-color: #008080\">project_a/subproject_a/zzz</span>\n",
       "</pre>\n"
      ],
      "text/plain": [
       "\u001b[32mDirectory successfuly created at\u001b[0m \u001b[36mproject_a/subproject_a/zzz\u001b[0m\n"
      ]
     },
     "metadata": {},
     "output_type": "display_data"
    }
   ],
   "source": [
    "client.create_directory('/project_a/subproject_a/zzz', permission='rw')"
   ]
  },
  {
   "cell_type": "code",
   "execution_count": 18,
   "id": "0513a842",
   "metadata": {},
   "outputs": [
    {
     "data": {
      "text/html": [
       "<pre style=\"white-space:pre;overflow-x:auto;line-height:normal;font-family:Menlo,'DejaVu Sans Mono',consolas,'Courier New',monospace\">Permission level 🔑: <span style=\"color: #008000; text-decoration-color: #008000; font-weight: bold\">read</span> <span style=\"color: #0000ff; text-decoration-color: #0000ff; font-weight: bold\">write</span> <span style=\"color: #800080; text-decoration-color: #800080; font-weight: bold\">delete</span>\n",
       "</pre>\n"
      ],
      "text/plain": [
       "Permission level 🔑: \u001b[1;32mread\u001b[0m \u001b[1;38;5;21mwrite\u001b[0m \u001b[1;35mdelete\u001b[0m\n"
      ]
     },
     "metadata": {},
     "output_type": "display_data"
    },
    {
     "data": {
      "text/html": [
       "<pre style=\"white-space:pre;overflow-x:auto;line-height:normal;font-family:Menlo,'DejaVu Sans Mono',consolas,'Courier New',monospace\">└── 📁 <span style=\"color: #800080; text-decoration-color: #800080; font-weight: bold\">project_a</span>\n",
       "</pre>\n"
      ],
      "text/plain": [
       "└── 📁 \u001b[1;35mproject_a\u001b[0m\n"
      ]
     },
     "metadata": {},
     "output_type": "display_data"
    },
    {
     "data": {
      "text/html": [
       "<pre style=\"white-space:pre;overflow-x:auto;line-height:normal;font-family:Menlo,'DejaVu Sans Mono',consolas,'Courier New',monospace\">    └── 📁 <span style=\"color: #800080; text-decoration-color: #800080; font-weight: bold\">subproject_a</span>\n",
       "</pre>\n"
      ],
      "text/plain": [
       "    └── 📁 \u001b[1;35msubproject_a\u001b[0m\n"
      ]
     },
     "metadata": {},
     "output_type": "display_data"
    },
    {
     "data": {
      "text/html": [
       "<pre style=\"white-space:pre;overflow-x:auto;line-height:normal;font-family:Menlo,'DejaVu Sans Mono',consolas,'Courier New',monospace\">        └── 📁 <span style=\"color: #800080; text-decoration-color: #800080; font-weight: bold\">zzz</span>\n",
       "</pre>\n"
      ],
      "text/plain": [
       "        └── 📁 \u001b[1;35mzzz\u001b[0m\n"
      ]
     },
     "metadata": {},
     "output_type": "display_data"
    }
   ],
   "source": [
    "client.display_experiments()"
   ]
  },
  {
   "cell_type": "code",
   "execution_count": 19,
   "id": "5620b6b1",
   "metadata": {
    "scrolled": true
   },
   "outputs": [
    {
     "data": {
      "text/plain": [
       "X10XeniumInput(name=None, bbox=[25000, 28000, 25000, 28000], verbose=True, platform=<PlatformEnum.x10_xenium: '10X Xenium'>, cellranger_outs=PosixPath('/Users/erikstorrs/Downloads/Xenium_Prime_Breast_Cancer_FFPE_outs'), to_uint8=True)"
      ]
     },
     "execution_count": 19,
     "metadata": {},
     "output_type": "execute_result"
    }
   ],
   "source": [
    "x_input = X10XeniumInput(\n",
    "    cellranger_outs='/Users/erikstorrs/Downloads/Xenium_Prime_Breast_Cancer_FFPE_outs',\n",
    "    bbox=(25000, 28000, 25000, 28000),\n",
    "    to_uint8=True\n",
    ")\n",
    "x_input"
   ]
  },
  {
   "cell_type": "code",
   "execution_count": 22,
   "id": "c71cfa8b",
   "metadata": {},
   "outputs": [
    {
     "data": {
      "text/html": [
       "<pre style=\"white-space:pre;overflow-x:auto;line-height:normal;font-family:Menlo,'DejaVu Sans Mono',consolas,'Courier New',monospace\">Loading xenium experiment from <span style=\"color: #008000; text-decoration-color: #008000\">/Users/erikstorrs/Downloads/Xenium_Prime_Breast_Cancer_FFPE_outs</span>\n",
       "</pre>\n"
      ],
      "text/plain": [
       "Loading xenium experiment from \u001b[32m/Users/erikstorrs/Downloads/\u001b[0m\u001b[32mXenium_Prime_Breast_Cancer_FFPE_outs\u001b[0m\n"
      ]
     },
     "metadata": {},
     "output_type": "display_data"
    },
    {
     "data": {
      "text/html": [
       "<pre style=\"white-space:pre;overflow-x:auto;line-height:normal;font-family:Menlo,'DejaVu Sans Mono',consolas,'Courier New',monospace\">Loading xenium morphology image from \n",
       "<span style=\"color: #008000; text-decoration-color: #008000\">/Users/erikstorrs/Downloads/Xenium_Prime_Breast_Cancer_FFPE_outs/morphology_focus/morphology_focus_0002.ome.tif</span>\n",
       "</pre>\n"
      ],
      "text/plain": [
       "Loading xenium morphology image from \n",
       "\u001b[32m/Users/erikstorrs/Downloads/Xenium_Prime_Breast_Cancer_FFPE_outs/morphology_focus/\u001b[0m\u001b[32mmorphology_focus_0002.ome.tif\u001b[0m\n"
      ]
     },
     "metadata": {},
     "output_type": "display_data"
    },
    {
     "name": "stderr",
     "output_type": "stream",
     "text": [
      "<tifffile.TiffFile 'morphology_focus_0002.ome.tif'> OME series cannot read multi-file pyramids\n"
     ]
    },
    {
     "data": {
      "text/html": [
       "<pre style=\"white-space:pre;overflow-x:auto;line-height:normal;font-family:Menlo,'DejaVu Sans Mono',consolas,'Courier New',monospace\">Loading xenium transcripts from \n",
       "<span style=\"color: #008000; text-decoration-color: #008000\">/Users/erikstorrs/Downloads/Xenium_Prime_Breast_Cancer_FFPE_outs/transcripts.parquet</span>\n",
       "</pre>\n"
      ],
      "text/plain": [
       "Loading xenium transcripts from \n",
       "\u001b[32m/Users/erikstorrs/Downloads/Xenium_Prime_Breast_Cancer_FFPE_outs/\u001b[0m\u001b[32mtranscripts.parquet\u001b[0m\n"
      ]
     },
     "metadata": {},
     "output_type": "display_data"
    },
    {
     "data": {
      "text/html": [
       "<pre style=\"white-space:pre;overflow-x:auto;line-height:normal;font-family:Menlo,'DejaVu Sans Mono',consolas,'Courier New',monospace\">Loading xenium transcript metadata for <span style=\"color: #008000; text-decoration-color: #008000; font-weight: bold\">[</span><span style=\"color: #008000; text-decoration-color: #008000\">'qv'</span><span style=\"color: #008000; text-decoration-color: #008000; font-weight: bold\">]</span>\n",
       "</pre>\n"
      ],
      "text/plain": [
       "Loading xenium transcript metadata for \u001b[1;32m[\u001b[0m\u001b[32m'qv'\u001b[0m\u001b[1;32m]\u001b[0m\n"
      ]
     },
     "metadata": {},
     "output_type": "display_data"
    },
    {
     "name": "stderr",
     "output_type": "stream",
     "text": [
      "/Users/erikstorrs/Documents/viewer/cosilico-py/src/cosilico_py/preprocessing/core/tiling.py:28: RuntimeWarning: divide by zero encountered in remainder\n",
      "  groups = np.arange(num_feats) % group_size  # Vectorized operation\n"
     ]
    },
    {
     "ename": "TypeError",
     "evalue": "unsupported operand type(s) for /: 'str' and 'str'",
     "output_type": "error",
     "traceback": [
      "\u001b[31m---------------------------------------------------------------------------\u001b[39m",
      "\u001b[31mTypeError\u001b[39m                                 Traceback (most recent call last)",
      "\u001b[36mCell\u001b[39m\u001b[36m \u001b[39m\u001b[32mIn[22]\u001b[39m\u001b[32m, line 1\u001b[39m\n\u001b[32m----> \u001b[39m\u001b[32m1\u001b[39m bundle = \u001b[43mclient\u001b[49m\u001b[43m.\u001b[49m\u001b[43mcreate_experiment\u001b[49m\u001b[43m(\u001b[49m\u001b[43mx_input\u001b[49m\u001b[43m)\u001b[49m\n",
      "\u001b[36mFile \u001b[39m\u001b[32m~/Documents/viewer/cosilico-py/src/cosilico_py/client/client.py:164\u001b[39m, in \u001b[36mCosilicoClient.create_experiment\u001b[39m\u001b[34m(self, experiment_input)\u001b[39m\n\u001b[32m    159\u001b[39m \u001b[38;5;28;01mdef\u001b[39;00m\u001b[38;5;250m \u001b[39m\u001b[34mcreate_experiment\u001b[39m(\n\u001b[32m    160\u001b[39m         \u001b[38;5;28mself\u001b[39m,\n\u001b[32m    161\u001b[39m         experiment_input: Annotated[models.ExperimentInput, \u001b[33m'\u001b[39m\u001b[33mInput used to generate the experiment.\u001b[39m\u001b[33m'\u001b[39m]\n\u001b[32m    162\u001b[39m     ) -> models.ExperimentUploadBundle:\n\u001b[32m    163\u001b[39m     \u001b[38;5;28mself\u001b[39m._check_session()\n\u001b[32m--> \u001b[39m\u001b[32m164\u001b[39m     bundle = \u001b[43mcreate_bundle_from_input\u001b[49m\u001b[43m(\u001b[49m\u001b[43mexperiment_input\u001b[49m\u001b[43m)\u001b[49m\n\u001b[32m    165\u001b[39m     cache.write_bundle(bundle)\n\u001b[32m    167\u001b[39m     \u001b[38;5;28;01mreturn\u001b[39;00m bundle\n",
      "\u001b[36mFile \u001b[39m\u001b[32m~/Documents/viewer/cosilico-py/src/cosilico_py/preprocessing/platform_helpers/experiment.py:9\u001b[39m, in \u001b[36mcreate_bundle_from_input\u001b[39m\u001b[34m(input)\u001b[39m\n\u001b[32m      7\u001b[39m \u001b[38;5;28;01mdef\u001b[39;00m\u001b[38;5;250m \u001b[39m\u001b[34mcreate_bundle_from_input\u001b[39m(\u001b[38;5;28minput\u001b[39m) -> models.ExperimentUploadBundle:\n\u001b[32m      8\u001b[39m     \u001b[38;5;28;01mif\u001b[39;00m \u001b[38;5;28minput\u001b[39m.platform == models.PlatformEnum.x10_xenium:\n\u001b[32m----> \u001b[39m\u001b[32m9\u001b[39m         bundle = \u001b[43mexperiment_from_x10_xenium_cellranger\u001b[49m\u001b[43m(\u001b[49m\n\u001b[32m     10\u001b[39m \u001b[43m            \u001b[49m\u001b[38;5;28;43minput\u001b[39;49m\u001b[43m.\u001b[49m\u001b[43mcellranger_outs\u001b[49m\u001b[43m,\u001b[49m\n\u001b[32m     11\u001b[39m \u001b[43m            \u001b[49m\u001b[38;5;28;43minput\u001b[39;49m\u001b[43m.\u001b[49m\u001b[43mname\u001b[49m\u001b[43m,\u001b[49m\n\u001b[32m     12\u001b[39m \u001b[43m            \u001b[49m\u001b[43mbbox\u001b[49m\u001b[43m \u001b[49m\u001b[43m=\u001b[49m\u001b[43m \u001b[49m\u001b[38;5;28;43minput\u001b[39;49m\u001b[43m.\u001b[49m\u001b[43mbbox\u001b[49m\u001b[43m,\u001b[49m\n\u001b[32m     13\u001b[39m \u001b[43m            \u001b[49m\u001b[43mto_uint8\u001b[49m\u001b[43m \u001b[49m\u001b[43m=\u001b[49m\u001b[43m \u001b[49m\u001b[38;5;28;43minput\u001b[39;49m\u001b[43m.\u001b[49m\u001b[43mto_uint8\u001b[49m\n\u001b[32m     14\u001b[39m \u001b[43m        \u001b[49m\u001b[43m)\u001b[49m\n\u001b[32m     15\u001b[39m     \u001b[38;5;28;01melse\u001b[39;00m:\n\u001b[32m     16\u001b[39m         \u001b[38;5;28;01mraise\u001b[39;00m \u001b[38;5;167;01mRuntimeError\u001b[39;00m(\u001b[33mf\u001b[39m\u001b[33m'\u001b[39m\u001b[33mPlatform \u001b[39m\u001b[38;5;132;01m{\u001b[39;00m\u001b[38;5;28minput\u001b[39m.platform\u001b[38;5;132;01m}\u001b[39;00m\u001b[33m was not found.\u001b[39m\u001b[33m'\u001b[39m)\n",
      "\u001b[36mFile \u001b[39m\u001b[32m~/Documents/viewer/cosilico-py/src/cosilico_py/preprocessing/platforms/x10_xenium.py:188\u001b[39m, in \u001b[36mexperiment_from_x10_xenium_cellranger\u001b[39m\u001b[34m(directory, name, bbox, to_uint8, verbose)\u001b[39m\n\u001b[32m    179\u001b[39m value_params = {\n\u001b[32m    180\u001b[39m     \u001b[33m'\u001b[39m\u001b[33mqv\u001b[39m\u001b[33m'\u001b[39m: {\n\u001b[32m    181\u001b[39m         \u001b[33m'\u001b[39m\u001b[33mname\u001b[39m\u001b[33m'\u001b[39m: \u001b[33m'\u001b[39m\u001b[33mQV\u001b[39m\u001b[33m'\u001b[39m,\n\u001b[32m   (...)\u001b[39m\u001b[32m    184\u001b[39m     }\n\u001b[32m    185\u001b[39m }\n\u001b[32m    186\u001b[39m \u001b[38;5;28;01mif\u001b[39;00m verbose: \u001b[38;5;28mprint\u001b[39m(\u001b[33mf\u001b[39m\u001b[33m'\u001b[39m\u001b[33mLoading xenium transcript metadata for [green]\u001b[39m\u001b[38;5;132;01m{\u001b[39;00m\u001b[38;5;28mlist\u001b[39m(value_params.keys())\u001b[38;5;132;01m}\u001b[39;00m\u001b[33m[/green]\u001b[39m\u001b[33m'\u001b[39m)\n\u001b[32m--> \u001b[39m\u001b[32m188\u001b[39m transcript_metas = \u001b[43mwrite_grouped_metadata_zarrs_from_df\u001b[49m\u001b[43m(\u001b[49m\n\u001b[32m    189\u001b[39m \u001b[43m    \u001b[49m\u001b[43mtranscript_layer\u001b[49m\u001b[43m.\u001b[49m\u001b[43mid\u001b[49m\u001b[43m,\u001b[49m\n\u001b[32m    190\u001b[39m \u001b[43m    \u001b[49m\u001b[43msource\u001b[49m\u001b[43m,\u001b[49m\n\u001b[32m    191\u001b[39m \u001b[43m    \u001b[49m\u001b[33;43m'\u001b[39;49m\u001b[33;43mtranscript_id\u001b[39;49m\u001b[33;43m'\u001b[39;49m\u001b[43m,\u001b[49m\n\u001b[32m    192\u001b[39m \u001b[43m    \u001b[49m\u001b[43moutput_directory\u001b[49m\u001b[43m,\u001b[49m\n\u001b[32m    193\u001b[39m \u001b[43m    \u001b[49m\u001b[43mbin_size_map\u001b[49m\u001b[43m,\u001b[49m\n\u001b[32m    194\u001b[39m \u001b[43m    \u001b[49m\u001b[43mfnames\u001b[49m\u001b[43m,\u001b[49m\n\u001b[32m    195\u001b[39m \u001b[43m    \u001b[49m\u001b[43mattrs\u001b[49m\u001b[43m,\u001b[49m\n\u001b[32m    196\u001b[39m \u001b[43m    \u001b[49m\u001b[43mzoom_to_order\u001b[49m\u001b[43m,\u001b[49m\n\u001b[32m    197\u001b[39m \u001b[43m    \u001b[49m\u001b[43mvalue_params\u001b[49m\u001b[43m,\u001b[49m\n\u001b[32m    198\u001b[39m \u001b[43m    \u001b[49m\u001b[33;43m'\u001b[39;49m\u001b[33;43mfeature_name\u001b[39;49m\u001b[33;43m'\u001b[39;49m\u001b[43m,\u001b[49m\n\u001b[32m    199\u001b[39m \u001b[43m    \u001b[49m\u001b[43mchunk_size\u001b[49m\u001b[43m \u001b[49m\u001b[43m=\u001b[49m\u001b[43m \u001b[49m\u001b[32;43m10_000_000\u001b[39;49m\u001b[43m,\u001b[49m\n\u001b[32m    200\u001b[39m \u001b[43m    \u001b[49m\u001b[43muse_disk\u001b[49m\u001b[43m \u001b[49m\u001b[43m=\u001b[49m\u001b[43m \u001b[49m\u001b[38;5;28;43;01mTrue\u001b[39;49;00m\u001b[43m,\u001b[49m\n\u001b[32m    201\u001b[39m \u001b[43m\u001b[49m\u001b[43m)\u001b[49m\n\u001b[32m    204\u001b[39m \u001b[38;5;66;03m## cell layer\u001b[39;00m\n\u001b[32m    205\u001b[39m cell_poly_path = directory / \u001b[33m'\u001b[39m\u001b[33mcell_boundaries.parquet\u001b[39m\u001b[33m'\u001b[39m\n",
      "\u001b[36mFile \u001b[39m\u001b[32m<string>:15\u001b[39m, in \u001b[36mwrite_grouped_metadata_zarrs_from_df\u001b[39m\u001b[34m(layer_id, source, id_col, output_dir, bin_size_map, fnames, parent_attrs, zoom_to_order, value_params, variable_name, chunk_size, use_disk, version)\u001b[39m\n",
      "\u001b[31mTypeError\u001b[39m: unsupported operand type(s) for /: 'str' and 'str'"
     ]
    }
   ],
   "source": [
    "bundle = client.create_experiment(x_input)"
   ]
  },
  {
   "cell_type": "code",
   "execution_count": 13,
   "id": "ac6ec37a",
   "metadata": {},
   "outputs": [],
   "source": [
    "# store = zarr.storage.ZipStore(bundle.layers[0].local_path, mode='r')\n",
    "# root = zarr.group(store=store)\n",
    "# print(root.tree())\n",
    "# store.close()"
   ]
  },
  {
   "cell_type": "code",
   "execution_count": 19,
   "id": "bcbb0e64",
   "metadata": {},
   "outputs": [
    {
     "data": {
      "text/html": [
       "<pre style=\"white-space:pre;overflow-x:auto;line-height:normal;font-family:Menlo,'DejaVu Sans Mono',consolas,'Courier New',monospace\">Experiment <span style=\"color: #008080; text-decoration-color: #008080\">Xenium Prime + 100g Custom-Breast_Cancer</span> successfuly uploaded 🔬!\n",
       "</pre>\n"
      ],
      "text/plain": [
       "Experiment \u001b[36mXenium Prime + 100g Custom-Breast_Cancer\u001b[0m successfuly uploaded 🔬!\n"
      ]
     },
     "metadata": {},
     "output_type": "display_data"
    }
   ],
   "source": [
    "client.upload_experiment(bundle, '/project_a/subproject_a/zzz')"
   ]
  },
  {
   "cell_type": "code",
   "execution_count": 20,
   "id": "e8fe2de5",
   "metadata": {},
   "outputs": [
    {
     "data": {
      "text/html": [
       "<pre style=\"white-space:pre;overflow-x:auto;line-height:normal;font-family:Menlo,'DejaVu Sans Mono',consolas,'Courier New',monospace\">Permission level 🔑: <span style=\"color: #008000; text-decoration-color: #008000; font-weight: bold\">read</span> <span style=\"color: #0000ff; text-decoration-color: #0000ff; font-weight: bold\">write</span> <span style=\"color: #800080; text-decoration-color: #800080; font-weight: bold\">delete</span>\n",
       "</pre>\n"
      ],
      "text/plain": [
       "Permission level 🔑: \u001b[1;32mread\u001b[0m \u001b[1;38;5;21mwrite\u001b[0m \u001b[1;35mdelete\u001b[0m\n"
      ]
     },
     "metadata": {},
     "output_type": "display_data"
    },
    {
     "data": {
      "text/html": [
       "<pre style=\"white-space:pre;overflow-x:auto;line-height:normal;font-family:Menlo,'DejaVu Sans Mono',consolas,'Courier New',monospace\">└── 📁 <span style=\"color: #800080; text-decoration-color: #800080; font-weight: bold\">project_a</span>\n",
       "</pre>\n"
      ],
      "text/plain": [
       "└── 📁 \u001b[1;35mproject_a\u001b[0m\n"
      ]
     },
     "metadata": {},
     "output_type": "display_data"
    },
    {
     "data": {
      "text/html": [
       "<pre style=\"white-space:pre;overflow-x:auto;line-height:normal;font-family:Menlo,'DejaVu Sans Mono',consolas,'Courier New',monospace\">    └── 📁 <span style=\"color: #800080; text-decoration-color: #800080; font-weight: bold\">subproject_a</span>\n",
       "</pre>\n"
      ],
      "text/plain": [
       "    └── 📁 \u001b[1;35msubproject_a\u001b[0m\n"
      ]
     },
     "metadata": {},
     "output_type": "display_data"
    },
    {
     "data": {
      "text/html": [
       "<pre style=\"white-space:pre;overflow-x:auto;line-height:normal;font-family:Menlo,'DejaVu Sans Mono',consolas,'Courier New',monospace\">        └── 📁 <span style=\"color: #800080; text-decoration-color: #800080; font-weight: bold\">zzz</span>\n",
       "</pre>\n"
      ],
      "text/plain": [
       "        └── 📁 \u001b[1;35mzzz\u001b[0m\n"
      ]
     },
     "metadata": {},
     "output_type": "display_data"
    },
    {
     "data": {
      "text/html": [
       "<pre style=\"white-space:pre;overflow-x:auto;line-height:normal;font-family:Menlo,'DejaVu Sans Mono',consolas,'Courier New',monospace\">            └── 🔬 <span style=\"color: #800080; text-decoration-color: #800080; font-weight: bold\">Xenium Prime + 100g Custom-Breast_Cancer</span>\n",
       "</pre>\n"
      ],
      "text/plain": [
       "            └── 🔬 \u001b[1;35mXenium Prime + 100g Custom-Breast_Cancer\u001b[0m\n"
      ]
     },
     "metadata": {},
     "output_type": "display_data"
    }
   ],
   "source": [
    "client.display_experiments()"
   ]
  },
  {
   "cell_type": "code",
   "execution_count": 14,
   "id": "9b2e964c",
   "metadata": {},
   "outputs": [
    {
     "data": {
      "text/plain": [
       "experiment=Experiment(id='78cb5375-ee87-4db3-8886-33fa5d1b22f0', version='v0.0.1', experiment_date=datetime.datetime(2024, 6, 13, 21, 22, 41, tzinfo=TzInfo(UTC)), name='Xenium Prime + 100g Custom-Breast_Cancer', platform=<PlatformEnum.x10_xenium: '10X Xenium'>, platform_version='Xenium Human 5K with Cell Typing + HPV-16/18 and SNV Add-on', metadata={'images': {'morphology_filepath': 'morphology.ome.tif', 'morphology_focus_filepath': 'morphology_focus/morphology_focus_0000.ome.tif'}, 'roi_uuid': 'e5a4fad5-39e3-4384-9f8c-db622edf2edc', 'run_name': 'Xenium Prime + 100g Custom', 'slide_id': 'N/A', 'num_cells': 699110, 'well_uuid': 'def_80e6a2bf_rec_7bec5313', 'panel_name': 'Xenium Human 5K with Cell Typing + HPV-16/18 and SNV Add-on', 'panel_type': 'add_on', 'pixel_size': 0.2125, 'region_area': 155159780.84984374, 'region_name': 'Breast_Cancer', 'z_step_size': 3.0, 'analysis_uuid': '548c50c8-df31-4c59-bf52-092b20eae35a', 'cassette_name': 'N/A', 'cassette_uuid': '1437a018-edbe-4856-84b6-fddba542f8ff', 'instrument_sn': 'R&D', 'major_version': 5, 'minor_version': 1, 'patch_version': 0, 'xenium_ranger': {'run_id': 'Xenium_Prime_Breast_Cancer_FFPE', 'version': 'xenium-3.0.0.17', 'command_line': 'xeniumranger relabel --xenium-bundle=/mnt/sw_qa/public_data/xeniumranger/Breast_Cancer --id=Xenium_Prime_Breast_Cancer_FFPE --panel=Xenium_Prime_addon_panel.json', 'original_analysis_uuid': 'caabc3a9-65a1-4643-9b11-8910ebd746a3'}, 'panel_organism': 'Human', 'run_start_time': '2024-06-13T21:22:41Z', 'experiment_uuid': '58566ae3-cc94-4362-bd33-bc4248945f19', 'num_transcripts': 92792352, 'panel_design_id': 'N/A', 'total_cell_area': 45536938.57372754, 'calibration_uuid': '8362805e-be5b-4ed2-85e8-f33515f438a7', 'chemistry_version': 'v2', 'panel_tissue_type': 'Tissue', 'imported_cell_frac': 0.0, 'segmentation_stain': 'Xenium Multi-Tissue Stain', 'analysis_sw_version': 'xenium-3.0.0.15', 'preservation_method': 'ffpe', 'panel_predesigned_id': 'hAtlas_v1.1', 'transcripts_per_cell': 51, 'instrument_sw_version': 'R&D', 'transcripts_per_100um': 157.16544028124724, 'xenium_explorer_files': {'cells_zarr_filepath': 'cells.zarr.zip', 'analysis_zarr_filepath': 'analysis.zarr.zip', 'analysis_summary_filepath': 'analysis_summary.html', 'transcripts_zarr_filepath': 'transcripts.zarr.zip', 'cell_features_zarr_filepath': 'cell_feature_matrix.zarr.zip'}, 'panel_designer_version': '3.0.22', 'non_zero_matrix_entries': 59971816, 'panel_num_targets_custom': 100, 'segmented_cell_stain_frac': 0.9389795597259373, 'num_transcripts_high_quality': 80158637, 'segmented_cell_boundary_frac': 0.14392727896897484, 'segmented_cell_interior_frac': 0.7950522807569624, 'fraction_transcripts_assigned': 0.892833669315011, 'nuclear_transcripts_per_100um': 196.2993157169199, 'panel_num_targets_predesigned': 5001, 'segmented_cell_nuc_expansion_frac': 0.06102044027406274, 'thickness_of_high_quality_decoded_transcripts': 4.767144752309005}, parent_id='73489668-6a69-4f52-9b4a-32f5ba9d324f', image_ids=['460750e2-6dfe-4222-9e48-bd0afeca9560'], layer_ids=['98ade449-23d5-43e9-9af8-e86ef930acd7', 'e591e737-0901-4aa7-9bba-7e6f82a87bc5'], view_setting_id='1f37acd3-b594-4f66-8d6d-deff0193e00e', tags=[]) images=[Image(id='460750e2-6dfe-4222-9e48-bd0afeca9560', version='v0.0.1', experiment_id='78cb5375-ee87-4db3-8886-33fa5d1b22f0', name='Xenium Morphology', metadata=OME(\n",
       "   plates=[{'id': 'Plate:0', 'well_origin_x': 0.0, 'well_origin_x_unit': <UnitsLength.MICROMETER: 'µm'>, 'well_origin_y': 0.0, 'well_origin_y_unit': <UnitsLength.MICROMETER: 'µm'>}],\n",
       "   instruments=[{'microscope': {'manufacturer': '10x Genomics', 'model': 'Xenium', 'kind': 'microscope'}, 'id': 'Instrument:0'}],\n",
       "   images=[<1 field_type>],\n",
       "   structured_annotations={'map_annotations': [{'id': 'Annotation:0', 'value': {'Purpose': 'Nuclear'}, 'kind': 'mapannotation'}, {'id': 'Annotation:1', 'value': {'Purpose': 'Boundary'}, 'kind': 'mapannotation'}, {'id': 'Annotation:2', 'value': {'Purpose': 'Interior - RNA'}, 'kind': 'mapannotation'}, {'id': 'Annotation:3', 'value': {'Purpose': 'Interior - Protein'}, 'kind': 'mapannotation'}]},\n",
       "   uuid='urn:uuid:fddd3688-7c75-11ef-a04f-067698406db1',\n",
       "), tags=[], local_path='/Users/erikstorrs/Downloads/temp_cache/460750e26dfe42229e48bd0afeca9560.zarr.zip', path='460750e26dfe42229e48bd0afeca9560.zarr.zip')] layers=[Layer(id='98ade449-23d5-43e9-9af8-e86ef930acd7', version='v0.0.1', experiment_id='78cb5375-ee87-4db3-8886-33fa5d1b22f0', name='Cells', is_grouped=False, metadata={}, tags=[], local_path='/Users/erikstorrs/Downloads/temp_cache/98ade44923d543e99af8e86ef930acd7.zarr.zip', path='98ade44923d543e99af8e86ef930acd7.zarr.zip'), Layer(id='e591e737-0901-4aa7-9bba-7e6f82a87bc5', version='v0.0.1', experiment_id='78cb5375-ee87-4db3-8886-33fa5d1b22f0', name='Transcripts', is_grouped=True, metadata={}, tags=[], local_path='/Users/erikstorrs/Downloads/temp_cache/e591e73709014aa79bba7e6f82a87bc5.zarr.zip', path='e591e73709014aa79bba7e6f82a87bc5.zarr.zip')] layer_metadata=[LayerMetadata(id='a2938649-bad7-47b6-a22b-7e42f58f3128', version='v0.0.1', layer_id='98ade449-23d5-43e9-9af8-e86ef930acd7', name='Transcript Counts', metadata_type=<MetadataTypeEnum.continuous: 'continuous'>, is_sparse=True, fields=['A2ML1', 'AAMP', 'AAR2', 'AARSD1', 'ABAT', 'ABCA1', 'ABCA10', 'ABCA3', 'ABCA4', 'ABCA7', 'ABCA8', 'ABCB1', 'ABCB4', 'ABCB6', 'ABCC1', 'ABCC12', 'ABCC2', 'ABCC3', 'ABCC4', 'ABCC6', 'ABCC8', 'ABCC9', 'ABCD1', 'ABCD3', 'ABCD4', 'ABCF3', 'ABCG1', 'ABCG2', 'ABHD11', 'ABHD6', 'ABI3', 'ABI3BP', 'ABL1', 'ABL2', 'ABO', 'ABTB1', 'ABTB2', 'AC007906.2', 'ACAA2', 'ACACA', 'ACACB', 'ACAP1', 'ACAP2', 'ACAT1', 'ACE', 'ACE2', 'ACHE', 'ACKR3', 'ACLY', 'ACOD1', 'ACP5', 'ACPP', 'ACRBP', 'ACRV1', 'ACSL4', 'ACTBL2', 'ACTL6A', 'ACTL7A', 'ACTN1', 'ACTN2', 'ACTN4', 'ACVR1', 'ACVR1B', 'ACVR2A', 'ACVRL1', 'ACYP2', 'ADA', 'ADAM10', 'ADAM12', 'ADAM17', 'ADAM28', 'ADAM33', 'ADAM8', 'ADAM9', 'ADAMDEC1', 'ADAMTS1', 'ADAMTS12', 'ADAMTS14', 'ADAMTS19', 'ADAMTS2', 'ADAMTS4', 'ADAMTS5', 'ADAMTSL3', 'ADAR', 'ADCY2', 'ADCYAP1', 'ADCYAP1R1', 'ADD1', 'ADGRA1', 'ADGRA2', 'ADGRA3', 'ADGRB1', 'ADGRB2', 'ADGRD1', 'ADGRD2', 'ADGRE1', 'ADGRE2', 'ADGRE5', 'ADGRG5', 'ADGRG6', 'ADGRL1', 'ADGRL4', 'ADIPOQ', 'ADIPOR1', 'ADIPOR2', 'ADM', 'ADNP', 'ADORA1', 'ADORA2A', 'ADORA2B', 'ADORA3', 'ADRA1A', 'ADRA1B', 'ADRA1D', 'ADRA2A', 'ADRA2B', 'ADRA2C', 'ADRB1', 'ADRB2', 'ADRB3', 'ADTRP', 'AEBP1', 'AFAP1L2', 'AFF1', 'AFF2', 'AFG1L', 'AFM', 'AGAP1', 'AGAP3', 'AGER', 'AGMAT', 'AGO1', 'AGR2', 'AGR3', 'AGRP', 'AGTR1', 'AGTR2', 'AGXT', 'AHCY', 'AHR', 'AHRR', 'AHSG', 'AICDA', 'AIF1', 'AIF1L', 'AIFM1', 'AIM2', 'AIMP2', 'AIP', 'AIRE', 'AJAP1', 'AKAP11', 'AKAP4', 'AKAP8', 'AKR1B1', 'AKR1C3', 'AKT1', 'AKT2', 'AKT3', 'AKTIP', 'ALAD', 'ALCAM', 'ALDH1B1', 'ALDH2', 'ALDH3A2', 'ALDH7A1', 'ALDOA', 'ALG11', 'ALG13', 'ALG2', 'ALG6', 'ALG9', 'ALK', 'ALKBH5', 'ALOX12', 'ALOX15', 'ALOX5', 'ALPK1', 'ALPK3', 'ALPL', 'ALX1', 'ALYREF', 'AMACR', 'AMER1', 'AMFR', 'AMH', 'AMIGO1', 'AMIGO3', 'AMOT', 'AMOTL2', 'ANAPC1', 'ANGPT1', 'ANGPT2', 'ANGPTL2', 'ANGPTL3', 'ANGPTL4', 'ANGPTL6', 'ANGPTL7', 'ANGPTL8', 'ANK1', 'ANKHD1', 'ANKK1', 'ANKRD13A', 'ANKRD13D', 'ANKRD17', 'ANKRD30A', 'ANKRD33B', 'ANKRD40', 'ANKRD44', 'ANKRD6', 'ANKS1A', 'ANKS6', 'ANKZF1', 'ANO1', 'ANO3', 'ANP32E', 'ANPEP', 'ANXA10', 'ANXA2', 'ANXA3', 'ANXA5', 'ANXA8', 'AOAH', 'AOC3', 'AOX1', 'AP1B1', 'AP1M1', 'AP1S3', 'AP2A1', 'AP2A2', 'AP2M1', 'AP3B2', 'AP3D1', 'AP3M2', 'AP5B1', 'APAF1', 'APC', 'APCDD1', 'APELA', 'APEX1', 'APEX2', 'APH1B', 'API5', 'APLF', 'APLN', 'APLNR', 'APMAP', 'APOB', 'APOBEC3B', 'APOBEC3C', 'APOBEC3D', 'APOBEC3F', 'APOBEC3G', 'APOL1', 'APOL2', 'APOL3', 'APOL6', 'APOM', 'APP', 'APPBP2', 'APTX', 'AQP1', 'AQP4', 'AQP5', 'AQP7', 'AQP8', 'AQP9', 'AR', 'ARC', 'ARF1', 'ARF6', 'ARFIP1', 'ARG1', 'ARG2', 'ARHGAP35', 'ARHGAP36', 'ARHGEF2', 'ARHGEF7', 'ARID1A', 'ARID3B', 'ARL4D', 'ARL8B', 'ARMC5', 'ARMC7', 'ARMH3', 'ARNT', 'ARNTL', 'ARR3', 'ARRB1', 'ARRB2', 'ARRDC3', 'ART1', 'ART3', 'ART4', 'ARX', 'ASCC2', 'ASCC3', 'ASCL1', 'ASCL2', 'ASF1B', 'ASH2L', 'ASIC1', 'ASPM', 'ASPN', 'ASTN2', 'ASXL1', 'ATAD3A', 'ATF1', 'ATF2', 'ATF3', 'ATF4', 'ATF6', 'ATG10', 'ATG16L1', 'ATG2A', 'ATG5', 'ATG7', 'ATIC', 'ATL1', 'ATL2', 'ATL3', 'ATM', 'ATOH1', 'ATOH7', 'ATOH8', 'ATP10D', 'ATP13A2', 'ATP1A1', 'ATP2A2', 'ATP2B1', 'ATP5F1A', 'ATP5F1C', 'ATP6V1B1', 'ATP6V1H', 'ATP7A', 'ATP7B', 'ATPAF1', 'ATPSCKMT', 'ATR', 'ATRX', 'ATXN1', 'ATXN1L', 'ATXN2', 'ATXN2L', 'ATXN3', 'ATXN7L2', 'AUNIP', 'AURKA', 'AURKB', 'AURKC', 'AVPI1', 'AVPR1A', 'AVPR1B', 'AVPR2', 'AXIN1', 'AXIN2', 'AXL', 'B3GAT1', 'B4GAT1', 'BAALC', 'BAAT', 'BACE1', 'BACE2', 'BACH2', 'BAD', 'BAG2', 'BAG3', 'BAG6', 'BAIAP2', 'BAK1', 'BANK1', 'BAP1', 'BARD1', 'BARHL2', 'BARX2', 'BATF', 'BATF3', 'BAX', 'BAZ2B', 'BBC3', 'BCAM', 'BCAN', 'BCAR1', 'BCAR3', 'BCAR4', 'BCAS3', 'BCCIP', 'BCHE', 'BCKDK', 'BCL10', 'BCL11A', 'BCL11B', 'BCL2', 'BCL2A1', 'BCL2L1', 'BCL2L11', 'BCL2L12', 'BCL2L13', 'BCL2L2', 'BCL3', 'BCL6', 'BCL6B', 'BCL7B', 'BCL7C', 'BCOR', 'BCORL1', 'BCR', 'BDKRB1', 'BDKRB2', 'BDNF', 'BEAN1', 'BECN1', 'BEX2', 'BFSP1', 'BFSP2', 'BGN', 'BHMT', 'BICRAL', 'BID', 'BIK', 'BIRC2', 'BIRC3', 'BIRC5', 'BIRC7', 'BLK', 'BLM', 'BLNK', 'BLOC1S2', 'BLVRA', 'BMI1', 'BMP2', 'BMP2K', 'BMP4', 'BMP5', 'BMP6', 'BMP7', 'BMP8A', 'BMP8B', 'BMPER', 'BMPR1A', 'BMPR1B', 'BMPR2', 'BNC1', 'BNC2', 'BNIP3', 'BOLL', 'BPIFB1', 'BRAF', 'BRCA1', 'BRCA2', 'BRD3', 'BRD4', 'BRDT', 'BRI3BP', 'BRINP1', 'BRIP1', 'BRIX1', 'BRSK2', 'BSDC1', 'BST1', 'BTAF1', 'BTBD9', 'BTK', 'BTLA', 'BTN3A1', 'BTNL2', 'BTRC', 'BUB1', 'BUB1B', 'BVES', 'C11orf96', 'C1QBP', 'C1QC', 'C1QL3', 'C1QTNF1', 'C1QTNF6', 'C1QTNF9', 'C1RL', 'C20orf85', 'C2orf88', 'C3AR1', 'C4A', 'C4B', 'C5', 'C5AR1', 'C6', 'C7', 'C8B', 'C8G', 'C9', 'CA10', 'CA12', 'CA14', 'CA4', 'CA9', 'CABCOCO1', 'CABP4', 'CABYR', 'CACNA1B', 'CACNA1C', 'CACNA1D', 'CACNA1G', 'CACNA1H', 'CACNA2D1', 'CACNG3', 'CACNG4', 'CACNG5', 'CACUL1', 'CACYBP', 'CAD', 'CADM3', 'CADM4', 'CALB1', 'CALB2', 'CALCA', 'CALCB', 'CALCR', 'CALCRL', 'CALM3', 'CALML3', 'CALR3', 'CAMK1', 'CAMK2A', 'CAMK2B', 'CAMK2D', 'CAMK2G', 'CAMKV', 'CAMP', 'CAMSAP2', 'CAND1', 'CANX', 'CAPN1', 'CAPN3', 'CARD10', 'CARD11', 'CARD14', 'CARD8', 'CARD9', 'CARF', 'CARM1', 'CARTPT', 'CASC8', 'CASK', 'CASP1', 'CASP10', 'CASP2', 'CASP3', 'CASP6', 'CASP7', 'CASP8', 'CASP8AP2', 'CASP9', 'CASQ2', 'CASR', 'CASS4', 'CASZ1', 'CAT', 'CATSPER2', 'CAV2', 'CAVIN2', 'CAVIN3', 'CBARP', 'CBFB', 'CBL', 'CBLB', 'CBLIF', 'CBLN1', 'CBLN3', 'CBLN4', 'CBR1', 'CBS', 'CBSL', 'CBWD2', 'CBX1', 'CBX3', 'CBX5', 'CBX7', 'CC2D1A', 'CCAR2', 'CCAT2', 'CCBE1', 'CCDC102B', 'CCDC103', 'CCDC113', 'CCDC124', 'CCDC136', 'CCDC137', 'CCDC14', 'CCDC141', 'CCDC170', 'CCDC27', 'CCDC33', 'CCDC43', 'CCDC50', 'CCDC51', 'CCDC57', 'CCDC6', 'CCDC61', 'CCDC62', 'CCDC7', 'CCDC71L', 'CCDC77', 'CCDC80', 'CCDC86', 'CCDC9', 'CCDC91', 'CCK', 'CCKAR', 'CCKBR', 'CCL1', 'CCL11', 'CCL13', 'CCL14', 'CCL15', 'CCL16', 'CCL17', 'CCL18', 'CCL19', 'CCL2', 'CCL20', 'CCL22', 'CCL23', 'CCL24', 'CCL25', 'CCL26', 'CCL27', 'CCL28', 'CCL7', 'CCL8', 'CCN1', 'CCN2', 'CCN3', 'CCN4', 'CCN5', 'CCNA1', 'CCNA2', 'CCNB1', 'CCNB2', 'CCNB3', 'CCND1', 'CCND2', 'CCND3', 'CCNDBP1', 'CCNE1', 'CCNO', 'CCNT1', 'CCNY', 'CCR1', 'CCR2', 'CCR3', 'CCR4', 'CCR5', 'CCR6', 'CCR7', 'CCR8', 'CCR9', 'CCRL2', 'CCT2', 'CCT3', 'CCT5', 'CCT6A', 'CCT7', 'CCT8', 'CD101', 'CD109', 'CD14', 'CD151', 'CD160', 'CD163', 'CD177', 'CD180', 'CD19', 'CD1A', 'CD1B', 'CD1C', 'CD1D', 'CD1E', 'CD2', 'CD200', 'CD207', 'CD209', 'CD22', 'CD226', 'CD244', 'CD247', 'CD248', 'CD27', 'CD274', 'CD276', 'CD28', 'CD2AP', 'CD2BP2', 'CD300A', 'CD300C', 'CD300E', 'CD302', 'CD320', 'CD33', 'CD34', 'CD36', 'CD38', 'CD3D', 'CD3E', 'CD3EAP', 'CD3G', 'CD4', 'CD40', 'CD40LG', 'CD44', 'CD46', 'CD47', 'CD5', 'CD52', 'CD55', 'CD58', 'CD59', 'CD5L', 'CD6', 'CD68', 'CD7', 'CD70', 'CD72', 'CD79A', 'CD79B', 'CD80', 'CD82', 'CD83', 'CD84', 'CD86', 'CD8A', 'CD8B', 'CD93', 'CD96', 'CD99', 'CDA', 'CDAN1', 'CDC123', 'CDC14A', 'CDC20', 'CDC25A', 'CDC25C', 'CDC27', 'CDC34', 'CDC37', 'CDC42', 'CDC42BPG', 'CDC6', 'CDC73', 'CDCA2', 'CDCA3', 'CDCA7L', 'CDCP1', 'CDH1', 'CDH11', 'CDH13', 'CDH16', 'CDH2', 'CDH22', 'CDH23', 'CDH3', 'CDH5', 'CDH6', 'CDH7', 'CDHR1', 'CDHR2', 'CDHR4', 'CDK1', 'CDK10', 'CDK14', 'CDK16', 'CDK17', 'CDK18', 'CDK2', 'CDK3', 'CDK4', 'CDK5', 'CDK5RAP1', 'CDK6', 'CDK7', 'CDK8', 'CDK9', 'CDKAL1', 'CDKL1', 'CDKL3', 'CDKN1A', 'CDKN1B', 'CDKN1C', 'CDKN2A', 'CDKN2AIP', 'CDKN2B', 'CDKN3', 'CDR2L', 'CDSN', 'CDV3', 'CDX1', 'CDX2', 'CEACAM1', 'CEACAM3', 'CEACAM5', 'CEACAM8', 'CEBPA', 'CELSR1', 'CELSR2', 'CELSR3', 'CEMIP2', 'CENPA', 'CENPB', 'CENPF', 'CENPV', 'CEP112', 'CEP128', 'CEP170', 'CEP19', 'CEP44', 'CEP55', 'CEP85', 'CES1', 'CETP', 'CFAP100', 'CFAP20', 'CFAP43', 'CFAP46', 'CFAP47', 'CFB', 'CFC1', 'CFDP1', 'CFH', 'CFHR1', 'CFL2', 'CFLAR', 'CFP', 'CFTR', 'CGAS', 'CGB3', 'CGNL1', 'CGRRF1', 'CH25H', 'CHAD', 'CHAF1A', 'CHAMP1', 'CHD3', 'CHD5', 'CHD7', 'CHEK1', 'CHEK2', 'CHFR', 'CHIT1', 'CHKA', 'CHODL', 'CHRAC1', 'CHRDL2', 'CHRM1', 'CHRM2', 'CHRM3', 'CHRM4', 'CHRM5', 'CHRNA2', 'CHRNA3', 'CHRNA4', 'CHRNA5', 'CHRNA6', 'CHRNA7', 'CHRNB1', 'CHRNB2', 'CHRNB3', 'CHRNB4', 'CHST8', 'CHUK', 'CIDEC', 'CIITA', 'CILP2', 'CINP', 'CIP2A', 'CISD2', 'CKAP2', 'CKAP4', 'CKAP5', 'CKS2', 'CLCN3', 'CLCN4', 'CLCN5', 'CLDN1', 'CLDN18', 'CLDN5', 'CLDN7', 'CLEC10A', 'CLEC12A', 'CLEC14A', 'CLEC16A', 'CLEC2A', 'CLEC4A', 'CLEC4C', 'CLEC4D', 'CLEC4M', 'CLEC5A', 'CLEC6A', 'CLEC7A', 'CLEC9A', 'CLGN', 'CLIC3', 'CLIC4', 'CLIC6', 'CLK2', 'CLK3', 'CLK4', 'CLN3', 'CLN5', 'CLNK', 'CLOCK', 'CLPTM1L', 'CLPX', 'CLSTN1', 'CLSTN3', 'CLTC', 'CMA1', 'CMKLR1', 'CMSS1', 'CMTM5', 'CMTM8', 'CMYA5', 'CNDP1', 'CNGB1', 'CNGB3', 'CNIH4', 'CNKSR3', 'CNMD', 'CNN1', 'CNNM1', 'CNNM3', 'CNOT1', 'CNP', 'CNR1', 'CNR2', 'CNRIP1', 'CNST', 'CNTF', 'CNTLN', 'CNTN2', 'CNTN6', 'CNTNAP1', 'CNTNAP3', 'CNTNAP4', 'CNTROB', 'COASY', 'COBLL1', 'COCH', 'COIL', 'COL10A1', 'COL11A1', 'COL17A1', 'COL18A1', 'COL23A1', 'COL25A1', 'COL2A1', 'COL4A1', 'COL4A2', 'COL4A3', 'COL4A4', 'COL4A5', 'COL5A1', 'COL5A2', 'COL7A1', 'COLEC12', 'COLQ', 'COMP', 'COMT', 'COPS5', 'COQ8A', 'CORIN', 'CORO1B', 'CORO1C', 'CORT', 'CP', 'CPA4', 'CPA5', 'CPA6', 'CPB2', 'CPEB1', 'CPEB2', 'CPEB3', 'CPLX3', 'CPNE9', 'CPS1', 'CPSF6', 'CPT1A', 'CPVL', 'CPXM2', 'CPZ', 'CR1', 'CR2', 'CRB2', 'CREB1', 'CREB3', 'CREB5', 'CREBBP', 'CREG1', 'CREG2', 'CRH', 'CRHR1', 'CRHR2', 'CRIPT', 'CRK', 'CRKL', 'CRNDE', 'CRNN', 'CRTAC1', 'CRTAM', 'CRY2', 'CRYAA', 'CRYBB3', 'CRYBG1', 'CRYBG3', 'CRYGC', 'CRYGS', 'CRYZ', 'CRYZL1', 'CSE1L', 'CSF1', 'CSF1R', 'CSF2', 'CSF2RA', 'CSF2RB', 'CSF3', 'CSF3R', 'CSK', 'CSNK1A1', 'CSNK1A1L', 'CSNK1E', 'CSNK1G1', 'CSNK2A1', 'CSNK2A2', 'CSNK2B', 'CSPG4', 'CSPP1', 'CSRP1', 'CSRP3', 'CST1', 'CST2', 'CST4', 'CST5', 'CST7', 'CTAG1B', 'CTBP1', 'CTBP2', 'CTCF', 'CTCFL', 'CTDSPL', 'CTH', 'CTHRC1', 'CTLA4', 'CTNNA1', 'CTNNAL1', 'CTNNB1', 'CTNND1', 'CTNND2', 'CTRL', 'CTSA', 'CTSC', 'CTSG', 'CTSH', 'CTSK', 'CTSL', 'CTSW', 'CTTN', 'CTTNBP2NL', 'CTXN3', 'CUBN', 'CUEDC2', 'CUL1', 'CUL2', 'CUL3', 'CUL4A', 'CUL4B', 'CUL5', 'CUTA', 'CUX2', 'CUZD1', 'CX3CL1', 'CX3CR1', 'CXADR', 'CXCL10', 'CXCL11', 'CXCL12', 'CXCL13', 'CXCL16', 'CXCL2', 'CXCL5', 'CXCL6', 'CXCL9', 'CXCR1', 'CXCR2', 'CXCR3', 'CXCR4', 'CXCR5', 'CXCR6', 'CYBA', 'CYBB', 'CYBC1', 'CYCS', 'CYFIP2', 'CYHR1', 'CYLD', 'CYP11A1', 'CYP11B2', 'CYP17A1', 'CYP19A1', 'CYP1A1', 'CYP1A2', 'CYP1B1', 'CYP20A1', 'CYP24A1', 'CYP27A1', 'CYP27B1', 'CYP2A6', 'CYP2C19', 'CYP2C8', 'CYP2C9', 'CYP2D6', 'CYP2J2', 'CYP3A5', 'CYP46A1', 'CYP4B1', 'CYP4F2', 'CYP7A1', 'CYREN', 'CYSLTR1', 'CYSLTR2', 'CYTH2', 'CYTOR', 'DAB1', 'DAB2', 'DACH1', 'DACH2', 'DACT2', 'DAG1', 'DAO', 'DAOA', 'DAP', 'DAP3', 'DAPK1', 'DAXX', 'DAZAP1', 'DAZAP2', 'DAZL', 'DBN1', 'DBR1', 'DCAF1', 'DCDC1', 'DCLK1', 'DCN', 'DCT', 'DCTN1', 'DCX', 'DDB1', 'DDB2', 'DDC', 'DDI2', 'DDIT3', 'DDIT4L', 'DDR1', 'DDR2', 'DDX1', 'DDX10', 'DDX19A', 'DDX20', 'DDX21', 'DDX25', 'DDX27', 'DDX28', 'DDX31', 'DDX39B', 'DDX3X', 'DDX3Y', 'DDX43', 'DDX50', 'DDX51', 'DDX53', 'DDX55', 'DDX58', 'DDX6', 'DEFA1', 'DEFA6', 'DEFB103B', 'DEFB4A', 'DEK', 'DEPDC7', 'DEPTOR', 'DERL3', 'DGAT1', 'DHCR24', 'DHCR7', 'DHDDS', 'DHFR', 'DHODH', 'DHRS1', 'DHRS2', 'DHX29', 'DHX30', 'DHX34', 'DHX57', 'DHX9', 'DIABLO', 'DICER1', 'DIO2', 'DIP2A', 'DIP2B', 'DIRAS3', 'DIS3', 'DIS3L2', 'DISC1', 'DISP1', 'DKC1', 'DKK1', 'DKK3', 'DLD', 'DLEC1', 'DLEU1', 'DLEU2', 'DLG1', 'DLG4', 'DLK1', 'DLK2', 'DLL1', 'DLL3', 'DLL4', 'DLX4', 'DMBX1', 'DMD', 'DMKN', 'DMPK', 'DMRT2', 'DMWD', 'DMXL1', 'DMXL2', 'DNAH1', 'DNAH10', 'DNAH11', 'DNAH12', 'DNAH14', 'DNAH2', 'DNAH5', 'DNAH7', 'DNAH8', 'DNAH9', 'DNAI1', 'DNAJA1', 'DNAJA3', 'DNAJB12', 'DNAJB2', 'DNAJB4', 'DNAJB5', 'DNAJC10', 'DNAJC17', 'DNAJC9', 'DNASE1L3', 'DNM1', 'DNM2', 'DNMT1', 'DNMT3A', 'DNMT3B', 'DNPEP', 'DNTT', 'DOC2A', 'DOCK9', 'DOK5', 'DOK7', 'DOT1L', 'DPAGT1', 'DPF2', 'DPF3', 'DPM1', 'DPP4', 'DPP8', 'DPPA2', 'DPT', 'DPY19L2', 'DPYD', 'DPYSL2', 'DRAM1', 'DRC1', 'DRC3', 'DRD1', 'DRD2', 'DRD3', 'DRD5', 'DRG1', 'DSC3', 'DSG1', 'DSG2', 'DSG3', 'DST', 'DTNA', 'DTNBP1', 'DTX1', 'DUOX2', 'DUOXA1', 'DUOXA2', 'DUSP13', 'DUSP23', 'DUSP28', 'DUSP5', 'DUSP6', 'DUX4', 'DVL1', 'DVL2', 'DVL3', 'DYDC1', 'DYNC1H1', 'DYRK1A', 'DYRK1B', 'DZIP1L', 'E2F1', 'E2F3', 'E2F4', 'E4F1', 'EBF1', 'EBF2', 'EBI3', 'EBP', 'ECD', 'ECE1', 'ECEL1', 'ECHDC1', 'ECHS1', 'ECM1', 'ECPAS', 'ECRG4', 'ECSIT', 'EDA', 'EDIL3', 'EDN1', 'EDNRA', 'EDNRB', 'EDRF1', 'EED', 'EEF1A2', 'EEF1AKNMT', 'EEF1G', 'EFHC1', 'EFHC2', 'EFNB2', 'EFR3A', 'EFR3B', 'EFS', 'EFTUD2', 'EGF', 'EGFL6', 'EGFL7', 'EGFL8', 'EGFR', 'EGLN1', 'EGLN3', 'EGR2', 'EGR3', 'EGR4', 'EHBP1', 'EHF', 'EHMT1', 'EHMT2', 'EID1', 'EIF1AD', 'EIF1AY', 'EIF1B', 'EIF2AK2', 'EIF2AK3', 'EIF2AK4', 'EIF2S1', 'EIF3A', 'EIF3C', 'EIF4A1', 'EIF4A3', 'EIF4E', 'EIF4EBP1', 'EIF4EBP2', 'EIF4EBP3', 'EIF4ENIF1', 'EIF4G1', 'EIF5A', 'EIF5AL1', 'EIPR1', 'ELAC1', 'ELAC2', 'ELANE', 'ELAVL1', 'ELF4', 'ELFN1', 'ELK1', 'ELK3', 'ELK4', 'ELMOD1', 'ELMOD2', 'ELN', 'ELOB', 'ELOC', 'ELSPBP1', 'EMC1', 'EMC4', 'EMD', 'EMP1', 'EMP2', 'EMSY', 'EMX2', 'EN1', 'EN2', 'ENG', 'ENKUR', 'ENO2', 'ENOSF1', 'ENOX1', 'ENOX2', 'ENPEP', 'ENPP1', 'ENPP2', 'ENPP3', 'ENTPD1', 'ENTPD2', 'EOMES', 'EP300', 'EPAS1', 'EPB41L3', 'EPCAM', 'EPDR1', 'EPG5', 'EPHA1', 'EPHA10', 'EPHA2', 'EPHA3', 'EPHA4', 'EPHA7', 'EPHA8', 'EPHB1', 'EPHB2', 'EPHB4', 'EPHB6', 'EPHX1', 'EPHX2', 'EPM2AIP1', 'EPO', 'EPOR', 'EPRS', 'EPS8L3', 'ERAP1', 'ERAS', 'ERBB2', 'ERBB3', 'ERC1', 'ERCC1', 'ERCC2', 'ERCC3', 'ERCC4', 'ERCC5', 'ERCC6', 'EREG', 'ERFE', 'ERG', 'ERG28', 'ERGIC2', 'ERICH3', 'ERLIN2', 'ERMAP', 'ERN1', 'ERP27', 'ERRFI1', 'ERVFRD-1', 'ERVMER34-1', 'ESF1', 'ESM1', 'ESR1', 'ESR2', 'ESRRA', 'ESRRG', 'ETS1', 'ETV1', 'ETV3', 'ETV5', 'ETV6', 'EVI2B', 'EVI5', 'EWSR1', 'EXO1', 'EXOSC10', 'EYA1', 'EYA4', 'EZH1', 'EZH2', 'EZHIP', 'F11', 'F11R', 'F12', 'F13A1', 'F2', 'F2R', 'F2RL1', 'F2RL3', 'F3', 'F5', 'F7', 'F8', 'FAAH', 'FABP2', 'FABP3', 'FABP7', 'FADD', 'FADS1', 'FADS2', 'FAF1', 'FAF2', 'FAIM', 'FAIM2', 'FAM107A', 'FAM110A', 'FAM117B', 'FAM126B', 'FAM131C', 'FAM161A', 'FAM168A', 'FAM183A', 'FAM193A', 'FAM216B', 'FAM3A', 'FAM53C', 'FAM76B', 'FAM98A', 'FAM9B', 'FANCA', 'FANCC', 'FANCD2', 'FANCI', 'FAP', 'FAR1', 'FAS', 'FASLG', 'FASN', 'FAT1', 'FAT2', 'FAT3', 'FAT4', 'FBL', 'FBLN2', 'FBLN5', 'FBP1', 'FBXO16', 'FBXO25', 'FBXO33', 'FBXO42', 'FBXO43', 'FBXO45', 'FBXW11', 'FBXW7', 'FCAR', 'FCER1A', 'FCER2', 'FCGBP', 'FCGR1A', 'FCGR2A', 'FCGR2B', 'FCGR3A', 'FCGR3B', 'FCMR', 'FCN1', 'FCN2', 'FCRL1', 'FCRL2', 'FCRL3', 'FCRL4', 'FCRL5', 'FCRLA', 'FDFT1', 'FDPS', 'FDX1', 'FECH', 'FEN1', 'FENDRR', 'FER', 'FERMT3', 'FES', 'FETUB', 'FEV', 'FEZ1', 'FEZF1', 'FEZF2', 'FFAR1', 'FGF1', 'FGF10', 'FGF13', 'FGF19', 'FGF2', 'FGF21', 'FGF23', 'FGF4', 'FGF7', 'FGF9', 'FGFBP2', 'FGFR1', 'FGFR2', 'FGFR3', 'FGFR4', 'FGR', 'FH', 'FHAD1', 'FHL1', 'FHL2', 'FHL3', 'FHOD1', 'FIBCD1', 'FIBP', 'FILIP1L', 'FIP1L1', 'FKBP11', 'FKBP15', 'FKTN', 'FLCN', 'FLI1', 'FLII', 'FLNB', 'FLNC', 'FLOT2', 'FLRT3', 'FLT1', 'FLT3', 'FLT3LG', 'FLT4', 'FLYWCH1', 'FMC1', 'FMN1', 'FMN2', 'FMO3', 'FMO5', 'FMOD', 'FN3KRP', 'FNDC3A', 'FNDC3B', 'FNDC5', 'FNTA', 'FOLH1', 'FOLR1', 'FOLR2', 'FOSL1', 'FOXA1', 'FOXA2', 'FOXB1', 'FOXC1', 'FOXC2', 'FOXD2', 'FOXE1', 'FOXE3', 'FOXF1', 'FOXG1', 'FOXI1', 'FOXJ1', 'FOXJ2', 'FOXL2', 'FOXM1', 'FOXN1', 'FOXO1', 'FOXO3', 'FOXO4', 'FOXP1', 'FOXP2', 'FOXP3', 'FOXP4', 'FOXRED1', 'FPR1', 'FPR2', 'FRA10AC1', 'FRAS1', 'FREM1', 'FREM2', 'FRMD6', 'FRMD7', 'FRZB', 'FSCN1', 'FSHR', 'FSIP1', 'FST', 'FSTL1', 'FSTL3', 'FTO', 'FUBP3', 'FUCA1', 'FURIN', 'FUS', 'FUT2', 'FUT3', 'FUT4', 'FUT7', 'FUT8', 'FXR2', 'FXYD7', 'FYN', 'FZD1', 'FZD10', 'FZD3', 'FZD4', 'FZD6', 'FZD9', 'FZR1', 'G6PD', 'GAA', 'GAB1', 'GAB2', 'GABBR1', 'GABBR2', 'GABRA1', 'GABRA2', 'GABRA3', 'GABRA4', 'GABRA5', 'GABRA6', 'GABRB2', 'GABRB3', 'GABRD', 'GABRG1', 'GABRG2', 'GABRG3', 'GABRP', 'GABRQ', 'GABRR3', 'GAD1', 'GAD2', 'GADD45A', 'GADD45G', 'GAGE1', 'GAL', 'GALE', 'GALK1', 'GALNS', 'GALNT4', 'GALP', 'GALR1', 'GANAB', 'GANC', 'GAP43', 'GART', 'GAS2L1', 'GAS6', 'GATA1', 'GATA2', 'GATA3', 'GATA4', 'GATA6', 'GBA', 'GBE1', 'GBF1', 'GBP1', 'GBP5', 'GBX2', 'GCGR', 'GCH1', 'GCKR', 'GCLM', 'GCM1', 'GCN1', 'GCNT2', 'GCNT4', 'GDA', 'GDF11', 'GDF15', 'GDF2', 'GDF3', 'GDF5', 'GDF6', 'GDF7', 'GDF9', 'GDNF', 'GFPT1', 'GGT1', 'GH1', 'GHITM', 'GHR', 'GHSR', 'GIGYF1', 'GIMAP4', 'GIMAP5', 'GIMAP8', 'GIPC1', 'GIPC2', 'GJA1', 'GJA5', 'GJB1', 'GJB6', 'GJC1', 'GKN1', 'GLA', 'GLB1', 'GLCCI1', 'GLDN', 'GLI1', 'GLI2', 'GLI3', 'GLIPR2', 'GLOD4', 'GLP1R', 'GLRA1', 'GLRA2', 'GLRA3', 'GLRB', 'GLS', 'GLS2', 'GLT8D2', 'GLUD1', 'GLYR1', 'GMDS', 'GMEB1', 'GMEB2', 'GMFB', 'GMPS', 'GNA11', 'GNAI1', 'GNAI2', 'GNAO1', 'GNAQ', 'GNAT3', 'GNB1L', 'GNB3', 'GNL2', 'GNPAT', 'GNRH1', 'GNRHR', 'GNS', 'GOLGA2', 'GOLPH3', 'GORAB', 'GOT1', 'GP1BA', 'GP5', 'GP6', 'GPATCH11', 'GPBP1', 'GPBP1L1', 'GPER1', 'GPHN', 'GPN1', 'GPN2', 'GPR1', 'GPR101', 'GPR12', 'GPR135', 'GPR137', 'GPR139', 'GPR149', 'GPR158', 'GPR162', 'GPR17', 'GPR174', 'GPR22', 'GPR26', 'GPR3', 'GPR34', 'GPR37', 'GPR37L1', 'GPR39', 'GPR4', 'GPR55', 'GPR63', 'GPR83', 'GPR85', 'GPR88', 'GPRASP1', 'GPRASP2', 'GPRC5B', 'GPRC5C', 'GPRIN2', 'GPT', 'GRAMD1A', 'GRAMD2B', 'GRB2', 'GREB1', 'GREB1L', 'GREM1', 'GREM2', 'GRHL2', 'GRIA1', 'GRIA2', 'GRID1', 'GRIK3', 'GRIK4', 'GRIK5', 'GRIN1', 'GRIN2B', 'GRIN2C', 'GRIN2D', 'GRK2', 'GRK5', 'GRM1', 'GRM2', 'GRM3', 'GRM4', 'GRM5', 'GRM7', 'GRN', 'GRP', 'GRPR', 'GRWD1', 'GSDMB', 'GSDMC', 'GSE1', 'GSK3A', 'GSK3B', 'GSR', 'GSS', 'GSTM1', 'GSTM3', 'GSTO1', 'GSTZ1', 'GSX2', 'GTF2A1L', 'GTF2I', 'GTF3C1', 'GTPBP1', 'GTPBP10', 'GTPBP4', 'GUCA1A', 'GUCY1A2', 'GUCY2C', 'GUCY2D', 'GUSB', 'GXYLT2', 'GYG2', 'GYPA', 'GYPB', 'GYS1', 'GZMA', 'GZMB', 'GZMH', 'GZMK', 'H19', 'H2AFX', 'H3F3B', 'HABP2', 'HADHA', 'HADHB', 'HAMP', 'HAP1', 'HAS2', 'HAVCR1', 'HAVCR2', 'HAX1', 'HBEGF', 'HBG1', 'HBS1L', 'HBZ', 'HCAR2', 'HCAR3', 'HCFC1', 'HCK', 'HCN2', 'HCN3', 'HCN4', 'HCRT', 'HCRTR1', 'HCRTR2', 'HDAC1', 'HDAC10', 'HDAC2', 'HDAC3', 'HDAC4', 'HDAC5', 'HDAC6', 'HDAC8', 'HDAC9', 'HDC', 'HEATR3', 'HEATR5A', 'HEATR5B', 'HEATR6', 'HECA', 'HECTD4', 'HELLS', 'HEPACAM', 'HERC2', 'HERC6', 'HES1', 'HES4', 'HES6', 'HESX1', 'HEXA', 'HEXB', 'HEXIM1', 'HEY1', 'HEYL', 'HFE', 'HGF', 'HGH1', 'HGS', 'HHEX', 'HHLA2', 'HIF1A', 'HIPK2', 'HIPK3', 'HIVEP2', 'HK1', 'HK2', 'HLX', 'HMCN1', 'HMGA1', 'HMGA2', 'HMGB2', 'HMGB3', 'HMGCR', 'HMGN3', 'HMGN5', 'HMMR', 'HMOX1', 'HMX2', 'HNF1A', 'HNF1B', 'HNF4A', 'HNMT', 'HNRNPA1L2', 'HNRNPD', 'HNRNPF', 'HNRNPH1', 'HNRNPLL', 'HNRNPM', 'HNRNPUL1', 'HOOK3', 'HOPX', 'HOTAIR', 'HOXA10', 'HOXA11', 'HOXA13', 'HOXA5', 'HOXA9', 'HOXB13', 'HOXB4', 'HOXB5', 'HOXB6', 'HOXB7', 'HOXB9', 'HOXC11', 'HOXC13', 'HOXD10', 'HOXD9', 'HPCA', 'HPCAL1', 'HPD', 'HPGD', 'HPGDS', 'HPRT1', 'HPS5', 'HPSE', 'HPSE2', 'HPV16-E6', 'HPV16-E7', 'HPV18-E6', 'HPV18-E7', 'HRAS', 'HRH1', 'HRH2', 'HRH3', 'HRH4', 'HS3ST2', 'HS3ST3A1', 'HS3ST5', 'HS6ST2', 'HSD11B1', 'HSD11B2', 'HSD17B1', 'HSD17B10', 'HSD17B2', 'HSD17B6', 'HSD3B1', 'HSDL1', 'HSF1', 'HSF4', 'HSPA1L', 'HSPA2', 'HSPA4', 'HSPA6', 'HSPA8', 'HSPA9', 'HSPB1', 'HSPB11', 'HSPB3', 'HSPB8', 'HSPBP1', 'HSPD1', 'HSPE1', 'HSPG2', 'HTATIP2', 'HTR1A', 'HTR1B', 'HTR1D', 'HTR1E', 'HTR2A', 'HTR2B', 'HTR2C', 'HTR3A', 'HTR4', 'HTR5A', 'HTR6', 'HTR7', 'HTRA1', 'HTRA2', 'HTT', 'HUWE1', 'HYOU1', 'Human_CTNNB1_G34E_ALT:A', 'Human_CTNNB1_S33C_WT:G', 'Human_FGFR3_D641N_ALT:A', 'Human_FGFR3_D641N_WT:A', 'Human_FGFR3_R248H_ALT:A', 'Human_FGFR3_R248H_WT:A', 'Human_PIK3CA_M1043I_ALT:A', 'Human_PIK3CA_M1043I_WT:A', 'Human_PTEN_G129E_ALT:A', 'IARS2', 'ICA1', 'ICAM1', 'ICAM2', 'ICAM3', 'ICAM4', 'ICAM5', 'ICOS', 'ICOSLG', 'ID4', 'IDE', 'IDH1', 'IDH2', 'IDO1', 'IDUA', 'IFI16', 'IFI35', 'IFI44L', 'IFIH1', 'IFIT1', 'IFIT2', 'IFIT3', 'IFITM1', 'IFNA1', 'IFNA17', 'IFNA2', 'IFNA7', 'IFNA8', 'IFNAR1', 'IFNAR2', 'IFNB1', 'IFNG', 'IFNGR1', 'IFNGR2', 'IFNL1', 'IFNL2', 'IFNL3', 'IFNW1', 'IFRD1', 'IFT57', 'IGBP1', 'IGF1', 'IGF1R', 'IGF2', 'IGF2BP1', 'IGF2BP2', 'IGF2BP3', 'IGF2R', 'IGFBP1', 'IGFBP2', 'IGFN1', 'IGHE', 'IGSF1', 'IGSF3', 'IGSF8', 'IGSF9B', 'IHH', 'IKBKB', 'IKBKE', 'IKBKG', 'IKZF1', 'IKZF2', 'IKZF3', 'IKZF4', 'IL10', 'IL10RA', 'IL10RB', 'IL11', 'IL11RA', 'IL12A', 'IL12B', 'IL12RB1', 'IL12RB2', 'IL13', 'IL13RA1', 'IL13RA2', 'IL15', 'IL15RA', 'IL16', 'IL17A', 'IL17B', 'IL17D', 'IL17F', 'IL17RA', 'IL17RB', 'IL18', 'IL18BP', 'IL18R1', 'IL18RAP', 'IL19', 'IL1A', 'IL1B', 'IL1F10', 'IL1R1', 'IL1RAP', 'IL1RL1', 'IL1RL2', 'IL1RN', 'IL2', 'IL20', 'IL21', 'IL21R', 'IL22', 'IL22RA1', 'IL23A', 'IL23R', 'IL24', 'IL25', 'IL26', 'IL2RA', 'IL2RB', 'IL2RG', 'IL3', 'IL31', 'IL33', 'IL34', 'IL36G', 'IL37', 'IL3RA', 'IL4', 'IL4R', 'IL5', 'IL5RA', 'IL6', 'IL6R', 'IL6ST', 'IL7', 'IL7R', 'IL9', 'IL9R', 'ILDR2', 'ILF3', 'ILK', 'IMMT', 'IMPDH1', 'IMPDH2', 'IMPG1', 'INA', 'INCA1', 'ING1', 'INHA', 'INHBA', 'INHBB', 'INKA2', 'INMT', 'INO80D', 'INPP4B', 'INPP5D', 'INPPL1', 'INSC', 'INSL3', 'INSL4', 'INSM1', 'INSR', 'INSRR', 'INVS', 'IPO11', 'IPO5', 'IPO7', 'IPO9', 'IPP', 'IQGAP1', 'IQGAP2', 'IQSEC1', 'IRAK1', 'IRAK2', 'IRAK4', 'IRF1', 'IRF2BP1', 'IRF2BPL', 'IRF3', 'IRF4', 'IRF5', 'IRF7', 'IRF8', 'IRGM', 'IRGQ', 'IRS1', 'IRS2', 'IRS4', 'IRX1', 'ISL1', 'ISOC2', 'ITCH', 'ITGA1', 'ITGA2', 'ITGA2B', 'ITGA3', 'ITGA4', 'ITGA5', 'ITGA6', 'ITGA7', 'ITGAD', 'ITGAE', 'ITGAL', 'ITGAM', 'ITGAV', 'ITGAX', 'ITGB1BP2', 'ITGB2', 'ITGB3', 'ITGB4', 'ITGB5', 'ITGB6', 'ITGB7', 'ITIH1', 'ITIH5', 'ITK', 'ITM2A', 'ITPKA', 'ITPR1', 'ITPR3', 'ITPRID2', 'IVNS1ABP', 'JAG1', 'JAK1', 'JAK2', 'JAK3', 'JAM2', 'JAM3', 'JAZF1', 'JDP2', 'JMJD4', 'JPH1', 'JPH2', 'JPT2', 'JRK', 'JUP', 'KANK2', 'KAT2A', 'KAT2B', 'KAT5', 'KATNA1', 'KCNA3', 'KCNA4', 'KCNA5', 'KCNAB3', 'KCNB1', 'KCNC1', 'KCNC3', 'KCNC4', 'KCNE1', 'KCNF1', 'KCNH1', 'KCNH2', 'KCNH3', 'KCNH4', 'KCNH5', 'KCNH6', 'KCNIP2', 'KCNJ1', 'KCNJ10', 'KCNJ11', 'KCNJ12', 'KCNJ13', 'KCNJ15', 'KCNJ16', 'KCNJ2', 'KCNJ6', 'KCNJ8', 'KCNJ9', 'KCNK1', 'KCNK10', 'KCNK12', 'KCNK13', 'KCNK15', 'KCNK16', 'KCNK17', 'KCNK18', 'KCNK2', 'KCNK3', 'KCNK4', 'KCNK6', 'KCNK9', 'KCNMA1', 'KCNMB1', 'KCNN3', 'KCNN4', 'KCNQ1', 'KCNQ2', 'KCNQ4', 'KCNRG', 'KCNS1', 'KCNT1', 'KCNT2', 'KCNU1', 'KCNV1', 'KCTD10', 'KCTD11', 'KCTD20', 'KCTD5', 'KCTD9', 'KDM1A', 'KDM3A', 'KDM4A', 'KDM5B', 'KDM5D', 'KDM6A', 'KDM6B', 'KDM8', 'KDR', 'KEAP1', 'KEL', 'KHDC3L', 'KHDRBS1', 'KHK', 'KHSRP', 'KIAA0408', 'KIAA1191', 'KIAA1324', 'KIAA2013', 'KIF11', 'KIF18B', 'KIF1A', 'KIF20A', 'KIF2A', 'KIF2C', 'KIF5B', 'KIR2DL1', 'KIR2DL4', 'KIR3DL1', 'KISS1R', 'KIT', 'KITLG', 'KL', 'KLF12', 'KLF14', 'KLF16', 'KLF17', 'KLF4', 'KLF5', 'KLHDC2', 'KLHL1', 'KLHL13', 'KLHL14', 'KLHL24', 'KLHL26', 'KLHL4', 'KLHL8', 'KLK10', 'KLK15', 'KLK4', 'KLK6', 'KLRB1', 'KLRC1', 'KLRC2', 'KLRD1', 'KLRF1', 'KLRG1', 'KLRK1', 'KMO', 'KMT2A', 'KMT2D', 'KNDC1', 'KNSTRN', 'KPNA1', 'KPNA2', 'KPNA3', 'KPNA6', 'KPNB1', 'KPRP', 'KRAS', 'KRT20', 'KRT78', 'KRTCAP2', 'KXD1', 'L1CAM', 'LACC1', 'LACRT', 'LAD1', 'LAG3', 'LAIR1', 'LAIR2', 'LAMA3', 'LAMB3', 'LAMC1', 'LAMC2', 'LAMP1', 'LAMP2', 'LAMP3', 'LANCL1', 'LANCL2', 'LAPTM4B', 'LARP4', 'LARP4B', 'LASP1', 'LAT', 'LATS1', 'LATS2', 'LBH', 'LBP', 'LBX1', 'LCAT', 'LCK', 'LCN2', 'LCNL1', 'LDB3', 'LDHA', 'LDLR', 'LDLRAD1', 'LDLRAD4', 'LEF1', 'LENG8', 'LEP', 'LEPR', 'LEPROTL1', 'LGALS13', 'LGALS14', 'LGALS8', 'LGALS9', 'LGALSL', 'LGMN', 'LGR4', 'LGR5', 'LGR6', 'LHCGR', 'LIF', 'LIFR', 'LIG3', 'LIG4', 'LILRA1', 'LILRA2', 'LILRA4', 'LILRA5', 'LILRA6', 'LILRB1', 'LILRB2', 'LILRB3', 'LILRB4', 'LILRB5', 'LIM2', 'LIMK1', 'LIN28A', 'LIN28B', 'LINGO2', 'LINS1', 'LIPA', 'LIPC', 'LIPE', 'LIPF', 'LIPG', 'LMBR1L', 'LMNB1', 'LMO1', 'LMO2', 'LMX1B', 'LONP1', 'LONRF3', 'LOX', 'LOXL1', 'LOXL2', 'LPA', 'LPAR1', 'LPAR3', 'LPAR5', 'LPAR6', 'LPCAT1', 'LPIN1', 'LPL', 'LPXN', 'LRATD2', 'LRBA', 'LRCH1', 'LRG1', 'LRIF1', 'LRP1', 'LRP2', 'LRP5', 'LRP6', 'LRPPRC', 'LRRC15', 'LRRC20', 'LRRC3', 'LRRC32', 'LRRC38', 'LRRC3B', 'LRRC45', 'LRRC47', 'LRRC59', 'LRRK2', 'LRRTM1', 'LRTM1', 'LSG1', 'LSM12', 'LTA', 'LTA4H', 'LTB4R', 'LTB4R2', 'LTBP1', 'LTBP2', 'LTBR', 'LTK', 'LUC7L', 'LUM', 'LURAP1', 'LY6G6C', 'LY75', 'LY9', 'LY96', 'LYAR', 'LYN', 'LYPD2', 'LZIC', 'LZTS1', 'MAB21L1', 'MAB21L2', 'MACC1', 'MAD1L1', 'MAD2L1', 'MAEA', 'MAF', 'MAFB', 'MAFF', 'MAGEA1', 'MAGEA10', 'MAGEA11', 'MAGEA12', 'MAGEA3', 'MAGEA4', 'MAGEB2', 'MAGEC1', 'MAGEC2', 'MAGI1', 'MAGI3', 'MAK', 'MAL', 'MAL2', 'MALL', 'MALT1', 'MAML2', 'MAN1A1', 'MAN1B1', 'MAN2B1', 'MANEA', 'MAOA', 'MAOB', 'MAP1A', 'MAP1B', 'MAP1LC3A', 'MAP1LC3B', 'MAP1S', 'MAP2', 'MAP2K1', 'MAP2K4', 'MAP2K5', 'MAP3K1', 'MAP3K14', 'MAP3K15', 'MAP3K20', 'MAP3K5', 'MAP3K7', 'MAP3K7CL', 'MAP4', 'MAP4K2', 'MAP4K3', 'MAP4K4', 'MAP4K5', 'MAP7', 'MAP7D1', 'MAPK1', 'MAPK10', 'MAPK11', 'MAPK12', 'MAPK14', 'MAPK15', 'MAPK3', 'MAPK7', 'MAPK8', 'MAPK8IP1', 'MAPK8IP2', 'MAPK8IP3', 'MAPK9', 'MAPKAPK2', 'MAPRE2', 'MAPT', 'MARCO', 'MARK2', 'MAS1', 'MASP1', 'MASP2', 'MAT1A', 'MAVS', 'MAX', 'MBL2', 'MBNL1', 'MC1R', 'MC3R', 'MC4R', 'MCAM', 'MCCC1', 'MCHR1', 'MCHR2', 'MCM2', 'MCM3', 'MCM3AP', 'MCM4', 'MCM5', 'MCM6', 'MCM7', 'MCM9', 'MCPH1', 'MCTP2', 'MCTS1', 'MDC1', 'MDFIC', 'MDM1', 'MDM2', 'MDM4', 'ME1', 'MECOM', 'MED1', 'MED12', 'MED12L', 'MEF2A', 'MEF2C', 'MEG3', 'MEGF10', 'MEGF8', 'MEIOB', 'MEIS1', 'MEIS2', 'MEIS3', 'MELK', 'MELTF', 'MEN1', 'MEPCE', 'MERTK', 'MEST', 'MET', 'METRNL', 'METTL16', 'METTL18', 'METTL2A', 'METTL3', 'MFAP5', 'MFF', 'MFGE8', 'MFN2', 'MFRP', 'MFSD5', 'MGAM', 'MGMT', 'MIAT', 'MICA', 'MICAL2', 'MICB', 'MID2', 'MIEN1', 'MIIP', 'MINDY1', 'MINDY2', 'MINPP1', 'MIPOL1', 'MITD1', 'MITF', 'MKI67', 'MKNK1', 'MKRN2', 'MKRN3', 'MKX', 'MLANA', 'MLF1', 'MLH1', 'MLPH', 'MLXIP', 'MLXIPL', 'MMACHC', 'MMADHC', 'MME', 'MMEL1', 'MMP11', 'MMP12', 'MMP13', 'MMP14', 'MMP21', 'MMP8', 'MMP9', 'MMRN2', 'MNDA', 'MNS1', 'MNX1', 'MOB2', 'MOB4', 'MOG', 'MON2', 'MOV10', 'MPDU1', 'MPDZ', 'MPHOSPH9', 'MPI', 'MPL', 'MPLKIP', 'MPO', 'MPP1', 'MPP7', 'MPPED1', 'MPPED2', 'MPZ', 'MPZL1', 'MR1', 'MRAP', 'MRAP2', 'MRC1', 'MRC2', 'MRE11', 'MRFAP1L1', 'MRGPRX2', 'MRM3', 'MRPL45', 'MRTFA', 'MRTFB', 'MS4A1', 'MS4A2', 'MS4A6A', 'MSC', 'MSH2', 'MSH3', 'MSH6', 'MSI1', 'MSI2', 'MSLN', 'MSN', 'MSR1', 'MST1', 'MST1R', 'MSTN', 'MT1A', 'MTA1', 'MTA2', 'MTAP', 'MTCH2', 'MTCL1', 'MTERF2', 'MTFR1L', 'MTHFD1', 'MTHFR', 'MTNR1A', 'MTNR1B', 'MTOR', 'MTPAP', 'MTR', 'MTRES1', 'MTREX', 'MTRF1', 'MUC1', 'MUC16', 'MUC19', 'MUC4', 'MUC5AC', 'MUC5B', 'MUTYH', 'MVD', 'MVP', 'MX1', 'MXD1', 'MXRA7', 'MYB', 'MYBBP1A', 'MYBL2', 'MYC', 'MYCBP', 'MYCL', 'MYCN', 'MYD88', 'MYEF2', 'MYH1', 'MYH10', 'MYH11', 'MYH13', 'MYH2', 'MYH4', 'MYH9', 'MYL9', 'MYLIP', 'MYLK', 'MYLK2', 'MYLK3', 'MYNN', 'MYO15A', 'MYO18B', 'MYO1B', 'MYO1C', 'MYO1D', 'MYO1E', 'MYO1F', 'MYO5A', 'MYO5B', 'MYO6', 'MYOD1', 'MYOF', 'MYOT', 'MZB1', 'MZF1', 'N4BP2', 'NAA15', 'NAA16', 'NAA40', 'NAAA', 'NACC2', 'NAIF1', 'NAIP', 'NAMPT', 'NANOG', 'NAP1L3', 'NAP1L4', 'NAP1L5', 'NAT1', 'NAT10', 'NAT2', 'NAV1', 'NAV2', 'NBL1', 'NBN', 'NBPF3', 'NCAM1', 'NCBP1', 'NCBP3', 'NCCRP1', 'NCEH1', 'NCF1', 'NCF2', 'NCF4', 'NCK1', 'NCLN', 'NCOA1', 'NCOA2', 'NCOA3', 'NCOA4', 'NCOR1', 'NCOR2', 'NCR1', 'NCR2', 'NCR3', 'NCS1', 'NCSTN', 'NDNF', 'NDP', 'NDRG1', 'NDRG2', 'NDRG4', 'NDST4', 'NDUFA3', 'NDUFAB1', 'NEBL', 'NECAB2', 'NECTIN1', 'NECTIN2', 'NECTIN3', 'NEDD4', 'NEDD4L', 'NEDD9', 'NEFH', 'NEFL', 'NEFM', 'NEIL3', 'NEK1', 'NEK11', 'NEK2', 'NEK3', 'NEK4', 'NEK5', 'NEK6', 'NEK8', 'NELL1', 'NEMP1', 'NEPRO', 'NES', 'NETO1', 'NEURL4', 'NEUROD1', 'NEUROD2', 'NEUROG2', 'NEXN', 'NF1', 'NF2', 'NFAT5', 'NFATC1', 'NFATC2', 'NFATC3', 'NFATC4', 'NFE2L1', 'NFE2L2', 'NFE2L3', 'NFKB1', 'NFKB2', 'NFX1', 'NGB', 'NGDN', 'NGF', 'NGFR', 'NHLH2', 'NIBAN1', 'NIBAN3', 'NIFK', 'NIN', 'NINJ1', 'NIPSNAP1', 'NIPSNAP3A', 'NKAPD1', 'NKAPL', 'NKRF', 'NKX2-1', 'NKX2-3', 'NKX2-4', 'NKX2-8', 'NKX3-1', 'NLE1', 'NLGN3', 'NLRC5', 'NLRP1', 'NLRP11', 'NLRP2', 'NLRP3', 'NLRP5', 'NLRP6', 'NLRP7', 'NLRP9', 'NMB', 'NME1', 'NMNAT1', 'NMU', 'NNAT', 'NOA1', 'NOC3L', 'NOD1', 'NOD2', 'NODAL', 'NOL4', 'NOL4L', 'NOLC1', 'NOM1', 'NOMO3', 'NONO', 'NOP2', 'NORAD', 'NOS1', 'NOS1AP', 'NOS2', 'NOS3', 'NOSTRIN', 'NOTCH1', 'NOTCH2', 'NOTCH2NLA', 'NOTCH3', 'NOTCH4', 'NOX1', 'NOX4', 'NPAS4', 'NPAT', 'NPC1', 'NPC1L1', 'NPFFR2', 'NPM3', 'NPNT', 'NPPA', 'NPPB', 'NPPC', 'NPR1', 'NPR3', 'NPSR1', 'NPTN', 'NPTX2', 'NPY1R', 'NPY2R', 'NQO1', 'NQO2', 'NR0B1', 'NR0B2', 'NR1H2', 'NR1H3', 'NR1H4', 'NR1I2', 'NR1I3', 'NR2C2', 'NR2E3', 'NR3C1', 'NR3C2', 'NR4A1', 'NR4A3', 'NR5A1', 'NR5A2', 'NR6A1', 'NRAS', 'NRDE2', 'NREP', 'NRF1', 'NRIP1', 'NRK', 'NRN1', 'NRP1', 'NRP2', 'NRROS', 'NRSN1', 'NRSN2', 'NRXN2', 'NSD2', 'NSUN2', 'NSUN5', 'NT5C2', 'NT5DC2', 'NT5DC3', 'NT5E', 'NTF3', 'NTMT1', 'NTN1', 'NTN4', 'NTNG2', 'NTPCR', 'NTRK1', 'NTRK2', 'NTS', 'NTSR1', 'NTSR2', 'NUAK2', 'NUCB2', 'NUDCD1', 'NUDCD2', 'NUDT1', 'NUDT16L1', 'NUDT21', 'NUMA1', 'NUMB', 'NUP107', 'NUP153', 'NUP214', 'NUP62', 'NUP93', 'NUP98', 'NUS1', 'NUSAP1', 'NUTF2', 'NVL', 'NXF1', 'NXF3', 'NXN', 'NXPH2', 'NXPH4', 'NXT2', 'NYX', 'OAS1', 'OAS3', 'OBP2A', 'OCLN', 'OCM2', 'OCRL', 'ODF2L', 'ODR4', 'OGDH', 'OGFR', 'OGG1', 'OGT', 'OIT3', 'OLFM1', 'OLFM2', 'OLFML3', 'OLIG1', 'OLIG2', 'OLR1', 'ONECUT3', 'OPALIN', 'OPN1LW', 'OPRD1', 'OPRK1', 'OPRL1', 'OPRM1', 'OPRPN', 'OPTN', 'ORAI2', 'ORAI3', 'ORC6', 'OSBP2', 'OSCP1', 'OSGIN1', 'OSGIN2', 'OSM', 'OSR2', 'OTOF', 'OTUB1', 'OTX2', 'OVOL2', 'OXER1', 'OXSM', 'OXSR1', 'OXTR', 'P2RX1', 'P2RX3', 'P2RX4', 'P2RX5', 'P2RX7', 'P2RY1', 'P2RY12', 'P2RY13', 'P2RY14', 'P2RY2', 'P2RY6', 'P4HA1', 'P4HA3', 'P4HB', 'P4HTM', 'PABPC1L', 'PABPC4', 'PACC1', 'PADI2', 'PADI4', 'PAEP', 'PAGE4', 'PAH', 'PAIP2', 'PAK1', 'PAK1IP1', 'PAK2', 'PAK4', 'PALB2', 'PALLD', 'PALMD', 'PAM', 'PAMR1', 'PANK2', 'PANX1', 'PANX2', 'PANX3', 'PAPPA', 'PAPPA2', 'PAPSS1', 'PARD3', 'PARK7', 'PARM1', 'PARP1', 'PARP11', 'PARP15', 'PARP3', 'PART1', 'PASD1', 'PAWR', 'PAX1', 'PAX2', 'PAX3', 'PAX5', 'PAX6', 'PAX7', 'PAX8', 'PBDC1', 'PBK', 'PBLD', 'PBX1', 'PBX3', 'PBXIP1', 'PC', 'PCA3', 'PCAT1', 'PCBD1', 'PCBD2', 'PCBP3', 'PCCB', 'PCDH10', 'PCDH11X', 'PCDH11Y', 'PCDH17', 'PCDH18', 'PCDH20', 'PCDH8', 'PCDHA1', 'PCDHA2', 'PCDHA4', 'PCDHA9', 'PCDHB14', 'PCGEM1', 'PCID2', 'PCK1', 'PCNA', 'PCNX3', 'PCP2', 'PCSK1', 'PCSK9', 'PDCD1', 'PDCD10', 'PDCD1LG2', 'PDCD4', 'PDCD6', 'PDCD6IP', 'PDE10A', 'PDE2A', 'PDE3A', 'PDE4A', 'PDE4B', 'PDE4DIP', 'PDE5A', 'PDE6H', 'PDGFA', 'PDGFB', 'PDGFC', 'PDGFD', 'PDGFRA', 'PDGFRB', 'PDGFRL', 'PDHA1', 'PDHB', 'PDIA2', 'PDIA3', 'PDIA4', 'PDK1', 'PDLIM2', 'PDLIM4', 'PDPK1', 'PDPN', 'PDX1', 'PDXDC1', 'PDYN', 'PDZD4', 'PDZD7', 'PDZK1', 'PEA15', 'PEBP4', 'PECAM1', 'PEF1', 'PEG10', 'PELO', 'PELP1', 'PENK', 'PEPD', 'PER1', 'PER2', 'PER3', 'PFKFB3', 'PFKP', 'PGA3', 'PGAM5', 'PGAP1', 'PGAP2', 'PGBD1', 'PGD', 'PGF', 'PGGT1B', 'PGK1', 'PGM1', 'PGR', 'PHB', 'PHB2', 'PHETA1', 'PHEX', 'PHF10', 'PHF12', 'PHF21B', 'PHF23', 'PHF6', 'PHF7', 'PHF8', 'PHGDH', 'PHLDA3', 'PHLDB2', 'PHLDB3', 'PHLPP1', 'PHOX2B', 'PI16', 'PI4KA', 'PIBF1', 'PICALM', 'PID1', 'PIEZO1', 'PIEZO2', 'PIGF', 'PIH1D1', 'PIK3C3', 'PIK3CA', 'PIK3CB', 'PIK3CD', 'PIK3CG', 'PIK3R1', 'PIK3R2', 'PIKFYVE', 'PILRA', 'PIM1', 'PIM2', 'PIMREG', 'PIN1', 'PINK1', 'PIP4K2A', 'PITHD1', 'PITPNB', 'PITX1', 'PITX2', 'PIWIL1', 'PKD1', 'PKD1L1', 'PKD2', 'PKD2L1', 'PKHD1', 'PKIA', 'PKM', 'PKNOX2', 'PKP2', 'PLA2G4A', 'PLA2G5', 'PLA2G6', 'PLA2G7', 'PLA2R1', 'PLAGL1', 'PLAGL2', 'PLAT', 'PLAU', 'PLAUR', 'PLCB1', 'PLCE1', 'PLCG1', 'PLCG2', 'PLD1', 'PLD2', 'PLEC', 'PLEKHA1', 'PLEKHA2', 'PLEKHB2', 'PLEKHH2', 'PLEKHM2', 'PLEKHO1', 'PLG', 'PLIN1', 'PLIN2', 'PLIN4', 'PLIN5', 'PLK1', 'PLK4', 'PLN', 'PLP2', 'PLPP3', 'PLS3', 'PLSCR1', 'PLTP', 'PLVAP', 'PLXDC1', 'PLXNB1', 'PLXNB2', 'PLXNC1', 'PM20D1', 'PM20D2', 'PMAIP1', 'PMCH', 'PMFBP1', 'PML', 'PMM2', 'PMP22', 'PMS1', 'PMS2', 'PNMA1', 'PNMA2', 'PNOC', 'PNP', 'PNPLA1', 'PNPLA2', 'PNPLA3', 'PNPLA6', 'PNPT1', 'PODXL', 'POGLUT2', 'POGZ', 'POLB', 'POLD1', 'POLDIP2', 'POLE', 'POLH', 'POLR2A', 'POLR2B', 'POLR2C', 'POLR2E', 'POLR2G', 'POLR2H', 'POLR2M', 'POMC', 'POMGNT1', 'POMT1', 'PON1', 'PON2', 'POPDC3', 'POR', 'PORCN', 'POSTN', 'POTEF', 'POTEI', 'POTEJ', 'POU1F1', 'POU2AF1', 'POU2F1', 'POU2F2', 'POU2F3', 'POU3F1', 'POU3F3', 'POU3F4', 'POU4F3', 'POU5F1', 'PPARA', 'PPARD', 'PPARG', 'PPARGC1A', 'PPFIA1', 'PPFIA3', 'PPFIA4', 'PPIC', 'PPID', 'PPIF', 'PPM1A', 'PPM1D', 'PPM1H', 'PPP1CA', 'PPP1R15B', 'PPP1R16B', 'PPP1R1B', 'PPP1R1C', 'PPP1R37', 'PPP1R7', 'PPP1R9B', 'PPP2CA', 'PPP2R1A', 'PPP2R3A', 'PPP2R3C', 'PPP3CA', 'PPP4R1', 'PPP4R4', 'PRAME', 'PRCP', 'PRDM1', 'PRDM10', 'PRDM12', 'PRDM13', 'PRDM15', 'PRDM6', 'PREP', 'PREPL', 'PRF1', 'PRG2', 'PRG4', 'PRICKLE1', 'PRKAA1', 'PRKAA2', 'PRKAB1', 'PRKACA', 'PRKACB', 'PRKAG1', 'PRKAG2', 'PRKAR1A', 'PRKCA', 'PRKCB', 'PRKCD', 'PRKCE', 'PRKCG', 'PRKCH', 'PRKCI', 'PRKCQ', 'PRKCZ', 'PRKD1', 'PRKD3', 'PRKDC', 'PRKN', 'PRKRA', 'PRL', 'PRLR', 'PRM1', 'PRMT1', 'PRMT5', 'PRMT8', 'PRMT9', 'PRNCR1', 'PRNP', 'PROC', 'PROCR', 'PRODH', 'PROKR2', 'PROM1', 'PROM2', 'PROP1', 'PROS1', 'PROSER1', 'PROX1', 'PRPF19', 'PRPF3', 'PRPF31', 'PRPF8', 'PRPH', 'PRPH2', 'PRPS1', 'PRPS2', 'PRPSAP1', 'PRR11', 'PRR13', 'PRR14L', 'PRRC2A', 'PRRG2', 'PRRT2', 'PRRX1', 'PRSS16', 'PRTN3', 'PRXL2A', 'PSD', 'PSD3', 'PSEN1', 'PSEN2', 'PSENEN', 'PSG1', 'PSIP1', 'PSKH1', 'PSMA6', 'PSMB5', 'PSMC2', 'PSMC5', 'PSMD1', 'PSMD10', 'PSMD2', 'PSMD3', 'PSMD4', 'PSME3', 'PSPC1', 'PSRC1', 'PSTPIP2', 'PTAFR', 'PTBP1', 'PTBP2', 'PTCD1', 'PTCD2', 'PTCD3', 'PTCH1', 'PTDSS1', 'PTEN', 'PTGDR', 'PTGDR2', 'PTGER2', 'PTGER3', 'PTGER4', 'PTGES', 'PTGES3', 'PTGFR', 'PTGFRN', 'PTGIR', 'PTGIS', 'PTGS1', 'PTGS2', 'PTH', 'PTH1R', 'PTH2R', 'PTHLH', 'PTK2', 'PTK2B', 'PTK6', 'PTK7', 'PTOV1', 'PTP4A1', 'PTP4A3', 'PTPA', 'PTPDC1', 'PTPN1', 'PTPN11', 'PTPN13', 'PTPN2', 'PTPN22', 'PTPN5', 'PTPN6', 'PTPRB', 'PTPRF', 'PTPRG', 'PTPRJ', 'PTPRM', 'PTPRQ', 'PTPRU', 'PTPRZ1', 'PTTG1', 'PTX3', 'PUM3', 'PURB', 'PUSL1', 'PVR', 'PVT1', 'PWP1', 'PWWP3A', 'PXN', 'PYCARD', 'PYGB', 'PYGL', 'PYGM', 'PYM1', 'PZP', 'QPCTL', 'QRFPR', 'R3HDM1', 'R3HDM2', 'RAB11A', 'RAB11FIP1', 'RAB11FIP5', 'RAB27A', 'RAB28', 'RAB5A', 'RAB6C', 'RAB7A', 'RAB8A', 'RAB9A', 'RABL2B', 'RABL3', 'RABL6', 'RAC1', 'RACGAP1', 'RAD18', 'RAD50', 'RAD51', 'RAD52', 'RAD54L', 'RAD54L2', 'RAF1', 'RAG1', 'RAI14', 'RAI2', 'RALGPS1', 'RAN', 'RANBP2', 'RANBP3', 'RANBP9', 'RANGAP1', 'RAP1A', 'RAP2A', 'RAPGEF3', 'RAPGEF5', 'RAPGEF6', 'RARA', 'RARB', 'RASA1', 'RASD1', 'RASD2', 'RASGEF1C', 'RASGRP1', 'RASSF1', 'RASSF2', 'RASSF3', 'RASSF4', 'RASSF5', 'RASSF8', 'RAVER1', 'RB1', 'RBBP4', 'RBBP5', 'RBBP7', 'RBBP8', 'RBCK1', 'RBL2', 'RBM10', 'RBM12', 'RBM14', 'RBM15', 'RBM19', 'RBM20', 'RBM23', 'RBM27', 'RBM34', 'RBM38', 'RBMS1', 'RBMS2', 'RBMS3', 'RBMX', 'RBPJ', 'RBPMS', 'RBX1', 'RC3H1', 'RC3H2', 'RCAN2', 'RCC1', 'RCN2', 'RCOR1', 'RCOR3', 'RDM1', 'RECK', 'RECQL', 'RECQL4', 'REEP4', 'REEP6', 'REL', 'RELA', 'RELB', 'RELN', 'RELT', 'REN', 'REPS1', 'RERG', 'REST', 'RET', 'RETN', 'RETREG1', 'RETREG3', 'REXO2', 'RFC3', 'RFC4', 'RFC5', 'RFPL3', 'RFTN1', 'RFX1', 'RFX2', 'RFX4', 'RFX5', 'RGL3', 'RGN', 'RGPD1', 'RGPD6', 'RGPD8', 'RGS4', 'RGS5', 'RHAG', 'RHBDD1', 'RHBDD2', 'RHCE', 'RHD', 'RHEB', 'RHOA', 'RHOC', 'RHOH', 'RHOT1', 'RHOXF2', 'RIC8A', 'RIDA', 'RILPL1', 'RILPL2', 'RIMS3', 'RIMS4', 'RIOX1', 'RIPK1', 'RIPK2', 'RIPK3', 'RIPK4', 'RIPOR1', 'RITA1', 'RLF', 'RLN1', 'RLN2', 'RLN3', 'RMDN1', 'RMND1', 'RMND5A', 'RNASE3', 'RNASEH2B', 'RNASEL', 'RNF112', 'RNF121', 'RNF128', 'RNF167', 'RNF180', 'RNF187', 'RNF2', 'RNF26', 'RNF31', 'RNF38', 'RNF39', 'RNF43', 'RO60', 'ROBO4', 'ROCK1', 'ROCK2', 'ROR1', 'ROR2', 'RORB', 'RORC', 'ROS1', 'RP1L1', 'RPA1', 'RPA2', 'RPA3', 'RPAP1', 'RPAP3', 'RPE65', 'RPF1', 'RPN1', 'RPRM', 'RPRML', 'RPS6KA5', 'RPTOR', 'RPUSD2', 'RRAD', 'RRAS', 'RREB1', 'RRM1', 'RRM2', 'RRP12', 'RRP15', 'RRP1B', 'RRS1', 'RS1', 'RSAD2', 'RSBN1', 'RSPH9', 'RSPO2', 'RSPO3', 'RSPRY1', 'RSRC1', 'RTCB', 'RTKN2', 'RTL1', 'RTL8C', 'RTN1', 'RTN4', 'RTN4IP1', 'RUBCN', 'RUBCNL', 'RUFY2', 'RUNX1', 'RUNX1T1', 'RUNX2', 'RUNX3', 'RUVBL1', 'RUVBL2', 'RWDD1', 'RWDD4', 'RXFP1', 'RXFP2', 'RXFP3', 'RXRA', 'RYR1', 'S100A1', 'S100A3', 'S1PR1', 'S1PR3', 'S1PR5', 'SAA4', 'SAC3D1', 'SACS', 'SAFB', 'SALL4', 'SAMD4A', 'SAMD5', 'SAMD9', 'SAMHD1', 'SAPCD2', 'SART1', 'SART3', 'SASH1', 'SAT2', 'SATB1', 'SATB2', 'SAXO1', 'SBNO1', 'SBNO2', 'SCAF4', 'SCAMP4', 'SCAPER', 'SCARB1', 'SCFD2', 'SCG2', 'SCG5', 'SCGB1D1', 'SCGB1D2', 'SCGN', 'SCIMP', 'SCIN', 'SCML2', 'SCN3A', 'SCN4B', 'SCN7A', 'SCN8A', 'SCN9A', 'SCNN1A', 'SCNN1G', 'SCPEP1', 'SCRIB', 'SCRN1', 'SDAD1', 'SDC2', 'SDC3', 'SDC4', 'SDF2L1', 'SDHA', 'SDHAF3', 'SDHB', 'SDK2', 'SEC13', 'SEC14L3', 'SEC16A', 'SEC23B', 'SECISBP2L', 'SEL1L', 'SELE', 'SELENBP1', 'SELENOT', 'SELL', 'SELP', 'SELPLG', 'SEMA3A', 'SEMA3C', 'SEMA3D', 'SEMA3F', 'SEMA4B', 'SEMA4C', 'SEMA4D', 'SEMA7A', 'SENP1', 'SENP6', 'SEPTIN4', 'SEPTIN5', 'SEPTIN6', 'SEPTIN9', 'SERPINA12', 'SERPINA3', 'SERPINA5', 'SERPINA9', 'SERPINB2', 'SERPINB4', 'SERPINB5', 'SERPINB7', 'SERPINB9', 'SERPINC1', 'SERPIND1', 'SERPINE1', 'SERPINF2', 'SERPINH1', 'SERPINI2', 'SESN2', 'SESN3', 'SETD4', 'SETDB1', 'SEZ6L', 'SEZ6L2', 'SF3A1', 'SF3B1', 'SF3B3', 'SF3B4', 'SFPQ', 'SFRP1', 'SFRP4', 'SFRP5', 'SFSWAP', 'SFXN1', 'SFXN2', 'SGCA', 'SGK1', 'SGSH', 'SH2B2', 'SH2D1A', 'SH2D1B', 'SH2D2A', 'SH2D3C', 'SH3BGR', 'SH3BGRL2', 'SH3BP5', 'SH3BP5L', 'SH3GLB2', 'SH3RF2', 'SH3TC2', 'SHANK3', 'SHARPIN', 'SHBG', 'SHC1', 'SHC4', 'SHD', 'SHFL', 'SHH', 'SHLD1', 'SHLD2', 'SHMT1', 'SHMT2', 'SHOX', 'SHROOM1', 'SIAE', 'SIAH1', 'SIGIRR', 'SIGLEC1', 'SIGLEC11', 'SIGLEC6', 'SIGLEC7', 'SIGLEC9', 'SIGMAR1', 'SIK2', 'SIK3', 'SIM2', 'SIMC1', 'SIN3A', 'SINHCAF', 'SIRPA', 'SIRPB1', 'SIRPG', 'SIRT1', 'SIRT2', 'SIRT3', 'SIRT6', 'SIRT7', 'SIX1', 'SKA3', 'SKP1', 'SKP2', 'SLAMF1', 'SLAMF6', 'SLAMF7', 'SLAMF8', 'SLC10A1', 'SLC11A1', 'SLC11A2', 'SLC12A2', 'SLC12A6', 'SLC15A1', 'SLC16A1', 'SLC16A4', 'SLC16A9', 'SLC17A5', 'SLC17A6', 'SLC17A7', 'SLC17A8', 'SLC18A2', 'SLC19A1', 'SLC1A1', 'SLC1A2', 'SLC1A3', 'SLC1A5', 'SLC20A2', 'SLC22A1', 'SLC22A12', 'SLC22A2', 'SLC22A4', 'SLC22A5', 'SLC22A8', 'SLC22A9', 'SLC23A2', 'SLC24A1', 'SLC24A4', 'SLC25A1', 'SLC25A10', 'SLC25A11', 'SLC25A13', 'SLC25A17', 'SLC25A31', 'SLC25A39', 'SLC25A4', 'SLC25A40', 'SLC26A2', 'SLC26A3', 'SLC29A1', 'SLC29A3', 'SLC2A1', 'SLC2A2', 'SLC2A3', 'SLC2A4', 'SLC2A4RG', 'SLC2A9', 'SLC30A7', 'SLC30A8', 'SLC35E1', 'SLC35G2', 'SLC37A4', 'SLC38A7', 'SLC39A11', 'SLC39A8', 'SLC39A9', 'SLC3A1', 'SLC3A2', 'SLC40A1', 'SLC43A2', 'SLC4A1', 'SLC4A1AP', 'SLC5A1', 'SLC5A2', 'SLC5A3', 'SLC5A5', 'SLC5A7', 'SLC6A1', 'SLC6A12', 'SLC6A17', 'SLC6A2', 'SLC6A3', 'SLC6A4', 'SLC6A5', 'SLC6A9', 'SLC7A11', 'SLC7A5', 'SLC7A7', 'SLC9A1', 'SLC9A3', 'SLC9A3R1', 'SLC9A3R2', 'SLCO1B1', 'SLCO1B3', 'SLCO1C1', 'SLCO2A1', 'SLCO2B1', 'SLFN11', 'SLFN5', 'SLIT2', 'SLIT3', 'SLITRK1', 'SLITRK2', 'SLITRK4', 'SLITRK5', 'SLMAP', 'SMAD1', 'SMAD2', 'SMAD3', 'SMAD4', 'SMAD7', 'SMAP2', 'SMARCA1', 'SMARCA2', 'SMARCA4', 'SMARCA5', 'SMARCAD1', 'SMARCAL1', 'SMARCB1', 'SMARCC1', 'SMARCE1', 'SMC1A', 'SMC3', 'SMC4', 'SMCHD1', 'SMN1', 'SMN2', 'SMO', 'SMOC1', 'SMOC2', 'SMOX', 'SMPD1', 'SMPD3', 'SMPDL3B', 'SMTN', 'SMURF1', 'SMURF2', 'SMYD3', 'SNAI1', 'SNAI2', 'SNAP23', 'SNAP25', 'SNAP47', 'SNCA', 'SND1', 'SNHG1', 'SNHG11', 'SNHG15', 'SNHG17', 'SNHG8', 'SNRNP200', 'SNRPB', 'SNRPD1', 'SNRPD3', 'SNTB2', 'SNTG2', 'SNURF', 'SNX1', 'SNX10', 'SNX11', 'SNX15', 'SNX16', 'SNX17', 'SNX19', 'SNX27', 'SNX29', 'SNX30', 'SNX33', 'SNX4', 'SNX8', 'SOAT1', 'SOCS1', 'SOCS2', 'SOCS3', 'SOD1', 'SOD3', 'SOHLH2', 'SORCS1', 'SORCS2', 'SORD', 'SORL1', 'SORT1', 'SOS1', 'SOST', 'SOSTDC1', 'SOX1', 'SOX10', 'SOX11', 'SOX14', 'SOX17', 'SOX18', 'SOX2', 'SOX2-OT', 'SOX21', 'SOX30', 'SOX5', 'SOX6', 'SOX8', 'SOX9', 'SP1', 'SP110', 'SP140', 'SP3', 'SP9', 'SPA17', 'SPAAR', 'SPAG1', 'SPAG17', 'SPAG5', 'SPAG6', 'SPAG8', 'SPANXB1', 'SPART', 'SPATA16', 'SPATA18', 'SPATA22', 'SPATA4', 'SPATA5', 'SPATA5L1', 'SPATA7', 'SPATS2', 'SPATS2L', 'SPDYA', 'SPECC1', 'SPECC1L', 'SPHK1', 'SPI1', 'SPIB', 'SPICE1', 'SPIN1', 'SPIN2A', 'SPIN3', 'SPINK7', 'SPN', 'SPO11', 'SPOCK1', 'SPON1', 'SPON2', 'SPPL2A', 'SPRR3', 'SPRY2', 'SPRYD7', 'SPTA1', 'SPTBN1', 'SPZ1', 'SQLE', 'SQSTM1', 'SRA1', 'SRC', 'SRCAP', 'SRCIN1', 'SRD5A1', 'SRD5A2', 'SRD5A3', 'SREBF1', 'SREBF2', 'SRF', 'SRFBP1', 'SRI', 'SRPK1', 'SRPX', 'SRSF1', 'SRSF2', 'SRY', 'SS18', 'SSB', 'SSBP3', 'SSRP1', 'SSTR1', 'SSTR2', 'SSTR3', 'SSTR4', 'SSTR5', 'SSX1', 'SSX2', 'SSX2IP', 'SSX4', 'ST14', 'ST6GAL1', 'STAB1', 'STAC3', 'STAP1', 'STAR', 'STAT1', 'STAT2', 'STAT3', 'STAT4', 'STAT5A', 'STAT5B', 'STAT6', 'STAU1', 'STAU2', 'STC2', 'STEAP1', 'STEAP4', 'STH', 'STIL', 'STIM1', 'STIM2', 'STK11', 'STK16', 'STK3', 'STK31', 'STK32A', 'STK32C', 'STK33', 'STK35', 'STK39', 'STK4', 'STK40', 'STMN1', 'STMN2', 'STMN3', 'STOML1', 'STRIP1', 'STRIP2', 'STRN3', 'STRN4', 'STS', 'STUB1', 'STX11', 'STX1A', 'STX7', 'STXBP4', 'STXBP5', 'STYK1', 'SUGCT', 'SUGP2', 'SULF1', 'SULF2', 'SULT1A1', 'SULT2A1', 'SUMO1', 'SUMO4', 'SUPV3L1', 'SURF6', 'SUV39H1', 'SV2C', 'SVEP1', 'SVIL', 'SWT1', 'SYCP1', 'SYK', 'SYNCRIP', 'SYNGR3', 'SYNM', 'SYNPO2', 'SYNRG', 'SYP', 'SYT16', 'SYTL2', 'SYVN1', 'TAB1', 'TAB2', 'TAC1', 'TAC3', 'TAC4', 'TACC2', 'TACR1', 'TACR2', 'TACR3', 'TADA2A', 'TAF1', 'TAFA4', 'TAFA5', 'TAL1', 'TAL2', 'TANGO2', 'TAP1', 'TAP2', 'TARDBP', 'TAS2R38', 'TASOR', 'TASOR2', 'TBC1D10C', 'TBC1D22B', 'TBC1D30', 'TBC1D8B', 'TBCK', 'TBK1', 'TBL1Y', 'TBL2', 'TBP', 'TBR1', 'TBRG4', 'TBX15', 'TBX19', 'TBX2', 'TBX21', 'TBX3', 'TBX4', 'TBX5', 'TBXA2R', 'TBXAS1', 'TC2N', 'TCEA3', 'TCEANC', 'TCEANC2', 'TCERG1L', 'TCF20', 'TCF21', 'TCF3', 'TCF4', 'TCF7', 'TCF7L2', 'TCFL5', 'TCIM', 'TCL1A', 'TCOF1', 'TCP1', 'TDGF1', 'TDO2', 'TDRD3', 'TDRD7', 'TEC', 'TECPR1', 'TEDC1', 'TEFM', 'TEK', 'TEKT1', 'TEKT3', 'TEKT4', 'TELO2', 'TENT5B', 'TENT5C', 'TERF1', 'TERF2', 'TERT', 'TES', 'TESK2', 'TET1', 'TET2', 'TEX11', 'TEX14', 'TEX30', 'TEX35', 'TFAM', 'TFAP2A', 'TFAP2B', 'TFE3', 'TFEB', 'TFPI', 'TFPI2', 'TFR2', 'TFRC', 'TG', 'TGFA', 'TGFB1', 'TGFB1I1', 'TGFB2', 'TGFB3', 'TGFBR1', 'TGFBR2', 'TGFBR3', 'TGM1', 'TGM2', 'TGM3', 'TGM4', 'TGM6', 'TH', 'THAP11', 'THAP2', 'THAP3', 'THBD', 'THBS1', 'THBS2', 'THEM6', 'THEMIS', 'THEMIS2', 'THPO', 'THRA', 'THRB', 'THSD4', 'THUMPD3', 'THY1', 'THYN1', 'TIAM1', 'TIAM2', 'TICAM1', 'TICAM2', 'TICRR', 'TIE1', 'TIGD5', 'TIGIT', 'TIMD4', 'TIMM29', 'TIMM50', 'TIMP2', 'TIMP3', 'TIMP4', 'TINAG', 'TINAGL1', 'TIPARP', 'TIRAP', 'TJP1', 'TJP2', 'TK1', 'TKT', 'TKTL1', 'TLE6', 'TLK1', 'TLK2', 'TLR1', 'TLR10', 'TLR2', 'TLR3', 'TLR4', 'TLR5', 'TLR6', 'TLR7', 'TLR8', 'TLR9', 'TM4SF5', 'TM6SF2', 'TM9SF4', 'TMA16', 'TMBIM4', 'TMEFF2', 'TMEM100', 'TMEM101', 'TMEM106B', 'TMEM109', 'TMEM119', 'TMEM120B', 'TMEM123', 'TMEM126A', 'TMEM130', 'TMEM14C', 'TMEM164', 'TMEM173', 'TMEM185A', 'TMEM192', 'TMEM200A', 'TMEM201', 'TMEM209', 'TMEM237', 'TMEM255B', 'TMEM33', 'TMEM39A', 'TMEM43', 'TMEM45A', 'TMEM45B', 'TMEM97', 'TMEM98', 'TMEM9B', 'TMIGD2', 'TMPO', 'TMPRSS11E', 'TMPRSS13', 'TMPRSS2', 'TMPRSS6', 'TMTC3', 'TMTC4', 'TMUB2', 'TMX1', 'TMX2', 'TNC', 'TNF', 'TNFAIP8', 'TNFRSF10A', 'TNFRSF10B', 'TNFRSF10C', 'TNFRSF10D', 'TNFRSF11A', 'TNFRSF11B', 'TNFRSF12A', 'TNFRSF13B', 'TNFRSF13C', 'TNFRSF14', 'TNFRSF17', 'TNFRSF18', 'TNFRSF1A', 'TNFRSF1B', 'TNFRSF21', 'TNFRSF6B', 'TNFRSF8', 'TNFRSF9', 'TNFSF10', 'TNFSF11', 'TNFSF12', 'TNFSF13', 'TNFSF13B', 'TNFSF14', 'TNFSF15', 'TNFSF18', 'TNFSF4', 'TNFSF8', 'TNFSF9', 'TNIP1', 'TNK2', 'TNKS', 'TNMD', 'TNNI3', 'TNNT2', 'TNPO3', 'TNR', 'TNS2', 'TNS4', 'TNXB', 'TOLLIP', 'TOM1L2', 'TOMM34', 'TOMM40', 'TONSL', 'TOP1', 'TOP1MT', 'TOP2A', 'TOP2B', 'TOP3B', 'TOPBP1', 'TOR1A', 'TOR3A', 'TOX', 'TOX2', 'TOX4', 'TP53', 'TP53BP1', 'TP53BP2', 'TP63', 'TP73', 'TPBG', 'TPCN1', 'TPH1', 'TPH2', 'TPMT', 'TPPP', 'TPPP3', 'TPSG1', 'TPTE', 'TPX2', 'TRAC', 'TRAF1', 'TRAF2', 'TRAF3', 'TRAF3IP2', 'TRAF3IP3', 'TRAF4', 'TRAF5', 'TRAF6', 'TRAFD1', 'TRAP1', 'TRBC1', 'TRDC', 'TREM1', 'TREM2', 'TREML2', 'TREX1', 'TREX2', 'TRH', 'TRHR', 'TRIB1', 'TRIB2', 'TRIB3', 'TRIM21', 'TRIM23', 'TRIM25', 'TRIM27', 'TRIM28', 'TRIM29', 'TRIM47', 'TRIM5', 'TRIM55', 'TRIM65', 'TRIM66', 'TRIM67', 'TRIP13', 'TRMT1L', 'TRMT2A', 'TRO', 'TRPA1', 'TRPC1', 'TRPC3', 'TRPC4', 'TRPC5', 'TRPC6', 'TRPC7', 'TRPM1', 'TRPM2', 'TRPM3', 'TRPM4', 'TRPM6', 'TRPM7', 'TRPM8', 'TRPS1', 'TRPV1', 'TRPV4', 'TRPV6', 'TRRAP', 'TRUB1', 'TSBP1', 'TSC1', 'TSC2', 'TSG101', 'TSHR', 'TSHZ1', 'TSLP', 'TSNAXIP1', 'TSPAN10', 'TSPAN12', 'TSPAN13', 'TSPAN14', 'TSPAN18', 'TSPAN3', 'TSPAN31', 'TSPAN4', 'TSPAN7', 'TSPAN8', 'TSPAN9', 'TSPO', 'TSPOAP1', 'TSPY1', 'TSPYL5', 'TSSC4', 'TSSK1B', 'TSSK3', 'TTC12', 'TTC23', 'TTC23L', 'TTC4', 'TTC9C', 'TTI1', 'TTK', 'TTPA', 'TUBA4A', 'TUBB', 'TUBB2A', 'TUBB2B', 'TUBB3', 'TUBB4A', 'TUBB6', 'TUBD1', 'TUBG1', 'TUFM', 'TUSC2', 'TWIST1', 'TWIST2', 'TWSG1', 'TXK', 'TXNDC16', 'TXNDC9', 'TXNRD1', 'TYK2', 'TYMP', 'TYMS', 'TYRO3', 'U2AF1', 'U2AF2', 'UBA1', 'UBAP2', 'UBAP2L', 'UBASH3A', 'UBASH3B', 'UBD', 'UBE2C', 'UBE2D1', 'UBE2D2', 'UBE2D3', 'UBE2I', 'UBE2L3', 'UBE2T', 'UBE3A', 'UBE4B', 'UBR3', 'UBR5', 'UBTF', 'UCA1', 'UCHL1', 'UCN', 'UCP2', 'UEVLD', 'UFC1', 'UGDH', 'UGT1A1', 'UGT1A4', 'UGT1A9', 'UGT2B17', 'UGT2B7', 'UHRF1', 'ULBP2', 'ULK1', 'ULK2', 'UMOD', 'UMPS', 'UNC119', 'UNC13A', 'UNC45A', 'UNC5A', 'UNG', 'UPF1', 'UPK1A', 'UPK2', 'UPK3A', 'UPK3B', 'UQCC1', 'UQCC3', 'URB1', 'URGCP', 'USF1', 'USP10', 'USP11', 'USP27X', 'USP29', 'USP32', 'USP36', 'USP38', 'USP5', 'USP53', 'USP6', 'USP7', 'USP9Y', 'UTP23', 'UTRN', 'UTS2', 'VAMP3', 'VAMP5', 'VAPB', 'VASP', 'VAV1', 'VAV3', 'VAX1', 'VCAM1', 'VCL', 'VDAC1', 'VDAC2', 'VDR', 'VEGFA', 'VEGFB', 'VEGFC', 'VEGFD', 'VGF', 'VGLL3', 'VHL', 'VIP', 'VIPR1', 'VIPR2', 'VLDLR', 'VPS13A', 'VPS13B', 'VPS35', 'VPS37B', 'VPS4A', 'VPS50', 'VSIG4', 'VSIR', 'VSNL1', 'VSTM1', 'VSTM2B', 'VSTM2L', 'VSX2', 'VTCN1', 'VWA8', 'WAPL', 'WARS', 'WAS', 'WASHC2A', 'WASHC3', 'WASHC4', 'WASL', 'WBP2', 'WDFY3', 'WDFY4', 'WDHD1', 'WDR12', 'WDR26', 'WDR37', 'WDR5', 'WDR55', 'WDR72', 'WDR74', 'WDR77', 'WDR81', 'WDR90', 'WEE1', 'WEE2', 'WFDC1', 'WFS1', 'WNT1', 'WNT2', 'WNT3', 'WNT3A', 'WNT4', 'WNT5A', 'WNT5B', 'WNT9A', 'WRAP73', 'WRN', 'WT1', 'WWC1', 'WWOX', 'WWP1', 'WWP2', 'WWTR1', 'XBP1', 'XCL2', 'XCR1', 'XDH', 'XIAP', 'XIRP1', 'XPA', 'XPC', 'XPNPEP1', 'XPNPEP3', 'XPO1', 'XPO5', 'XPO6', 'XPO7', 'XPR1', 'XRCC1', 'XRCC2', 'XRCC3', 'XRCC4', 'XRCC5', 'XRCC6', 'YAP1', 'YES1', 'YIF1B', 'YIPF1', 'YIPF5', 'YJEFN3', 'YLPM1', 'YTHDC2', 'YTHDF1', 'YTHDF3', 'YWHAQ', 'YWHAZ', 'YY1', 'YY1AP1', 'ZAN', 'ZAP70', 'ZBED9', 'ZBP1', 'ZBTB1', 'ZBTB10', 'ZBTB16', 'ZBTB21', 'ZBTB25', 'ZBTB3', 'ZBTB33', 'ZBTB4', 'ZBTB40', 'ZBTB48', 'ZBTB49', 'ZC2HC1A', 'ZC3H12A', 'ZC3H12D', 'ZC3H18', 'ZC3H7A', 'ZC3HAV1L', 'ZC4H2', 'ZCCHC10', 'ZCCHC17', 'ZCCHC2', 'ZCCHC3', 'ZCCHC8', 'ZDHHC17', 'ZDHHC22', 'ZEB1', 'ZEB2', 'ZER1', 'ZFAND5', 'ZFAT', 'ZFHX3', 'ZFHX4', 'ZFP57', 'ZFPL1', 'ZFX', 'ZFYVE1', 'ZFYVE21', 'ZFYVE26', 'ZGRF1', 'ZHX3', 'ZIC2', 'ZIC4', 'ZMIZ1', 'ZMIZ2', 'ZMPSTE24', 'ZMYM1', 'ZMYM3', 'ZMYND10', 'ZMYND19', 'ZNF106', 'ZNF142', 'ZNF165', 'ZNF177', 'ZNF232', 'ZNF280C', 'ZNF281', 'ZNF296', 'ZNF326', 'ZNF341', 'ZNF346', 'ZNF395', 'ZNF408', 'ZNF410', 'ZNF449', 'ZNF451', 'ZNF469', 'ZNF512', 'ZNF592', 'ZNF608', 'ZNF639', 'ZNF683', 'ZNF687', 'ZNF76', 'ZNF768', 'ZNF8', 'ZNF804A', 'ZNF827', 'ZNF829', 'ZPR1', 'ZSCAN1', 'ZSCAN12', 'ZSCAN16', 'ZSCAN20', 'ZSCAN26', 'ZSWIM6', 'ZUP1', 'ZYG11B', 'ZYX'], metadata={}, tags=[], local_path='/Users/erikstorrs/Downloads/temp_cache/a2938649bad747b6a22b7e42f58f3128.zarr.zip', path='a2938649bad747b6a22b7e42f58f3128.zarr.zip'), LayerMetadata(id='548064c2-c70b-4e61-bc5c-208ac4c83b22', version='v0.0.1', layer_id='e591e737-0901-4aa7-9bba-7e6f82a87bc5', name='counts', metadata_type=<MetadataTypeEnum.continuous: 'continuous'>, is_sparse=True, fields=['A2ML1', 'AAMP', 'AAR2', 'AARSD1', 'ABAT', 'ABCA1', 'ABCA3', 'ABCA4', 'ABCA7', 'ABCB1', 'ABCB4', 'ABCB6', 'ABCC1', 'ABCC12', 'ABCC2', 'ABCC3', 'ABCC4', 'ABCC6', 'ABCC8', 'ABCC9', 'ABCD1', 'ABCD3', 'ABCD4', 'ABCF3', 'ABCG1', 'ABCG2', 'ABHD11', 'ABHD6', 'ABI3', 'ABI3BP', 'ABL1', 'ABL2', 'ABO', 'ABTB1', 'ABTB2', 'ACAA2', 'ACACA', 'ACACB', 'ACAP1', 'ACAP2', 'ACAT1', 'ACE', 'ACE2', 'ACHE', 'ACKR3', 'ACLY', 'ACOD1', 'ACP5', 'ACPP', 'ACRBP', 'ACRV1', 'ACSL4', 'ACTBL2', 'ACTL6A', 'ACTL7A', 'ACTN1', 'ACTN2', 'ACTN4', 'ACVR1', 'ACVR1B', 'ACVR2A', 'ACVRL1', 'ACYP2', 'ADA', 'ADAM10', 'ADAM12', 'ADAM17', 'ADAM28', 'ADAM33', 'ADAM8', 'ADAM9', 'ADAMDEC1', 'ADAMTS1', 'ADAMTS12', 'ADAMTS19', 'ADAMTS2', 'ADAMTS4', 'ADAMTS5', 'ADAMTSL3', 'ADAR', 'ADCY2', 'ADCYAP1', 'ADCYAP1R1', 'ADD1', 'ADGRA1', 'ADGRA2', 'ADGRA3', 'ADGRB1', 'ADGRB2', 'ADGRD1', 'ADGRD2', 'ADGRE1', 'ADGRE2', 'ADGRE5', 'ADGRG5', 'ADGRG6', 'ADGRL1', 'ADGRL4', 'ADIPOQ', 'ADIPOR1', 'ADIPOR2', 'ADM', 'ADNP', 'ADORA1', 'ADORA2A', 'ADORA2B', 'ADORA3', 'ADRA1A', 'ADRA1B', 'ADRA1D', 'ADRA2A', 'ADRA2B', 'ADRA2C', 'ADRB1', 'ADRB2', 'ADRB3', 'ADTRP', 'AEBP1', 'AFAP1L2', 'AFF1', 'AFF2', 'AFG1L', 'AFM', 'AGAP1', 'AGAP3', 'AGER', 'AGMAT', 'AGO1', 'AGR3', 'AGRP', 'AGTR1', 'AGTR2', 'AGXT', 'AHCY', 'AHR', 'AHRR', 'AHSG', 'AICDA', 'AIF1L', 'AIFM1', 'AIM2', 'AIMP2', 'AIP', 'AIRE', 'AJAP1', 'AKAP11', 'AKAP4', 'AKAP8', 'AKR1B1', 'AKR1C3', 'AKT1', 'AKT2', 'AKT3', 'AKTIP', 'ALAD', 'ALCAM', 'ALDH1B1', 'ALDH2', 'ALDH3A2', 'ALDH7A1', 'ALDOA', 'ALG11', 'ALG13', 'ALG2', 'ALG6', 'ALG9', 'ALK', 'ALKBH5', 'ALOX12', 'ALOX15', 'ALOX5', 'ALPK1', 'ALPK3', 'ALPL', 'ALX1', 'ALYREF', 'AMACR', 'AMER1', 'AMFR', 'AMH', 'AMIGO1', 'AMIGO3', 'AMOT', 'ANAPC1', 'ANGPT1', 'ANGPT2', 'ANGPTL2', 'ANGPTL3', 'ANGPTL4', 'ANGPTL6', 'ANGPTL7', 'ANGPTL8', 'ANK1', 'ANKHD1', 'ANKK1', 'ANKRD13A', 'ANKRD13D', 'ANKRD17', 'ANKRD30A', 'ANKRD40', 'ANKRD44', 'ANKRD6', 'ANKS1A', 'ANKS6', 'ANKZF1', 'ANO1', 'ANO3', 'ANP32E', 'ANPEP', 'ANXA10', 'ANXA2', 'ANXA3', 'ANXA5', 'ANXA8', 'AOAH', 'AOC3', 'AOX1', 'AP1B1', 'AP1M1', 'AP1S3', 'AP2A1', 'AP2A2', 'AP2M1', 'AP3B2', 'AP3D1', 'AP3M2', 'AP5B1', 'APAF1', 'APC', 'APCDD1', 'APELA', 'APEX1', 'APEX2', 'APH1B', 'API5', 'APLF', 'APLN', 'APLNR', 'APMAP', 'APOB', 'APOBEC3B', 'APOBEC3C', 'APOBEC3D', 'APOBEC3F', 'APOBEC3G', 'APOL1', 'APOL2', 'APOL3', 'APOL6', 'APOM', 'APP', 'APPBP2', 'APTX', 'AQP4', 'AQP5', 'AQP7', 'AQP8', 'AQP9', 'AR', 'ARC', 'ARF1', 'ARF6', 'ARFIP1', 'ARG1', 'ARG2', 'ARHGAP35', 'ARHGAP36', 'ARHGEF2', 'ARHGEF7', 'ARID1A', 'ARID3B', 'ARL4D', 'ARL8B', 'ARMC5', 'ARMC7', 'ARMH3', 'ARNT', 'ARNTL', 'ARR3', 'ARRB1', 'ARRB2', 'ARRDC3', 'ART1', 'ART3', 'ART4', 'ARX', 'ASCC2', 'ASCC3', 'ASCL1', 'ASCL2', 'ASF1B', 'ASH2L', 'ASIC1', 'ASPM', 'ASPN', 'ASTN2', 'ASXL1', 'ATAD3A', 'ATF1', 'ATF2', 'ATF3', 'ATF4', 'ATF6', 'ATG10', 'ATG16L1', 'ATG2A', 'ATG5', 'ATG7', 'ATIC', 'ATL1', 'ATL2', 'ATL3', 'ATM', 'ATOH1', 'ATOH7', 'ATOH8', 'ATP10D', 'ATP13A2', 'ATP1A1', 'ATP2A2', 'ATP2B1', 'ATP5F1A', 'ATP5F1C', 'ATP6V1B1', 'ATP6V1H', 'ATP7A', 'ATP7B', 'ATPAF1', 'ATPSCKMT', 'ATR', 'ATRX', 'ATXN1', 'ATXN1L', 'ATXN2', 'ATXN2L', 'ATXN3', 'ATXN7L2', 'AUNIP', 'AURKA', 'AURKB', 'AURKC', 'AVPR1A', 'AVPR1B', 'AVPR2', 'AXIN1', 'AXIN2', 'AXL', 'B3GAT1', 'B4GAT1', 'BAALC', 'BAAT', 'BACE1', 'BACE2', 'BACH2', 'BAD', 'BAG2', 'BAG3', 'BAG6', 'BAIAP2', 'BAK1', 'BANK1', 'BAP1', 'BARD1', 'BARHL2', 'BARX2', 'BATF', 'BATF3', 'BAX', 'BAZ2B', 'BBC3', 'BCAM', 'BCAN', 'BCAR1', 'BCAR3', 'BCAR4', 'BCAS3', 'BCCIP', 'BCHE', 'BCKDK', 'BCL10', 'BCL11A', 'BCL11B', 'BCL2', 'BCL2A1', 'BCL2L1', 'BCL2L11', 'BCL2L12', 'BCL2L13', 'BCL2L2', 'BCL3', 'BCL6', 'BCL6B', 'BCL7B', 'BCL7C', 'BCOR', 'BCORL1', 'BCR', 'BDKRB1', 'BDKRB2', 'BDNF', 'BEAN1', 'BECN1', 'BEX2', 'BFSP1', 'BFSP2', 'BHMT', 'BICRAL', 'BID', 'BIK', 'BIRC2', 'BIRC5', 'BIRC7', 'BLK', 'BLM', 'BLNK', 'BLOC1S2', 'BLVRA', 'BMI1', 'BMP2', 'BMP2K', 'BMP4', 'BMP5', 'BMP6', 'BMP7', 'BMP8A', 'BMP8B', 'BMPER', 'BMPR1A', 'BMPR1B', 'BMPR2', 'BNC1', 'BNC2', 'BNIP3', 'BOLL', 'BRAF', 'BRCA1', 'BRCA2', 'BRD3', 'BRD4', 'BRDT', 'BRI3BP', 'BRINP1', 'BRIP1', 'BRIX1', 'BRSK2', 'BSDC1', 'BST1', 'BTAF1', 'BTBD9', 'BTK', 'BTLA', 'BTN3A1', 'BTNL2', 'BTRC', 'BUB1', 'BUB1B', 'BVES', 'C1QBP', 'C1QL3', 'C1QTNF1', 'C1QTNF6', 'C1QTNF9', 'C1RL', 'C3AR1', 'C4A', 'C4B', 'C5', 'C5AR1', 'C6', 'C8B', 'C8G', 'C9', 'CA10', 'CA12', 'CA14', 'CA4', 'CA9', 'CABCOCO1', 'CABP4', 'CABYR', 'CACNA1B', 'CACNA1C', 'CACNA1D', 'CACNA1G', 'CACNA1H', 'CACNA2D1', 'CACNG3', 'CACNG4', 'CACNG5', 'CACUL1', 'CACYBP', 'CAD', 'CADM3', 'CADM4', 'CALB1', 'CALB2', 'CALCA', 'CALCB', 'CALCR', 'CALCRL', 'CALM3', 'CALML3', 'CALR3', 'CAMK1', 'CAMK2A', 'CAMK2B', 'CAMK2D', 'CAMK2G', 'CAMKV', 'CAMP', 'CAMSAP2', 'CAND1', 'CANX', 'CAPN1', 'CAPN3', 'CARD10', 'CARD11', 'CARD14', 'CARD8', 'CARD9', 'CARF', 'CARM1', 'CARTPT', 'CASC8', 'CASK', 'CASP1', 'CASP10', 'CASP2', 'CASP3', 'CASP6', 'CASP7', 'CASP8', 'CASP8AP2', 'CASP9', 'CASQ2', 'CASR', 'CASS4', 'CASZ1', 'CAT', 'CATSPER2', 'CAV2', 'CAVIN2', 'CAVIN3', 'CBARP', 'CBFB', 'CBL', 'CBLB', 'CBLIF', 'CBLN1', 'CBLN3', 'CBLN4', 'CBR1', 'CBS', 'CBSL', 'CBWD2', 'CBX1', 'CBX3', 'CBX5', 'CBX7', 'CC2D1A', 'CCAR2', 'CCAT2', 'CCBE1', 'CCDC102B', 'CCDC103', 'CCDC113', 'CCDC124', 'CCDC136', 'CCDC137', 'CCDC14', 'CCDC141', 'CCDC170', 'CCDC27', 'CCDC33', 'CCDC43', 'CCDC50', 'CCDC51', 'CCDC57', 'CCDC6', 'CCDC61', 'CCDC62', 'CCDC7', 'CCDC77', 'CCDC80', 'CCDC86', 'CCDC9', 'CCDC91', 'CCK', 'CCKAR', 'CCKBR', 'CCL1', 'CCL11', 'CCL13', 'CCL14', 'CCL15', 'CCL16', 'CCL17', 'CCL18', 'CCL19', 'CCL20', 'CCL22', 'CCL23', 'CCL24', 'CCL25', 'CCL26', 'CCL27', 'CCL28', 'CCL7', 'CCL8', 'CCN1', 'CCN2', 'CCN3', 'CCN4', 'CCN5', 'CCNA1', 'CCNA2', 'CCNB1', 'CCNB2', 'CCNB3', 'CCND1', 'CCND2', 'CCND3', 'CCNDBP1', 'CCNE1', 'CCNO', 'CCNT1', 'CCNY', 'CCR1', 'CCR2', 'CCR3', 'CCR4', 'CCR5', 'CCR6', 'CCR7', 'CCR8', 'CCR9', 'CCRL2', 'CCT2', 'CCT3', 'CCT5', 'CCT6A', 'CCT7', 'CCT8', 'CD101', 'CD109', 'CD14', 'CD151', 'CD160', 'CD163', 'CD177', 'CD180', 'CD19', 'CD1A', 'CD1B', 'CD1C', 'CD1D', 'CD1E', 'CD2', 'CD200', 'CD207', 'CD209', 'CD22', 'CD226', 'CD244', 'CD247', 'CD248', 'CD27', 'CD274', 'CD276', 'CD28', 'CD2AP', 'CD2BP2', 'CD300A', 'CD300C', 'CD300E', 'CD302', 'CD320', 'CD33', 'CD34', 'CD36', 'CD38', 'CD3E', 'CD3EAP', 'CD3G', 'CD4', 'CD40', 'CD40LG', 'CD44', 'CD46', 'CD47', 'CD5', 'CD55', 'CD58', 'CD59', 'CD5L', 'CD6', 'CD68', 'CD7', 'CD70', 'CD72', 'CD79A', 'CD79B', 'CD80', 'CD82', 'CD83', 'CD84', 'CD86', 'CD8A', 'CD8B', 'CD93', 'CD96', 'CD99', 'CDA', 'CDAN1', 'CDC123', 'CDC14A', 'CDC20', 'CDC25A', 'CDC25C', 'CDC27', 'CDC34', 'CDC37', 'CDC42', 'CDC42BPG', 'CDC6', 'CDC73', 'CDCA2', 'CDCA3', 'CDCA7L', 'CDCP1', 'CDH1', 'CDH11', 'CDH13', 'CDH16', 'CDH2', 'CDH22', 'CDH23', 'CDH3', 'CDH5', 'CDH6', 'CDH7', 'CDHR1', 'CDHR2', 'CDK1', 'CDK10', 'CDK14', 'CDK16', 'CDK17', 'CDK18', 'CDK2', 'CDK3', 'CDK4', 'CDK5', 'CDK5RAP1', 'CDK6', 'CDK7', 'CDK8', 'CDK9', 'CDKAL1', 'CDKL1', 'CDKL3', 'CDKN1A', 'CDKN1B', 'CDKN1C', 'CDKN2A', 'CDKN2AIP', 'CDKN2B', 'CDKN3', 'CDR2L', 'CDSN', 'CDV3', 'CDX1', 'CDX2', 'CEACAM1', 'CEACAM3', 'CEACAM8', 'CEBPA', 'CELSR1', 'CELSR2', 'CELSR3', 'CEMIP2', 'CENPA', 'CENPB', 'CENPF', 'CENPV', 'CEP112', 'CEP128', 'CEP170', 'CEP19', 'CEP44', 'CEP55', 'CEP85', 'CES1', 'CETP', 'CFAP20', 'CFAP43', 'CFAP46', 'CFAP47', 'CFB', 'CFC1', 'CFDP1', 'CFH', 'CFHR1', 'CFL2', 'CFLAR', 'CFP', 'CFTR', 'CGAS', 'CGB3', 'CGNL1', 'CGRRF1', 'CH25H', 'CHAD', 'CHAF1A', 'CHAMP1', 'CHD3', 'CHD5', 'CHD7', 'CHEK1', 'CHEK2', 'CHFR', 'CHIT1', 'CHKA', 'CHODL', 'CHRAC1', 'CHRDL2', 'CHRM1', 'CHRM2', 'CHRM3', 'CHRM4', 'CHRM5', 'CHRNA2', 'CHRNA3', 'CHRNA4', 'CHRNA5', 'CHRNA6', 'CHRNA7', 'CHRNB1', 'CHRNB2', 'CHRNB3', 'CHRNB4', 'CHST8', 'CHUK', 'CIDEC', 'CIITA', 'CILP2', 'CINP', 'CIP2A', 'CISD2', 'CKAP2', 'CKAP4', 'CKAP5', 'CKS2', 'CLCN3', 'CLCN4', 'CLCN5', 'CLDN1', 'CLDN18', 'CLDN5', 'CLDN7', 'CLEC10A', 'CLEC12A', 'CLEC14A', 'CLEC16A', 'CLEC2A', 'CLEC4A', 'CLEC4C', 'CLEC4D', 'CLEC4M', 'CLEC5A', 'CLEC6A', 'CLEC7A', 'CLEC9A', 'CLGN', 'CLIC3', 'CLIC4', 'CLIC6', 'CLK2', 'CLK3', 'CLK4', 'CLN3', 'CLN5', 'CLNK', 'CLOCK', 'CLPTM1L', 'CLPX', 'CLSTN1', 'CLSTN3', 'CLTC', 'CMA1', 'CMKLR1', 'CMSS1', 'CMTM5', 'CMTM8', 'CMYA5', 'CNDP1', 'CNGB1', 'CNGB3', 'CNIH4', 'CNKSR3', 'CNMD', 'CNNM1', 'CNNM3', 'CNOT1', 'CNP', 'CNR1', 'CNR2', 'CNRIP1', 'CNST', 'CNTF', 'CNTLN', 'CNTN2', 'CNTN6', 'CNTNAP1', 'CNTNAP3', 'CNTNAP4', 'CNTROB', 'COASY', 'COBLL1', 'COCH', 'COIL', 'COL10A1', 'COL11A1', 'COL17A1', 'COL18A1', 'COL23A1', 'COL25A1', 'COL2A1', 'COL4A1', 'COL4A2', 'COL4A3', 'COL4A4', 'COL4A5', 'COL5A1', 'COL5A2', 'COL7A1', 'COLEC12', 'COLQ', 'COMP', 'COMT', 'COPS5', 'COQ8A', 'CORIN', 'CORO1B', 'CORO1C', 'CORT', 'CP', 'CPA4', 'CPA5', 'CPA6', 'CPB2', 'CPEB1', 'CPEB2', 'CPEB3', 'CPLX3', 'CPNE9', 'CPS1', 'CPSF6', 'CPT1A', 'CPVL', 'CPXM2', 'CPZ', 'CR1', 'CR2', 'CRB2', 'CREB1', 'CREB3', 'CREB5', 'CREBBP', 'CREG1', 'CREG2', 'CRH', 'CRHR1', 'CRHR2', 'CRIPT', 'CRK', 'CRKL', 'CRNDE', 'CRNN', 'CRTAC1', 'CRTAM', 'CRY2', 'CRYAA', 'CRYBB3', 'CRYBG1', 'CRYBG3', 'CRYGC', 'CRYGS', 'CRYZ', 'CRYZL1', 'CSE1L', 'CSF1', 'CSF1R', 'CSF2', 'CSF2RA', 'CSF2RB', 'CSF3', 'CSF3R', 'CSK', 'CSNK1A1', 'CSNK1A1L', 'CSNK1E', 'CSNK1G1', 'CSNK2A1', 'CSNK2A2', 'CSNK2B', 'CSPG4', 'CSPP1', 'CSRP1', 'CSRP3', 'CST1', 'CST2', 'CST4', 'CST5', 'CST7', 'CTAG1B', 'CTBP1', 'CTBP2', 'CTCF', 'CTCFL', 'CTDSPL', 'CTH', 'CTHRC1', 'CTLA4', 'CTNNA1', 'CTNNAL1', 'CTNNB1', 'CTNND1', 'CTNND2', 'CTRL', 'CTSA', 'CTSC', 'CTSG', 'CTSH', 'CTSK', 'CTSL', 'CTTN', 'CTTNBP2NL', 'CTXN3', 'CUBN', 'CUEDC2', 'CUL1', 'CUL2', 'CUL3', 'CUL4A', 'CUL4B', 'CUL5', 'CUTA', 'CUX2', 'CUZD1', 'CX3CL1', 'CX3CR1', 'CXADR', 'CXCL10', 'CXCL11', 'CXCL12', 'CXCL13', 'CXCL16', 'CXCL2', 'CXCL5', 'CXCL6', 'CXCL9', 'CXCR1', 'CXCR2', 'CXCR3', 'CXCR4', 'CXCR5', 'CXCR6', 'CYBA', 'CYBB', 'CYBC1', 'CYCS', 'CYFIP2', 'CYHR1', 'CYLD', 'CYP11A1', 'CYP11B2', 'CYP17A1', 'CYP19A1', 'CYP1A1', 'CYP1A2', 'CYP1B1', 'CYP20A1', 'CYP24A1', 'CYP27A1', 'CYP27B1', 'CYP2A6', 'CYP2C19', 'CYP2C8', 'CYP2C9', 'CYP2D6', 'CYP2J2', 'CYP3A5', 'CYP46A1', 'CYP4F2', 'CYP7A1', 'CYREN', 'CYSLTR1', 'CYSLTR2', 'CYTH2', 'CYTOR', 'DAB1', 'DAB2', 'DACH1', 'DACH2', 'DACT2', 'DAG1', 'DAO', 'DAOA', 'DAP', 'DAP3', 'DAPK1', 'DAXX', 'DAZAP1', 'DAZAP2', 'DAZL', 'DBN1', 'DBR1', 'DCAF1', 'DCDC1', 'DCLK1', 'DCT', 'DCTN1', 'DCX', 'DDB1', 'DDB2', 'DDC', 'DDI2', 'DDIT3', 'DDIT4L', 'DDR1', 'DDR2', 'DDX1', 'DDX10', 'DDX19A', 'DDX20', 'DDX21', 'DDX25', 'DDX27', 'DDX28', 'DDX31', 'DDX39B', 'DDX3X', 'DDX3Y', 'DDX43', 'DDX50', 'DDX51', 'DDX53', 'DDX55', 'DDX58', 'DDX6', 'DEFA1', 'DEFA6', 'DEFB103B', 'DEFB4A', 'DEK', 'DEPDC7', 'DEPTOR', 'DERL3', 'DGAT1', 'DHCR24', 'DHCR7', 'DHDDS', 'DHFR', 'DHODH', 'DHRS1', 'DHRS2', 'DHX29', 'DHX30', 'DHX34', 'DHX57', 'DHX9', 'DIABLO', 'DICER1', 'DIO2', 'DIP2A', 'DIP2B', 'DIRAS3', 'DIS3', 'DIS3L2', 'DISC1', 'DISP1', 'DKC1', 'DKK1', 'DKK3', 'DLD', 'DLEC1', 'DLEU1', 'DLEU2', 'DLG1', 'DLG4', 'DLK1', 'DLK2', 'DLL1', 'DLL3', 'DLL4', 'DLX4', 'DMBX1', 'DMD', 'DMKN', 'DMPK', 'DMRT2', 'DMWD', 'DMXL1', 'DMXL2', 'DNAH1', 'DNAH10', 'DNAH11', 'DNAH12', 'DNAH14', 'DNAH2', 'DNAH5', 'DNAH7', 'DNAH8', 'DNAH9', 'DNAI1', 'DNAJA1', 'DNAJA3', 'DNAJB12', 'DNAJB2', 'DNAJB4', 'DNAJB5', 'DNAJC10', 'DNAJC17', 'DNAJC9', 'DNASE1L3', 'DNM1', 'DNM2', 'DNMT1', 'DNMT3A', 'DNMT3B', 'DNPEP', 'DNTT', 'DOC2A', 'DOCK9', 'DOK5', 'DOK7', 'DOT1L', 'DPAGT1', 'DPF2', 'DPF3', 'DPM1', 'DPP4', 'DPP8', 'DPPA2', 'DPT', 'DPY19L2', 'DPYD', 'DPYSL2', 'DRAM1', 'DRC1', 'DRC3', 'DRD1', 'DRD2', 'DRD3', 'DRD5', 'DRG1', 'DSG1', 'DSG2', 'DSG3', 'DST', 'DTNA', 'DTNBP1', 'DTX1', 'DUOX2', 'DUOXA1', 'DUOXA2', 'DUSP13', 'DUSP23', 'DUSP28', 'DUSP5', 'DUSP6', 'DUX4', 'DVL1', 'DVL2', 'DVL3', 'DYDC1', 'DYNC1H1', 'DYRK1A', 'DYRK1B', 'DZIP1L', 'E2F1', 'E2F3', 'E2F4', 'E4F1', 'EBF1', 'EBF2', 'EBI3', 'EBP', 'ECD', 'ECE1', 'ECEL1', 'ECHDC1', 'ECHS1', 'ECPAS', 'ECRG4', 'ECSIT', 'EDA', 'EDIL3', 'EDN1', 'EDNRA', 'EDNRB', 'EDRF1', 'EED', 'EEF1A2', 'EEF1AKNMT', 'EEF1G', 'EFHC1', 'EFHC2', 'EFNB2', 'EFR3A', 'EFR3B', 'EFS', 'EFTUD2', 'EGF', 'EGFL6', 'EGFL7', 'EGFL8', 'EGFR', 'EGLN1', 'EGLN3', 'EGR2', 'EGR3', 'EGR4', 'EHBP1', 'EHF', 'EHMT1', 'EHMT2', 'EID1', 'EIF1AD', 'EIF1AY', 'EIF1B', 'EIF2AK2', 'EIF2AK3', 'EIF2AK4', 'EIF2S1', 'EIF3A', 'EIF3C', 'EIF4A1', 'EIF4A3', 'EIF4E', 'EIF4EBP1', 'EIF4EBP2', 'EIF4EBP3', 'EIF4ENIF1', 'EIF4G1', 'EIF5A', 'EIF5AL1', 'EIPR1', 'ELAC1', 'ELAC2', 'ELANE', 'ELAVL1', 'ELF4', 'ELFN1', 'ELK1', 'ELK3', 'ELK4', 'ELMOD1', 'ELMOD2', 'ELN', 'ELOB', 'ELOC', 'ELSPBP1', 'EMC1', 'EMC4', 'EMD', 'EMP1', 'EMP2', 'EMSY', 'EMX2', 'EN1', 'EN2', 'ENG', 'ENKUR', 'ENO2', 'ENOSF1', 'ENOX1', 'ENOX2', 'ENPEP', 'ENPP1', 'ENPP2', 'ENPP3', 'ENTPD1', 'ENTPD2', 'EOMES', 'EP300', 'EPAS1', 'EPB41L3', 'EPCAM', 'EPDR1', 'EPG5', 'EPHA1', 'EPHA10', 'EPHA2', 'EPHA3', 'EPHA4', 'EPHA7', 'EPHA8', 'EPHB1', 'EPHB2', 'EPHB4', 'EPHB6', 'EPHX1', 'EPHX2', 'EPM2AIP1', 'EPO', 'EPOR', 'EPRS', 'EPS8L3', 'ERAP1', 'ERAS', 'ERBB2', 'ERBB3', 'ERC1', 'ERCC1', 'ERCC2', 'ERCC3', 'ERCC4', 'ERCC5', 'ERCC6', 'EREG', 'ERFE', 'ERG', 'ERG28', 'ERGIC2', 'ERLIN2', 'ERMAP', 'ERN1', 'ERP27', 'ERRFI1', 'ERVFRD-1', 'ESF1', 'ESM1', 'ESR1', 'ESR2', 'ESRRA', 'ESRRG', 'ETS1', 'ETV1', 'ETV3', 'ETV5', 'ETV6', 'EVI2B', 'EVI5', 'EWSR1', 'EXO1', 'EXOSC10', 'EYA1', 'EYA4', 'EZH1', 'EZH2', 'EZHIP', 'F11', 'F11R', 'F12', 'F13A1', 'F2', 'F2R', 'F2RL1', 'F2RL3', 'F5', 'F7', 'F8', 'FAAH', 'FABP2', 'FABP3', 'FABP7', 'FADD', 'FADS1', 'FADS2', 'FAF1', 'FAF2', 'FAIM', 'FAIM2', 'FAM107A', 'FAM110A', 'FAM117B', 'FAM126B', 'FAM131C', 'FAM161A', 'FAM168A', 'FAM193A', 'FAM3A', 'FAM53C', 'FAM76B', 'FAM98A', 'FAM9B', 'FANCA', 'FANCC', 'FANCD2', 'FANCI', 'FAP', 'FAR1', 'FAS', 'FASLG', 'FASN', 'FAT1', 'FAT2', 'FAT3', 'FAT4', 'FBL', 'FBLN2', 'FBLN5', 'FBP1', 'FBXO16', 'FBXO25', 'FBXO33', 'FBXO42', 'FBXO43', 'FBXO45', 'FBXW11', 'FBXW7', 'FCAR', 'FCER1A', 'FCER2', 'FCGBP', 'FCGR1A', 'FCGR2A', 'FCGR2B', 'FCGR3A', 'FCGR3B', 'FCMR', 'FCN1', 'FCN2', 'FCRL1', 'FCRL2', 'FCRL3', 'FCRL4', 'FCRL5', 'FCRLA', 'FDFT1', 'FDPS', 'FDX1', 'FECH', 'FEN1', 'FENDRR', 'FER', 'FERMT3', 'FES', 'FETUB', 'FEV', 'FEZ1', 'FEZF1', 'FEZF2', 'FFAR1', 'FGF1', 'FGF10', 'FGF13', 'FGF19', 'FGF2', 'FGF21', 'FGF23', 'FGF4', 'FGF7', 'FGF9', 'FGFBP2', 'FGFR1', 'FGFR2', 'FGFR3', 'FGFR4', 'FGR', 'FH', 'FHAD1', 'FHL1', 'FHL2', 'FHL3', 'FHOD1', 'FIBCD1', 'FIBP', 'FILIP1L', 'FIP1L1', 'FKBP11', 'FKBP15', 'FKTN', 'FLCN', 'FLI1', 'FLII', 'FLNB', 'FLNC', 'FLOT2', 'FLRT3', 'FLT3', 'FLT3LG', 'FLT4', 'FLYWCH1', 'FMC1', 'FMN1', 'FMN2', 'FMO3', 'FMO5', 'FMOD', 'FN3KRP', 'FNDC3A', 'FNDC3B', 'FNDC5', 'FNTA', 'FOLH1', 'FOLR1', 'FOLR2', 'FOSL1', 'FOXA1', 'FOXA2', 'FOXB1', 'FOXC1', 'FOXC2', 'FOXD2', 'FOXE1', 'FOXE3', 'FOXF1', 'FOXG1', 'FOXI1', 'FOXJ1', 'FOXJ2', 'FOXL2', 'FOXM1', 'FOXN1', 'FOXO1', 'FOXO3', 'FOXO4', 'FOXP1', 'FOXP2', 'FOXP3', 'FOXP4', 'FOXRED1', 'FPR1', 'FPR2', 'FRA10AC1', 'FRAS1', 'FREM1', 'FREM2', 'FRMD6', 'FRMD7', 'FRZB', 'FSCN1', 'FSHR', 'FSIP1', 'FST', 'FSTL1', 'FSTL3', 'FTO', 'FUBP3', 'FUCA1', 'FURIN', 'FUS', 'FUT2', 'FUT3', 'FUT4', 'FUT7', 'FUT8', 'FXR2', 'FXYD7', 'FYN', 'FZD1', 'FZD10', 'FZD3', 'FZD4', 'FZD6', 'FZD9', 'FZR1', 'G6PD', 'GAA', 'GAB1', 'GAB2', 'GABBR1', 'GABBR2', 'GABRA1', 'GABRA2', 'GABRA3', 'GABRA4', 'GABRA5', 'GABRA6', 'GABRB2', 'GABRB3', 'GABRD', 'GABRG1', 'GABRG2', 'GABRG3', 'GABRP', 'GABRQ', 'GABRR3', 'GAD1', 'GAD2', 'GADD45A', 'GADD45G', 'GAGE1', 'GAL', 'GALE', 'GALK1', 'GALNS', 'GALP', 'GALR1', 'GANAB', 'GANC', 'GAP43', 'GART', 'GAS2L1', 'GAS6', 'GATA1', 'GATA2', 'GATA3', 'GATA4', 'GATA6', 'GBA', 'GBE1', 'GBF1', 'GBP1', 'GBP5', 'GBX2', 'GCGR', 'GCH1', 'GCKR', 'GCLM', 'GCM1', 'GCN1', 'GCNT2', 'GCNT4', 'GDA', 'GDF11', 'GDF15', 'GDF2', 'GDF3', 'GDF5', 'GDF6', 'GDF7', 'GDF9', 'GDNF', 'GFPT1', 'GGT1', 'GH1', 'GHITM', 'GHR', 'GHSR', 'GIGYF1', 'GIMAP4', 'GIMAP5', 'GIMAP8', 'GIPC1', 'GIPC2', 'GJA1', 'GJA5', 'GJB1', 'GJB6', 'GJC1', 'GKN1', 'GLA', 'GLB1', 'GLCCI1', 'GLDN', 'GLI1', 'GLI2', 'GLI3', 'GLIPR2', 'GLOD4', 'GLP1R', 'GLRA1', 'GLRA2', 'GLRA3', 'GLRB', 'GLS', 'GLS2', 'GLT8D2', 'GLUD1', 'GLYR1', 'GMDS', 'GMEB1', 'GMEB2', 'GMFB', 'GMPS', 'GNA11', 'GNAI1', 'GNAI2', 'GNAO1', 'GNAQ', 'GNAT3', 'GNB1L', 'GNB3', 'GNL2', 'GNPAT', 'GNRH1', 'GNRHR', 'GNS', 'GOLGA2', 'GOLPH3', 'GORAB', 'GOT1', 'GP1BA', 'GP5', 'GP6', 'GPATCH11', 'GPBP1', 'GPBP1L1', 'GPER1', 'GPHN', 'GPN1', 'GPN2', 'GPR1', 'GPR101', 'GPR12', 'GPR135', 'GPR137', 'GPR139', 'GPR149', 'GPR158', 'GPR162', 'GPR17', 'GPR174', 'GPR22', 'GPR26', 'GPR3', 'GPR34', 'GPR37', 'GPR37L1', 'GPR39', 'GPR4', 'GPR55', 'GPR63', 'GPR83', 'GPR85', 'GPR88', 'GPRASP1', 'GPRASP2', 'GPRC5B', 'GPRC5C', 'GPRIN2', 'GPT', 'GRAMD1A', 'GRAMD2B', 'GRB2', 'GREB1L', 'GREM1', 'GREM2', 'GRHL2', 'GRIA1', 'GRIA2', 'GRID1', 'GRIK3', 'GRIK4', 'GRIK5', 'GRIN1', 'GRIN2B', 'GRIN2C', 'GRIN2D', 'GRK2', 'GRK5', 'GRM1', 'GRM2', 'GRM3', 'GRM4', 'GRM5', 'GRM7', 'GRN', 'GRP', 'GRPR', 'GRWD1', 'GSDMB', 'GSDMC', 'GSE1', 'GSK3A', 'GSK3B', 'GSR', 'GSS', 'GSTM1', 'GSTM3', 'GSTO1', 'GSTZ1', 'GSX2', 'GTF2A1L', 'GTF2I', 'GTF3C1', 'GTPBP1', 'GTPBP10', 'GTPBP4', 'GUCA1A', 'GUCY1A2', 'GUCY2C', 'GUCY2D', 'GUSB', 'GXYLT2', 'GYG2', 'GYPA', 'GYPB', 'GYS1', 'GZMA', 'GZMB', 'GZMH', 'GZMK', 'H19', 'H2AFX', 'H3F3B', 'HABP2', 'HADHA', 'HADHB', 'HAMP', 'HAP1', 'HAS2', 'HAVCR1', 'HAVCR2', 'HAX1', 'HBEGF', 'HBG1', 'HBS1L', 'HBZ', 'HCAR2', 'HCAR3', 'HCFC1', 'HCK', 'HCN2', 'HCN3', 'HCN4', 'HCRT', 'HCRTR1', 'HCRTR2', 'HDAC1', 'HDAC10', 'HDAC2', 'HDAC3', 'HDAC4', 'HDAC5', 'HDAC6', 'HDAC8', 'HDAC9', 'HDC', 'HEATR3', 'HEATR5A', 'HEATR5B', 'HEATR6', 'HECA', 'HECTD4', 'HELLS', 'HEPACAM', 'HERC2', 'HERC6', 'HES1', 'HES4', 'HES6', 'HESX1', 'HEXA', 'HEXB', 'HEXIM1', 'HEY1', 'HFE', 'HGF', 'HGH1', 'HGS', 'HHEX', 'HHLA2', 'HIF1A', 'HIPK2', 'HIPK3', 'HIVEP2', 'HK1', 'HK2', 'HLX', 'HMCN1', 'HMGA1', 'HMGA2', 'HMGB2', 'HMGB3', 'HMGCR', 'HMGN3', 'HMGN5', 'HMMR', 'HMOX1', 'HMX2', 'HNF1A', 'HNF1B', 'HNF4A', 'HNMT', 'HNRNPA1L2', 'HNRNPD', 'HNRNPF', 'HNRNPH1', 'HNRNPLL', 'HNRNPM', 'HNRNPUL1', 'HOOK3', 'HOPX', 'HOTAIR', 'HOXA10', 'HOXA11', 'HOXA13', 'HOXA5', 'HOXA9', 'HOXB13', 'HOXB4', 'HOXB5', 'HOXB6', 'HOXB7', 'HOXB9', 'HOXC11', 'HOXC13', 'HOXD10', 'HOXD9', 'HPCA', 'HPCAL1', 'HPD', 'HPGD', 'HPGDS', 'HPRT1', 'HPS5', 'HPSE', 'HPSE2', 'HRAS', 'HRH1', 'HRH2', 'HRH3', 'HRH4', 'HS3ST2', 'HS3ST3A1', 'HS3ST5', 'HS6ST2', 'HSD11B1', 'HSD11B2', 'HSD17B1', 'HSD17B10', 'HSD17B2', 'HSD17B6', 'HSD3B1', 'HSDL1', 'HSF1', 'HSF4', 'HSPA1L', 'HSPA2', 'HSPA4', 'HSPA6', 'HSPA8', 'HSPA9', 'HSPB11', 'HSPB3', 'HSPB8', 'HSPBP1', 'HSPD1', 'HSPG2', 'HTATIP2', 'HTR1A', 'HTR1B', 'HTR1D', 'HTR1E', 'HTR2A', 'HTR2B', 'HTR2C', 'HTR3A', 'HTR4', 'HTR5A', 'HTR6', 'HTR7', 'HTRA1', 'HTRA2', 'HTT', 'HUWE1', 'HYOU1', 'IARS2', 'ICA1', 'ICAM1', 'ICAM2', 'ICAM3', 'ICAM4', 'ICAM5', 'ICOS', 'ICOSLG', 'ID4', 'IDE', 'IDH1', 'IDH2', 'IDO1', 'IDUA', 'IFI16', 'IFI35', 'IFI44L', 'IFIH1', 'IFIT1', 'IFIT2', 'IFIT3', 'IFITM1', 'IFNA1', 'IFNA17', 'IFNA2', 'IFNA7', 'IFNA8', 'IFNAR1', 'IFNAR2', 'IFNB1', 'IFNG', 'IFNGR1', 'IFNGR2', 'IFNL1', 'IFNL2', 'IFNL3', 'IFNW1', 'IFRD1', 'IFT57', 'IGBP1', 'IGF1', 'IGF1R', 'IGF2', 'IGF2BP1', 'IGF2BP2', 'IGF2BP3', 'IGF2R', 'IGFBP1', 'IGFBP2', 'IGFN1', 'IGHE', 'IGSF1', 'IGSF3', 'IGSF8', 'IGSF9B', 'IHH', 'IKBKB', 'IKBKE', 'IKBKG', 'IKZF1', 'IKZF2', 'IKZF3', 'IKZF4', 'IL10', 'IL10RA', 'IL10RB', 'IL11', 'IL11RA', 'IL12A', 'IL12B', 'IL12RB1', 'IL12RB2', 'IL13', 'IL13RA1', 'IL13RA2', 'IL15', 'IL15RA', 'IL16', 'IL17A', 'IL17B', 'IL17D', 'IL17F', 'IL17RA', 'IL17RB', 'IL18', 'IL18BP', 'IL18R1', 'IL18RAP', 'IL19', 'IL1A', 'IL1B', 'IL1F10', 'IL1R1', 'IL1RAP', 'IL1RL1', 'IL1RL2', 'IL1RN', 'IL2', 'IL20', 'IL21', 'IL21R', 'IL22', 'IL22RA1', 'IL23A', 'IL23R', 'IL24', 'IL25', 'IL26', 'IL2RA', 'IL2RB', 'IL2RG', 'IL3', 'IL31', 'IL33', 'IL34', 'IL36G', 'IL37', 'IL3RA', 'IL4', 'IL4R', 'IL5', 'IL5RA', 'IL6', 'IL6R', 'IL6ST', 'IL7', 'IL9', 'IL9R', 'ILDR2', 'ILF3', 'ILK', 'IMMT', 'IMPDH1', 'IMPDH2', 'IMPG1', 'INA', 'INCA1', 'ING1', 'INHA', 'INHBA', 'INHBB', 'INKA2', 'INMT', 'INO80D', 'INPP4B', 'INPP5D', 'INPPL1', 'INSC', 'INSL3', 'INSL4', 'INSM1', 'INSR', 'INSRR', 'INVS', 'IPO11', 'IPO5', 'IPO7', 'IPO9', 'IPP', 'IQGAP1', 'IQGAP2', 'IQSEC1', 'IRAK1', 'IRAK2', 'IRAK4', 'IRF1', 'IRF2BP1', 'IRF2BPL', 'IRF3', 'IRF4', 'IRF5', 'IRF7', 'IRF8', 'IRGM', 'IRGQ', 'IRS1', 'IRS2', 'IRS4', 'IRX1', 'ISL1', 'ISOC2', 'ITCH', 'ITGA1', 'ITGA2', 'ITGA2B', 'ITGA3', 'ITGA4', 'ITGA5', 'ITGA6', 'ITGAD', 'ITGAE', 'ITGAL', 'ITGAM', 'ITGAV', 'ITGAX', 'ITGB1BP2', 'ITGB2', 'ITGB3', 'ITGB4', 'ITGB5', 'ITGB6', 'ITGB7', 'ITIH1', 'ITIH5', 'ITK', 'ITM2A', 'ITPKA', 'ITPR1', 'ITPR3', 'ITPRID2', 'IVNS1ABP', 'JAG1', 'JAK1', 'JAK2', 'JAK3', 'JAM2', 'JAM3', 'JAZF1', 'JDP2', 'JMJD4', 'JPH1', 'JPH2', 'JPT2', 'JRK', 'JUP', 'KANK2', 'KAT2A', 'KAT2B', 'KAT5', 'KATNA1', 'KCNA3', 'KCNA4', 'KCNA5', 'KCNAB3', 'KCNB1', 'KCNC1', 'KCNC3', 'KCNC4', 'KCNE1', 'KCNF1', 'KCNH1', 'KCNH2', 'KCNH3', 'KCNH4', 'KCNH5', 'KCNH6', 'KCNIP2', 'KCNJ1', 'KCNJ10', 'KCNJ11', 'KCNJ12', 'KCNJ13', 'KCNJ15', 'KCNJ16', 'KCNJ2', 'KCNJ6', 'KCNJ8', 'KCNJ9', 'KCNK1', 'KCNK10', 'KCNK12', 'KCNK13', 'KCNK15', 'KCNK16', 'KCNK17', 'KCNK18', 'KCNK2', 'KCNK3', 'KCNK4', 'KCNK6', 'KCNK9', 'KCNMA1', 'KCNMB1', 'KCNN3', 'KCNN4', 'KCNQ1', 'KCNQ2', 'KCNQ4', 'KCNRG', 'KCNS1', 'KCNT1', 'KCNT2', 'KCNU1', 'KCNV1', 'KCTD10', 'KCTD11', 'KCTD20', 'KCTD5', 'KCTD9', 'KDM1A', 'KDM3A', 'KDM4A', 'KDM5B', 'KDM5D', 'KDM6A', 'KDM6B', 'KDM8', 'KDR', 'KEAP1', 'KEL', 'KHDC3L', 'KHDRBS1', 'KHK', 'KHSRP', 'KIAA0408', 'KIAA1191', 'KIAA2013', 'KIF11', 'KIF1A', 'KIF20A', 'KIF2A', 'KIF2C', 'KIF5B', 'KIR2DL1', 'KIR2DL4', 'KIR3DL1', 'KISS1R', 'KIT', 'KITLG', 'KL', 'KLF12', 'KLF14', 'KLF16', 'KLF17', 'KLF4', 'KLF5', 'KLHDC2', 'KLHL1', 'KLHL13', 'KLHL14', 'KLHL24', 'KLHL26', 'KLHL4', 'KLHL8', 'KLK10', 'KLK15', 'KLK4', 'KLK6', 'KLRB1', 'KLRC1', 'KLRC2', 'KLRD1', 'KLRF1', 'KLRG1', 'KLRK1', 'KMO', 'KMT2A', 'KMT2D', 'KNDC1', 'KNSTRN', 'KPNA1', 'KPNA2', 'KPNA3', 'KPNA6', 'KPNB1', 'KPRP', 'KRAS', 'KRT20', 'KRTCAP2', 'KXD1', 'L1CAM', 'LACC1', 'LACRT', 'LAD1', 'LAG3', 'LAIR1', 'LAIR2', 'LAMA3', 'LAMB3', 'LAMC1', 'LAMC2', 'LAMP1', 'LAMP2', 'LAMP3', 'LANCL1', 'LANCL2', 'LAPTM4B', 'LARP4', 'LARP4B', 'LASP1', 'LAT', 'LATS1', 'LATS2', 'LBH', 'LBP', 'LBX1', 'LCAT', 'LCK', 'LDB3', 'LDHA', 'LDLR', 'LDLRAD4', 'LEF1', 'LENG8', 'LEP', 'LEPR', 'LEPROTL1', 'LGALS13', 'LGALS14', 'LGALS8', 'LGALS9', 'LGALSL', 'LGMN', 'LGR4', 'LGR5', 'LGR6', 'LHCGR', 'LIF', 'LIFR', 'LIG3', 'LIG4', 'LILRA1', 'LILRA2', 'LILRA4', 'LILRA5', 'LILRA6', 'LILRB1', 'LILRB2', 'LILRB3', 'LILRB4', 'LILRB5', 'LIM2', 'LIMK1', 'LIN28A', 'LIN28B', 'LINGO2', 'LINS1', 'LIPA', 'LIPC', 'LIPE', 'LIPF', 'LIPG', 'LMBR1L', 'LMNB1', 'LMO1', 'LMO2', 'LMX1B', 'LONP1', 'LONRF3', 'LOX', 'LOXL1', 'LOXL2', 'LPA', 'LPAR1', 'LPAR3', 'LPAR5', 'LPAR6', 'LPCAT1', 'LPIN1', 'LPL', 'LPXN', 'LRATD2', 'LRBA', 'LRCH1', 'LRG1', 'LRIF1', 'LRP1', 'LRP2', 'LRP5', 'LRP6', 'LRPPRC', 'LRRC15', 'LRRC20', 'LRRC3', 'LRRC32', 'LRRC38', 'LRRC3B', 'LRRC45', 'LRRC47', 'LRRC59', 'LRRK2', 'LRRTM1', 'LRTM1', 'LSG1', 'LSM12', 'LTA', 'LTA4H', 'LTB4R', 'LTB4R2', 'LTBP1', 'LTBP2', 'LTBR', 'LTK', 'LUC7L', 'LURAP1', 'LY75', 'LY9', 'LY96', 'LYAR', 'LYN', 'LZIC', 'LZTS1', 'MAB21L1', 'MAB21L2', 'MACC1', 'MAD1L1', 'MAD2L1', 'MAEA', 'MAF', 'MAFB', 'MAFF', 'MAGEA1', 'MAGEA10', 'MAGEA11', 'MAGEA12', 'MAGEA3', 'MAGEA4', 'MAGEB2', 'MAGEC1', 'MAGEC2', 'MAGI1', 'MAGI3', 'MAK', 'MAL', 'MAL2', 'MALL', 'MALT1', 'MAML2', 'MAN1A1', 'MAN1B1', 'MAN2B1', 'MANEA', 'MAOA', 'MAOB', 'MAP1A', 'MAP1B', 'MAP1LC3A', 'MAP1LC3B', 'MAP1S', 'MAP2', 'MAP2K1', 'MAP2K4', 'MAP2K5', 'MAP3K1', 'MAP3K14', 'MAP3K15', 'MAP3K20', 'MAP3K5', 'MAP3K7', 'MAP3K7CL', 'MAP4', 'MAP4K2', 'MAP4K3', 'MAP4K4', 'MAP4K5', 'MAP7', 'MAP7D1', 'MAPK1', 'MAPK10', 'MAPK11', 'MAPK12', 'MAPK14', 'MAPK15', 'MAPK3', 'MAPK7', 'MAPK8', 'MAPK8IP1', 'MAPK8IP2', 'MAPK8IP3', 'MAPK9', 'MAPKAPK2', 'MAPRE2', 'MAPT', 'MARCO', 'MARK2', 'MAS1', 'MASP1', 'MASP2', 'MAT1A', 'MAVS', 'MAX', 'MBL2', 'MBNL1', 'MC1R', 'MC3R', 'MC4R', 'MCAM', 'MCCC1', 'MCHR1', 'MCHR2', 'MCM2', 'MCM3', 'MCM3AP', 'MCM4', 'MCM5', 'MCM6', 'MCM7', 'MCM9', 'MCPH1', 'MCTP2', 'MCTS1', 'MDC1', 'MDFIC', 'MDM1', 'MDM2', 'MDM4', 'ME1', 'MECOM', 'MED1', 'MED12', 'MED12L', 'MEF2A', 'MEF2C', 'MEG3', 'MEGF10', 'MEGF8', 'MEIOB', 'MEIS1', 'MEIS2', 'MEIS3', 'MELK', 'MELTF', 'MEN1', 'MEPCE', 'MERTK', 'MEST', 'MET', 'METRNL', 'METTL16', 'METTL18', 'METTL2A', 'METTL3', 'MFAP5', 'MFF', 'MFGE8', 'MFN2', 'MFRP', 'MFSD5', 'MGAM', 'MGMT', 'MIAT', 'MICA', 'MICAL2', 'MICB', 'MID2', 'MIEN1', 'MIIP', 'MINDY1', 'MINDY2', 'MINPP1', 'MIPOL1', 'MITD1', 'MITF', 'MKI67', 'MKNK1', 'MKRN2', 'MKRN3', 'MKX', 'MLANA', 'MLF1', 'MLH1', 'MLPH', 'MLXIP', 'MLXIPL', 'MMACHC', 'MMADHC', 'MME', 'MMEL1', 'MMP11', 'MMP12', 'MMP13', 'MMP14', 'MMP21', 'MMP8', 'MMP9', 'MMRN2', 'MNS1', 'MNX1', 'MOB2', 'MOB4', 'MOG', 'MON2', 'MOV10', 'MPDU1', 'MPDZ', 'MPHOSPH9', 'MPI', 'MPL', 'MPLKIP', 'MPO', 'MPP7', 'MPPED1', 'MPPED2', 'MPZ', 'MPZL1', 'MR1', 'MRAP', 'MRAP2', 'MRC1', 'MRC2', 'MRE11', 'MRFAP1L1', 'MRGPRX2', 'MRM3', 'MRPL45', 'MRTFA', 'MRTFB', 'MS4A1', 'MS4A2', 'MSC', 'MSH2', 'MSH3', 'MSH6', 'MSI1', 'MSI2', 'MSLN', 'MSN', 'MSR1', 'MST1', 'MST1R', 'MSTN', 'MT1A', 'MTA1', 'MTA2', 'MTAP', 'MTCH2', 'MTCL1', 'MTERF2', 'MTFR1L', 'MTHFD1', 'MTHFR', 'MTNR1A', 'MTNR1B', 'MTOR', 'MTPAP', 'MTR', 'MTRES1', 'MTREX', 'MTRF1', 'MUC1', 'MUC16', 'MUC19', 'MUC4', 'MUC5AC', 'MUC5B', 'MUTYH', 'MVD', 'MVP', 'MX1', 'MXD1', 'MXRA7', 'MYB', 'MYBBP1A', 'MYBL2', 'MYC', 'MYCBP', 'MYCL', 'MYCN', 'MYD88', 'MYEF2', 'MYH1', 'MYH10', 'MYH13', 'MYH2', 'MYH4', 'MYH9', 'MYLIP', 'MYLK', 'MYLK2', 'MYLK3', 'MYNN', 'MYO15A', 'MYO18B', 'MYO1B', 'MYO1C', 'MYO1D', 'MYO1E', 'MYO1F', 'MYO5A', 'MYO5B', 'MYO6', 'MYOD1', 'MYOF', 'MYOT', 'MZB1', 'MZF1', 'N4BP2', 'NAA15', 'NAA16', 'NAA40', 'NAAA', 'NACC2', 'NAIF1', 'NAIP', 'NANOG', 'NAP1L3', 'NAP1L4', 'NAP1L5', 'NAT1', 'NAT10', 'NAT2', 'NAV1', 'NAV2', 'NBL1', 'NBN', 'NBPF3', 'NCAM1', 'NCBP1', 'NCBP3', 'NCEH1', 'NCF1', 'NCF2', 'NCF4', 'NCK1', 'NCLN', 'NCOA1', 'NCOA2', 'NCOA3', 'NCOA4', 'NCOR1', 'NCOR2', 'NCR1', 'NCR2', 'NCR3', 'NCS1', 'NCSTN', 'NDNF', 'NDP', 'NDRG1', 'NDRG2', 'NDRG4', 'NDST4', 'NDUFA3', 'NDUFAB1', 'NEBL', 'NECAB2', 'NECTIN1', 'NECTIN2', 'NECTIN3', 'NEDD4', 'NEDD4L', 'NEDD9', 'NEFH', 'NEFL', 'NEFM', 'NEIL3', 'NEK1', 'NEK11', 'NEK2', 'NEK3', 'NEK4', 'NEK5', 'NEK6', 'NEK8', 'NELL1', 'NEMP1', 'NEPRO', 'NES', 'NETO1', 'NEURL4', 'NEUROD1', 'NEUROD2', 'NEUROG2', 'NEXN', 'NF1', 'NF2', 'NFAT5', 'NFATC1', 'NFATC2', 'NFATC3', 'NFATC4', 'NFE2L1', 'NFE2L2', 'NFE2L3', 'NFKB1', 'NFKB2', 'NFX1', 'NGB', 'NGDN', 'NGF', 'NGFR', 'NHLH2', 'NIBAN1', 'NIFK', 'NIN', 'NINJ1', 'NIPSNAP1', 'NIPSNAP3A', 'NKAPD1', 'NKAPL', 'NKRF', 'NKX2-1', 'NKX2-3', 'NKX2-4', 'NKX2-8', 'NKX3-1', 'NLE1', 'NLGN3', 'NLRC5', 'NLRP1', 'NLRP11', 'NLRP2', 'NLRP3', 'NLRP5', 'NLRP6', 'NLRP7', 'NLRP9', 'NMB', 'NME1', 'NMNAT1', 'NMU', 'NNAT', 'NOA1', 'NOC3L', 'NOD1', 'NOD2', 'NODAL', 'NOL4', 'NOL4L', 'NOLC1', 'NOM1', 'NOMO3', 'NONO', 'NOP2', 'NORAD', 'NOS1', 'NOS1AP', 'NOS2', 'NOS3', 'NOSTRIN', 'NOTCH1', 'NOTCH2', 'NOTCH2NLA', 'NOTCH3', 'NOTCH4', 'NOX1', 'NOX4', 'NPAS4', 'NPAT', 'NPC1', 'NPC1L1', 'NPFFR2', 'NPM3', 'NPNT', 'NPPA', 'NPPB', 'NPPC', 'NPR1', 'NPR3', 'NPSR1', 'NPTN', 'NPTX2', 'NPY1R', 'NPY2R', 'NQO1', 'NQO2', 'NR0B1', 'NR0B2', 'NR1H2', 'NR1H3', 'NR1H4', 'NR1I2', 'NR1I3', 'NR2C2', 'NR2E3', 'NR3C1', 'NR3C2', 'NR4A1', 'NR4A3', 'NR5A1', 'NR5A2', 'NR6A1', 'NRAS', 'NRDE2', 'NREP', 'NRF1', 'NRIP1', 'NRK', 'NRN1', 'NRP1', 'NRP2', 'NRROS', 'NRSN1', 'NRSN2', 'NRXN2', 'NSD2', 'NSUN2', 'NSUN5', 'NT5C2', 'NT5DC2', 'NT5DC3', 'NT5E', 'NTF3', 'NTMT1', 'NTN1', 'NTN4', 'NTNG2', 'NTPCR', 'NTRK1', 'NTRK2', 'NTS', 'NTSR1', 'NTSR2', 'NUAK2', 'NUCB2', 'NUDCD1', 'NUDCD2', 'NUDT1', 'NUDT16L1', 'NUDT21', 'NUMA1', 'NUMB', 'NUP107', 'NUP153', 'NUP214', 'NUP62', 'NUP93', 'NUP98', 'NUSAP1', 'NUTF2', 'NVL', 'NXF1', 'NXF3', 'NXN', 'NXPH2', 'NXPH4', 'NXT2', 'NYX', 'OAS1', 'OAS3', 'OBP2A', 'OCLN', 'OCM2', 'OCRL', 'ODF2L', 'ODR4', 'OGDH', 'OGFR', 'OGG1', 'OGT', 'OIT3', 'OLFM1', 'OLFM2', 'OLFML3', 'OLIG1', 'OLIG2', 'OLR1', 'ONECUT3', 'OPALIN', 'OPN1LW', 'OPRD1', 'OPRK1', 'OPRL1', 'OPRM1', 'OPRPN', 'OPTN', 'ORAI2', 'ORAI3', 'ORC6', 'OSBP2', 'OSCP1', 'OSGIN1', 'OSGIN2', 'OSM', 'OSR2', 'OTOF', 'OTUB1', 'OTX2', 'OVOL2', 'OXER1', 'OXSM', 'OXSR1', 'OXTR', 'P2RX1', 'P2RX3', 'P2RX4', 'P2RX7', 'P2RY1', 'P2RY12', 'P2RY13', 'P2RY14', 'P2RY2', 'P2RY6', 'P4HA1', 'P4HA3', 'P4HB', 'P4HTM', 'PABPC1L', 'PABPC4', 'PACC1', 'PADI2', 'PADI4', 'PAEP', 'PAGE4', 'PAH', 'PAIP2', 'PAK1', 'PAK1IP1', 'PAK2', 'PAK4', 'PALB2', 'PALLD', 'PALMD', 'PAM', 'PANK2', 'PANX1', 'PANX2', 'PANX3', 'PAPPA', 'PAPPA2', 'PAPSS1', 'PARD3', 'PARK7', 'PARM1', 'PARP1', 'PARP11', 'PARP15', 'PARP3', 'PART1', 'PASD1', 'PAWR', 'PAX1', 'PAX2', 'PAX3', 'PAX5', 'PAX6', 'PAX7', 'PAX8', 'PBDC1', 'PBK', 'PBLD', 'PBX1', 'PBX3', 'PBXIP1', 'PC', 'PCA3', 'PCAT1', 'PCBD1', 'PCBD2', 'PCBP3', 'PCCB', 'PCDH10', 'PCDH11X', 'PCDH11Y', 'PCDH17', 'PCDH18', 'PCDH20', 'PCDH8', 'PCDHA1', 'PCDHA2', 'PCDHA4', 'PCDHA9', 'PCDHB14', 'PCGEM1', 'PCID2', 'PCK1', 'PCNA', 'PCNX3', 'PCSK1', 'PCSK9', 'PDCD1', 'PDCD10', 'PDCD1LG2', 'PDCD4', 'PDCD6', 'PDCD6IP', 'PDE10A', 'PDE2A', 'PDE3A', 'PDE4A', 'PDE4B', 'PDE4DIP', 'PDE5A', 'PDE6H', 'PDGFA', 'PDGFB', 'PDGFC', 'PDGFD', 'PDGFRA', 'PDGFRB', 'PDGFRL', 'PDHA1', 'PDHB', 'PDIA2', 'PDIA3', 'PDIA4', 'PDK1', 'PDLIM2', 'PDLIM4', 'PDPK1', 'PDPN', 'PDX1', 'PDXDC1', 'PDYN', 'PDZD4', 'PDZD7', 'PDZK1', 'PEA15', 'PEBP4', 'PECAM1', 'PEF1', 'PEG10', 'PELO', 'PELP1', 'PENK', 'PEPD', 'PER1', 'PER2', 'PER3', 'PFKFB3', 'PFKP', 'PGA3', 'PGAM5', 'PGAP1', 'PGAP2', 'PGBD1', 'PGD', 'PGF', 'PGGT1B', 'PGK1', 'PGM1', 'PGR', 'PHB', 'PHB2', 'PHETA1', 'PHEX', 'PHF10', 'PHF12', 'PHF21B', 'PHF23', 'PHF6', 'PHF7', 'PHF8', 'PHGDH', 'PHLDA3', 'PHLDB2', 'PHLDB3', 'PHLPP1', 'PHOX2B', 'PI16', 'PI4KA', 'PIBF1', 'PICALM', 'PID1', 'PIEZO1', 'PIEZO2', 'PIGF', 'PIH1D1', 'PIK3C3', 'PIK3CA', 'PIK3CB', 'PIK3CD', 'PIK3CG', 'PIK3R1', 'PIK3R2', 'PIKFYVE', 'PILRA', 'PIM1', 'PIM2', 'PIMREG', 'PIN1', 'PINK1', 'PIP4K2A', 'PITHD1', 'PITPNB', 'PITX1', 'PITX2', 'PIWIL1', 'PKD1', 'PKD1L1', 'PKD2', 'PKD2L1', 'PKHD1', 'PKIA', 'PKM', 'PKNOX2', 'PKP2', 'PLA2G4A', 'PLA2G5', 'PLA2G6', 'PLA2G7', 'PLA2R1', 'PLAGL1', 'PLAGL2', 'PLAT', 'PLAU', 'PLAUR', 'PLCB1', 'PLCE1', 'PLCG1', 'PLCG2', 'PLD1', 'PLD2', 'PLEC', 'PLEKHA1', 'PLEKHA2', 'PLEKHB2', 'PLEKHH2', 'PLEKHM2', 'PLEKHO1', 'PLG', 'PLIN1', 'PLIN2', 'PLIN4', 'PLIN5', 'PLK1', 'PLK4', 'PLN', 'PLP2', 'PLS3', 'PLSCR1', 'PLTP', 'PLVAP', 'PLXDC1', 'PLXNB2', 'PLXNC1', 'PM20D1', 'PM20D2', 'PMAIP1', 'PMCH', 'PMFBP1', 'PML', 'PMM2', 'PMP22', 'PMS1', 'PMS2', 'PNMA1', 'PNMA2', 'PNOC', 'PNP', 'PNPLA1', 'PNPLA2', 'PNPLA3', 'PNPLA6', 'PNPT1', 'PODXL', 'POGLUT2', 'POGZ', 'POLB', 'POLD1', 'POLDIP2', 'POLE', 'POLH', 'POLR2A', 'POLR2B', 'POLR2C', 'POLR2E', 'POLR2G', 'POLR2H', 'POLR2M', 'POMC', 'POMGNT1', 'POMT1', 'PON1', 'PON2', 'POPDC3', 'POR', 'PORCN', 'POSTN', 'POTEF', 'POTEI', 'POTEJ', 'POU1F1', 'POU2AF1', 'POU2F1', 'POU2F2', 'POU2F3', 'POU3F1', 'POU3F3', 'POU3F4', 'POU4F3', 'POU5F1', 'PPARA', 'PPARD', 'PPARG', 'PPARGC1A', 'PPFIA1', 'PPFIA3', 'PPFIA4', 'PPIC', 'PPID', 'PPIF', 'PPM1A', 'PPM1D', 'PPM1H', 'PPP1CA', 'PPP1R15B', 'PPP1R16B', 'PPP1R1B', 'PPP1R1C', 'PPP1R37', 'PPP1R7', 'PPP1R9B', 'PPP2CA', 'PPP2R1A', 'PPP2R3A', 'PPP2R3C', 'PPP3CA', 'PPP4R1', 'PPP4R4', 'PRAME', 'PRCP', 'PRDM1', 'PRDM10', 'PRDM12', 'PRDM13', 'PRDM15', 'PRDM6', 'PREP', 'PREPL', 'PRF1', 'PRG2', 'PRG4', 'PRICKLE1', 'PRKAA1', 'PRKAA2', 'PRKAB1', 'PRKACA', 'PRKACB', 'PRKAG1', 'PRKAG2', 'PRKAR1A', 'PRKCA', 'PRKCB', 'PRKCD', 'PRKCE', 'PRKCG', 'PRKCH', 'PRKCI', 'PRKCQ', 'PRKCZ', 'PRKD1', 'PRKD3', 'PRKDC', 'PRKN', 'PRKRA', 'PRL', 'PRLR', 'PRM1', 'PRMT1', 'PRMT5', 'PRMT8', 'PRMT9', 'PRNCR1', 'PRNP', 'PROC', 'PROCR', 'PRODH', 'PROKR2', 'PROM1', 'PROM2', 'PROP1', 'PROS1', 'PROSER1', 'PROX1', 'PRPF19', 'PRPF3', 'PRPF31', 'PRPF8', 'PRPH', 'PRPH2', 'PRPS1', 'PRPS2', 'PRPSAP1', 'PRR11', 'PRR13', 'PRR14L', 'PRRC2A', 'PRRG2', 'PRRT2', 'PRRX1', 'PRSS16', 'PRTN3', 'PRXL2A', 'PSD', 'PSD3', 'PSEN1', 'PSEN2', 'PSENEN', 'PSG1', 'PSIP1', 'PSKH1', 'PSMA6', 'PSMB5', 'PSMC2', 'PSMC5', 'PSMD1', 'PSMD10', 'PSMD2', 'PSMD3', 'PSMD4', 'PSME3', 'PSPC1', 'PSRC1', 'PSTPIP2', 'PTAFR', 'PTBP1', 'PTBP2', 'PTCD1', 'PTCD2', 'PTCD3', 'PTCH1', 'PTDSS1', 'PTEN', 'PTGDR', 'PTGDR2', 'PTGER2', 'PTGER3', 'PTGER4', 'PTGES', 'PTGES3', 'PTGFR', 'PTGFRN', 'PTGIR', 'PTGIS', 'PTGS1', 'PTGS2', 'PTH', 'PTH1R', 'PTH2R', 'PTHLH', 'PTK2', 'PTK2B', 'PTK6', 'PTK7', 'PTOV1', 'PTP4A1', 'PTP4A3', 'PTPA', 'PTPDC1', 'PTPN1', 'PTPN11', 'PTPN13', 'PTPN2', 'PTPN22', 'PTPN5', 'PTPN6', 'PTPRF', 'PTPRG', 'PTPRJ', 'PTPRM', 'PTPRQ', 'PTPRU', 'PTPRZ1', 'PTTG1', 'PTX3', 'PUM3', 'PURB', 'PUSL1', 'PVR', 'PVT1', 'PWP1', 'PWWP3A', 'PXN', 'PYCARD', 'PYGB', 'PYGL', 'PYGM', 'PYM1', 'PZP', 'QPCTL', 'QRFPR', 'R3HDM1', 'R3HDM2', 'RAB11A', 'RAB11FIP5', 'RAB27A', 'RAB28', 'RAB5A', 'RAB6C', 'RAB7A', 'RAB8A', 'RAB9A', 'RABL2B', 'RABL3', 'RABL6', 'RAC1', 'RACGAP1', 'RAD18', 'RAD50', 'RAD51', 'RAD52', 'RAD54L', 'RAD54L2', 'RAF1', 'RAG1', 'RAI14', 'RAI2', 'RALGPS1', 'RAN', 'RANBP2', 'RANBP3', 'RANBP9', 'RANGAP1', 'RAP1A', 'RAP2A', 'RAPGEF3', 'RAPGEF5', 'RAPGEF6', 'RARA', 'RARB', 'RASA1', 'RASD1', 'RASD2', 'RASGEF1C', 'RASGRP1', 'RASSF1', 'RASSF2', 'RASSF3', 'RASSF4', 'RASSF5', 'RASSF8', 'RAVER1', 'RB1', 'RBBP4', 'RBBP5', 'RBBP7', 'RBBP8', 'RBCK1', 'RBL2', 'RBM10', 'RBM12', 'RBM14', 'RBM15', 'RBM19', 'RBM20', 'RBM23', 'RBM27', 'RBM34', 'RBM38', 'RBMS1', 'RBMS2', 'RBMS3', 'RBMX', 'RBPJ', 'RBPMS', 'RBX1', 'RC3H1', 'RC3H2', 'RCAN2', 'RCC1', 'RCN2', 'RCOR1', 'RCOR3', 'RDM1', 'RECK', 'RECQL', 'RECQL4', 'REEP4', 'REEP6', 'REL', 'RELA', 'RELB', 'RELN', 'RELT', 'REN', 'REPS1', 'RERG', 'REST', 'RET', 'RETN', 'RETREG1', 'RETREG3', 'REXO2', 'RFC3', 'RFC4', 'RFC5', 'RFPL3', 'RFTN1', 'RFX1', 'RFX2', 'RFX4', 'RFX5', 'RGN', 'RGPD1', 'RGPD6', 'RGPD8', 'RGS4', 'RGS5', 'RHAG', 'RHBDD1', 'RHBDD2', 'RHCE', 'RHD', 'RHEB', 'RHOA', 'RHOC', 'RHOH', 'RHOT1', 'RHOXF2', 'RIC8A', 'RIDA', 'RILPL1', 'RILPL2', 'RIMS3', 'RIMS4', 'RIOX1', 'RIPK1', 'RIPK2', 'RIPK3', 'RIPK4', 'RIPOR1', 'RITA1', 'RLF', 'RLN1', 'RLN2', 'RLN3', 'RMDN1', 'RMND1', 'RMND5A', 'RNASE3', 'RNASEH2B', 'RNASEL', 'RNF112', 'RNF121', 'RNF128', 'RNF167', 'RNF180', 'RNF187', 'RNF2', 'RNF26', 'RNF31', 'RNF38', 'RNF39', 'RNF43', 'RO60', 'ROBO4', 'ROCK1', 'ROCK2', 'ROR1', 'ROR2', 'RORB', 'RORC', 'ROS1', 'RP1L1', 'RPA1', 'RPA2', 'RPA3', 'RPAP1', 'RPAP3', 'RPE65', 'RPF1', 'RPN1', 'RPRM', 'RPRML', 'RPS6KA5', 'RPTOR', 'RPUSD2', 'RRAD', 'RRAS', 'RREB1', 'RRM1', 'RRM2', 'RRP12', 'RRP15', 'RRP1B', 'RRS1', 'RS1', 'RSAD2', 'RSBN1', 'RSPH9', 'RSPO2', 'RSPO3', 'RSPRY1', 'RSRC1', 'RTCB', 'RTKN2', 'RTL1', 'RTL8C', 'RTN1', 'RTN4', 'RTN4IP1', 'RUBCN', 'RUBCNL', 'RUFY2', 'RUNX1', 'RUNX1T1', 'RUNX2', 'RUNX3', 'RUVBL1', 'RUVBL2', 'RWDD1', 'RWDD4', 'RXFP1', 'RXFP2', 'RXFP3', 'RXRA', 'RYR1', 'S100A1', 'S100A3', 'S1PR1', 'S1PR3', 'S1PR5', 'SAA4', 'SAC3D1', 'SACS', 'SAFB', 'SALL4', 'SAMD4A', 'SAMD5', 'SAMD9', 'SAMHD1', 'SAPCD2', 'SART1', 'SART3', 'SASH1', 'SAT2', 'SATB1', 'SATB2', 'SAXO1', 'SBNO1', 'SBNO2', 'SCAF4', 'SCAMP4', 'SCAPER', 'SCARB1', 'SCFD2', 'SCG2', 'SCG5', 'SCGB1D1', 'SCGB1D2', 'SCGN', 'SCIMP', 'SCIN', 'SCML2', 'SCN3A', 'SCN4B', 'SCN7A', 'SCN8A', 'SCN9A', 'SCNN1A', 'SCNN1G', 'SCPEP1', 'SCRIB', 'SCRN1', 'SDAD1', 'SDC2', 'SDC3', 'SDC4', 'SDF2L1', 'SDHA', 'SDHAF3', 'SDHB', 'SDK2', 'SEC13', 'SEC14L3', 'SEC16A', 'SEC23B', 'SECISBP2L', 'SEL1L', 'SELE', 'SELENBP1', 'SELENOT', 'SELL', 'SELP', 'SELPLG', 'SEMA3A', 'SEMA3C', 'SEMA3D', 'SEMA3F', 'SEMA4B', 'SEMA4C', 'SEMA4D', 'SEMA7A', 'SENP1', 'SENP6', 'SEPTIN5', 'SEPTIN6', 'SEPTIN9', 'SERPINA12', 'SERPINA3', 'SERPINA5', 'SERPINA9', 'SERPINB2', 'SERPINB4', 'SERPINB5', 'SERPINB7', 'SERPINB9', 'SERPINC1', 'SERPIND1', 'SERPINE1', 'SERPINF2', 'SERPINH1', 'SERPINI2', 'SESN2', 'SESN3', 'SETD4', 'SETDB1', 'SEZ6L', 'SEZ6L2', 'SF3A1', 'SF3B1', 'SF3B3', 'SF3B4', 'SFPQ', 'SFRP1', 'SFRP4', 'SFRP5', 'SFSWAP', 'SFXN1', 'SFXN2', 'SGCA', 'SGK1', 'SGSH', 'SH2B2', 'SH2D1A', 'SH2D1B', 'SH2D2A', 'SH2D3C', 'SH3BGR', 'SH3BGRL2', 'SH3BP5', 'SH3BP5L', 'SH3GLB2', 'SH3RF2', 'SH3TC2', 'SHANK3', 'SHARPIN', 'SHBG', 'SHC1', 'SHC4', 'SHFL', 'SHH', 'SHLD1', 'SHLD2', 'SHMT1', 'SHMT2', 'SHOX', 'SHROOM1', 'SIAE', 'SIAH1', 'SIGIRR', 'SIGLEC1', 'SIGLEC11', 'SIGLEC6', 'SIGLEC7', 'SIGLEC9', 'SIGMAR1', 'SIK2', 'SIK3', 'SIM2', 'SIMC1', 'SIN3A', 'SINHCAF', 'SIRPA', 'SIRPB1', 'SIRPG', 'SIRT1', 'SIRT2', 'SIRT3', 'SIRT6', 'SIRT7', 'SIX1', 'SKA3', 'SKP1', 'SKP2', 'SLAMF1', 'SLAMF6', 'SLAMF7', 'SLAMF8', 'SLC10A1', 'SLC11A1', 'SLC11A2', 'SLC12A2', 'SLC12A6', 'SLC15A1', 'SLC16A1', 'SLC16A4', 'SLC16A9', 'SLC17A5', 'SLC17A6', 'SLC17A7', 'SLC17A8', 'SLC18A2', 'SLC19A1', 'SLC1A1', 'SLC1A2', 'SLC1A3', 'SLC1A5', 'SLC20A2', 'SLC22A1', 'SLC22A12', 'SLC22A2', 'SLC22A4', 'SLC22A5', 'SLC22A8', 'SLC22A9', 'SLC23A2', 'SLC24A1', 'SLC24A4', 'SLC25A1', 'SLC25A10', 'SLC25A11', 'SLC25A13', 'SLC25A17', 'SLC25A31', 'SLC25A39', 'SLC25A4', 'SLC25A40', 'SLC26A2', 'SLC26A3', 'SLC29A1', 'SLC29A3', 'SLC2A1', 'SLC2A2', 'SLC2A3', 'SLC2A4', 'SLC2A4RG', 'SLC2A9', 'SLC30A7', 'SLC30A8', 'SLC35E1', 'SLC35G2', 'SLC37A4', 'SLC38A7', 'SLC39A11', 'SLC39A8', 'SLC39A9', 'SLC3A1', 'SLC3A2', 'SLC40A1', 'SLC43A2', 'SLC4A1', 'SLC4A1AP', 'SLC5A1', 'SLC5A2', 'SLC5A3', 'SLC5A5', 'SLC5A7', 'SLC6A1', 'SLC6A12', 'SLC6A17', 'SLC6A2', 'SLC6A3', 'SLC6A4', 'SLC6A5', 'SLC6A9', 'SLC7A11', 'SLC7A5', 'SLC7A7', 'SLC9A1', 'SLC9A3', 'SLC9A3R1', 'SLC9A3R2', 'SLCO1B1', 'SLCO1B3', 'SLCO1C1', 'SLCO2B1', 'SLFN11', 'SLFN5', 'SLIT2', 'SLIT3', 'SLITRK1', 'SLITRK2', 'SLITRK4', 'SLITRK5', 'SLMAP', 'SMAD1', 'SMAD2', 'SMAD3', 'SMAD4', 'SMAD7', 'SMAP2', 'SMARCA1', 'SMARCA2', 'SMARCA4', 'SMARCA5', 'SMARCAD1', 'SMARCAL1', 'SMARCB1', 'SMARCC1', 'SMARCE1', 'SMC1A', 'SMC3', 'SMC4', 'SMCHD1', 'SMN1', 'SMN2', 'SMO', 'SMOC1', 'SMOC2', 'SMOX', 'SMPD1', 'SMPD3', 'SMPDL3B', 'SMTN', 'SMURF1', 'SMURF2', 'SMYD3', 'SNAI1', 'SNAI2', 'SNAP23', 'SNAP25', 'SNAP47', 'SNCA', 'SND1', 'SNHG1', 'SNHG11', 'SNHG15', 'SNHG17', 'SNHG8', 'SNRNP200', 'SNRPB', 'SNRPD1', 'SNRPD3', 'SNTB2', 'SNTG2', 'SNURF', 'SNX1', 'SNX10', 'SNX11', 'SNX15', 'SNX16', 'SNX17', 'SNX19', 'SNX27', 'SNX29', 'SNX30', 'SNX33', 'SNX4', 'SNX8', 'SOAT1', 'SOCS1', 'SOCS2', 'SOCS3', 'SOD1', 'SOD3', 'SOHLH2', 'SORCS1', 'SORCS2', 'SORD', 'SORL1', 'SORT1', 'SOS1', 'SOST', 'SOSTDC1', 'SOX1', 'SOX10', 'SOX11', 'SOX14', 'SOX17', 'SOX18', 'SOX2', 'SOX2-OT', 'SOX21', 'SOX30', 'SOX5', 'SOX6', 'SOX8', 'SOX9', 'SP1', 'SP110', 'SP140', 'SP3', 'SP9', 'SPA17', 'SPAAR', 'SPAG1', 'SPAG17', 'SPAG5', 'SPAG6', 'SPAG8', 'SPANXB1', 'SPART', 'SPATA16', 'SPATA18', 'SPATA22', 'SPATA4', 'SPATA5', 'SPATA5L1', 'SPATA7', 'SPATS2', 'SPATS2L', 'SPDYA', 'SPECC1', 'SPECC1L', 'SPHK1', 'SPI1', 'SPIB', 'SPICE1', 'SPIN1', 'SPIN2A', 'SPIN3', 'SPINK7', 'SPN', 'SPO11', 'SPOCK1', 'SPON1', 'SPON2', 'SPPL2A', 'SPRY2', 'SPRYD7', 'SPTA1', 'SPTBN1', 'SPZ1', 'SQLE', 'SQSTM1', 'SRA1', 'SRC', 'SRCAP', 'SRCIN1', 'SRD5A1', 'SRD5A2', 'SRD5A3', 'SREBF1', 'SREBF2', 'SRF', 'SRFBP1', 'SRI', 'SRPK1', 'SRPX', 'SRSF1', 'SRSF2', 'SRY', 'SS18', 'SSB', 'SSBP3', 'SSRP1', 'SSTR1', 'SSTR2', 'SSTR3', 'SSTR4', 'SSTR5', 'SSX1', 'SSX2', 'SSX2IP', 'SSX4', 'ST14', 'ST6GAL1', 'STAB1', 'STAC3', 'STAP1', 'STAR', 'STAT1', 'STAT2', 'STAT3', 'STAT4', 'STAT5A', 'STAT5B', 'STAT6', 'STAU1', 'STAU2', 'STC2', 'STEAP1', 'STEAP4', 'STH', 'STIL', 'STIM1', 'STIM2', 'STK11', 'STK16', 'STK3', 'STK31', 'STK32A', 'STK32C', 'STK33', 'STK35', 'STK39', 'STK4', 'STK40', 'STMN1', 'STMN2', 'STMN3', 'STOML1', 'STRIP1', 'STRIP2', 'STRN3', 'STRN4', 'STS', 'STUB1', 'STX11', 'STX1A', 'STX7', 'STXBP4', 'STXBP5', 'STYK1', 'SUGCT', 'SUGP2', 'SULF1', 'SULF2', 'SULT1A1', 'SULT2A1', 'SUMO1', 'SUMO4', 'SUPV3L1', 'SURF6', 'SUV39H1', 'SV2C', 'SVEP1', 'SVIL', 'SWT1', 'SYCP1', 'SYK', 'SYNCRIP', 'SYNGR3', 'SYNM', 'SYNPO2', 'SYNRG', 'SYP', 'SYT16', 'SYTL2', 'SYVN1', 'TAB1', 'TAB2', 'TAC1', 'TAC3', 'TAC4', 'TACC2', 'TACR1', 'TACR2', 'TACR3', 'TADA2A', 'TAF1', 'TAFA4', 'TAFA5', 'TAL1', 'TAL2', 'TANGO2', 'TAP1', 'TAP2', 'TARDBP', 'TAS2R38', 'TASOR', 'TASOR2', 'TBC1D22B', 'TBC1D30', 'TBC1D8B', 'TBCK', 'TBK1', 'TBL1Y', 'TBL2', 'TBP', 'TBR1', 'TBRG4', 'TBX15', 'TBX19', 'TBX2', 'TBX21', 'TBX3', 'TBX4', 'TBX5', 'TBXA2R', 'TBXAS1', 'TC2N', 'TCEA3', 'TCEANC', 'TCEANC2', 'TCERG1L', 'TCF20', 'TCF21', 'TCF3', 'TCF4', 'TCF7', 'TCF7L2', 'TCFL5', 'TCIM', 'TCL1A', 'TCOF1', 'TCP1', 'TDGF1', 'TDO2', 'TDRD3', 'TDRD7', 'TEC', 'TECPR1', 'TEDC1', 'TEFM', 'TEK', 'TEKT1', 'TEKT3', 'TEKT4', 'TELO2', 'TENT5B', 'TENT5C', 'TERF1', 'TERF2', 'TERT', 'TES', 'TESK2', 'TET1', 'TET2', 'TEX11', 'TEX14', 'TEX30', 'TEX35', 'TFAM', 'TFAP2A', 'TFAP2B', 'TFE3', 'TFEB', 'TFPI', 'TFPI2', 'TFR2', 'TFRC', 'TG', 'TGFA', 'TGFB1', 'TGFB1I1', 'TGFB2', 'TGFB3', 'TGFBR1', 'TGFBR2', 'TGFBR3', 'TGM1', 'TGM2', 'TGM3', 'TGM4', 'TGM6', 'TH', 'THAP11', 'THAP2', 'THAP3', 'THBD', 'THBS1', 'THBS2', 'THEM6', 'THEMIS', 'THEMIS2', 'THPO', 'THRA', 'THRB', 'THUMPD3', 'THY1', 'THYN1', 'TIAM1', 'TIAM2', 'TICAM1', 'TICAM2', 'TICRR', 'TIE1', 'TIGD5', 'TIGIT', 'TIMD4', 'TIMM29', 'TIMM50', 'TIMP2', 'TIMP4', 'TINAG', 'TINAGL1', 'TIPARP', 'TIRAP', 'TJP1', 'TJP2', 'TK1', 'TKT', 'TKTL1', 'TLE6', 'TLK1', 'TLK2', 'TLR1', 'TLR10', 'TLR2', 'TLR3', 'TLR4', 'TLR5', 'TLR6', 'TLR7', 'TLR8', 'TLR9', 'TM4SF5', 'TM6SF2', 'TM9SF4', 'TMA16', 'TMBIM4', 'TMEFF2', 'TMEM100', 'TMEM106B', 'TMEM109', 'TMEM119', 'TMEM120B', 'TMEM123', 'TMEM126A', 'TMEM130', 'TMEM14C', 'TMEM164', 'TMEM173', 'TMEM185A', 'TMEM192', 'TMEM200A', 'TMEM201', 'TMEM209', 'TMEM237', 'TMEM33', 'TMEM39A', 'TMEM43', 'TMEM45A', 'TMEM45B', 'TMEM97', 'TMEM98', 'TMEM9B', 'TMIGD2', 'TMPO', 'TMPRSS11E', 'TMPRSS13', 'TMPRSS2', 'TMPRSS6', 'TMTC3', 'TMTC4', 'TMUB2', 'TMX1', 'TMX2', 'TNC', 'TNF', 'TNFAIP8', 'TNFRSF10A', 'TNFRSF10B', 'TNFRSF10C', 'TNFRSF10D', 'TNFRSF11A', 'TNFRSF11B', 'TNFRSF12A', 'TNFRSF13B', 'TNFRSF13C', 'TNFRSF14', 'TNFRSF17', 'TNFRSF18', 'TNFRSF1A', 'TNFRSF1B', 'TNFRSF21', 'TNFRSF6B', 'TNFRSF8', 'TNFRSF9', 'TNFSF10', 'TNFSF11', 'TNFSF12', 'TNFSF13', 'TNFSF13B', 'TNFSF14', 'TNFSF15', 'TNFSF18', 'TNFSF4', 'TNFSF8', 'TNFSF9', 'TNIP1', 'TNK2', 'TNKS', 'TNMD', 'TNNI3', 'TNNT2', 'TNPO3', 'TNR', 'TNS2', 'TNXB', 'TOLLIP', 'TOM1L2', 'TOMM34', 'TOMM40', 'TONSL', 'TOP1', 'TOP1MT', 'TOP2A', 'TOP2B', 'TOP3B', 'TOPBP1', 'TOR1A', 'TOR3A', 'TOX', 'TOX2', 'TOX4', 'TP53', 'TP53BP1', 'TP53BP2', 'TP63', 'TP73', 'TPBG', 'TPCN1', 'TPH1', 'TPH2', 'TPMT', 'TPPP', 'TPPP3', 'TPTE', 'TPX2', 'TRAF1', 'TRAF2', 'TRAF3', 'TRAF3IP2', 'TRAF3IP3', 'TRAF4', 'TRAF5', 'TRAF6', 'TRAFD1', 'TRAP1', 'TRDC', 'TREM1', 'TREM2', 'TREML2', 'TREX1', 'TREX2', 'TRH', 'TRHR', 'TRIB1', 'TRIB2', 'TRIB3', 'TRIM21', 'TRIM23', 'TRIM25', 'TRIM27', 'TRIM28', 'TRIM47', 'TRIM5', 'TRIM55', 'TRIM65', 'TRIM66', 'TRIM67', 'TRIP13', 'TRMT1L', 'TRMT2A', 'TRO', 'TRPA1', 'TRPC1', 'TRPC3', 'TRPC4', 'TRPC5', 'TRPC6', 'TRPC7', 'TRPM1', 'TRPM2', 'TRPM3', 'TRPM4', 'TRPM6', 'TRPM7', 'TRPM8', 'TRPS1', 'TRPV1', 'TRPV4', 'TRPV6', 'TRRAP', 'TRUB1', 'TSBP1', 'TSC1', 'TSC2', 'TSG101', 'TSHR', 'TSHZ1', 'TSLP', 'TSNAXIP1', 'TSPAN10', 'TSPAN12', 'TSPAN13', 'TSPAN14', 'TSPAN18', 'TSPAN3', 'TSPAN31', 'TSPAN4', 'TSPAN7', 'TSPAN8', 'TSPAN9', 'TSPO', 'TSPOAP1', 'TSPY1', 'TSPYL5', 'TSSC4', 'TSSK1B', 'TSSK3', 'TTC12', 'TTC23', 'TTC23L', 'TTC4', 'TTC9C', 'TTI1', 'TTK', 'TTPA', 'TUBA4A', 'TUBB', 'TUBB2A', 'TUBB2B', 'TUBB3', 'TUBB4A', 'TUBB6', 'TUBD1', 'TUBG1', 'TUFM', 'TUSC2', 'TWIST1', 'TWIST2', 'TWSG1', 'TXK', 'TXNDC16', 'TXNDC9', 'TXNRD1', 'TYK2', 'TYMP', 'TYMS', 'TYRO3', 'U2AF1', 'U2AF2', 'UBA1', 'UBAP2', 'UBAP2L', 'UBASH3A', 'UBASH3B', 'UBD', 'UBE2C', 'UBE2D1', 'UBE2D2', 'UBE2D3', 'UBE2I', 'UBE2L3', 'UBE2T', 'UBE3A', 'UBE4B', 'UBR3', 'UBR5', 'UBTF', 'UCA1', 'UCHL1', 'UCN', 'UCP2', 'UEVLD', 'UFC1', 'UGDH', 'UGT1A1', 'UGT1A4', 'UGT1A9', 'UGT2B17', 'UGT2B7', 'UHRF1', 'ULBP2', 'ULK1', 'ULK2', 'UMOD', 'UMPS', 'UNC119', 'UNC13A', 'UNC45A', 'UNC5A', 'UNG', 'UPF1', 'UPK1A', 'UPK2', 'UPK3A', 'UPK3B', 'UQCC1', 'UQCC3', 'URB1', 'URGCP', 'USF1', 'USP10', 'USP11', 'USP27X', 'USP29', 'USP32', 'USP36', 'USP38', 'USP5', 'USP53', 'USP6', 'USP7', 'USP9Y', 'UTP23', 'UTRN', 'UTS2', 'VAMP3', 'VAMP5', 'VAPB', 'VASP', 'VAV1', 'VAV3', 'VAX1', 'VCAM1', 'VCL', 'VDAC1', 'VDAC2', 'VDR', 'VEGFA', 'VEGFB', 'VEGFC', 'VEGFD', 'VGF', 'VGLL3', 'VHL', 'VIP', 'VIPR1', 'VIPR2', 'VLDLR', 'VPS13A', 'VPS13B', 'VPS35', 'VPS37B', 'VPS4A', 'VPS50', 'VSIG4', 'VSIR', 'VSNL1', 'VSTM1', 'VSTM2B', 'VSTM2L', 'VSX2', 'VTCN1', 'VWA8', 'WAPL', 'WARS', 'WAS', 'WASHC2A', 'WASHC3', 'WASHC4', 'WASL', 'WBP2', 'WDFY3', 'WDFY4', 'WDHD1', 'WDR12', 'WDR26', 'WDR37', 'WDR5', 'WDR55', 'WDR72', 'WDR74', 'WDR77', 'WDR81', 'WDR90', 'WEE1', 'WEE2', 'WFDC1', 'WFS1', 'WNT1', 'WNT2', 'WNT3', 'WNT3A', 'WNT4', 'WNT5A', 'WNT5B', 'WRAP73', 'WRN', 'WT1', 'WWC1', 'WWOX', 'WWP1', 'WWP2', 'WWTR1', 'XBP1', 'XCL2', 'XCR1', 'XDH', 'XIAP', 'XIRP1', 'XPA', 'XPC', 'XPNPEP1', 'XPNPEP3', 'XPO1', 'XPO5', 'XPO6', 'XPO7', 'XPR1', 'XRCC1', 'XRCC2', 'XRCC3', 'XRCC4', 'XRCC5', 'XRCC6', 'YAP1', 'YES1', 'YIF1B', 'YIPF1', 'YIPF5', 'YJEFN3', 'YLPM1', 'YTHDC2', 'YTHDF1', 'YTHDF3', 'YWHAQ', 'YWHAZ', 'YY1', 'YY1AP1', 'ZAN', 'ZAP70', 'ZBED9', 'ZBP1', 'ZBTB1', 'ZBTB10', 'ZBTB16', 'ZBTB21', 'ZBTB25', 'ZBTB3', 'ZBTB33', 'ZBTB4', 'ZBTB40', 'ZBTB48', 'ZBTB49', 'ZC2HC1A', 'ZC3H12A', 'ZC3H12D', 'ZC3H18', 'ZC3H7A', 'ZC3HAV1L', 'ZC4H2', 'ZCCHC10', 'ZCCHC17', 'ZCCHC2', 'ZCCHC3', 'ZCCHC8', 'ZDHHC17', 'ZDHHC22', 'ZEB1', 'ZEB2', 'ZER1', 'ZFAND5', 'ZFAT', 'ZFHX3', 'ZFHX4', 'ZFP57', 'ZFPL1', 'ZFX', 'ZFYVE1', 'ZFYVE21', 'ZFYVE26', 'ZGRF1', 'ZHX3', 'ZIC2', 'ZIC4', 'ZMIZ1', 'ZMIZ2', 'ZMPSTE24', 'ZMYM1', 'ZMYM3', 'ZMYND10', 'ZMYND19', 'ZNF106', 'ZNF142', 'ZNF165', 'ZNF177', 'ZNF232', 'ZNF280C', 'ZNF281', 'ZNF296', 'ZNF326', 'ZNF341', 'ZNF346', 'ZNF395', 'ZNF408', 'ZNF410', 'ZNF449', 'ZNF451', 'ZNF469', 'ZNF512', 'ZNF592', 'ZNF608', 'ZNF639', 'ZNF683', 'ZNF687', 'ZNF76', 'ZNF768', 'ZNF8', 'ZNF804A', 'ZNF827', 'ZNF829', 'ZPR1', 'ZSCAN1', 'ZSCAN12', 'ZSCAN16', 'ZSCAN20', 'ZSCAN26', 'ZSWIM6', 'ZUP1', 'ZYG11B', 'ZYX'], metadata={}, tags=[], local_path='/Users/erikstorrs/Downloads/temp_cache/548064c2c70b4e61bc5c208ac4c83b22.zarr.zip', path='548064c2c70b4e61bc5c208ac4c83b22.zarr.zip'), LayerMetadata(id='e42934a8-2e61-4b62-b2b3-79b3e2399fbf', version='v0.0.1', layer_id='e591e737-0901-4aa7-9bba-7e6f82a87bc5', name='QV', metadata_type=<MetadataTypeEnum.continuous: 'continuous'>, is_sparse=True, fields=['QV'], metadata={}, tags=[], local_path='/Users/erikstorrs/Downloads/temp_cache/e42934a82e614b62b2b379b3e2399fbf.zarr.zip', path='e42934a82e614b62b2b379b3e2399fbf.zarr.zip')]"
      ]
     },
     "execution_count": 14,
     "metadata": {},
     "output_type": "execute_result"
    }
   ],
   "source": [
    "experiment = client.get_experiment('/project_a/subproject_a/zzz/Xenium Prime + 100g Custom-Breast_Cancer')\n",
    "experiment"
   ]
  },
  {
   "cell_type": "code",
   "execution_count": 15,
   "id": "b565fe39",
   "metadata": {},
   "outputs": [
    {
     "data": {
      "text/plain": [
       "[Layer(id='98ade449-23d5-43e9-9af8-e86ef930acd7', version='v0.0.1', experiment_id='78cb5375-ee87-4db3-8886-33fa5d1b22f0', name='Cells', is_grouped=False, metadata={}, tags=[], local_path='/Users/erikstorrs/Downloads/temp_cache/98ade44923d543e99af8e86ef930acd7.zarr.zip', path='98ade44923d543e99af8e86ef930acd7.zarr.zip'),\n",
       " Layer(id='e591e737-0901-4aa7-9bba-7e6f82a87bc5', version='v0.0.1', experiment_id='78cb5375-ee87-4db3-8886-33fa5d1b22f0', name='Transcripts', is_grouped=True, metadata={}, tags=[], local_path='/Users/erikstorrs/Downloads/temp_cache/e591e73709014aa79bba7e6f82a87bc5.zarr.zip', path='e591e73709014aa79bba7e6f82a87bc5.zarr.zip')]"
      ]
     },
     "execution_count": 15,
     "metadata": {},
     "output_type": "execute_result"
    }
   ],
   "source": [
    "experiment.layers"
   ]
  },
  {
   "cell_type": "code",
   "execution_count": 16,
   "id": "63db12af",
   "metadata": {},
   "outputs": [
    {
     "data": {
      "text/plain": [
       "['Transcript Counts']"
      ]
     },
     "execution_count": 16,
     "metadata": {},
     "output_type": "execute_result"
    }
   ],
   "source": [
    "layer_metadatas = experiment.get_layer_metadata(experiment.layers[0])\n",
    "[lm.name for lm in layer_metadatas]"
   ]
  },
  {
   "cell_type": "code",
   "execution_count": 17,
   "id": "d7317ed4",
   "metadata": {},
   "outputs": [
    {
     "data": {
      "text/html": [
       "<table>\n",
       "    <tr>\n",
       "        <td>\n",
       "            <table style=\"border-collapse: collapse;\">\n",
       "                <thead>\n",
       "                    <tr>\n",
       "                        <td> </td>\n",
       "                        <th> Array </th>\n",
       "                        <th> Chunk </th>\n",
       "                    </tr>\n",
       "                </thead>\n",
       "                <tbody>\n",
       "                    \n",
       "                    <tr>\n",
       "                        <th> Bytes </th>\n",
       "                        <td> 36.00 MiB </td>\n",
       "                        <td> 256.00 kiB </td>\n",
       "                    </tr>\n",
       "                    \n",
       "                    <tr>\n",
       "                        <th> Shape </th>\n",
       "                        <td> (3072, 3072, 1, 4, 1) </td>\n",
       "                        <td> (512, 512, 1, 1, 1) </td>\n",
       "                    </tr>\n",
       "                    <tr>\n",
       "                        <th> Dask graph </th>\n",
       "                        <td colspan=\"2\"> 144 chunks in 4 graph layers </td>\n",
       "                    </tr>\n",
       "                    <tr>\n",
       "                        <th> Data type </th>\n",
       "                        <td colspan=\"2\"> uint8 numpy.ndarray </td>\n",
       "                    </tr>\n",
       "                </tbody>\n",
       "            </table>\n",
       "        </td>\n",
       "        <td>\n",
       "        <svg width=\"470\" height=\"170\" style=\"stroke:rgb(0,0,0);stroke-width:1\" >\n",
       "\n",
       "  <!-- Horizontal lines -->\n",
       "  <line x1=\"0\" y1=\"0\" x2=\"120\" y2=\"0\" style=\"stroke-width:2\" />\n",
       "  <line x1=\"0\" y1=\"20\" x2=\"120\" y2=\"20\" />\n",
       "  <line x1=\"0\" y1=\"40\" x2=\"120\" y2=\"40\" />\n",
       "  <line x1=\"0\" y1=\"60\" x2=\"120\" y2=\"60\" />\n",
       "  <line x1=\"0\" y1=\"80\" x2=\"120\" y2=\"80\" />\n",
       "  <line x1=\"0\" y1=\"100\" x2=\"120\" y2=\"100\" />\n",
       "  <line x1=\"0\" y1=\"120\" x2=\"120\" y2=\"120\" style=\"stroke-width:2\" />\n",
       "\n",
       "  <!-- Vertical lines -->\n",
       "  <line x1=\"0\" y1=\"0\" x2=\"0\" y2=\"120\" style=\"stroke-width:2\" />\n",
       "  <line x1=\"20\" y1=\"0\" x2=\"20\" y2=\"120\" />\n",
       "  <line x1=\"40\" y1=\"0\" x2=\"40\" y2=\"120\" />\n",
       "  <line x1=\"60\" y1=\"0\" x2=\"60\" y2=\"120\" />\n",
       "  <line x1=\"80\" y1=\"0\" x2=\"80\" y2=\"120\" />\n",
       "  <line x1=\"100\" y1=\"0\" x2=\"100\" y2=\"120\" />\n",
       "  <line x1=\"120\" y1=\"0\" x2=\"120\" y2=\"120\" style=\"stroke-width:2\" />\n",
       "\n",
       "  <!-- Colored Rectangle -->\n",
       "  <polygon points=\"0.0,0.0 120.0,0.0 120.0,120.0 0.0,120.0\" style=\"fill:#ECB172A0;stroke-width:0\"/>\n",
       "\n",
       "  <!-- Text -->\n",
       "  <text x=\"60.000000\" y=\"140.000000\" font-size=\"1.0rem\" font-weight=\"100\" text-anchor=\"middle\" >3072</text>\n",
       "  <text x=\"140.000000\" y=\"60.000000\" font-size=\"1.0rem\" font-weight=\"100\" text-anchor=\"middle\" transform=\"rotate(-90,140.000000,60.000000)\">3072</text>\n",
       "\n",
       "\n",
       "  <!-- Horizontal lines -->\n",
       "  <line x1=\"190\" y1=\"0\" x2=\"204\" y2=\"14\" style=\"stroke-width:2\" />\n",
       "  <line x1=\"190\" y1=\"6\" x2=\"204\" y2=\"21\" />\n",
       "  <line x1=\"190\" y1=\"12\" x2=\"204\" y2=\"27\" />\n",
       "  <line x1=\"190\" y1=\"19\" x2=\"204\" y2=\"34\" />\n",
       "  <line x1=\"190\" y1=\"25\" x2=\"204\" y2=\"40\" style=\"stroke-width:2\" />\n",
       "\n",
       "  <!-- Vertical lines -->\n",
       "  <line x1=\"190\" y1=\"0\" x2=\"190\" y2=\"25\" style=\"stroke-width:2\" />\n",
       "  <line x1=\"204\" y1=\"14\" x2=\"204\" y2=\"40\" style=\"stroke-width:2\" />\n",
       "\n",
       "  <!-- Colored Rectangle -->\n",
       "  <polygon points=\"190.0,0.0 204.9485979497544,14.948597949754403 204.9485979497544,40.36121446433689 190.0,25.412616514582485\" style=\"fill:#ECB172A0;stroke-width:0\"/>\n",
       "\n",
       "  <!-- Horizontal lines -->\n",
       "  <line x1=\"190\" y1=\"0\" x2=\"215\" y2=\"0\" style=\"stroke-width:2\" />\n",
       "  <line x1=\"204\" y1=\"14\" x2=\"230\" y2=\"14\" style=\"stroke-width:2\" />\n",
       "\n",
       "  <!-- Vertical lines -->\n",
       "  <line x1=\"190\" y1=\"0\" x2=\"204\" y2=\"14\" style=\"stroke-width:2\" />\n",
       "  <line x1=\"215\" y1=\"0\" x2=\"230\" y2=\"14\" style=\"stroke-width:2\" />\n",
       "\n",
       "  <!-- Colored Rectangle -->\n",
       "  <polygon points=\"190.0,0.0 215.41261651458248,0.0 230.36121446433688,14.948597949754403 204.9485979497544,14.948597949754403\" style=\"fill:#ECB172A0;stroke-width:0\"/>\n",
       "\n",
       "  <!-- Horizontal lines -->\n",
       "  <line x1=\"204\" y1=\"14\" x2=\"230\" y2=\"14\" style=\"stroke-width:2\" />\n",
       "  <line x1=\"204\" y1=\"21\" x2=\"230\" y2=\"21\" />\n",
       "  <line x1=\"204\" y1=\"27\" x2=\"230\" y2=\"27\" />\n",
       "  <line x1=\"204\" y1=\"34\" x2=\"230\" y2=\"34\" />\n",
       "  <line x1=\"204\" y1=\"40\" x2=\"230\" y2=\"40\" style=\"stroke-width:2\" />\n",
       "\n",
       "  <!-- Vertical lines -->\n",
       "  <line x1=\"204\" y1=\"14\" x2=\"204\" y2=\"40\" style=\"stroke-width:2\" />\n",
       "  <line x1=\"230\" y1=\"14\" x2=\"230\" y2=\"40\" style=\"stroke-width:2\" />\n",
       "\n",
       "  <!-- Colored Rectangle -->\n",
       "  <polygon points=\"204.9485979497544,14.948597949754403 230.36121446433688,14.948597949754403 230.36121446433688,40.36121446433689 204.9485979497544,40.36121446433689\" style=\"fill:#ECB172A0;stroke-width:0\"/>\n",
       "\n",
       "  <!-- Text -->\n",
       "  <text x=\"217.654906\" y=\"60.361214\" font-size=\"1.0rem\" font-weight=\"100\" text-anchor=\"middle\" >1</text>\n",
       "  <text x=\"250.361214\" y=\"27.654906\" font-size=\"1.0rem\" font-weight=\"100\" text-anchor=\"middle\" transform=\"rotate(0,250.361214,27.654906)\">4</text>\n",
       "  <text x=\"187.474299\" y=\"52.886915\" font-size=\"1.0rem\" font-weight=\"100\" text-anchor=\"middle\" transform=\"rotate(45,187.474299,52.886915)\">1</text>\n",
       "</svg>\n",
       "        </td>\n",
       "    </tr>\n",
       "</table>"
      ],
      "text/plain": [
       "dask.array<reshape, shape=(3072, 3072, 1, 4, 1), dtype=uint8, chunksize=(512, 512, 1, 1, 1), chunktype=numpy.ndarray>"
      ]
     },
     "execution_count": 17,
     "metadata": {},
     "output_type": "execute_result"
    }
   ],
   "source": [
    "arr = experiment.generate_image_data(experiment.images[0])\n",
    "arr"
   ]
  },
  {
   "cell_type": "code",
   "execution_count": 18,
   "id": "8294c94d",
   "metadata": {},
   "outputs": [
    {
     "data": {
      "text/html": [
       "<div>\n",
       "<style scoped>\n",
       "    .dataframe tbody tr th:only-of-type {\n",
       "        vertical-align: middle;\n",
       "    }\n",
       "\n",
       "    .dataframe tbody tr th {\n",
       "        vertical-align: top;\n",
       "    }\n",
       "\n",
       "    .dataframe thead th {\n",
       "        text-align: right;\n",
       "    }\n",
       "</style>\n",
       "<table border=\"1\" class=\"dataframe\">\n",
       "  <thead>\n",
       "    <tr style=\"text-align: right;\">\n",
       "      <th></th>\n",
       "      <th>x_location</th>\n",
       "      <th>y_location</th>\n",
       "      <th>feature_name</th>\n",
       "      <th>counts</th>\n",
       "      <th>QV</th>\n",
       "    </tr>\n",
       "    <tr>\n",
       "      <th>id</th>\n",
       "      <th></th>\n",
       "      <th></th>\n",
       "      <th></th>\n",
       "      <th></th>\n",
       "      <th></th>\n",
       "    </tr>\n",
       "  </thead>\n",
       "  <tbody>\n",
       "    <tr>\n",
       "      <th>282406984613900</th>\n",
       "      <td>681.101562</td>\n",
       "      <td>2080.072266</td>\n",
       "      <td>STIM1</td>\n",
       "      <td>1.0</td>\n",
       "      <td>31.00</td>\n",
       "    </tr>\n",
       "    <tr>\n",
       "      <th>282406984613956</th>\n",
       "      <td>684.410156</td>\n",
       "      <td>1912.500000</td>\n",
       "      <td>RARA</td>\n",
       "      <td>1.0</td>\n",
       "      <td>31.25</td>\n",
       "    </tr>\n",
       "    <tr>\n",
       "      <th>282406984613958</th>\n",
       "      <td>687.867188</td>\n",
       "      <td>2239.851562</td>\n",
       "      <td>HUWE1</td>\n",
       "      <td>1.0</td>\n",
       "      <td>40.00</td>\n",
       "    </tr>\n",
       "    <tr>\n",
       "      <th>282406984613969</th>\n",
       "      <td>678.750000</td>\n",
       "      <td>528.013672</td>\n",
       "      <td>CD300C</td>\n",
       "      <td>1.0</td>\n",
       "      <td>40.00</td>\n",
       "    </tr>\n",
       "    <tr>\n",
       "      <th>282406984613979</th>\n",
       "      <td>688.013672</td>\n",
       "      <td>2141.910156</td>\n",
       "      <td>PAK1IP1</td>\n",
       "      <td>1.0</td>\n",
       "      <td>34.75</td>\n",
       "    </tr>\n",
       "    <tr>\n",
       "      <th>...</th>\n",
       "      <td>...</td>\n",
       "      <td>...</td>\n",
       "      <td>...</td>\n",
       "      <td>...</td>\n",
       "      <td>...</td>\n",
       "    </tr>\n",
       "    <tr>\n",
       "      <th>282548719750377</th>\n",
       "      <td>720.146484</td>\n",
       "      <td>2405.146484</td>\n",
       "      <td>SOD1</td>\n",
       "      <td>1.0</td>\n",
       "      <td>40.00</td>\n",
       "    </tr>\n",
       "    <tr>\n",
       "      <th>282548719750387</th>\n",
       "      <td>728.529297</td>\n",
       "      <td>2715.367188</td>\n",
       "      <td>FLII</td>\n",
       "      <td>1.0</td>\n",
       "      <td>40.00</td>\n",
       "    </tr>\n",
       "    <tr>\n",
       "      <th>282548719750395</th>\n",
       "      <td>731.029297</td>\n",
       "      <td>2417.205078</td>\n",
       "      <td>TMEM106B</td>\n",
       "      <td>1.0</td>\n",
       "      <td>40.00</td>\n",
       "    </tr>\n",
       "    <tr>\n",
       "      <th>282548719750398</th>\n",
       "      <td>733.087891</td>\n",
       "      <td>2449.410156</td>\n",
       "      <td>METTL16</td>\n",
       "      <td>1.0</td>\n",
       "      <td>40.00</td>\n",
       "    </tr>\n",
       "    <tr>\n",
       "      <th>282548719750408</th>\n",
       "      <td>743.970703</td>\n",
       "      <td>2433.529297</td>\n",
       "      <td>STAT2</td>\n",
       "      <td>1.0</td>\n",
       "      <td>40.00</td>\n",
       "    </tr>\n",
       "  </tbody>\n",
       "</table>\n",
       "<p>902513 rows × 5 columns</p>\n",
       "</div>"
      ],
      "text/plain": [
       "                 x_location   y_location feature_name  counts     QV\n",
       "id                                                                  \n",
       "282406984613900  681.101562  2080.072266        STIM1     1.0  31.00\n",
       "282406984613956  684.410156  1912.500000         RARA     1.0  31.25\n",
       "282406984613958  687.867188  2239.851562        HUWE1     1.0  40.00\n",
       "282406984613969  678.750000   528.013672       CD300C     1.0  40.00\n",
       "282406984613979  688.013672  2141.910156      PAK1IP1     1.0  34.75\n",
       "...                     ...          ...          ...     ...    ...\n",
       "282548719750377  720.146484  2405.146484         SOD1     1.0  40.00\n",
       "282548719750387  728.529297  2715.367188         FLII     1.0  40.00\n",
       "282548719750395  731.029297  2417.205078     TMEM106B     1.0  40.00\n",
       "282548719750398  733.087891  2449.410156      METTL16     1.0  40.00\n",
       "282548719750408  743.970703  2433.529297        STAT2     1.0  40.00\n",
       "\n",
       "[902513 rows x 5 columns]"
      ]
     },
     "execution_count": 18,
     "metadata": {},
     "output_type": "execute_result"
    }
   ],
   "source": [
    "layer = experiment.get_layer('Transcripts')\n",
    "df = experiment.generate_layer_data(layer)\n",
    "df"
   ]
  },
  {
   "cell_type": "code",
   "execution_count": 19,
   "id": "0d8b972f",
   "metadata": {},
   "outputs": [],
   "source": [
    "# store = zarr.storage.ZipStore(experiment.layers[1].local_path, mode='r')\n",
    "# root = zarr.group(store=store)\n",
    "# print(root.tree())"
   ]
  },
  {
   "cell_type": "code",
   "execution_count": 20,
   "id": "a778210b",
   "metadata": {},
   "outputs": [],
   "source": [
    "# ids = root['metadata/ids/4096'][:]\n",
    "# len(set(ids))"
   ]
  },
  {
   "cell_type": "code",
   "execution_count": null,
   "id": "0161fb8f",
   "metadata": {},
   "outputs": [],
   "source": []
  },
  {
   "cell_type": "code",
   "execution_count": 21,
   "id": "a6ec5c74",
   "metadata": {},
   "outputs": [
    {
     "name": "stdout",
     "output_type": "stream",
     "text": [
      "View of AnnData object with n_obs × n_vars = 3100 × 5099\n",
      "    obsm: 'spatial'\n"
     ]
    },
    {
     "name": "stderr",
     "output_type": "stream",
     "text": [
      "/Users/erikstorrs/Documents/viewer/cosilico-py/src/cosilico_py/client/experiment.py:205: ImplicitModificationWarning: Setting element `.obsm['spatial']` of view, initializing view as actual.\n",
      "  adata.obsm['spatial'] = df[['x_location', 'y_location']].values\n"
     ]
    },
    {
     "data": {
      "text/plain": [
       "View of AnnData object with n_obs × n_vars = 3100 × 5099\n",
       "    obsm: 'spatial'"
      ]
     },
     "execution_count": 21,
     "metadata": {},
     "output_type": "execute_result"
    }
   ],
   "source": [
    "layer = experiment.get_layer('Cells')\n",
    "adata = experiment.generate_layer_data(layer, experiment.get_layer_metadata(layer, metadata_name='Transcript Counts'))\n",
    "adata"
   ]
  },
  {
   "cell_type": "code",
   "execution_count": 23,
   "id": "1b34b560",
   "metadata": {},
   "outputs": [
    {
     "name": "stderr",
     "output_type": "stream",
     "text": [
      "/var/folders/l4/tr_3w7sx31z58xhsnb0_07hw0000gr/T/ipykernel_14402/2772987339.py:11: ImplicitModificationWarning: Trying to modify attribute `.obs` of view, initializing view as actual.\n",
      "  adata.obs['Kmeans N=10'] = [f'cluster {x}' for x in clusters]\n"
     ]
    },
    {
     "data": {
      "text/html": [
       "<div>\n",
       "<style scoped>\n",
       "    .dataframe tbody tr th:only-of-type {\n",
       "        vertical-align: middle;\n",
       "    }\n",
       "\n",
       "    .dataframe tbody tr th {\n",
       "        vertical-align: top;\n",
       "    }\n",
       "\n",
       "    .dataframe thead th {\n",
       "        text-align: right;\n",
       "    }\n",
       "</style>\n",
       "<table border=\"1\" class=\"dataframe\">\n",
       "  <thead>\n",
       "    <tr style=\"text-align: right;\">\n",
       "      <th></th>\n",
       "      <th>Kmeans N=10</th>\n",
       "    </tr>\n",
       "  </thead>\n",
       "  <tbody>\n",
       "    <tr>\n",
       "      <th>bbeodhla-1</th>\n",
       "      <td>cluster 4</td>\n",
       "    </tr>\n",
       "    <tr>\n",
       "      <th>bbeoeddl-1</th>\n",
       "      <td>cluster 4</td>\n",
       "    </tr>\n",
       "    <tr>\n",
       "      <th>bbeognab-1</th>\n",
       "      <td>cluster 4</td>\n",
       "    </tr>\n",
       "    <tr>\n",
       "      <th>bbeognch-1</th>\n",
       "      <td>cluster 4</td>\n",
       "    </tr>\n",
       "    <tr>\n",
       "      <th>bbeoickk-1</th>\n",
       "      <td>cluster 4</td>\n",
       "    </tr>\n",
       "    <tr>\n",
       "      <th>...</th>\n",
       "      <td>...</td>\n",
       "    </tr>\n",
       "    <tr>\n",
       "      <th>oanleihg-1</th>\n",
       "      <td>cluster 5</td>\n",
       "    </tr>\n",
       "    <tr>\n",
       "      <th>oanlfaan-1</th>\n",
       "      <td>cluster 5</td>\n",
       "    </tr>\n",
       "    <tr>\n",
       "      <th>oanmapng-1</th>\n",
       "      <td>cluster 8</td>\n",
       "    </tr>\n",
       "    <tr>\n",
       "      <th>oanmbbjc-1</th>\n",
       "      <td>cluster 8</td>\n",
       "    </tr>\n",
       "    <tr>\n",
       "      <th>obghcbkc-1</th>\n",
       "      <td>cluster 5</td>\n",
       "    </tr>\n",
       "  </tbody>\n",
       "</table>\n",
       "<p>3100 rows × 1 columns</p>\n",
       "</div>"
      ],
      "text/plain": [
       "           Kmeans N=10\n",
       "bbeodhla-1   cluster 4\n",
       "bbeoeddl-1   cluster 4\n",
       "bbeognab-1   cluster 4\n",
       "bbeognch-1   cluster 4\n",
       "bbeoickk-1   cluster 4\n",
       "...                ...\n",
       "oanleihg-1   cluster 5\n",
       "oanlfaan-1   cluster 5\n",
       "oanmapng-1   cluster 8\n",
       "oanmbbjc-1   cluster 8\n",
       "obghcbkc-1   cluster 5\n",
       "\n",
       "[3100 rows x 1 columns]"
      ]
     },
     "execution_count": 23,
     "metadata": {},
     "output_type": "execute_result"
    }
   ],
   "source": [
    "import scanpy as sc\n",
    "a = adata.copy()\n",
    "sc.pp.normalize_total(a)\n",
    "sc.pp.log1p(a)\n",
    "sc.pp.pca(a)\n",
    "\n",
    "from sklearn.cluster import KMeans\n",
    "n_clusters = 10\n",
    "x = KMeans(n_clusters=n_clusters).fit_transform(a.obsm['X_pca'])\n",
    "clusters = x.argmax(1)\n",
    "adata.obs['Kmeans N=10'] = [f'cluster {x}' for x in clusters]\n",
    "adata.obs"
   ]
  },
  {
   "cell_type": "code",
   "execution_count": 25,
   "id": "0680040e",
   "metadata": {},
   "outputs": [
    {
     "ename": "TypeError",
     "evalue": "unsupported operand type(s) for /: 'str' and 'str'",
     "output_type": "error",
     "traceback": [
      "\u001b[31m---------------------------------------------------------------------------\u001b[39m",
      "\u001b[31mTypeError\u001b[39m                                 Traceback (most recent call last)",
      "\u001b[36mCell\u001b[39m\u001b[36m \u001b[39m\u001b[32mIn[25]\u001b[39m\u001b[32m, line 1\u001b[39m\n\u001b[32m----> \u001b[39m\u001b[32m1\u001b[39m \u001b[43mexperiment\u001b[49m\u001b[43m.\u001b[49m\u001b[43mcreate_categorical_layer_metadata\u001b[49m\u001b[43m(\u001b[49m\u001b[33;43m'\u001b[39;49m\u001b[33;43mKmeans N=10\u001b[39;49m\u001b[33;43m'\u001b[39;49m\u001b[43m,\u001b[49m\u001b[43m \u001b[49m\u001b[43madata\u001b[49m\u001b[43m.\u001b[49m\u001b[43mobs\u001b[49m\u001b[43m[\u001b[49m\u001b[33;43m'\u001b[39;49m\u001b[33;43mKmeans N=10\u001b[39;49m\u001b[33;43m'\u001b[39;49m\u001b[43m]\u001b[49m\u001b[43m,\u001b[49m\u001b[43m \u001b[49m\u001b[43mlayer\u001b[49m\u001b[43m)\u001b[49m\n",
      "\u001b[36mFile \u001b[39m\u001b[32m<string>:11\u001b[39m, in \u001b[36mcreate_categorical_layer_metadata\u001b[39m\u001b[34m(self, name, values, layer)\u001b[39m\n",
      "\u001b[36mFile \u001b[39m\u001b[32m~/Documents/viewer/cosilico-py/src/cosilico_py/preprocessing/core/layer.py:831\u001b[39m, in \u001b[36mwrite_categorical_ungrouped_layer_metadata\u001b[39m\u001b[34m(layer_id, name, values, parent_zarr_path, output_directory)\u001b[39m\n\u001b[32m    822\u001b[39m     zoom_to_values[zoom] = xs\n\u001b[32m    824\u001b[39m meta = LayerMetadata(\n\u001b[32m    825\u001b[39m     layer_id=layer_id,\n\u001b[32m    826\u001b[39m     name=name,\n\u001b[32m   (...)\u001b[39m\u001b[32m    829\u001b[39m     fields=fnames,\n\u001b[32m    830\u001b[39m )\n\u001b[32m--> \u001b[39m\u001b[32m831\u001b[39m meta.local_path = (\u001b[43moutput_directory\u001b[49m\u001b[43m \u001b[49m\u001b[43m/\u001b[49m\u001b[43m \u001b[49m\u001b[33;43mf\u001b[39;49m\u001b[33;43m'\u001b[39;49m\u001b[38;5;132;43;01m{\u001b[39;49;00m\u001b[43mmeta\u001b[49m\u001b[43m.\u001b[49m\u001b[43mid\u001b[49m\u001b[38;5;132;43;01m}\u001b[39;49;00m\u001b[33;43m.zarr.zip\u001b[39;49m\u001b[33;43m'\u001b[39;49m).absolute()\n\u001b[32m    833\u001b[39m write_categorical_metadata_zarr(\n\u001b[32m    834\u001b[39m     zoom_to_values, fnames, meta.local_path, name\n\u001b[32m    835\u001b[39m )\n\u001b[32m    837\u001b[39m \u001b[38;5;28;01mreturn\u001b[39;00m meta\n",
      "\u001b[31mTypeError\u001b[39m: unsupported operand type(s) for /: 'str' and 'str'"
     ]
    }
   ],
   "source": [
    "experiment.create_categorical_layer_metadata('Kmeans N=10', adata.obs['Kmeans N=10'], layer)"
   ]
  },
  {
   "cell_type": "code",
   "execution_count": 51,
   "id": "abc4d2d3",
   "metadata": {},
   "outputs": [
    {
     "data": {
      "text/plain": [
       "LayerMetadata(id='846b368a-3231-40f6-8995-9612c919b0b4', version='v0.0.1', layer_id='30a68829-f3ff-467e-9543-a0947cf2725b', name='Kmeans N=10', metadata_type=<MetadataTypeEnum.categorical: 'categorical'>, is_sparse=False, fields=['cluster 0', 'cluster 2', 'cluster 3', 'cluster 4', 'cluster 5', 'cluster 6', 'cluster 7', 'cluster 9'], metadata={}, tags=[], local_path='~/Downloads/temp_cache/846b368a323140f689959612c919b0b4.zarr.zip', path='846b368a323140f689959612c919b0b4.zarr.zip')"
      ]
     },
     "execution_count": 51,
     "metadata": {},
     "output_type": "execute_result"
    }
   ],
   "source": [
    "lm = experiment.get_layer_metadata(layer, metadata_name='Kmeans N=10')\n",
    "lm"
   ]
  },
  {
   "cell_type": "code",
   "execution_count": 59,
   "id": "62f568fa",
   "metadata": {},
   "outputs": [
    {
     "data": {
      "text/plain": [
       "LayerMetadata(id='1e92c411bd27493cbbad6008afc06c84', version='v0.0.1', layer_id='30a68829-f3ff-467e-9543-a0947cf2725b', name='PCAs', metadata_type=<MetadataTypeEnum.continuous: 'continuous'>, is_sparse=False, fields=['PCA 0', 'PCA 1', 'PCA 2', 'PCA 3', 'PCA 4', 'PCA 5', 'PCA 6', 'PCA 7', 'PCA 8', 'PCA 9'], metadata={}, tags=[], local_path=PosixPath('/Users/erikstorrs/Documents/viewer/notebooks/data_preprocessing/~/Downloads/temp_cache/1e92c411bd27493cbbad6008afc06c84.zarr.zip'), path='1e92c411bd27493cbbad6008afc06c84.zarr.zip')"
      ]
     },
     "execution_count": 59,
     "metadata": {},
     "output_type": "execute_result"
    }
   ],
   "source": [
    "lm = experiment.get_layer_metadata(layer, metadata_name='PCAs')\n",
    "lm"
   ]
  },
  {
   "cell_type": "code",
   "execution_count": 60,
   "id": "f29160eb",
   "metadata": {},
   "outputs": [],
   "source": [
    "store = zarr.storage.ZipStore(lm.local_path, mode='r')\n",
    "root = zarr.group(store=store)\n",
    "level = min([int(x) for x in list(root['object'].array_keys())])\n",
    "# extract_categorical_metadata(root)"
   ]
  },
  {
   "cell_type": "code",
   "execution_count": 58,
   "id": "5a681f34",
   "metadata": {},
   "outputs": [],
   "source": [
    "fields = root['metadata/fields'][:]\n",
    "idxs = root[f'object/{level}'][:]"
   ]
  },
  {
   "cell_type": "code",
   "execution_count": 61,
   "id": "52c1ca52",
   "metadata": {},
   "outputs": [
    {
     "name": "stdout",
     "output_type": "stream",
     "text": [
      "/\n",
      " ├── metadata\n",
      " │   ├── fields (10,) object\n",
      " │   ├── vcenters (10,) float32\n",
      " │   ├── vmaxs (10,) float32\n",
      " │   └── vmins (10,) float32\n",
      " └── object\n",
      "     └── 4096 (3340, 10) float32\n"
     ]
    }
   ],
   "source": [
    "print(root.tree())"
   ]
  },
  {
   "cell_type": "code",
   "execution_count": null,
   "id": "e83252e5",
   "metadata": {},
   "outputs": [],
   "source": []
  },
  {
   "cell_type": "code",
   "execution_count": 62,
   "id": "36ff9d01",
   "metadata": {},
   "outputs": [
    {
     "ename": "TypeError",
     "evalue": "unhashable type: 'numpy.ndarray'",
     "output_type": "error",
     "traceback": [
      "\u001b[31m---------------------------------------------------------------------------\u001b[39m",
      "\u001b[31mTypeError\u001b[39m                                 Traceback (most recent call last)",
      "\u001b[36mCell\u001b[39m\u001b[36m \u001b[39m\u001b[32mIn[62]\u001b[39m\u001b[32m, line 1\u001b[39m\n\u001b[32m----> \u001b[39m\u001b[32m1\u001b[39m adata = \u001b[43mexperiment\u001b[49m\u001b[43m.\u001b[49m\u001b[43mgenerate_layer_data\u001b[49m\u001b[43m(\u001b[49m\u001b[43mlayer\u001b[49m\u001b[43m,\u001b[49m\u001b[43m \u001b[49m\u001b[43mexperiment\u001b[49m\u001b[43m.\u001b[49m\u001b[43mget_layer_metadata\u001b[49m\u001b[43m(\u001b[49m\u001b[43mlayer\u001b[49m\u001b[43m,\u001b[49m\u001b[43m \u001b[49m\u001b[43mmetadata_name\u001b[49m\u001b[43m=\u001b[49m\u001b[33;43m'\u001b[39;49m\u001b[33;43mKmeans N=10\u001b[39;49m\u001b[33;43m'\u001b[39;49m\u001b[43m)\u001b[49m\u001b[43m)\u001b[49m\n\u001b[32m      2\u001b[39m adata\n",
      "\u001b[36mFile \u001b[39m\u001b[32m<string>:19\u001b[39m, in \u001b[36mgenerate_layer_data\u001b[39m\u001b[34m(self, layer, layer_metadata, include_all, return_type)\u001b[39m\n",
      "\u001b[36mFile \u001b[39m\u001b[32m<string>:32\u001b[39m, in \u001b[36mextract_ungrouped_layer\u001b[39m\u001b[34m(layer, root, lm, lm_to_root, name_to_lm, return_type, include_all)\u001b[39m\n",
      "\u001b[36mFile \u001b[39m\u001b[32m<string>:8\u001b[39m, in \u001b[36mungrouped_dataframe_from_root\u001b[39m\u001b[34m(lm, lm_root, level, idxs_order, id_order)\u001b[39m\n",
      "\u001b[31mTypeError\u001b[39m: unhashable type: 'numpy.ndarray'"
     ]
    }
   ],
   "source": [
    "adata = experiment.generate_layer_data(layer, experiment.get_layer_metadata(layer, metadata_name='Kmeans N=10'))\n",
    "adata"
   ]
  },
  {
   "cell_type": "code",
   "execution_count": null,
   "id": "6899ece6",
   "metadata": {},
   "outputs": [],
   "source": []
  },
  {
   "cell_type": "code",
   "execution_count": 34,
   "id": "d0a3558e",
   "metadata": {},
   "outputs": [
    {
     "data": {
      "text/html": [
       "<div>\n",
       "<style scoped>\n",
       "    .dataframe tbody tr th:only-of-type {\n",
       "        vertical-align: middle;\n",
       "    }\n",
       "\n",
       "    .dataframe tbody tr th {\n",
       "        vertical-align: top;\n",
       "    }\n",
       "\n",
       "    .dataframe thead th {\n",
       "        text-align: right;\n",
       "    }\n",
       "</style>\n",
       "<table border=\"1\" class=\"dataframe\">\n",
       "  <thead>\n",
       "    <tr style=\"text-align: right;\">\n",
       "      <th></th>\n",
       "      <th>PCA 0</th>\n",
       "      <th>PCA 1</th>\n",
       "      <th>PCA 2</th>\n",
       "      <th>PCA 3</th>\n",
       "      <th>PCA 4</th>\n",
       "      <th>PCA 5</th>\n",
       "      <th>PCA 6</th>\n",
       "      <th>PCA 7</th>\n",
       "      <th>PCA 8</th>\n",
       "      <th>PCA 9</th>\n",
       "    </tr>\n",
       "  </thead>\n",
       "  <tbody>\n",
       "    <tr>\n",
       "      <th>bbeognab-1</th>\n",
       "      <td>2.074785</td>\n",
       "      <td>0.245757</td>\n",
       "      <td>0.023434</td>\n",
       "      <td>-0.204141</td>\n",
       "      <td>0.301105</td>\n",
       "      <td>-0.060961</td>\n",
       "      <td>0.208283</td>\n",
       "      <td>-0.406950</td>\n",
       "      <td>0.383026</td>\n",
       "      <td>-0.363331</td>\n",
       "    </tr>\n",
       "    <tr>\n",
       "      <th>bbeoickk-1</th>\n",
       "      <td>1.887419</td>\n",
       "      <td>-0.376444</td>\n",
       "      <td>-0.484318</td>\n",
       "      <td>-0.783920</td>\n",
       "      <td>0.303812</td>\n",
       "      <td>0.477194</td>\n",
       "      <td>0.031323</td>\n",
       "      <td>-0.487669</td>\n",
       "      <td>-0.020543</td>\n",
       "      <td>-0.508676</td>\n",
       "    </tr>\n",
       "    <tr>\n",
       "      <th>bbepckka-1</th>\n",
       "      <td>1.526504</td>\n",
       "      <td>0.043352</td>\n",
       "      <td>0.268849</td>\n",
       "      <td>-0.673967</td>\n",
       "      <td>0.024485</td>\n",
       "      <td>0.479700</td>\n",
       "      <td>-0.360783</td>\n",
       "      <td>0.136254</td>\n",
       "      <td>0.121475</td>\n",
       "      <td>0.212064</td>\n",
       "    </tr>\n",
       "    <tr>\n",
       "      <th>bbepgdca-1</th>\n",
       "      <td>1.444822</td>\n",
       "      <td>-0.173563</td>\n",
       "      <td>-0.071653</td>\n",
       "      <td>0.204343</td>\n",
       "      <td>0.326968</td>\n",
       "      <td>1.132792</td>\n",
       "      <td>0.412587</td>\n",
       "      <td>-0.774280</td>\n",
       "      <td>0.441762</td>\n",
       "      <td>0.154006</td>\n",
       "    </tr>\n",
       "    <tr>\n",
       "      <th>bbepibli-1</th>\n",
       "      <td>1.831075</td>\n",
       "      <td>-0.172490</td>\n",
       "      <td>-0.917230</td>\n",
       "      <td>0.532854</td>\n",
       "      <td>-0.281057</td>\n",
       "      <td>-0.105172</td>\n",
       "      <td>0.297571</td>\n",
       "      <td>-0.182372</td>\n",
       "      <td>0.264083</td>\n",
       "      <td>0.328781</td>\n",
       "    </tr>\n",
       "    <tr>\n",
       "      <th>...</th>\n",
       "      <td>...</td>\n",
       "      <td>...</td>\n",
       "      <td>...</td>\n",
       "      <td>...</td>\n",
       "      <td>...</td>\n",
       "      <td>...</td>\n",
       "      <td>...</td>\n",
       "      <td>...</td>\n",
       "      <td>...</td>\n",
       "      <td>...</td>\n",
       "    </tr>\n",
       "    <tr>\n",
       "      <th>oanleihg-1</th>\n",
       "      <td>-3.184842</td>\n",
       "      <td>-0.481604</td>\n",
       "      <td>0.098720</td>\n",
       "      <td>-1.368798</td>\n",
       "      <td>2.467735</td>\n",
       "      <td>-1.680424</td>\n",
       "      <td>0.998372</td>\n",
       "      <td>0.083797</td>\n",
       "      <td>-0.362897</td>\n",
       "      <td>-0.378290</td>\n",
       "    </tr>\n",
       "    <tr>\n",
       "      <th>oanlfaan-1</th>\n",
       "      <td>-3.321549</td>\n",
       "      <td>-0.629458</td>\n",
       "      <td>0.137379</td>\n",
       "      <td>-1.046023</td>\n",
       "      <td>0.259056</td>\n",
       "      <td>-0.435916</td>\n",
       "      <td>0.135748</td>\n",
       "      <td>0.049861</td>\n",
       "      <td>-0.061737</td>\n",
       "      <td>-0.677602</td>\n",
       "    </tr>\n",
       "    <tr>\n",
       "      <th>oanmapng-1</th>\n",
       "      <td>-1.624096</td>\n",
       "      <td>-1.117537</td>\n",
       "      <td>-0.568660</td>\n",
       "      <td>-1.149179</td>\n",
       "      <td>-1.911695</td>\n",
       "      <td>-0.569097</td>\n",
       "      <td>0.430732</td>\n",
       "      <td>-0.210447</td>\n",
       "      <td>-0.385681</td>\n",
       "      <td>0.736354</td>\n",
       "    </tr>\n",
       "    <tr>\n",
       "      <th>oanmbbjc-1</th>\n",
       "      <td>-2.271972</td>\n",
       "      <td>-0.928223</td>\n",
       "      <td>-0.115670</td>\n",
       "      <td>-1.440910</td>\n",
       "      <td>-1.031893</td>\n",
       "      <td>-0.359981</td>\n",
       "      <td>-0.584334</td>\n",
       "      <td>-0.560318</td>\n",
       "      <td>-0.427073</td>\n",
       "      <td>-0.787591</td>\n",
       "    </tr>\n",
       "    <tr>\n",
       "      <th>obghcbkc-1</th>\n",
       "      <td>-1.359531</td>\n",
       "      <td>-0.749851</td>\n",
       "      <td>0.926095</td>\n",
       "      <td>0.849639</td>\n",
       "      <td>-0.863733</td>\n",
       "      <td>-0.058274</td>\n",
       "      <td>0.321774</td>\n",
       "      <td>-0.667011</td>\n",
       "      <td>0.843207</td>\n",
       "      <td>-1.005465</td>\n",
       "    </tr>\n",
       "  </tbody>\n",
       "</table>\n",
       "<p>3100 rows × 10 columns</p>\n",
       "</div>"
      ],
      "text/plain": [
       "               PCA 0     PCA 1     PCA 2     PCA 3     PCA 4     PCA 5  \\\n",
       "bbeognab-1  2.074785  0.245757  0.023434 -0.204141  0.301105 -0.060961   \n",
       "bbeoickk-1  1.887419 -0.376444 -0.484318 -0.783920  0.303812  0.477194   \n",
       "bbepckka-1  1.526504  0.043352  0.268849 -0.673967  0.024485  0.479700   \n",
       "bbepgdca-1  1.444822 -0.173563 -0.071653  0.204343  0.326968  1.132792   \n",
       "bbepibli-1  1.831075 -0.172490 -0.917230  0.532854 -0.281057 -0.105172   \n",
       "...              ...       ...       ...       ...       ...       ...   \n",
       "oanleihg-1 -3.184842 -0.481604  0.098720 -1.368798  2.467735 -1.680424   \n",
       "oanlfaan-1 -3.321549 -0.629458  0.137379 -1.046023  0.259056 -0.435916   \n",
       "oanmapng-1 -1.624096 -1.117537 -0.568660 -1.149179 -1.911695 -0.569097   \n",
       "oanmbbjc-1 -2.271972 -0.928223 -0.115670 -1.440910 -1.031893 -0.359981   \n",
       "obghcbkc-1 -1.359531 -0.749851  0.926095  0.849639 -0.863733 -0.058274   \n",
       "\n",
       "               PCA 6     PCA 7     PCA 8     PCA 9  \n",
       "bbeognab-1  0.208283 -0.406950  0.383026 -0.363331  \n",
       "bbeoickk-1  0.031323 -0.487669 -0.020543 -0.508676  \n",
       "bbepckka-1 -0.360783  0.136254  0.121475  0.212064  \n",
       "bbepgdca-1  0.412587 -0.774280  0.441762  0.154006  \n",
       "bbepibli-1  0.297571 -0.182372  0.264083  0.328781  \n",
       "...              ...       ...       ...       ...  \n",
       "oanleihg-1  0.998372  0.083797 -0.362897 -0.378290  \n",
       "oanlfaan-1  0.135748  0.049861 -0.061737 -0.677602  \n",
       "oanmapng-1  0.430732 -0.210447 -0.385681  0.736354  \n",
       "oanmbbjc-1 -0.584334 -0.560318 -0.427073 -0.787591  \n",
       "obghcbkc-1  0.321774 -0.667011  0.843207 -1.005465  \n",
       "\n",
       "[3100 rows x 10 columns]"
      ]
     },
     "execution_count": 34,
     "metadata": {},
     "output_type": "execute_result"
    }
   ],
   "source": [
    "import pandas as pd\n",
    "pca_df = pd.DataFrame(a.obsm['X_pca'][:, :10], columns=[f'PCA {i}' for i in range(10)], index=a.obs.index)\n",
    "pca_df"
   ]
  },
  {
   "cell_type": "code",
   "execution_count": 43,
   "id": "798a7a0d",
   "metadata": {},
   "outputs": [
    {
     "ename": "AssertionError",
     "evalue": "Name must be unique. Name already exists: ['Transcript Counts', 'Kmeans N=10', 'PCAs']",
     "output_type": "error",
     "traceback": [
      "\u001b[31m---------------------------------------------------------------------------\u001b[39m",
      "\u001b[31mAssertionError\u001b[39m                            Traceback (most recent call last)",
      "\u001b[36mCell\u001b[39m\u001b[36m \u001b[39m\u001b[32mIn[43]\u001b[39m\u001b[32m, line 1\u001b[39m\n\u001b[32m----> \u001b[39m\u001b[32m1\u001b[39m \u001b[43mexperiment\u001b[49m\u001b[43m.\u001b[49m\u001b[43madd_continuous_layer_metadata\u001b[49m\u001b[43m(\u001b[49m\u001b[33;43m'\u001b[39;49m\u001b[33;43mPCAs\u001b[39;49m\u001b[33;43m'\u001b[39;49m\u001b[43m,\u001b[49m\u001b[43m \u001b[49m\u001b[43mpca_df\u001b[49m\u001b[43m,\u001b[49m\u001b[43m \u001b[49m\u001b[43mlayer\u001b[49m\u001b[43m)\u001b[49m\n",
      "\u001b[36mFile \u001b[39m\u001b[32m<string>:8\u001b[39m, in \u001b[36madd_continuous_layer_metadata\u001b[39m\u001b[34m(self, name, values_df, layer)\u001b[39m\n",
      "\u001b[31mAssertionError\u001b[39m: Name must be unique. Name already exists: ['Transcript Counts', 'Kmeans N=10', 'PCAs']"
     ]
    }
   ],
   "source": [
    "experiment.add_continuous_layer_metadata('PCAs', pca_df, layer)"
   ]
  },
  {
   "cell_type": "code",
   "execution_count": null,
   "id": "a93289d7",
   "metadata": {},
   "outputs": [],
   "source": []
  },
  {
   "cell_type": "code",
   "execution_count": null,
   "id": "0b7a02d7",
   "metadata": {},
   "outputs": [],
   "source": []
  },
  {
   "cell_type": "code",
   "execution_count": null,
   "id": "517c3af7",
   "metadata": {},
   "outputs": [],
   "source": []
  },
  {
   "cell_type": "code",
   "execution_count": null,
   "id": "0a2d0cfe",
   "metadata": {},
   "outputs": [],
   "source": [
    "from cosilico_py.preprocessing.core.layer import write_continuous_ungrouped_layer_metadata\n",
    "cont_lm = write_continuous_ungrouped_layer_metadata(\n",
    "    layer.id, ## layer_id: Annotated[str, 'ID of the parent layer.'],\n",
    "    'PCAs', # name: Annotated[str, 'Name of the Layer Metadata.'],\n",
    "    pca_df, # values_df: Annotated[pd.DataFrame, 'Dataframe with continuous variables we are writing for this variable group. Must be in the same order as the IDs on the parent layer and index must be entity IDs from the parent layer.'],\n",
    "    layer.local_path, # parent_zarr_path: Annotated[str, 'Filepath to parent layer zarr.'],\n",
    "    '~/Downloads/temp_cache', # output_directory: Annotated[os.PathLike, 'Directory in which to write the .zarr.zip file.'],\n",
    ")"
   ]
  },
  {
   "cell_type": "code",
   "execution_count": null,
   "id": "f6e06570",
   "metadata": {},
   "outputs": [],
   "source": [
    "cont_lm = experiment.add_continuous_layer_metadata(\n",
    "    \n",
    ")"
   ]
  },
  {
   "cell_type": "code",
   "execution_count": null,
   "id": "a931cbde",
   "metadata": {},
   "outputs": [],
   "source": []
  },
  {
   "cell_type": "code",
   "execution_count": null,
   "id": "d7ba62e1",
   "metadata": {},
   "outputs": [],
   "source": []
  },
  {
   "cell_type": "code",
   "execution_count": null,
   "id": "3c6611b3",
   "metadata": {},
   "outputs": [],
   "source": []
  },
  {
   "cell_type": "code",
   "execution_count": null,
   "id": "22df4e5e",
   "metadata": {},
   "outputs": [],
   "source": []
  },
  {
   "cell_type": "code",
   "execution_count": null,
   "id": "29b19f9a",
   "metadata": {},
   "outputs": [],
   "source": []
  },
  {
   "cell_type": "code",
   "execution_count": null,
   "id": "a9456b56",
   "metadata": {},
   "outputs": [],
   "source": []
  },
  {
   "cell_type": "code",
   "execution_count": null,
   "id": "cd9907bd",
   "metadata": {},
   "outputs": [],
   "source": []
  },
  {
   "cell_type": "code",
   "execution_count": null,
   "id": "3cc44ec5",
   "metadata": {},
   "outputs": [],
   "source": []
  },
  {
   "cell_type": "code",
   "execution_count": null,
   "id": "3c97a6f2",
   "metadata": {},
   "outputs": [],
   "source": []
  },
  {
   "cell_type": "code",
   "execution_count": null,
   "id": "831c1814",
   "metadata": {},
   "outputs": [],
   "source": []
  },
  {
   "cell_type": "code",
   "execution_count": null,
   "id": "8eb772aa",
   "metadata": {},
   "outputs": [],
   "source": []
  },
  {
   "cell_type": "code",
   "execution_count": null,
   "id": "0f301677",
   "metadata": {},
   "outputs": [],
   "source": []
  },
  {
   "cell_type": "code",
   "execution_count": null,
   "id": "1f2e17e8",
   "metadata": {},
   "outputs": [],
   "source": []
  },
  {
   "cell_type": "code",
   "execution_count": null,
   "id": "58a9f050",
   "metadata": {},
   "outputs": [],
   "source": []
  },
  {
   "cell_type": "code",
   "execution_count": null,
   "id": "3ff4b483",
   "metadata": {},
   "outputs": [],
   "source": []
  },
  {
   "cell_type": "code",
   "execution_count": null,
   "id": "4b880c13",
   "metadata": {},
   "outputs": [],
   "source": []
  },
  {
   "cell_type": "code",
   "execution_count": null,
   "id": "d0893d2a",
   "metadata": {},
   "outputs": [],
   "source": []
  },
  {
   "cell_type": "code",
   "execution_count": 216,
   "id": "90f78916",
   "metadata": {},
   "outputs": [
    {
     "data": {
      "text/html": [
       "<table>\n",
       "    <tr>\n",
       "        <td>\n",
       "            <table style=\"border-collapse: collapse;\">\n",
       "                <thead>\n",
       "                    <tr>\n",
       "                        <td> </td>\n",
       "                        <th> Array </th>\n",
       "                        <th> Chunk </th>\n",
       "                    </tr>\n",
       "                </thead>\n",
       "                <tbody>\n",
       "                    \n",
       "                    <tr>\n",
       "                        <th> Bytes </th>\n",
       "                        <td> 3.44 MiB </td>\n",
       "                        <td> 281.24 kiB </td>\n",
       "                    </tr>\n",
       "                    \n",
       "                    <tr>\n",
       "                        <th> Shape </th>\n",
       "                        <td> (902513,) </td>\n",
       "                        <td> (71998,) </td>\n",
       "                    </tr>\n",
       "                    <tr>\n",
       "                        <th> Dask graph </th>\n",
       "                        <td colspan=\"2\"> 16 chunks in 1 graph layer </td>\n",
       "                    </tr>\n",
       "                    <tr>\n",
       "                        <th> Data type </th>\n",
       "                        <td colspan=\"2\"> float32 numpy.ndarray </td>\n",
       "                    </tr>\n",
       "                </tbody>\n",
       "            </table>\n",
       "        </td>\n",
       "        <td>\n",
       "        <svg width=\"170\" height=\"75\" style=\"stroke:rgb(0,0,0);stroke-width:1\" >\n",
       "\n",
       "  <!-- Horizontal lines -->\n",
       "  <line x1=\"0\" y1=\"0\" x2=\"120\" y2=\"0\" style=\"stroke-width:2\" />\n",
       "  <line x1=\"0\" y1=\"25\" x2=\"120\" y2=\"25\" style=\"stroke-width:2\" />\n",
       "\n",
       "  <!-- Vertical lines -->\n",
       "  <line x1=\"0\" y1=\"0\" x2=\"0\" y2=\"25\" style=\"stroke-width:2\" />\n",
       "  <line x1=\"5\" y1=\"0\" x2=\"5\" y2=\"25\" />\n",
       "  <line x1=\"13\" y1=\"0\" x2=\"13\" y2=\"25\" />\n",
       "  <line x1=\"21\" y1=\"0\" x2=\"21\" y2=\"25\" />\n",
       "  <line x1=\"30\" y1=\"0\" x2=\"30\" y2=\"25\" />\n",
       "  <line x1=\"34\" y1=\"0\" x2=\"34\" y2=\"25\" />\n",
       "  <line x1=\"44\" y1=\"0\" x2=\"44\" y2=\"25\" />\n",
       "  <line x1=\"52\" y1=\"0\" x2=\"52\" y2=\"25\" />\n",
       "  <line x1=\"59\" y1=\"0\" x2=\"59\" y2=\"25\" />\n",
       "  <line x1=\"66\" y1=\"0\" x2=\"66\" y2=\"25\" />\n",
       "  <line x1=\"73\" y1=\"0\" x2=\"73\" y2=\"25\" />\n",
       "  <line x1=\"81\" y1=\"0\" x2=\"81\" y2=\"25\" />\n",
       "  <line x1=\"88\" y1=\"0\" x2=\"88\" y2=\"25\" />\n",
       "  <line x1=\"97\" y1=\"0\" x2=\"97\" y2=\"25\" />\n",
       "  <line x1=\"104\" y1=\"0\" x2=\"104\" y2=\"25\" />\n",
       "  <line x1=\"111\" y1=\"0\" x2=\"111\" y2=\"25\" />\n",
       "  <line x1=\"120\" y1=\"0\" x2=\"120\" y2=\"25\" style=\"stroke-width:2\" />\n",
       "\n",
       "  <!-- Colored Rectangle -->\n",
       "  <polygon points=\"0.0,0.0 120.0,0.0 120.0,25.412616514582485 0.0,25.412616514582485\" style=\"fill:#ECB172A0;stroke-width:0\"/>\n",
       "\n",
       "  <!-- Text -->\n",
       "  <text x=\"60.000000\" y=\"45.412617\" font-size=\"1.0rem\" font-weight=\"100\" text-anchor=\"middle\" >902513</text>\n",
       "  <text x=\"140.000000\" y=\"12.706308\" font-size=\"1.0rem\" font-weight=\"100\" text-anchor=\"middle\" transform=\"rotate(0,140.000000,12.706308)\">1</text>\n",
       "</svg>\n",
       "        </td>\n",
       "    </tr>\n",
       "</table>"
      ],
      "text/plain": [
       "dask.array<array, shape=(902513,), dtype=float32, chunksize=(71998,), chunktype=numpy.ndarray>"
      ]
     },
     "execution_count": 216,
     "metadata": {},
     "output_type": "execute_result"
    }
   ],
   "source": [
    "arr"
   ]
  },
  {
   "cell_type": "code",
   "execution_count": 57,
   "id": "5a95d321",
   "metadata": {},
   "outputs": [
    {
     "data": {
      "text/plain": [
       "Image(id='cda6c46a-6f0c-47f4-8ce6-cf880d82f127', version='v0.0.1', experiment_id='dcda370a-7990-41bc-9ee3-a85ada5f1c61', name='Xenium Morphology', metadata=OME(\n",
       "   plates=[{'id': 'Plate:0', 'well_origin_x': 0.0, 'well_origin_x_unit': <UnitsLength.MICROMETER: 'µm'>, 'well_origin_y': 0.0, 'well_origin_y_unit': <UnitsLength.MICROMETER: 'µm'>}],\n",
       "   instruments=[{'microscope': {'manufacturer': '10x Genomics', 'model': 'Xenium', 'kind': 'microscope'}, 'id': 'Instrument:0'}],\n",
       "   images=[<1 field_type>],\n",
       "   structured_annotations={'map_annotations': [{'id': 'Annotation:0', 'value': {'Purpose': 'Nuclear'}, 'kind': 'mapannotation'}, {'id': 'Annotation:1', 'value': {'Purpose': 'Boundary'}, 'kind': 'mapannotation'}, {'id': 'Annotation:2', 'value': {'Purpose': 'Interior - RNA'}, 'kind': 'mapannotation'}, {'id': 'Annotation:3', 'value': {'Purpose': 'Interior - Protein'}, 'kind': 'mapannotation'}]},\n",
       "   uuid='urn:uuid:fddd3688-7c75-11ef-a04f-067698406db1',\n",
       "), tags=[], local_path='~/Downloads/temp_cache/cda6c46a6f0c47f48ce6cf880d82f127.zarr.zip', path='cda6c46a6f0c47f48ce6cf880d82f127.zarr.zip')"
      ]
     },
     "execution_count": 57,
     "metadata": {},
     "output_type": "execute_result"
    }
   ],
   "source": [
    "image = experiment.images[0]\n",
    "image"
   ]
  },
  {
   "cell_type": "code",
   "execution_count": 58,
   "id": "9715c7c2",
   "metadata": {},
   "outputs": [],
   "source": [
    "store = zarr.storage.ZipStore(image.local_path, mode='r')\n",
    "root = zarr.group(store=store)"
   ]
  },
  {
   "cell_type": "code",
   "execution_count": 63,
   "id": "87e6b13f",
   "metadata": {},
   "outputs": [
    {
     "name": "stdout",
     "output_type": "stream",
     "text": [
      "/\n",
      " └── zooms\n",
      "     ├── 2048\n",
      "     │   └── tiles (2, 2, 1, 4, 1, 512, 512) uint8\n",
      "     ├── 512\n",
      "     │   └── tiles (6, 6, 1, 4, 1, 512, 512) uint8\n",
      "     └── 8192\n",
      "         └── tiles (1, 1, 1, 4, 1, 512, 512) uint8\n"
     ]
    }
   ],
   "source": [
    "print(root.tree())"
   ]
  },
  {
   "cell_type": "code",
   "execution_count": 86,
   "id": "dc0a450a",
   "metadata": {},
   "outputs": [
    {
     "data": {
      "text/plain": [
       "512"
      ]
     },
     "execution_count": 86,
     "metadata": {},
     "output_type": "execute_result"
    }
   ],
   "source": [
    "import numpy as np\n",
    "min([int(x) for x in list(root['zooms'].group_keys())])"
   ]
  },
  {
   "cell_type": "code",
   "execution_count": 64,
   "id": "78f0f1b9",
   "metadata": {},
   "outputs": [],
   "source": [
    "import dask.array as da"
   ]
  },
  {
   "cell_type": "code",
   "execution_count": 70,
   "id": "1a27bbf7",
   "metadata": {},
   "outputs": [
    {
     "data": {
      "text/html": [
       "<table>\n",
       "    <tr>\n",
       "        <td>\n",
       "            <table style=\"border-collapse: collapse;\">\n",
       "                <thead>\n",
       "                    <tr>\n",
       "                        <td> </td>\n",
       "                        <th> Array </th>\n",
       "                        <th> Chunk </th>\n",
       "                    </tr>\n",
       "                </thead>\n",
       "                <tbody>\n",
       "                    \n",
       "                    <tr>\n",
       "                        <th> Bytes </th>\n",
       "                        <td> 36.00 MiB </td>\n",
       "                        <td> 256.00 kiB </td>\n",
       "                    </tr>\n",
       "                    \n",
       "                    <tr>\n",
       "                        <th> Shape </th>\n",
       "                        <td> (6, 6, 1, 4, 1, 512, 512) </td>\n",
       "                        <td> (1, 1, 1, 1, 1, 512, 512) </td>\n",
       "                    </tr>\n",
       "                    <tr>\n",
       "                        <th> Dask graph </th>\n",
       "                        <td colspan=\"2\"> 144 chunks in 2 graph layers </td>\n",
       "                    </tr>\n",
       "                    <tr>\n",
       "                        <th> Data type </th>\n",
       "                        <td colspan=\"2\"> uint8 numpy.ndarray </td>\n",
       "                    </tr>\n",
       "                </tbody>\n",
       "            </table>\n",
       "        </td>\n",
       "        <td>\n",
       "        <svg width=\"768\" height=\"184\" style=\"stroke:rgb(0,0,0);stroke-width:1\" >\n",
       "\n",
       "  <!-- Horizontal lines -->\n",
       "  <line x1=\"0\" y1=\"0\" x2=\"26\" y2=\"0\" style=\"stroke-width:2\" />\n",
       "  <line x1=\"0\" y1=\"25\" x2=\"26\" y2=\"25\" style=\"stroke-width:2\" />\n",
       "\n",
       "  <!-- Vertical lines -->\n",
       "  <line x1=\"0\" y1=\"0\" x2=\"0\" y2=\"25\" style=\"stroke-width:2\" />\n",
       "  <line x1=\"4\" y1=\"0\" x2=\"4\" y2=\"25\" />\n",
       "  <line x1=\"8\" y1=\"0\" x2=\"8\" y2=\"25\" />\n",
       "  <line x1=\"13\" y1=\"0\" x2=\"13\" y2=\"25\" />\n",
       "  <line x1=\"17\" y1=\"0\" x2=\"17\" y2=\"25\" />\n",
       "  <line x1=\"21\" y1=\"0\" x2=\"21\" y2=\"25\" />\n",
       "  <line x1=\"26\" y1=\"0\" x2=\"26\" y2=\"25\" style=\"stroke-width:2\" />\n",
       "\n",
       "  <!-- Colored Rectangle -->\n",
       "  <polygon points=\"0.0,0.0 26.188049901537102,0.0 26.188049901537102,25.412616514582485 0.0,25.412616514582485\" style=\"fill:#ECB172A0;stroke-width:0\"/>\n",
       "\n",
       "  <!-- Text -->\n",
       "  <text x=\"13.094025\" y=\"45.412617\" font-size=\"1.0rem\" font-weight=\"100\" text-anchor=\"middle\" >6</text>\n",
       "  <text x=\"46.188050\" y=\"12.706308\" font-size=\"1.0rem\" font-weight=\"100\" text-anchor=\"middle\" transform=\"rotate(0,46.188050,12.706308)\">1</text>\n",
       "\n",
       "\n",
       "  <!-- Horizontal lines -->\n",
       "  <line x1=\"96\" y1=\"0\" x2=\"111\" y2=\"15\" style=\"stroke-width:2\" />\n",
       "  <line x1=\"96\" y1=\"25\" x2=\"111\" y2=\"40\" style=\"stroke-width:2\" />\n",
       "\n",
       "  <!-- Vertical lines -->\n",
       "  <line x1=\"96\" y1=\"0\" x2=\"96\" y2=\"25\" style=\"stroke-width:2\" />\n",
       "  <line x1=\"98\" y1=\"2\" x2=\"98\" y2=\"27\" />\n",
       "  <line x1=\"101\" y1=\"5\" x2=\"101\" y2=\"30\" />\n",
       "  <line x1=\"103\" y1=\"7\" x2=\"103\" y2=\"33\" />\n",
       "  <line x1=\"106\" y1=\"10\" x2=\"106\" y2=\"35\" />\n",
       "  <line x1=\"108\" y1=\"12\" x2=\"108\" y2=\"38\" />\n",
       "  <line x1=\"111\" y1=\"15\" x2=\"111\" y2=\"40\" style=\"stroke-width:2\" />\n",
       "\n",
       "  <!-- Colored Rectangle -->\n",
       "  <polygon points=\"96.0,0.0 111.40473523619829,15.404735236198295 111.40473523619829,40.81735175078078 96.0,25.412616514582485\" style=\"fill:#ECB172A0;stroke-width:0\"/>\n",
       "\n",
       "  <!-- Horizontal lines -->\n",
       "  <line x1=\"96\" y1=\"0\" x2=\"121\" y2=\"0\" style=\"stroke-width:2\" />\n",
       "  <line x1=\"98\" y1=\"2\" x2=\"123\" y2=\"2\" />\n",
       "  <line x1=\"101\" y1=\"5\" x2=\"126\" y2=\"5\" />\n",
       "  <line x1=\"103\" y1=\"7\" x2=\"129\" y2=\"7\" />\n",
       "  <line x1=\"106\" y1=\"10\" x2=\"131\" y2=\"10\" />\n",
       "  <line x1=\"108\" y1=\"12\" x2=\"134\" y2=\"12\" />\n",
       "  <line x1=\"111\" y1=\"15\" x2=\"136\" y2=\"15\" style=\"stroke-width:2\" />\n",
       "\n",
       "  <!-- Vertical lines -->\n",
       "  <line x1=\"96\" y1=\"0\" x2=\"111\" y2=\"15\" style=\"stroke-width:2\" />\n",
       "  <line x1=\"102\" y1=\"0\" x2=\"117\" y2=\"15\" />\n",
       "  <line x1=\"108\" y1=\"0\" x2=\"124\" y2=\"15\" />\n",
       "  <line x1=\"115\" y1=\"0\" x2=\"130\" y2=\"15\" />\n",
       "  <line x1=\"121\" y1=\"0\" x2=\"136\" y2=\"15\" style=\"stroke-width:2\" />\n",
       "\n",
       "  <!-- Colored Rectangle -->\n",
       "  <polygon points=\"96.0,0.0 121.41261651458248,0.0 136.81735175078077,15.404735236198295 111.40473523619829,15.404735236198295\" style=\"fill:#ECB172A0;stroke-width:0\"/>\n",
       "\n",
       "  <!-- Horizontal lines -->\n",
       "  <line x1=\"111\" y1=\"15\" x2=\"136\" y2=\"15\" style=\"stroke-width:2\" />\n",
       "  <line x1=\"111\" y1=\"40\" x2=\"136\" y2=\"40\" style=\"stroke-width:2\" />\n",
       "\n",
       "  <!-- Vertical lines -->\n",
       "  <line x1=\"111\" y1=\"15\" x2=\"111\" y2=\"40\" style=\"stroke-width:2\" />\n",
       "  <line x1=\"117\" y1=\"15\" x2=\"117\" y2=\"40\" />\n",
       "  <line x1=\"124\" y1=\"15\" x2=\"124\" y2=\"40\" />\n",
       "  <line x1=\"130\" y1=\"15\" x2=\"130\" y2=\"40\" />\n",
       "  <line x1=\"136\" y1=\"15\" x2=\"136\" y2=\"40\" style=\"stroke-width:2\" />\n",
       "\n",
       "  <!-- Colored Rectangle -->\n",
       "  <polygon points=\"111.40473523619829,15.404735236198295 136.81735175078077,15.404735236198295 136.81735175078077,40.81735175078078 111.40473523619829,40.81735175078078\" style=\"fill:#ECB172A0;stroke-width:0\"/>\n",
       "\n",
       "  <!-- Text -->\n",
       "  <text x=\"124.111043\" y=\"60.817352\" font-size=\"1.0rem\" font-weight=\"100\" text-anchor=\"middle\" >4</text>\n",
       "  <text x=\"156.817352\" y=\"28.111043\" font-size=\"1.0rem\" font-weight=\"100\" text-anchor=\"middle\" transform=\"rotate(0,156.817352,28.111043)\">1</text>\n",
       "  <text x=\"93.702368\" y=\"53.114984\" font-size=\"1.0rem\" font-weight=\"100\" text-anchor=\"middle\" transform=\"rotate(45,93.702368,53.114984)\">6</text>\n",
       "\n",
       "\n",
       "  <!-- Horizontal lines -->\n",
       "  <line x1=\"292\" y1=\"0\" x2=\"306\" y2=\"14\" style=\"stroke-width:2\" />\n",
       "  <line x1=\"292\" y1=\"120\" x2=\"306\" y2=\"134\" style=\"stroke-width:2\" />\n",
       "\n",
       "  <!-- Vertical lines -->\n",
       "  <line x1=\"292\" y1=\"0\" x2=\"292\" y2=\"120\" style=\"stroke-width:2\" />\n",
       "  <line x1=\"306\" y1=\"14\" x2=\"306\" y2=\"134\" style=\"stroke-width:2\" />\n",
       "\n",
       "  <!-- Colored Rectangle -->\n",
       "  <polygon points=\"292.0,0.0 306.9485979497544,14.948597949754403 306.9485979497544,134.9485979497544 292.0,120.0\" style=\"fill:#ECB172A0;stroke-width:0\"/>\n",
       "\n",
       "  <!-- Horizontal lines -->\n",
       "  <line x1=\"292\" y1=\"0\" x2=\"412\" y2=\"0\" style=\"stroke-width:2\" />\n",
       "  <line x1=\"306\" y1=\"14\" x2=\"426\" y2=\"14\" style=\"stroke-width:2\" />\n",
       "\n",
       "  <!-- Vertical lines -->\n",
       "  <line x1=\"292\" y1=\"0\" x2=\"306\" y2=\"14\" style=\"stroke-width:2\" />\n",
       "  <line x1=\"412\" y1=\"0\" x2=\"426\" y2=\"14\" style=\"stroke-width:2\" />\n",
       "\n",
       "  <!-- Colored Rectangle -->\n",
       "  <polygon points=\"292.0,0.0 412.0,0.0 426.9485979497544,14.948597949754403 306.9485979497544,14.948597949754403\" style=\"fill:#ECB172A0;stroke-width:0\"/>\n",
       "\n",
       "  <!-- Horizontal lines -->\n",
       "  <line x1=\"306\" y1=\"14\" x2=\"426\" y2=\"14\" style=\"stroke-width:2\" />\n",
       "  <line x1=\"306\" y1=\"134\" x2=\"426\" y2=\"134\" style=\"stroke-width:2\" />\n",
       "\n",
       "  <!-- Vertical lines -->\n",
       "  <line x1=\"306\" y1=\"14\" x2=\"306\" y2=\"134\" style=\"stroke-width:2\" />\n",
       "  <line x1=\"426\" y1=\"14\" x2=\"426\" y2=\"134\" style=\"stroke-width:2\" />\n",
       "\n",
       "  <!-- Colored Rectangle -->\n",
       "  <polygon points=\"306.9485979497544,14.948597949754403 426.9485979497544,14.948597949754403 426.9485979497544,134.9485979497544 306.9485979497544,134.9485979497544\" style=\"fill:#ECB172A0;stroke-width:0\"/>\n",
       "\n",
       "  <!-- Text -->\n",
       "  <text x=\"366.948598\" y=\"154.948598\" font-size=\"1.0rem\" font-weight=\"100\" text-anchor=\"middle\" >512</text>\n",
       "  <text x=\"446.948598\" y=\"74.948598\" font-size=\"1.0rem\" font-weight=\"100\" text-anchor=\"middle\" transform=\"rotate(-90,446.948598,74.948598)\">512</text>\n",
       "  <text x=\"289.474299\" y=\"147.474299\" font-size=\"1.0rem\" font-weight=\"100\" text-anchor=\"middle\" transform=\"rotate(45,289.474299,147.474299)\">1</text>\n",
       "</svg>\n",
       "        </td>\n",
       "    </tr>\n",
       "</table>"
      ],
      "text/plain": [
       "dask.array<from-zarr, shape=(6, 6, 1, 4, 1, 512, 512), dtype=uint8, chunksize=(1, 1, 1, 1, 1, 512, 512), chunktype=numpy.ndarray>"
      ]
     },
     "execution_count": 70,
     "metadata": {},
     "output_type": "execute_result"
    }
   ],
   "source": [
    "arr = da.from_zarr(root['zooms/512/tiles'])\n",
    "arr"
   ]
  },
  {
   "cell_type": "code",
   "execution_count": 73,
   "id": "172fc76e",
   "metadata": {},
   "outputs": [
    {
     "data": {
      "text/html": [
       "<table>\n",
       "    <tr>\n",
       "        <td>\n",
       "            <table style=\"border-collapse: collapse;\">\n",
       "                <thead>\n",
       "                    <tr>\n",
       "                        <td> </td>\n",
       "                        <th> Array </th>\n",
       "                        <th> Chunk </th>\n",
       "                    </tr>\n",
       "                </thead>\n",
       "                <tbody>\n",
       "                    \n",
       "                    <tr>\n",
       "                        <th> Bytes </th>\n",
       "                        <td> 36.00 MiB </td>\n",
       "                        <td> 256.00 kiB </td>\n",
       "                    </tr>\n",
       "                    \n",
       "                    <tr>\n",
       "                        <th> Shape </th>\n",
       "                        <td> (3072, 3072, 1, 4, 1) </td>\n",
       "                        <td> (512, 512, 1, 1, 1) </td>\n",
       "                    </tr>\n",
       "                    <tr>\n",
       "                        <th> Dask graph </th>\n",
       "                        <td colspan=\"2\"> 144 chunks in 4 graph layers </td>\n",
       "                    </tr>\n",
       "                    <tr>\n",
       "                        <th> Data type </th>\n",
       "                        <td colspan=\"2\"> uint8 numpy.ndarray </td>\n",
       "                    </tr>\n",
       "                </tbody>\n",
       "            </table>\n",
       "        </td>\n",
       "        <td>\n",
       "        <svg width=\"470\" height=\"170\" style=\"stroke:rgb(0,0,0);stroke-width:1\" >\n",
       "\n",
       "  <!-- Horizontal lines -->\n",
       "  <line x1=\"0\" y1=\"0\" x2=\"120\" y2=\"0\" style=\"stroke-width:2\" />\n",
       "  <line x1=\"0\" y1=\"20\" x2=\"120\" y2=\"20\" />\n",
       "  <line x1=\"0\" y1=\"40\" x2=\"120\" y2=\"40\" />\n",
       "  <line x1=\"0\" y1=\"60\" x2=\"120\" y2=\"60\" />\n",
       "  <line x1=\"0\" y1=\"80\" x2=\"120\" y2=\"80\" />\n",
       "  <line x1=\"0\" y1=\"100\" x2=\"120\" y2=\"100\" />\n",
       "  <line x1=\"0\" y1=\"120\" x2=\"120\" y2=\"120\" style=\"stroke-width:2\" />\n",
       "\n",
       "  <!-- Vertical lines -->\n",
       "  <line x1=\"0\" y1=\"0\" x2=\"0\" y2=\"120\" style=\"stroke-width:2\" />\n",
       "  <line x1=\"20\" y1=\"0\" x2=\"20\" y2=\"120\" />\n",
       "  <line x1=\"40\" y1=\"0\" x2=\"40\" y2=\"120\" />\n",
       "  <line x1=\"60\" y1=\"0\" x2=\"60\" y2=\"120\" />\n",
       "  <line x1=\"80\" y1=\"0\" x2=\"80\" y2=\"120\" />\n",
       "  <line x1=\"100\" y1=\"0\" x2=\"100\" y2=\"120\" />\n",
       "  <line x1=\"120\" y1=\"0\" x2=\"120\" y2=\"120\" style=\"stroke-width:2\" />\n",
       "\n",
       "  <!-- Colored Rectangle -->\n",
       "  <polygon points=\"0.0,0.0 120.0,0.0 120.0,120.0 0.0,120.0\" style=\"fill:#ECB172A0;stroke-width:0\"/>\n",
       "\n",
       "  <!-- Text -->\n",
       "  <text x=\"60.000000\" y=\"140.000000\" font-size=\"1.0rem\" font-weight=\"100\" text-anchor=\"middle\" >3072</text>\n",
       "  <text x=\"140.000000\" y=\"60.000000\" font-size=\"1.0rem\" font-weight=\"100\" text-anchor=\"middle\" transform=\"rotate(-90,140.000000,60.000000)\">3072</text>\n",
       "\n",
       "\n",
       "  <!-- Horizontal lines -->\n",
       "  <line x1=\"190\" y1=\"0\" x2=\"204\" y2=\"14\" style=\"stroke-width:2\" />\n",
       "  <line x1=\"190\" y1=\"6\" x2=\"204\" y2=\"21\" />\n",
       "  <line x1=\"190\" y1=\"12\" x2=\"204\" y2=\"27\" />\n",
       "  <line x1=\"190\" y1=\"19\" x2=\"204\" y2=\"34\" />\n",
       "  <line x1=\"190\" y1=\"25\" x2=\"204\" y2=\"40\" style=\"stroke-width:2\" />\n",
       "\n",
       "  <!-- Vertical lines -->\n",
       "  <line x1=\"190\" y1=\"0\" x2=\"190\" y2=\"25\" style=\"stroke-width:2\" />\n",
       "  <line x1=\"204\" y1=\"14\" x2=\"204\" y2=\"40\" style=\"stroke-width:2\" />\n",
       "\n",
       "  <!-- Colored Rectangle -->\n",
       "  <polygon points=\"190.0,0.0 204.9485979497544,14.948597949754403 204.9485979497544,40.36121446433689 190.0,25.412616514582485\" style=\"fill:#ECB172A0;stroke-width:0\"/>\n",
       "\n",
       "  <!-- Horizontal lines -->\n",
       "  <line x1=\"190\" y1=\"0\" x2=\"215\" y2=\"0\" style=\"stroke-width:2\" />\n",
       "  <line x1=\"204\" y1=\"14\" x2=\"230\" y2=\"14\" style=\"stroke-width:2\" />\n",
       "\n",
       "  <!-- Vertical lines -->\n",
       "  <line x1=\"190\" y1=\"0\" x2=\"204\" y2=\"14\" style=\"stroke-width:2\" />\n",
       "  <line x1=\"215\" y1=\"0\" x2=\"230\" y2=\"14\" style=\"stroke-width:2\" />\n",
       "\n",
       "  <!-- Colored Rectangle -->\n",
       "  <polygon points=\"190.0,0.0 215.41261651458248,0.0 230.36121446433688,14.948597949754403 204.9485979497544,14.948597949754403\" style=\"fill:#ECB172A0;stroke-width:0\"/>\n",
       "\n",
       "  <!-- Horizontal lines -->\n",
       "  <line x1=\"204\" y1=\"14\" x2=\"230\" y2=\"14\" style=\"stroke-width:2\" />\n",
       "  <line x1=\"204\" y1=\"21\" x2=\"230\" y2=\"21\" />\n",
       "  <line x1=\"204\" y1=\"27\" x2=\"230\" y2=\"27\" />\n",
       "  <line x1=\"204\" y1=\"34\" x2=\"230\" y2=\"34\" />\n",
       "  <line x1=\"204\" y1=\"40\" x2=\"230\" y2=\"40\" style=\"stroke-width:2\" />\n",
       "\n",
       "  <!-- Vertical lines -->\n",
       "  <line x1=\"204\" y1=\"14\" x2=\"204\" y2=\"40\" style=\"stroke-width:2\" />\n",
       "  <line x1=\"230\" y1=\"14\" x2=\"230\" y2=\"40\" style=\"stroke-width:2\" />\n",
       "\n",
       "  <!-- Colored Rectangle -->\n",
       "  <polygon points=\"204.9485979497544,14.948597949754403 230.36121446433688,14.948597949754403 230.36121446433688,40.36121446433689 204.9485979497544,40.36121446433689\" style=\"fill:#ECB172A0;stroke-width:0\"/>\n",
       "\n",
       "  <!-- Text -->\n",
       "  <text x=\"217.654906\" y=\"60.361214\" font-size=\"1.0rem\" font-weight=\"100\" text-anchor=\"middle\" >1</text>\n",
       "  <text x=\"250.361214\" y=\"27.654906\" font-size=\"1.0rem\" font-weight=\"100\" text-anchor=\"middle\" transform=\"rotate(0,250.361214,27.654906)\">4</text>\n",
       "  <text x=\"187.474299\" y=\"52.886915\" font-size=\"1.0rem\" font-weight=\"100\" text-anchor=\"middle\" transform=\"rotate(45,187.474299,52.886915)\">1</text>\n",
       "</svg>\n",
       "        </td>\n",
       "    </tr>\n",
       "</table>"
      ],
      "text/plain": [
       "dask.array<reshape, shape=(3072, 3072, 1, 4, 1), dtype=uint8, chunksize=(512, 512, 1, 1, 1), chunktype=numpy.ndarray>"
      ]
     },
     "execution_count": 73,
     "metadata": {},
     "output_type": "execute_result"
    }
   ],
   "source": [
    "a, b, c, d, e, f, g = arr.shape\n",
    "r_arr = da.einsum('abcdefg->afbgcde', arr)\n",
    "r_arr = r_arr.reshape(a * f, b * g, c, d, e)\n",
    "r_arr"
   ]
  },
  {
   "cell_type": "code",
   "execution_count": 75,
   "id": "c0bfa52f",
   "metadata": {},
   "outputs": [
    {
     "data": {
      "text/plain": [
       "<matplotlib.image.AxesImage at 0x2ca4357f0>"
      ]
     },
     "execution_count": 75,
     "metadata": {},
     "output_type": "execute_result"
    },
    {
     "data": {
      "image/png": "[encoded data removed]",
      "text/plain": [
       "<Figure size 640x480 with 1 Axes>"
      ]
     },
     "metadata": {},
     "output_type": "display_data"
    }
   ],
   "source": [
    "import matplotlib.pyplot as plt\n",
    "plt.imshow(r_arr[:, :, 0, 0, 0])"
   ]
  },
  {
   "cell_type": "code",
   "execution_count": 87,
   "id": "d30ce1ef",
   "metadata": {},
   "outputs": [],
   "source": [
    "narr = r_arr[:, :, 0, 0, 0].compute()"
   ]
  },
  {
   "cell_type": "code",
   "execution_count": 88,
   "id": "651678f2",
   "metadata": {},
   "outputs": [
    {
     "data": {
      "text/plain": [
       "array([[35, 32, 30, ...,  5,  4,  4],\n",
       "       [36, 33, 32, ...,  5,  4,  4],\n",
       "       [43, 36, 32, ...,  4,  4,  4],\n",
       "       ...,\n",
       "       [44, 42, 42, ...,  0,  0,  0],\n",
       "       [48, 45, 44, ...,  0,  0,  0],\n",
       "       [51, 46, 44, ...,  0,  0,  0]], shape=(3072, 3072), dtype=uint8)"
      ]
     },
     "execution_count": 88,
     "metadata": {},
     "output_type": "execute_result"
    }
   ],
   "source": [
    "narr"
   ]
  },
  {
   "cell_type": "code",
   "execution_count": null,
   "id": "deab5e4e",
   "metadata": {},
   "outputs": [],
   "source": [
    "# tx, ty, t, c, z, sy, sx\n",
    "a, b, c, d, e, f, g = arr.shape\n",
    "\n",
    "# 1.  Bring the axes you want to fuse next-to-each-other\n",
    "#     (0,5,1,6,2,3,4)  ≡  (a,f,b,g,c,d,e)\n",
    "r_arr = da.einsum('abcdefg->afbgcde', x)\n",
    "\n",
    "# 2.  Collapse the neighbouring pairs with a reshape\n",
    "x = x.reshape(a * f, b * g, c, d, e)"
   ]
  },
  {
   "cell_type": "code",
   "execution_count": null,
   "id": "fd63250c",
   "metadata": {},
   "outputs": [],
   "source": [
    "tx, ty, t, c, z, sy, sx"
   ]
  },
  {
   "cell_type": "code",
   "execution_count": null,
   "id": "1c37b0f8",
   "metadata": {},
   "outputs": [],
   "source": []
  },
  {
   "cell_type": "code",
   "execution_count": null,
   "id": "2b297d8b",
   "metadata": {},
   "outputs": [],
   "source": []
  },
  {
   "cell_type": "code",
   "execution_count": null,
   "id": "8f6b2dd7",
   "metadata": {},
   "outputs": [],
   "source": []
  },
  {
   "cell_type": "code",
   "execution_count": null,
   "id": "4d7cf92e",
   "metadata": {},
   "outputs": [],
   "source": []
  },
  {
   "cell_type": "code",
   "execution_count": 40,
   "id": "22ea3bfa",
   "metadata": {},
   "outputs": [],
   "source": [
    "from anytree.importer import DictImporter\n",
    "from anytree import RenderTree\n",
    "importer = DictImporter()"
   ]
  },
  {
   "cell_type": "code",
   "execution_count": 41,
   "id": "cc6acbda",
   "metadata": {},
   "outputs": [],
   "source": [
    "data = {\n",
    "    'name': 'root',\n",
    "    'id': 'lsdkfj',\n",
    "    'p'\n",
    "    'children': [\n",
    "        {\n",
    "            'name': 'sub0',\n",
    "            'id': 'aldskfj'\n",
    "            'children': [\n",
    "                {\n",
    "                    'a': 'sub0A',\n",
    "                    'b': 'foo'\n",
    "                },\n",
    "                {\n",
    "                    'a': 'sub0B'\n",
    "                }\n",
    "            ]\n",
    "        },\n",
    "        {\n",
    "            'a': 'sub1'\n",
    "        }\n",
    "    ]\n",
    "}"
   ]
  },
  {
   "cell_type": "code",
   "execution_count": 42,
   "id": "cad73fbf",
   "metadata": {},
   "outputs": [],
   "source": [
    "root = importer.import_(data)"
   ]
  },
  {
   "cell_type": "code",
   "execution_count": 43,
   "id": "7305c879",
   "metadata": {},
   "outputs": [
    {
     "data": {
      "text/html": [
       "<pre style=\"white-space:pre;overflow-x:auto;line-height:normal;font-family:Menlo,'DejaVu Sans Mono',consolas,'Courier New',monospace\"><span style=\"color: #800080; text-decoration-color: #800080; font-weight: bold\">AnyNode</span><span style=\"font-weight: bold\">(</span><span style=\"color: #808000; text-decoration-color: #808000\">a</span>=<span style=\"color: #008000; text-decoration-color: #008000\">'root'</span><span style=\"font-weight: bold\">)</span>\n",
       "├── <span style=\"color: #800080; text-decoration-color: #800080; font-weight: bold\">AnyNode</span><span style=\"font-weight: bold\">(</span><span style=\"color: #808000; text-decoration-color: #808000\">a</span>=<span style=\"color: #008000; text-decoration-color: #008000\">'sub0'</span><span style=\"font-weight: bold\">)</span>\n",
       "│   ├── <span style=\"color: #800080; text-decoration-color: #800080; font-weight: bold\">AnyNode</span><span style=\"font-weight: bold\">(</span><span style=\"color: #808000; text-decoration-color: #808000\">a</span>=<span style=\"color: #008000; text-decoration-color: #008000\">'sub0A'</span>, <span style=\"color: #808000; text-decoration-color: #808000\">b</span>=<span style=\"color: #008000; text-decoration-color: #008000\">'foo'</span><span style=\"font-weight: bold\">)</span>\n",
       "│   └── <span style=\"color: #800080; text-decoration-color: #800080; font-weight: bold\">AnyNode</span><span style=\"font-weight: bold\">(</span><span style=\"color: #808000; text-decoration-color: #808000\">a</span>=<span style=\"color: #008000; text-decoration-color: #008000\">'sub0B'</span><span style=\"font-weight: bold\">)</span>\n",
       "└── <span style=\"color: #800080; text-decoration-color: #800080; font-weight: bold\">AnyNode</span><span style=\"font-weight: bold\">(</span><span style=\"color: #808000; text-decoration-color: #808000\">a</span>=<span style=\"color: #008000; text-decoration-color: #008000\">'sub1'</span><span style=\"font-weight: bold\">)</span>\n",
       "</pre>\n"
      ],
      "text/plain": [
       "\u001b[1;35mAnyNode\u001b[0m\u001b[1m(\u001b[0m\u001b[33ma\u001b[0m=\u001b[32m'root'\u001b[0m\u001b[1m)\u001b[0m\n",
       "├── \u001b[1;35mAnyNode\u001b[0m\u001b[1m(\u001b[0m\u001b[33ma\u001b[0m=\u001b[32m'sub0'\u001b[0m\u001b[1m)\u001b[0m\n",
       "│   ├── \u001b[1;35mAnyNode\u001b[0m\u001b[1m(\u001b[0m\u001b[33ma\u001b[0m=\u001b[32m'sub0A'\u001b[0m, \u001b[33mb\u001b[0m=\u001b[32m'foo'\u001b[0m\u001b[1m)\u001b[0m\n",
       "│   └── \u001b[1;35mAnyNode\u001b[0m\u001b[1m(\u001b[0m\u001b[33ma\u001b[0m=\u001b[32m'sub0B'\u001b[0m\u001b[1m)\u001b[0m\n",
       "└── \u001b[1;35mAnyNode\u001b[0m\u001b[1m(\u001b[0m\u001b[33ma\u001b[0m=\u001b[32m'sub1'\u001b[0m\u001b[1m)\u001b[0m\n"
      ]
     },
     "metadata": {},
     "output_type": "display_data"
    }
   ],
   "source": [
    "print(RenderTree(root))"
   ]
  },
  {
   "cell_type": "code",
   "execution_count": 45,
   "id": "5f0e5693",
   "metadata": {},
   "outputs": [
    {
     "ename": "AttributeError",
     "evalue": "'AnyNode' object has no attribute 'name'",
     "output_type": "error",
     "traceback": [
      "\u001b[31m---------------------------------------------------------------------------\u001b[39m",
      "\u001b[31mAttributeError\u001b[39m                            Traceback (most recent call last)",
      "\u001b[36mCell\u001b[39m\u001b[36m \u001b[39m\u001b[32mIn[45]\u001b[39m\u001b[32m, line 3\u001b[39m\n\u001b[32m      1\u001b[39m node = \u001b[38;5;28;01mNone\u001b[39;00m\n\u001b[32m      2\u001b[39m \u001b[38;5;28;01mfor\u001b[39;00m pre, _, node \u001b[38;5;129;01min\u001b[39;00m RenderTree(root):\n\u001b[32m----> \u001b[39m\u001b[32m3\u001b[39m     \u001b[38;5;28mprint\u001b[39m(\u001b[33m\"\u001b[39m\u001b[38;5;132;01m%s\u001b[39;00m\u001b[38;5;132;01m%s\u001b[39;00m\u001b[33m\"\u001b[39m % (pre, \u001b[43mnode\u001b[49m\u001b[43m.\u001b[49m\u001b[43mname\u001b[49m))\n",
      "\u001b[31mAttributeError\u001b[39m: 'AnyNode' object has no attribute 'name'"
     ]
    }
   ],
   "source": [
    "node = None\n",
    "for pre, _, node in RenderTree(root):\n",
    "    print(\"%s%s\" % (pre, node.name))"
   ]
  },
  {
   "cell_type": "code",
   "execution_count": 46,
   "id": "c6b3d06e",
   "metadata": {},
   "outputs": [
    {
     "data": {
      "text/plain": [
       "'root'"
      ]
     },
     "execution_count": 46,
     "metadata": {},
     "output_type": "execute_result"
    }
   ],
   "source": [
    "node.a"
   ]
  },
  {
   "cell_type": "code",
   "execution_count": null,
   "id": "3fff7498",
   "metadata": {},
   "outputs": [],
   "source": []
  },
  {
   "cell_type": "code",
   "execution_count": null,
   "id": "3e3e1086",
   "metadata": {},
   "outputs": [],
   "source": []
  },
  {
   "cell_type": "code",
   "execution_count": null,
   "id": "fd9dfc0f",
   "metadata": {},
   "outputs": [],
   "source": []
  },
  {
   "cell_type": "code",
   "execution_count": null,
   "id": "1b12c016",
   "metadata": {},
   "outputs": [],
   "source": []
  },
  {
   "cell_type": "code",
   "execution_count": null,
   "id": "94bb6fcf",
   "metadata": {},
   "outputs": [],
   "source": []
  },
  {
   "cell_type": "code",
   "execution_count": null,
   "id": "48092e4e",
   "metadata": {},
   "outputs": [],
   "source": []
  },
  {
   "cell_type": "code",
   "execution_count": null,
   "id": "d58924fe",
   "metadata": {},
   "outputs": [],
   "source": []
  },
  {
   "cell_type": "code",
   "execution_count": null,
   "id": "a332e8b6",
   "metadata": {},
   "outputs": [],
   "source": []
  },
  {
   "cell_type": "code",
   "execution_count": null,
   "id": "c8fa206c",
   "metadata": {},
   "outputs": [],
   "source": []
  },
  {
   "cell_type": "code",
   "execution_count": null,
   "id": "e6dae172",
   "metadata": {},
   "outputs": [],
   "source": []
  },
  {
   "cell_type": "code",
   "execution_count": null,
   "id": "df3679f6",
   "metadata": {},
   "outputs": [],
   "source": []
  },
  {
   "cell_type": "code",
   "execution_count": null,
   "id": "14b439e1",
   "metadata": {},
   "outputs": [],
   "source": []
  },
  {
   "cell_type": "code",
   "execution_count": null,
   "id": "94205a47",
   "metadata": {},
   "outputs": [],
   "source": []
  },
  {
   "cell_type": "code",
   "execution_count": null,
   "id": "832116e0",
   "metadata": {},
   "outputs": [],
   "source": []
  },
  {
   "cell_type": "code",
   "execution_count": 21,
   "id": "4184cc7f",
   "metadata": {},
   "outputs": [],
   "source": [
    "# response = cc.supabase.functions.invoke(\n",
    "#     \"generate-upload-url\",\n",
    "#     invoke_options={\n",
    "#         \"body\": {\"filename\": \"lllll.zarr.zip\"},\n",
    "#     },\n",
    "# )\n",
    "# body = json.loads(response.decode())\n",
    "# signed_url = body['url']\n",
    "# signed_url"
   ]
  },
  {
   "cell_type": "code",
   "execution_count": 22,
   "id": "f1b71cc0",
   "metadata": {},
   "outputs": [],
   "source": [
    "# import requests\n",
    "# file_path = \"/Users/erikstorrs/Library/Application Support/cosilico_py/cache/24eb1d9a1b3b4aa29dc653fd9deeb850.zarr.zip\"\n",
    "\n",
    "# with open(file_path, \"rb\") as f:\n",
    "#     response = requests.put(\n",
    "#         signed_url,\n",
    "#         data=f,\n",
    "#         headers={\n",
    "#             \"Content-Type\": \"application/zip\"\n",
    "#         }\n",
    "#     )\n",
    "# response"
   ]
  },
  {
   "cell_type": "code",
   "execution_count": 23,
   "id": "778a2788",
   "metadata": {},
   "outputs": [],
   "source": [
    "# response = cc.supabase.functions.invoke(\n",
    "#     \"generate-download-url\",\n",
    "#     invoke_options={\n",
    "#         \"body\": {\"filename\": \"lllll.zarr.zip\"},\n",
    "#     },\n",
    "# )\n",
    "# body = json.loads(response.decode())\n",
    "# download_url = body['url']\n",
    "# download_url"
   ]
  },
  {
   "cell_type": "code",
   "execution_count": 24,
   "id": "1ae4f73f",
   "metadata": {},
   "outputs": [],
   "source": [
    "# output_path = \"/Users/erikstorrs/Downloads/test.zarr.zip\"\n",
    "\n",
    "# # Download the file\n",
    "# response = requests.get(download_url)"
   ]
  },
  {
   "cell_type": "code",
   "execution_count": 25,
   "id": "4fae482b",
   "metadata": {},
   "outputs": [],
   "source": [
    "# with open(output_path, \"wb\") as f:\n",
    "#     f.write(response.content)"
   ]
  },
  {
   "cell_type": "code",
   "execution_count": 32,
   "id": "07973a95",
   "metadata": {},
   "outputs": [
    {
     "data": {
      "text/plain": [
       "X10XeniumInput(name=None, bbox=[25000, 28000, 25000, 28000], verbose=True, platform=<PlatformEnum.x10_xenium: '10X Xenium'>, cellranger_outs=PosixPath('/Users/erikstorrs/Downloads/Xenium_Prime_Breast_Cancer_FFPE_outs'), to_uint8=False)"
      ]
     },
     "execution_count": 32,
     "metadata": {},
     "output_type": "execute_result"
    }
   ],
   "source": [
    "x_input = X10XeniumInput(\n",
    "    cellranger_outs='/Users/erikstorrs/Downloads/Xenium_Prime_Breast_Cancer_FFPE_outs',\n",
    "    bbox=(25000, 28000, 25000, 28000), \n",
    ")\n",
    "x_input"
   ]
  },
  {
   "cell_type": "code",
   "execution_count": 33,
   "id": "1a4d5075",
   "metadata": {},
   "outputs": [
    {
     "data": {
      "text/html": [
       "<pre style=\"white-space:pre;overflow-x:auto;line-height:normal;font-family:Menlo,'DejaVu Sans Mono',consolas,'Courier New',monospace\">Loading xenium experiment from <span style=\"color: #008000; text-decoration-color: #008000\">/Users/erikstorrs/Downloads/Xenium_Prime_Breast_Cancer_FFPE_outs</span>\n",
       "</pre>\n"
      ],
      "text/plain": [
       "Loading xenium experiment from \u001b[32m/Users/erikstorrs/Downloads/\u001b[0m\u001b[32mXenium_Prime_Breast_Cancer_FFPE_outs\u001b[0m\n"
      ]
     },
     "metadata": {},
     "output_type": "display_data"
    },
    {
     "data": {
      "text/html": [
       "<pre style=\"white-space:pre;overflow-x:auto;line-height:normal;font-family:Menlo,'DejaVu Sans Mono',consolas,'Courier New',monospace\">Loading xenium morphology image from \n",
       "<span style=\"color: #008000; text-decoration-color: #008000\">/Users/erikstorrs/Downloads/Xenium_Prime_Breast_Cancer_FFPE_outs/morphology_focus/morphology_focus_0002.ome.tif</span>\n",
       "</pre>\n"
      ],
      "text/plain": [
       "Loading xenium morphology image from \n",
       "\u001b[32m/Users/erikstorrs/Downloads/Xenium_Prime_Breast_Cancer_FFPE_outs/morphology_focus/\u001b[0m\u001b[32mmorphology_focus_0002.ome.tif\u001b[0m\n"
      ]
     },
     "metadata": {},
     "output_type": "display_data"
    },
    {
     "name": "stderr",
     "output_type": "stream",
     "text": [
      "<tifffile.TiffFile 'morphology_focus_0002.ome.tif'> OME series cannot read multi-file pyramids\n"
     ]
    },
    {
     "data": {
      "text/html": [
       "<pre style=\"white-space:pre;overflow-x:auto;line-height:normal;font-family:Menlo,'DejaVu Sans Mono',consolas,'Courier New',monospace\">Loading xenium transcripts from \n",
       "<span style=\"color: #008000; text-decoration-color: #008000\">/Users/erikstorrs/Downloads/Xenium_Prime_Breast_Cancer_FFPE_outs/transcripts.parquet</span>\n",
       "</pre>\n"
      ],
      "text/plain": [
       "Loading xenium transcripts from \n",
       "\u001b[32m/Users/erikstorrs/Downloads/Xenium_Prime_Breast_Cancer_FFPE_outs/\u001b[0m\u001b[32mtranscripts.parquet\u001b[0m\n"
      ]
     },
     "metadata": {},
     "output_type": "display_data"
    },
    {
     "data": {
      "text/html": [
       "<pre style=\"white-space:pre;overflow-x:auto;line-height:normal;font-family:Menlo,'DejaVu Sans Mono',consolas,'Courier New',monospace\">Loading xenium transcript metadata for <span style=\"color: #008000; text-decoration-color: #008000; font-weight: bold\">[</span><span style=\"color: #008000; text-decoration-color: #008000\">'qv'</span><span style=\"color: #008000; text-decoration-color: #008000; font-weight: bold\">]</span>\n",
       "</pre>\n"
      ],
      "text/plain": [
       "Loading xenium transcript metadata for \u001b[1;32m[\u001b[0m\u001b[32m'qv'\u001b[0m\u001b[1;32m]\u001b[0m\n"
      ]
     },
     "metadata": {},
     "output_type": "display_data"
    },
    {
     "name": "stderr",
     "output_type": "stream",
     "text": [
      "/Users/erikstorrs/Documents/viewer/cosilico-py/src/cosilico_py/preprocessing/core/tiling.py:28: RuntimeWarning: divide by zero encountered in remainder\n",
      "  groups = np.arange(num_feats) % group_size  # Vectorized operation\n"
     ]
    },
    {
     "data": {
      "text/html": [
       "<pre style=\"white-space:pre;overflow-x:auto;line-height:normal;font-family:Menlo,'DejaVu Sans Mono',consolas,'Courier New',monospace\">Loading xenium cell boundaries from \n",
       "<span style=\"color: #008000; text-decoration-color: #008000\">/Users/erikstorrs/Downloads/Xenium_Prime_Breast_Cancer_FFPE_outs/cell_boundaries.parquet</span>\n",
       "</pre>\n"
      ],
      "text/plain": [
       "Loading xenium cell boundaries from \n",
       "\u001b[32m/Users/erikstorrs/Downloads/Xenium_Prime_Breast_Cancer_FFPE_outs/\u001b[0m\u001b[32mcell_boundaries.parquet\u001b[0m\n"
      ]
     },
     "metadata": {},
     "output_type": "display_data"
    },
    {
     "data": {
      "text/html": [
       "<pre style=\"white-space:pre;overflow-x:auto;line-height:normal;font-family:Menlo,'DejaVu Sans Mono',consolas,'Courier New',monospace\">Loading xenium cell transcript counts \n",
       "<span style=\"color: #008000; text-decoration-color: #008000\">/Users/erikstorrs/Downloads/Xenium_Prime_Breast_Cancer_FFPE_outs/cell_feature_matrix.h5</span>\n",
       "</pre>\n"
      ],
      "text/plain": [
       "Loading xenium cell transcript counts \n",
       "\u001b[32m/Users/erikstorrs/Downloads/Xenium_Prime_Breast_Cancer_FFPE_outs/\u001b[0m\u001b[32mcell_feature_matrix.h5\u001b[0m\n"
      ]
     },
     "metadata": {},
     "output_type": "display_data"
    }
   ],
   "source": [
    "bundle = client.create_experiment(x_input)"
   ]
  },
  {
   "cell_type": "code",
   "execution_count": null,
   "id": "5e27e46b",
   "metadata": {},
   "outputs": [],
   "source": [
    "client.create_experiment(x_input)"
   ]
  },
  {
   "cell_type": "code",
   "execution_count": 59,
   "id": "1abd2ee1",
   "metadata": {},
   "outputs": [
    {
     "data": {
      "text/plain": [
       "PosixPath('/Users/erikstorrs/Library/Application Support/cosilico_py/cache/24eb1d9a1b3b4aa29dc653fd9deeb850.zarr.zip')"
      ]
     },
     "execution_count": 59,
     "metadata": {},
     "output_type": "execute_result"
    }
   ],
   "source": [
    "bundle.layers[0].local_path"
   ]
  },
  {
   "cell_type": "code",
   "execution_count": null,
   "id": "0562ccb7",
   "metadata": {},
   "outputs": [],
   "source": []
  },
  {
   "cell_type": "code",
   "execution_count": null,
   "id": "f6f55908",
   "metadata": {},
   "outputs": [],
   "source": []
  },
  {
   "cell_type": "code",
   "execution_count": null,
   "id": "02894879",
   "metadata": {},
   "outputs": [],
   "source": []
  },
  {
   "cell_type": "code",
   "execution_count": null,
   "id": "1356bd0d",
   "metadata": {},
   "outputs": [],
   "source": []
  },
  {
   "cell_type": "code",
   "execution_count": null,
   "id": "2e929320",
   "metadata": {},
   "outputs": [],
   "source": []
  },
  {
   "cell_type": "code",
   "execution_count": 2,
   "id": "7967fba3",
   "metadata": {},
   "outputs": [],
   "source": [
    "from ome_types import from_xml\n",
    "import tifffile\n",
    "import dask.array as da"
   ]
  },
  {
   "cell_type": "code",
   "execution_count": 19,
   "id": "0a2c1767",
   "metadata": {},
   "outputs": [
    {
     "data": {
      "text/plain": [
       "ZarrTiffStore"
      ]
     },
     "execution_count": 19,
     "metadata": {},
     "output_type": "execute_result"
    }
   ],
   "source": [
    "image"
   ]
  },
  {
   "cell_type": "code",
   "execution_count": 20,
   "id": "f4949471",
   "metadata": {},
   "outputs": [
    {
     "data": {
      "text/plain": [
       "OME(\n",
       "   plates=[{'id': 'Plate:1', 'well_origin_x': -0.0, 'well_origin_x_unit': <UnitsLength.MICROMETER: 'µm'>, 'well_origin_y': -0.0, 'well_origin_y_unit': <UnitsLength.MICROMETER: 'µm'>}],\n",
       "   instruments=[{'microscope': {'manufacturer': '10x Genomics', 'model': 'Xenium', 'kind': 'microscope'}, 'id': 'Instrument:1'}],\n",
       "   images=[<1 field_type>],\n",
       "   uuid='urn:uuid:6f6e3c8f-db12-11ed-a5c7-0644c1d5d2e3',\n",
       "   creator='tifffile.py 2021.4.8',\n",
       ")"
      ]
     },
     "execution_count": 20,
     "metadata": {},
     "output_type": "execute_result"
    }
   ],
   "source": [
    "ome_model"
   ]
  },
  {
   "cell_type": "code",
   "execution_count": 63,
   "id": "66d575ed",
   "metadata": {},
   "outputs": [],
   "source": [
    "# ome_tiff_path = '/Users/erikstorrs/Downloads/Xenium_V1_FFPE_Human_Brain_Healthy_With_Addon_outs/morphology_focus.ome.tif'\n",
    "ome_tiff_path = '/Users/erikstorrs/Downloads/Xenium_V1_FFPE_Human_Brain_Healthy_With_Addon_outs/morphology.ome.tif'\n",
    "# ome_tiff_path = '/Users/erikstorrs/Downloads/Xenium_Prime_Breast_Cancer_FFPE_outs/morphology_focus/morphology_focus_0002.ome.tif'\n",
    "# ome_tiff_path = '/Users/erikstorrs/Downloads/Xenium_V1_Human_Ductal_Adenocarcinoma_FFPE_outs/morphology_focus/morphology_focus_0000.ome.tif'\n",
    "ome_metadata = tifffile.TiffFile(ome_tiff_path).ome_metadata\n",
    "ome_model = from_xml(ome_metadata)\n",
    "\n",
    "with tifffile.TiffFile(ome_tiff_path) as tif:\n",
    "#     z = tif.aszarr()\n",
    "#     zz = tif.series[0].aszarr()\n",
    "    z = tif.series[0].pages[0].aszarr()\n",
    "    image = da.from_zarr(z)\n",
    "#     image = da.from_zarr(zz)\n",
    "#     image = da.from_zarr(image, chunks=(1, 2048, 2048))"
   ]
  },
  {
   "cell_type": "code",
   "execution_count": 64,
   "id": "724651d1",
   "metadata": {},
   "outputs": [
    {
     "data": {
      "text/plain": [
       "Image(\n",
       "   id='Image:0',\n",
       "   name='Image0',\n",
       "   instrument_ref={'id': 'Instrument:1'},\n",
       "   pixels={'channels': [{'id': 'Channel:0:0', 'name': 'DAPI', 'samples_per_pixel': 1}], 'tiff_data_blocks': [{'plane_count': 13}], 'id': 'Pixels:0', 'dimension_order': <Pixels_DimensionOrder.XYZCT: 'XYZCT'>, 'type': <PixelType.UINT16: 'uint16'>, 'size_x': 36955, 'size_y': 27282, 'size_z': 13, 'size_c': 1, 'size_t': 1, 'physical_size_x': 0.2125, 'physical_size_y': 0.2125, 'physical_size_z': 3.0},\n",
       ")"
      ]
     },
     "execution_count": 64,
     "metadata": {},
     "output_type": "execute_result"
    }
   ],
   "source": [
    "ome_model.images[0]"
   ]
  },
  {
   "cell_type": "code",
   "execution_count": 65,
   "id": "6c25fb24",
   "metadata": {},
   "outputs": [
    {
     "name": "stdout",
     "output_type": "stream",
     "text": [
      "13 TiffPageSeries 0  'Image0'  13x27282x36955  uint16  ZYX  ome  8 Levels  13 Pages\n",
      "TiffPage 0 @16  27282x36955  uint16  minisblack tiled jpeg2000  ome\n",
      "TiffFrame 1 @13939344  27282x36955  uint16\n",
      "TiffFrame 2 @146243052  27282x36955  uint16\n",
      "TiffFrame 3 @394109272  27282x36955  uint16\n",
      "TiffFrame 4 @697471996  27282x36955  uint16\n",
      "TiffFrame 5 @998401786  27282x36955  uint16\n",
      "TiffFrame 6 @1298411118  27282x36955  uint16\n",
      "TiffFrame 7 @1597568094  27282x36955  uint16\n",
      "TiffFrame 8 @1896267556  27282x36955  uint16\n",
      "TiffFrame 9 @2195048900  27282x36955  uint16\n",
      "TiffFrame 10 @2496114066  27282x36955  uint16\n",
      "TiffFrame 11 @2786268448  27282x36955  uint16\n",
      "TiffFrame 12 @2959810478  27282x36955  uint16\n"
     ]
    }
   ],
   "source": [
    "for s in tif.series:\n",
    "    print(len(s.pages), s)\n",
    "    for p in s.pages:\n",
    "        print(p)"
   ]
  },
  {
   "cell_type": "code",
   "execution_count": 49,
   "id": "40dbe055",
   "metadata": {},
   "outputs": [
    {
     "name": "stdout",
     "output_type": "stream",
     "text": [
      "TiffPage 0 @16  74945x51265  uint16  minisblack tiled jpeg2000  ome\n"
     ]
    }
   ],
   "source": [
    "for p in tif.pages:\n",
    "    print(p)"
   ]
  },
  {
   "cell_type": "code",
   "execution_count": 59,
   "id": "1cb92ae7",
   "metadata": {},
   "outputs": [
    {
     "data": {
      "text/html": [
       "<table>\n",
       "    <tr>\n",
       "        <td>\n",
       "            <table style=\"border-collapse: collapse;\">\n",
       "                <thead>\n",
       "                    <tr>\n",
       "                        <td> </td>\n",
       "                        <th> Array </th>\n",
       "                        <th> Chunk </th>\n",
       "                    </tr>\n",
       "                </thead>\n",
       "                <tbody>\n",
       "                    \n",
       "                    <tr>\n",
       "                        <th> Bytes </th>\n",
       "                        <td> 1.88 GiB </td>\n",
       "                        <td> 2.00 MiB </td>\n",
       "                    </tr>\n",
       "                    \n",
       "                    <tr>\n",
       "                        <th> Shape </th>\n",
       "                        <td> (27282, 36955) </td>\n",
       "                        <td> (1024, 1024) </td>\n",
       "                    </tr>\n",
       "                    <tr>\n",
       "                        <th> Dask graph </th>\n",
       "                        <td colspan=\"2\"> 999 chunks in 2 graph layers </td>\n",
       "                    </tr>\n",
       "                    <tr>\n",
       "                        <th> Data type </th>\n",
       "                        <td colspan=\"2\"> uint16 numpy.ndarray </td>\n",
       "                    </tr>\n",
       "                </tbody>\n",
       "            </table>\n",
       "        </td>\n",
       "        <td>\n",
       "        <svg width=\"170\" height=\"138\" style=\"stroke:rgb(0,0,0);stroke-width:1\" >\n",
       "\n",
       "  <!-- Horizontal lines -->\n",
       "  <line x1=\"0\" y1=\"0\" x2=\"120\" y2=\"0\" style=\"stroke-width:2\" />\n",
       "  <line x1=\"0\" y1=\"3\" x2=\"120\" y2=\"3\" />\n",
       "  <line x1=\"0\" y1=\"6\" x2=\"120\" y2=\"6\" />\n",
       "  <line x1=\"0\" y1=\"13\" x2=\"120\" y2=\"13\" />\n",
       "  <line x1=\"0\" y1=\"16\" x2=\"120\" y2=\"16\" />\n",
       "  <line x1=\"0\" y1=\"23\" x2=\"120\" y2=\"23\" />\n",
       "  <line x1=\"0\" y1=\"26\" x2=\"120\" y2=\"26\" />\n",
       "  <line x1=\"0\" y1=\"29\" x2=\"120\" y2=\"29\" />\n",
       "  <line x1=\"0\" y1=\"36\" x2=\"120\" y2=\"36\" />\n",
       "  <line x1=\"0\" y1=\"39\" x2=\"120\" y2=\"39\" />\n",
       "  <line x1=\"0\" y1=\"46\" x2=\"120\" y2=\"46\" />\n",
       "  <line x1=\"0\" y1=\"49\" x2=\"120\" y2=\"49\" />\n",
       "  <line x1=\"0\" y1=\"56\" x2=\"120\" y2=\"56\" />\n",
       "  <line x1=\"0\" y1=\"59\" x2=\"120\" y2=\"59\" />\n",
       "  <line x1=\"0\" y1=\"63\" x2=\"120\" y2=\"63\" />\n",
       "  <line x1=\"0\" y1=\"69\" x2=\"120\" y2=\"69\" />\n",
       "  <line x1=\"0\" y1=\"73\" x2=\"120\" y2=\"73\" />\n",
       "  <line x1=\"0\" y1=\"79\" x2=\"120\" y2=\"79\" />\n",
       "  <line x1=\"0\" y1=\"83\" x2=\"120\" y2=\"83\" />\n",
       "  <line x1=\"0\" y1=\"88\" x2=\"120\" y2=\"88\" style=\"stroke-width:2\" />\n",
       "\n",
       "  <!-- Vertical lines -->\n",
       "  <line x1=\"0\" y1=\"0\" x2=\"0\" y2=\"88\" style=\"stroke-width:2\" />\n",
       "  <line x1=\"3\" y1=\"0\" x2=\"3\" y2=\"88\" />\n",
       "  <line x1=\"9\" y1=\"0\" x2=\"9\" y2=\"88\" />\n",
       "  <line x1=\"16\" y1=\"0\" x2=\"16\" y2=\"88\" />\n",
       "  <line x1=\"23\" y1=\"0\" x2=\"23\" y2=\"88\" />\n",
       "  <line x1=\"29\" y1=\"0\" x2=\"29\" y2=\"88\" />\n",
       "  <line x1=\"36\" y1=\"0\" x2=\"36\" y2=\"88\" />\n",
       "  <line x1=\"43\" y1=\"0\" x2=\"43\" y2=\"88\" />\n",
       "  <line x1=\"49\" y1=\"0\" x2=\"49\" y2=\"88\" />\n",
       "  <line x1=\"56\" y1=\"0\" x2=\"56\" y2=\"88\" />\n",
       "  <line x1=\"63\" y1=\"0\" x2=\"63\" y2=\"88\" />\n",
       "  <line x1=\"69\" y1=\"0\" x2=\"69\" y2=\"88\" />\n",
       "  <line x1=\"76\" y1=\"0\" x2=\"76\" y2=\"88\" />\n",
       "  <line x1=\"83\" y1=\"0\" x2=\"83\" y2=\"88\" />\n",
       "  <line x1=\"89\" y1=\"0\" x2=\"89\" y2=\"88\" />\n",
       "  <line x1=\"96\" y1=\"0\" x2=\"96\" y2=\"88\" />\n",
       "  <line x1=\"103\" y1=\"0\" x2=\"103\" y2=\"88\" />\n",
       "  <line x1=\"109\" y1=\"0\" x2=\"109\" y2=\"88\" />\n",
       "  <line x1=\"116\" y1=\"0\" x2=\"116\" y2=\"88\" />\n",
       "  <line x1=\"120\" y1=\"0\" x2=\"120\" y2=\"88\" style=\"stroke-width:2\" />\n",
       "\n",
       "  <!-- Colored Rectangle -->\n",
       "  <polygon points=\"0.0,0.0 120.0,0.0 120.0,88.58990664321472 0.0,88.58990664321472\" style=\"fill:#8B4903A0;stroke-width:0\"/>\n",
       "\n",
       "  <!-- Text -->\n",
       "  <text x=\"60.000000\" y=\"108.589907\" font-size=\"1.0rem\" font-weight=\"100\" text-anchor=\"middle\" >36955</text>\n",
       "  <text x=\"140.000000\" y=\"44.294953\" font-size=\"1.0rem\" font-weight=\"100\" text-anchor=\"middle\" transform=\"rotate(-90,140.000000,44.294953)\">27282</text>\n",
       "</svg>\n",
       "        </td>\n",
       "    </tr>\n",
       "</table>"
      ],
      "text/plain": [
       "dask.array<from-zarr, shape=(27282, 36955), dtype=uint16, chunksize=(1024, 1024), chunktype=numpy.ndarray>"
      ]
     },
     "execution_count": 59,
     "metadata": {},
     "output_type": "execute_result"
    }
   ],
   "source": [
    "image"
   ]
  },
  {
   "cell_type": "code",
   "execution_count": 43,
   "id": "e2b4fbd3",
   "metadata": {},
   "outputs": [
    {
     "data": {
      "text/plain": [
       "<tifffile.TiffPageSeries 0 ome>"
      ]
     },
     "execution_count": 43,
     "metadata": {},
     "output_type": "execute_result"
    }
   ],
   "source": [
    "s = tif.series[0]\n",
    "s"
   ]
  },
  {
   "cell_type": "code",
   "execution_count": 46,
   "id": "c238f8fa",
   "metadata": {},
   "outputs": [
    {
     "ename": "AssertionError",
     "evalue": "",
     "output_type": "error",
     "traceback": [
      "\u001b[31m---------------------------------------------------------------------------\u001b[39m",
      "\u001b[31mAssertionError\u001b[39m                            Traceback (most recent call last)",
      "\u001b[32m/var/folders/l4/tr_3w7sx31z58xhsnb0_07hw0000gr/T/ipykernel_33597/1883054398.py\u001b[39m in \u001b[36m?\u001b[39m\u001b[34m()\u001b[39m\n\u001b[32m----> \u001b[39m\u001b[32m1\u001b[39m s.aszarr()\n",
      "\u001b[32m~/miniconda3/envs/cosilico-py/lib/python3.13/site-packages/tifffile/tifffile.py\u001b[39m in \u001b[36m?\u001b[39m\u001b[34m(self, level, **kwargs)\u001b[39m\n\u001b[32m  12498\u001b[39m             \u001b[38;5;28;01mraise\u001b[39;00m ValueError(\u001b[33m'no parent'\u001b[39m)\n\u001b[32m  12499\u001b[39m \n\u001b[32m  12500\u001b[39m         \u001b[38;5;28;01mfrom\u001b[39;00m .zarr \u001b[38;5;28;01mimport\u001b[39;00m ZarrTiffStore\n\u001b[32m  12501\u001b[39m \n\u001b[32m> \u001b[39m\u001b[32m12502\u001b[39m         \u001b[38;5;28;01mreturn\u001b[39;00m ZarrTiffStore(self, level=level, **kwargs)\n",
      "\u001b[32m~/miniconda3/envs/cosilico-py/lib/python3.13/site-packages/tifffile/zarr.py\u001b[39m in \u001b[36m?\u001b[39m\u001b[34m(self, arg, level, chunkmode, fillvalue, zattrs, multiscales, lock, squeeze, maxworkers, buffersize, read_only, _openfiles, **kwargs)\u001b[39m\n\u001b[32m    346\u001b[39m \n\u001b[32m    347\u001b[39m         fh = self._data[\u001b[32m0\u001b[39m].keyframe.parent._parent.filehandle\n\u001b[32m    348\u001b[39m \n\u001b[32m    349\u001b[39m         \u001b[38;5;28;01mif\u001b[39;00m read_only \u001b[38;5;28;01mis\u001b[39;00m \u001b[38;5;28;01mNone\u001b[39;00m:\n\u001b[32m--> \u001b[39m\u001b[32m350\u001b[39m             read_only = \u001b[38;5;28;01mnot\u001b[39;00m fh.writable() \u001b[38;5;28;01mor\u001b[39;00m self._chunkmode != \u001b[32m0\u001b[39m\n\u001b[32m    351\u001b[39m \n\u001b[32m    352\u001b[39m         super().__init__(\n\u001b[32m    353\u001b[39m             fillvalue=fillvalue, chunkmode=self._chunkmode, read_only=read_only\n",
      "\u001b[32m~/miniconda3/envs/cosilico-py/lib/python3.13/site-packages/tifffile/tifffile.py\u001b[39m in \u001b[36m?\u001b[39m\u001b[34m(self)\u001b[39m\n\u001b[32m  13449\u001b[39m     \u001b[38;5;28;01mdef\u001b[39;00m writable(self) -> bool:\n\u001b[32m  13450\u001b[39m         \u001b[33m\"\"\"Return True if stream supports writing.\"\"\"\u001b[39m\n\u001b[32m> \u001b[39m\u001b[32m13451\u001b[39m         \u001b[38;5;28;01massert\u001b[39;00m self._fh \u001b[38;5;28;01mis\u001b[39;00m \u001b[38;5;28;01mnot\u001b[39;00m \u001b[38;5;28;01mNone\u001b[39;00m\n\u001b[32m  13452\u001b[39m         \u001b[38;5;28;01mif\u001b[39;00m hasattr(self._fh, \u001b[33m'writable'\u001b[39m):\n\u001b[32m  13453\u001b[39m             \u001b[38;5;28;01mreturn\u001b[39;00m self._fh.writable()\n\u001b[32m  13454\u001b[39m         \u001b[38;5;28;01mreturn\u001b[39;00m \u001b[38;5;28;01mFalse\u001b[39;00m\n",
      "\u001b[31mAssertionError\u001b[39m: "
     ]
    }
   ],
   "source": [
    "s.aszarr()"
   ]
  },
  {
   "cell_type": "code",
   "execution_count": null,
   "id": "bbd8287e",
   "metadata": {},
   "outputs": [],
   "source": []
  },
  {
   "cell_type": "code",
   "execution_count": null,
   "id": "70ee7524",
   "metadata": {},
   "outputs": [],
   "source": []
  },
  {
   "cell_type": "code",
   "execution_count": 6,
   "id": "37ccbcaf",
   "metadata": {},
   "outputs": [],
   "source": [
    "import pandas as pd"
   ]
  },
  {
   "cell_type": "code",
   "execution_count": 8,
   "id": "9b072230",
   "metadata": {},
   "outputs": [
    {
     "data": {
      "text/html": [
       "<div>\n",
       "<style scoped>\n",
       "    .dataframe tbody tr th:only-of-type {\n",
       "        vertical-align: middle;\n",
       "    }\n",
       "\n",
       "    .dataframe tbody tr th {\n",
       "        vertical-align: top;\n",
       "    }\n",
       "\n",
       "    .dataframe thead th {\n",
       "        text-align: right;\n",
       "    }\n",
       "</style>\n",
       "<table border=\"1\" class=\"dataframe\">\n",
       "  <thead>\n",
       "    <tr style=\"text-align: right;\">\n",
       "      <th></th>\n",
       "      <th>run_name</th>\n",
       "      <th>cassette_name</th>\n",
       "      <th>region_name</th>\n",
       "      <th>panel_name</th>\n",
       "      <th>panel_design_id</th>\n",
       "      <th>predesigned_panel_id</th>\n",
       "      <th>region_area</th>\n",
       "      <th>total_cell_area</th>\n",
       "      <th>total_high_quality_decoded_transcripts</th>\n",
       "      <th>fraction_transcripts_decoded_q20</th>\n",
       "      <th>...</th>\n",
       "      <th>fraction_of_ambiguous_cell_mask_pixels</th>\n",
       "      <th>fraction_of_nucleus_polygons_removed</th>\n",
       "      <th>fraction_of_cell_polygons_removed</th>\n",
       "      <th>fraction_of_nuclei_without_cell</th>\n",
       "      <th>number_of_cell_non_simple_polygons</th>\n",
       "      <th>number_of_cell_multi_polygons</th>\n",
       "      <th>number_of_nucleus_non_simple_polygons</th>\n",
       "      <th>number_of_nucleus_multi_polygons</th>\n",
       "      <th>segmented_cell_imported_frac</th>\n",
       "      <th>segmented_cell_imported_count</th>\n",
       "    </tr>\n",
       "  </thead>\n",
       "  <tbody>\n",
       "    <tr>\n",
       "      <th>0</th>\n",
       "      <td>Xenium Prime + 100g Custom</td>\n",
       "      <td>NaN</td>\n",
       "      <td>Breast_Cancer</td>\n",
       "      <td>Xenium Human 5K with Cell Typing + HPV-16/18 a...</td>\n",
       "      <td>NaN</td>\n",
       "      <td>hAtlas_v1.1</td>\n",
       "      <td>1.551598e+08</td>\n",
       "      <td>4.553694e+07</td>\n",
       "      <td>80158637</td>\n",
       "      <td>0.86385</td>\n",
       "      <td>...</td>\n",
       "      <td>NaN</td>\n",
       "      <td>NaN</td>\n",
       "      <td>NaN</td>\n",
       "      <td>NaN</td>\n",
       "      <td>NaN</td>\n",
       "      <td>NaN</td>\n",
       "      <td>NaN</td>\n",
       "      <td>NaN</td>\n",
       "      <td>NaN</td>\n",
       "      <td>NaN</td>\n",
       "    </tr>\n",
       "  </tbody>\n",
       "</table>\n",
       "<p>1 rows × 51 columns</p>\n",
       "</div>"
      ],
      "text/plain": [
       "                     run_name  cassette_name    region_name  \\\n",
       "0  Xenium Prime + 100g Custom            NaN  Breast_Cancer   \n",
       "\n",
       "                                          panel_name  panel_design_id  \\\n",
       "0  Xenium Human 5K with Cell Typing + HPV-16/18 a...              NaN   \n",
       "\n",
       "  predesigned_panel_id   region_area  total_cell_area  \\\n",
       "0          hAtlas_v1.1  1.551598e+08     4.553694e+07   \n",
       "\n",
       "   total_high_quality_decoded_transcripts  fraction_transcripts_decoded_q20  \\\n",
       "0                                80158637                           0.86385   \n",
       "\n",
       "   ...  fraction_of_ambiguous_cell_mask_pixels  \\\n",
       "0  ...                                     NaN   \n",
       "\n",
       "   fraction_of_nucleus_polygons_removed  fraction_of_cell_polygons_removed  \\\n",
       "0                                   NaN                                NaN   \n",
       "\n",
       "   fraction_of_nuclei_without_cell  number_of_cell_non_simple_polygons  \\\n",
       "0                              NaN                                 NaN   \n",
       "\n",
       "   number_of_cell_multi_polygons  number_of_nucleus_non_simple_polygons  \\\n",
       "0                            NaN                                    NaN   \n",
       "\n",
       "   number_of_nucleus_multi_polygons  segmented_cell_imported_frac  \\\n",
       "0                               NaN                           NaN   \n",
       "\n",
       "   segmented_cell_imported_count  \n",
       "0                            NaN  \n",
       "\n",
       "[1 rows x 51 columns]"
      ]
     },
     "execution_count": 8,
     "metadata": {},
     "output_type": "execute_result"
    }
   ],
   "source": [
    "df = pd.read_csv('/Users/erikstorrs/Downloads/Xenium_Prime_Breast_Cancer_FFPE_outs/metrics_summary.csv')\n",
    "df"
   ]
  },
  {
   "cell_type": "code",
   "execution_count": 9,
   "id": "cc0910f9",
   "metadata": {},
   "outputs": [
    {
     "data": {
      "text/plain": [
       "'{\"run_name\":{\"0\":\"Xenium Prime + 100g Custom\"},\"cassette_name\":{\"0\":null},\"region_name\":{\"0\":\"Breast_Cancer\"},\"panel_name\":{\"0\":\"Xenium Human 5K with Cell Typing + HPV-16\\\\/18 and SNV Add-on\"},\"panel_design_id\":{\"0\":null},\"predesigned_panel_id\":{\"0\":\"hAtlas_v1.1\"},\"region_area\":{\"0\":155159780.8498440087},\"total_cell_area\":{\"0\":45536938.5737275034},\"total_high_quality_decoded_transcripts\":{\"0\":80158637},\"fraction_transcripts_decoded_q20\":{\"0\":0.8638496091},\"fraction_predesigned_transcripts_decoded_q20\":{\"0\":0.8662174711},\"fraction_custom_transcripts_decoded_q20\":{\"0\":0.8272998337},\"nuclear_transcripts_per_100um2\":{\"0\":196.2993157169},\"decoded_transcripts_per_100um2\":{\"0\":157.1654402812},\"adjusted_negative_control_probe_rate\":{\"0\":0.0013769231},\"adjusted_negative_control_codeword_rate\":{\"0\":0.0002238943},\"adjusted_genomic_control_probe_rate\":{\"0\":0.0336418666},\"negative_control_probe_counts_per_control_per_cell\":{\"0\":0.00002918},\"genomic_control_probe_counts_per_control_per_cell\":{\"0\":0.0007365147},\"estimated_number_of_false_positive_transcripts_per_cell\":{\"0\":0.1488469626},\"estimated_number_of_false_positive_transcripts_per_cell_including_genomic_counts\":{\"0\":3.7569612657},\"num_cells_detected\":{\"0\":699110},\"fraction_empty_cells\":{\"0\":0.0219021327},\"cells_per_100um2\":{\"0\":0.4505742378},\"fraction_transcripts_assigned\":{\"0\":0.8928336693},\"median_genes_per_cell\":{\"0\":47},\"median_predesigned_genes_per_cell\":{\"0\":44},\"median_custom_genes_per_cell\":{\"0\":2},\"median_transcripts_per_cell\":{\"0\":51},\"median_predesigned_transcripts_per_cell\":{\"0\":48},\"median_custom_transcripts_per_cell\":{\"0\":3},\"thickness_transcripts_high_quality\":{\"0\":4.7671447523},\"stain_definition\":{\"0\":\"xenium_cell_segmentation_stains_v1\"},\"segmented_cell_stain_frac\":{\"0\":0.9389795597},\"segmented_cell_boundary_frac\":{\"0\":0.143927279},\"segmented_cell_interior_frac\":{\"0\":0.7950522808},\"segmented_cell_nuc_expansion_frac\":{\"0\":0.0610204403},\"segmented_cell_boundary_count\":{\"0\":100621},\"segmented_cell_interior_count\":{\"0\":555829},\"segmented_cell_nuc_expansion_count\":{\"0\":42660},\"fraction_of_ambiguous_nucleus_mask_pixels\":{\"0\":null},\"fraction_of_ambiguous_cell_mask_pixels\":{\"0\":null},\"fraction_of_nucleus_polygons_removed\":{\"0\":null},\"fraction_of_cell_polygons_removed\":{\"0\":null},\"fraction_of_nuclei_without_cell\":{\"0\":null},\"number_of_cell_non_simple_polygons\":{\"0\":null},\"number_of_cell_multi_polygons\":{\"0\":null},\"number_of_nucleus_non_simple_polygons\":{\"0\":null},\"number_of_nucleus_multi_polygons\":{\"0\":null},\"segmented_cell_imported_frac\":{\"0\":null},\"segmented_cell_imported_count\":{\"0\":null}}'"
      ]
     },
     "execution_count": 9,
     "metadata": {},
     "output_type": "execute_result"
    }
   ],
   "source": [
    "df.to_json()"
   ]
  },
  {
   "cell_type": "code",
   "execution_count": 11,
   "id": "5ae38b81",
   "metadata": {},
   "outputs": [
    {
     "data": {
      "text/plain": [
       "datetime.datetime(2024, 6, 13, 21, 22, 41, tzinfo=tzutc())"
      ]
     },
     "execution_count": 11,
     "metadata": {},
     "output_type": "execute_result"
    }
   ],
   "source": [
    "from dateutil import parser\n",
    "\n",
    "dt = parser.isoparse(\"2024-06-13T21:22:41Z\")\n",
    "dt"
   ]
  },
  {
   "cell_type": "code",
   "execution_count": null,
   "id": "3f33c50e",
   "metadata": {},
   "outputs": [],
   "source": []
  },
  {
   "cell_type": "code",
   "execution_count": null,
   "id": "39f3b930",
   "metadata": {},
   "outputs": [],
   "source": []
  },
  {
   "cell_type": "code",
   "execution_count": null,
   "id": "edfac7c7",
   "metadata": {},
   "outputs": [],
   "source": []
  },
  {
   "cell_type": "code",
   "execution_count": 2,
   "id": "1c1b13af",
   "metadata": {},
   "outputs": [
    {
     "data": {
      "text/html": [
       "<pre style=\"white-space:pre;overflow-x:auto;line-height:normal;font-family:Menlo,'DejaVu Sans Mono',consolas,'Courier New',monospace\"><span style=\"color: #800000; text-decoration-color: #800000; font-weight: bold\">Sign in attempt failed.</span>\n",
       "</pre>\n"
      ],
      "text/plain": [
       "\u001b[1;31mSign in attempt failed.\u001b[0m\n"
      ]
     },
     "metadata": {},
     "output_type": "display_data"
    }
   ],
   "source": [
    "print('[bold red]Sign in attempt failed.[/bold red]')"
   ]
  },
  {
   "cell_type": "code",
   "execution_count": 5,
   "id": "2555ef75",
   "metadata": {},
   "outputs": [
    {
     "data": {
      "text/html": [
       "<pre style=\"white-space:pre;overflow-x:auto;line-height:normal;font-family:Menlo,'DejaVu Sans Mono',consolas,'Courier New',monospace\"><span style=\"color: #008000; text-decoration-color: #008000\">Sign in successfull.</span>\n",
       "</pre>\n"
      ],
      "text/plain": [
       "\u001b[32mSign in successfull.\u001b[0m\n"
      ]
     },
     "metadata": {},
     "output_type": "display_data"
    }
   ],
   "source": [
    "print('[green]Sign in successfull.[/green]')"
   ]
  },
  {
   "cell_type": "code",
   "execution_count": null,
   "id": "b206ea08",
   "metadata": {},
   "outputs": [],
   "source": []
  },
  {
   "cell_type": "code",
   "execution_count": null,
   "id": "a1197649",
   "metadata": {},
   "outputs": [],
   "source": []
  },
  {
   "cell_type": "code",
   "execution_count": null,
   "id": "326dc329",
   "metadata": {},
   "outputs": [],
   "source": []
  },
  {
   "cell_type": "code",
   "execution_count": null,
   "id": "3b5895e1",
   "metadata": {},
   "outputs": [],
   "source": []
  },
  {
   "cell_type": "code",
   "execution_count": 2,
   "id": "68b796e5",
   "metadata": {},
   "outputs": [
    {
     "data": {
      "text/html": [
       "<div>\n",
       "<style scoped>\n",
       "    .dataframe tbody tr th:only-of-type {\n",
       "        vertical-align: middle;\n",
       "    }\n",
       "\n",
       "    .dataframe tbody tr th {\n",
       "        vertical-align: top;\n",
       "    }\n",
       "\n",
       "    .dataframe thead th {\n",
       "        text-align: right;\n",
       "    }\n",
       "</style>\n",
       "<table border=\"1\" class=\"dataframe\">\n",
       "  <thead>\n",
       "    <tr style=\"text-align: right;\">\n",
       "      <th></th>\n",
       "    </tr>\n",
       "  </thead>\n",
       "  <tbody>\n",
       "    <tr>\n",
       "      <th>aaaaaohf-1</th>\n",
       "    </tr>\n",
       "    <tr>\n",
       "      <th>aaaabkoj-1</th>\n",
       "    </tr>\n",
       "    <tr>\n",
       "      <th>aaaafefl-1</th>\n",
       "    </tr>\n",
       "    <tr>\n",
       "      <th>aaaahfjm-1</th>\n",
       "    </tr>\n",
       "    <tr>\n",
       "      <th>aaaahjao-1</th>\n",
       "    </tr>\n",
       "    <tr>\n",
       "      <th>...</th>\n",
       "    </tr>\n",
       "    <tr>\n",
       "      <th>oimkalkm-1</th>\n",
       "    </tr>\n",
       "    <tr>\n",
       "      <th>oimkankb-1</th>\n",
       "    </tr>\n",
       "    <tr>\n",
       "      <th>oimkapok-1</th>\n",
       "    </tr>\n",
       "    <tr>\n",
       "      <th>oimkbcmb-1</th>\n",
       "    </tr>\n",
       "    <tr>\n",
       "      <th>oimkbodc-1</th>\n",
       "    </tr>\n",
       "  </tbody>\n",
       "</table>\n",
       "<p>699110 rows × 0 columns</p>\n",
       "</div>"
      ],
      "text/plain": [
       "Empty DataFrame\n",
       "Columns: []\n",
       "Index: [aaaaaohf-1, aaaabkoj-1, aaaafefl-1, aaaahfjm-1, aaaahjao-1, aaaajdej-1, aaaakcik-1, aaaaknop-1, aaaamepl-1, aaaanang-1, aaaapjmp-1, aaababaf-1, aaabbcid-1, aaabcigg-1, aaabdbih-1, aaabdeeh-1, aaabdgoh-1, aaabfbjp-1, aaabglhc-1, aaabiogn-1, aaabioio-1, aaabkfaa-1, aaabklil-1, aaablcba-1, aaabonao-1, aaabpkbp-1, aaabpnpd-1, aaacaaac-1, aaacafil-1, aaacbjlb-1, aaaccccj-1, aaacddml-1, aaaceool-1, aaacfhbg-1, aaachmhl-1, aaachppe-1, aaacifpc-1, aaackjao-1, aaaclhpj-1, aaacljgp-1, aaacmanj-1, aaacmdcm-1, aaacmkjp-1, aaacndie-1, aaacnllp-1, aaadamno-1, aaadbdpd-1, aaadbebc-1, aaadbgdl-1, aaadclhp-1, aaadcpdo-1, aaaddljk-1, aaadejoa-1, aaadhkcf-1, aaadigdk-1, aaadknmi-1, aaadlfng-1, aaaeaehg-1, aaaeagfl-1, aaaebfbi-1, aaaebobg-1, aaaecblc-1, aaaeeogg-1, aaaekaba-1, aaaekbbc-1, aaaeognk-1, aaaeomcm-1, aaaepeao-1, aaafdeca-1, aaafdlje-1, aaafeabm-1, aaafenei-1, aaaffnbe-1, aaafigpf-1, aaafkbmd-1, aaafkkdb-1, aaaflelb-1, aaafmofb-1, aaafncbi-1, aaafnkbi-1, aaafolfe-1, aaafpgdn-1, aaagaoki-1, aaagbakg-1, aaagcekl-1, aaagcmfl-1, aaagglol-1, aaaggohi-1, aaaghdii-1, aaaghjnl-1, aaagifea-1, aaagjhoo-1, aaagkpok-1, aaaglkbc-1, aaagpmpg-1, aaagppee-1, aaahbime-1, aaahckdh-1, aaahdmel-1, aaaheccl-1, ...]\n",
       "\n",
       "[699110 rows x 0 columns]"
      ]
     },
     "execution_count": 2,
     "metadata": {},
     "output_type": "execute_result"
    }
   ],
   "source": [
    "adata = x10.read_10x_h5('/Users/erikstorrs/Downloads/Xenium_Prime_Breast_Cancer_FFPE_outs/cell_feature_matrix.h5')\n",
    "adata.obs"
   ]
  },
  {
   "cell_type": "code",
   "execution_count": 9,
   "id": "467059ee",
   "metadata": {},
   "outputs": [
    {
     "data": {
      "text/plain": [
       "['a', 'b', 'd']"
      ]
     },
     "execution_count": 9,
     "metadata": {},
     "output_type": "execute_result"
    }
   ],
   "source": [
    "import pandas as pd\n",
    "s = pd.Series(pd.Categorical(['a', 'a', 'b', 'd']))\n",
    "s.cat.categories.to_list()"
   ]
  },
  {
   "cell_type": "code",
   "execution_count": 2,
   "id": "725221df",
   "metadata": {},
   "outputs": [],
   "source": [
    "import pandas as pd\n",
    "dtype_dict = {\n",
    "        \"feature_name\": \"category\",\n",
    "        \"is_gene\": \"bool\",\n",
    "        \"codeword_category\": \"category\",\n",
    "        \"x_location\": \"float32\",\n",
    "        \"y_location\": \"float32\",\n",
    "        \"transcript_id\": \"uint64\",\n",
    "        \"qv\": \"float32\",\n",
    "    }\n",
    "source = pd.read_parquet(\n",
    "    \"/Users/erikstorrs/Downloads/Xenium_Prime_Breast_Cancer_FFPE_outs/transcripts.parquet\",\n",
    "    columns=[\"feature_name\", \"is_gene\", \"codeword_category\", \"x_location\", \"y_location\", \"transcript_id\", \"qv\"],  # Read only needed columns\n",
    "    engine=\"pyarrow\"  # Ensure efficient Parquet reading\n",
    ").astype(dtype_dict)  # Convert data types immediately"
   ]
  },
  {
   "cell_type": "code",
   "execution_count": 3,
   "id": "fab0091e",
   "metadata": {},
   "outputs": [
    {
     "data": {
      "text/html": [
       "<div>\n",
       "<style scoped>\n",
       "    .dataframe tbody tr th:only-of-type {\n",
       "        vertical-align: middle;\n",
       "    }\n",
       "\n",
       "    .dataframe tbody tr th {\n",
       "        vertical-align: top;\n",
       "    }\n",
       "\n",
       "    .dataframe thead th {\n",
       "        text-align: right;\n",
       "    }\n",
       "</style>\n",
       "<table border=\"1\" class=\"dataframe\">\n",
       "  <thead>\n",
       "    <tr style=\"text-align: right;\">\n",
       "      <th></th>\n",
       "      <th>gene_ids</th>\n",
       "      <th>gene_names</th>\n",
       "    </tr>\n",
       "  </thead>\n",
       "  <tbody>\n",
       "    <tr>\n",
       "      <th>0</th>\n",
       "      <td>ENSG00000166535</td>\n",
       "      <td>A2ML1</td>\n",
       "    </tr>\n",
       "    <tr>\n",
       "      <th>1</th>\n",
       "      <td>ENSG00000127837</td>\n",
       "      <td>AAMP</td>\n",
       "    </tr>\n",
       "    <tr>\n",
       "      <th>2</th>\n",
       "      <td>ENSG00000131043</td>\n",
       "      <td>AAR2</td>\n",
       "    </tr>\n",
       "    <tr>\n",
       "      <th>3</th>\n",
       "      <td>ENSG00000266967</td>\n",
       "      <td>AARSD1</td>\n",
       "    </tr>\n",
       "    <tr>\n",
       "      <th>4</th>\n",
       "      <td>ENSG00000183044</td>\n",
       "      <td>ABAT</td>\n",
       "    </tr>\n",
       "    <tr>\n",
       "      <th>...</th>\n",
       "      <td>...</td>\n",
       "      <td>...</td>\n",
       "    </tr>\n",
       "    <tr>\n",
       "      <th>9470</th>\n",
       "      <td>DeprecatedCodeword_18632</td>\n",
       "      <td>DeprecatedCodeword_18632</td>\n",
       "    </tr>\n",
       "    <tr>\n",
       "      <th>9471</th>\n",
       "      <td>DeprecatedCodeword_18637</td>\n",
       "      <td>DeprecatedCodeword_18637</td>\n",
       "    </tr>\n",
       "    <tr>\n",
       "      <th>9472</th>\n",
       "      <td>DeprecatedCodeword_18639</td>\n",
       "      <td>DeprecatedCodeword_18639</td>\n",
       "    </tr>\n",
       "    <tr>\n",
       "      <th>9473</th>\n",
       "      <td>DeprecatedCodeword_18646</td>\n",
       "      <td>DeprecatedCodeword_18646</td>\n",
       "    </tr>\n",
       "    <tr>\n",
       "      <th>9474</th>\n",
       "      <td>DeprecatedCodeword_18649</td>\n",
       "      <td>DeprecatedCodeword_18649</td>\n",
       "    </tr>\n",
       "  </tbody>\n",
       "</table>\n",
       "<p>9475 rows × 2 columns</p>\n",
       "</div>"
      ],
      "text/plain": [
       "                      gene_ids                gene_names\n",
       "0              ENSG00000166535                     A2ML1\n",
       "1              ENSG00000127837                      AAMP\n",
       "2              ENSG00000131043                      AAR2\n",
       "3              ENSG00000266967                    AARSD1\n",
       "4              ENSG00000183044                      ABAT\n",
       "...                        ...                       ...\n",
       "9470  DeprecatedCodeword_18632  DeprecatedCodeword_18632\n",
       "9471  DeprecatedCodeword_18637  DeprecatedCodeword_18637\n",
       "9472  DeprecatedCodeword_18639  DeprecatedCodeword_18639\n",
       "9473  DeprecatedCodeword_18646  DeprecatedCodeword_18646\n",
       "9474  DeprecatedCodeword_18649  DeprecatedCodeword_18649\n",
       "\n",
       "[9475 rows x 2 columns]"
      ]
     },
     "execution_count": 3,
     "metadata": {},
     "output_type": "execute_result"
    }
   ],
   "source": [
    "adata.var"
   ]
  },
  {
   "cell_type": "code",
   "execution_count": 4,
   "id": "83735036",
   "metadata": {},
   "outputs": [
    {
     "data": {
      "text/plain": [
       "(699110, 9475)"
      ]
     },
     "execution_count": 4,
     "metadata": {},
     "output_type": "execute_result"
    }
   ],
   "source": [
    "adata.X.shape"
   ]
  },
  {
   "cell_type": "code",
   "execution_count": null,
   "id": "95d8bd34",
   "metadata": {},
   "outputs": [],
   "source": []
  },
  {
   "cell_type": "code",
   "execution_count": null,
   "id": "86584dff",
   "metadata": {},
   "outputs": [],
   "source": []
  },
  {
   "cell_type": "code",
   "execution_count": null,
   "id": "f5950644",
   "metadata": {},
   "outputs": [],
   "source": []
  },
  {
   "cell_type": "code",
   "execution_count": null,
   "id": "602f0225",
   "metadata": {},
   "outputs": [],
   "source": []
  },
  {
   "cell_type": "code",
   "execution_count": null,
   "id": "efdc0dce",
   "metadata": {},
   "outputs": [],
   "source": []
  },
  {
   "cell_type": "code",
   "execution_count": 17,
   "id": "9584556b",
   "metadata": {},
   "outputs": [],
   "source": [
    "import zarr\n",
    "import numpy as np"
   ]
  },
  {
   "cell_type": "code",
   "execution_count": 43,
   "id": "8383707f",
   "metadata": {},
   "outputs": [
    {
     "data": {
      "text/html": [
       "<pre style=\"white-space:pre;overflow-x:auto;line-height:normal;font-family:Menlo,'DejaVu Sans Mono',consolas,'Courier New',monospace\"><span style=\"font-weight: bold\">/</span>\n",
       "└── <span style=\"font-weight: bold\">g1</span>\n",
       "    └── <span style=\"font-weight: bold\">testa</span> (3,) float32\n",
       "</pre>\n"
      ],
      "text/plain": [
       "\u001b[1m/\u001b[0m\n",
       "└── \u001b[1mg1\u001b[0m\n",
       "    └── \u001b[1mtesta\u001b[0m (3,) float32\n"
      ]
     },
     "execution_count": 43,
     "metadata": {},
     "output_type": "execute_result"
    }
   ],
   "source": [
    "output_filepath = '/Users/erikstorrs/Downloads/tempjj.zarr.zip'\n",
    "store = zarr.storage.ZipStore(output_filepath, mode='w')\n",
    "root = zarr.group(store=store, overwrite=True)\n",
    "g = root.create_group(\"g1\")\n",
    "# x = np.asarray(['hello', 'aaaaaaaaddddddddeeeeeeeeeeaaaaaaaaddddddddeeeeeeeeeeaaaaaaaaddddddddeeeeeeeeeeaaaaaaaaddddddddeeeeeeeeeeaaaaaaaaddddddddeeeeeeeeee', 'a', 'b', ',c']).astype(str)\n",
    "# z = g.create_array(\"testd\", shape=(len(x),), chunks=(len(x),), dtype='U50')\n",
    "# z[:] = x\n",
    "\n",
    "x = np.asarray([1,2,3], dtype=np.float32)\n",
    "z = g.create_array(\"testa\", shape=(len(x),), chunks=(len(x),), dtype='float32')\n",
    "z[:] = x\n",
    "\n",
    "root.tree()\n"
   ]
  },
  {
   "cell_type": "code",
   "execution_count": 44,
   "id": "71c74b31",
   "metadata": {},
   "outputs": [],
   "source": [
    "store.close()"
   ]
  },
  {
   "cell_type": "code",
   "execution_count": 45,
   "id": "63e053d6",
   "metadata": {
    "scrolled": true
   },
   "outputs": [
    {
     "data": {
      "text/html": [
       "<pre style=\"white-space:pre;overflow-x:auto;line-height:normal;font-family:Menlo,'DejaVu Sans Mono',consolas,'Courier New',monospace\"><span style=\"font-weight: bold\">/</span>\n",
       "</pre>\n"
      ],
      "text/plain": [
       "\u001b[1m/\u001b[0m\n"
      ]
     },
     "metadata": {},
     "output_type": "display_data"
    },
    {
     "data": {
      "text/html": [
       "<pre style=\"white-space:pre;overflow-x:auto;line-height:normal;font-family:Menlo,'DejaVu Sans Mono',consolas,'Courier New',monospace\">\n",
       "</pre>\n"
      ],
      "text/plain": [
       "\n"
      ]
     },
     "metadata": {},
     "output_type": "display_data"
    }
   ],
   "source": [
    "store = zarr.storage.ZipStore(output_filepath, mode='w')\n",
    "root = zarr.group(store=store)\n",
    "print(root.tree())\n",
    "store.close()"
   ]
  },
  {
   "cell_type": "code",
   "execution_count": 22,
   "id": "0fa9b92f",
   "metadata": {},
   "outputs": [
    {
     "ename": "ValueError",
     "evalue": "Store is read-only but mode is 'r+'",
     "output_type": "error",
     "traceback": [
      "\u001b[31m---------------------------------------------------------------------------\u001b[39m",
      "\u001b[31mValueError\u001b[39m                                Traceback (most recent call last)",
      "\u001b[36mCell\u001b[39m\u001b[36m \u001b[39m\u001b[32mIn[22]\u001b[39m\u001b[32m, line 2\u001b[39m\n\u001b[32m      1\u001b[39m store = zarr.storage.ZipStore(output_filepath, mode=\u001b[33m'\u001b[39m\u001b[33mr\u001b[39m\u001b[33m'\u001b[39m)\n\u001b[32m----> \u001b[39m\u001b[32m2\u001b[39m root = \u001b[43mzarr\u001b[49m\u001b[43m.\u001b[49m\u001b[43mgroup\u001b[49m\u001b[43m(\u001b[49m\u001b[43mstore\u001b[49m\u001b[43m=\u001b[49m\u001b[43mstore\u001b[49m\u001b[43m)\u001b[49m\n\u001b[32m      3\u001b[39m root[\u001b[33m'\u001b[39m\u001b[33m/g1/testd\u001b[39m\u001b[33m'\u001b[39m]\n",
      "\u001b[36mFile \u001b[39m\u001b[32m~/miniconda3/envs/cosilico-py/lib/python3.13/site-packages/zarr/_compat.py:43\u001b[39m, in \u001b[36m_deprecate_positional_args.<locals>._inner_deprecate_positional_args.<locals>.inner_f\u001b[39m\u001b[34m(*args, **kwargs)\u001b[39m\n\u001b[32m     41\u001b[39m extra_args = \u001b[38;5;28mlen\u001b[39m(args) - \u001b[38;5;28mlen\u001b[39m(all_args)\n\u001b[32m     42\u001b[39m \u001b[38;5;28;01mif\u001b[39;00m extra_args <= \u001b[32m0\u001b[39m:\n\u001b[32m---> \u001b[39m\u001b[32m43\u001b[39m     \u001b[38;5;28;01mreturn\u001b[39;00m \u001b[43mf\u001b[49m\u001b[43m(\u001b[49m\u001b[43m*\u001b[49m\u001b[43margs\u001b[49m\u001b[43m,\u001b[49m\u001b[43m \u001b[49m\u001b[43m*\u001b[49m\u001b[43m*\u001b[49m\u001b[43mkwargs\u001b[49m\u001b[43m)\u001b[49m\n\u001b[32m     45\u001b[39m \u001b[38;5;66;03m# extra_args > 0\u001b[39;00m\n\u001b[32m     46\u001b[39m args_msg = [\n\u001b[32m     47\u001b[39m     \u001b[33mf\u001b[39m\u001b[33m\"\u001b[39m\u001b[38;5;132;01m{\u001b[39;00mname\u001b[38;5;132;01m}\u001b[39;00m\u001b[33m=\u001b[39m\u001b[38;5;132;01m{\u001b[39;00marg\u001b[38;5;132;01m}\u001b[39;00m\u001b[33m\"\u001b[39m\n\u001b[32m     48\u001b[39m     \u001b[38;5;28;01mfor\u001b[39;00m name, arg \u001b[38;5;129;01min\u001b[39;00m \u001b[38;5;28mzip\u001b[39m(kwonly_args[:extra_args], args[-extra_args:], strict=\u001b[38;5;28;01mFalse\u001b[39;00m)\n\u001b[32m     49\u001b[39m ]\n",
      "\u001b[36mFile \u001b[39m\u001b[32m~/miniconda3/envs/cosilico-py/lib/python3.13/site-packages/zarr/api/synchronous.py:433\u001b[39m, in \u001b[36mgroup\u001b[39m\u001b[34m(store, overwrite, chunk_store, cache_attrs, synchronizer, path, zarr_version, zarr_format, meta_array, attributes, storage_options)\u001b[39m\n\u001b[32m    383\u001b[39m \u001b[38;5;129m@_deprecate_positional_args\u001b[39m\n\u001b[32m    384\u001b[39m \u001b[38;5;28;01mdef\u001b[39;00m\u001b[38;5;250m \u001b[39m\u001b[34mgroup\u001b[39m(\n\u001b[32m    385\u001b[39m     store: StoreLike | \u001b[38;5;28;01mNone\u001b[39;00m = \u001b[38;5;28;01mNone\u001b[39;00m,\n\u001b[32m   (...)\u001b[39m\u001b[32m    396\u001b[39m     storage_options: \u001b[38;5;28mdict\u001b[39m[\u001b[38;5;28mstr\u001b[39m, Any] | \u001b[38;5;28;01mNone\u001b[39;00m = \u001b[38;5;28;01mNone\u001b[39;00m,\n\u001b[32m    397\u001b[39m ) -> Group:\n\u001b[32m    398\u001b[39m \u001b[38;5;250m    \u001b[39m\u001b[33;03m\"\"\"Create a group.\u001b[39;00m\n\u001b[32m    399\u001b[39m \n\u001b[32m    400\u001b[39m \u001b[33;03m    Parameters\u001b[39;00m\n\u001b[32m   (...)\u001b[39m\u001b[32m    430\u001b[39m \u001b[33;03m        The new group.\u001b[39;00m\n\u001b[32m    431\u001b[39m \u001b[33;03m    \"\"\"\u001b[39;00m\n\u001b[32m    432\u001b[39m     \u001b[38;5;28;01mreturn\u001b[39;00m Group(\n\u001b[32m--> \u001b[39m\u001b[32m433\u001b[39m         \u001b[43msync\u001b[49m\u001b[43m(\u001b[49m\n\u001b[32m    434\u001b[39m \u001b[43m            \u001b[49m\u001b[43masync_api\u001b[49m\u001b[43m.\u001b[49m\u001b[43mgroup\u001b[49m\u001b[43m(\u001b[49m\n\u001b[32m    435\u001b[39m \u001b[43m                \u001b[49m\u001b[43mstore\u001b[49m\u001b[43m=\u001b[49m\u001b[43mstore\u001b[49m\u001b[43m,\u001b[49m\n\u001b[32m    436\u001b[39m \u001b[43m                \u001b[49m\u001b[43moverwrite\u001b[49m\u001b[43m=\u001b[49m\u001b[43moverwrite\u001b[49m\u001b[43m,\u001b[49m\n\u001b[32m    437\u001b[39m \u001b[43m                \u001b[49m\u001b[43mchunk_store\u001b[49m\u001b[43m=\u001b[49m\u001b[43mchunk_store\u001b[49m\u001b[43m,\u001b[49m\n\u001b[32m    438\u001b[39m \u001b[43m                \u001b[49m\u001b[43mcache_attrs\u001b[49m\u001b[43m=\u001b[49m\u001b[43mcache_attrs\u001b[49m\u001b[43m,\u001b[49m\n\u001b[32m    439\u001b[39m \u001b[43m                \u001b[49m\u001b[43msynchronizer\u001b[49m\u001b[43m=\u001b[49m\u001b[43msynchronizer\u001b[49m\u001b[43m,\u001b[49m\n\u001b[32m    440\u001b[39m \u001b[43m                \u001b[49m\u001b[43mpath\u001b[49m\u001b[43m=\u001b[49m\u001b[43mpath\u001b[49m\u001b[43m,\u001b[49m\n\u001b[32m    441\u001b[39m \u001b[43m                \u001b[49m\u001b[43mzarr_version\u001b[49m\u001b[43m=\u001b[49m\u001b[43mzarr_version\u001b[49m\u001b[43m,\u001b[49m\n\u001b[32m    442\u001b[39m \u001b[43m                \u001b[49m\u001b[43mzarr_format\u001b[49m\u001b[43m=\u001b[49m\u001b[43mzarr_format\u001b[49m\u001b[43m,\u001b[49m\n\u001b[32m    443\u001b[39m \u001b[43m                \u001b[49m\u001b[43mmeta_array\u001b[49m\u001b[43m=\u001b[49m\u001b[43mmeta_array\u001b[49m\u001b[43m,\u001b[49m\n\u001b[32m    444\u001b[39m \u001b[43m                \u001b[49m\u001b[43mattributes\u001b[49m\u001b[43m=\u001b[49m\u001b[43mattributes\u001b[49m\u001b[43m,\u001b[49m\n\u001b[32m    445\u001b[39m \u001b[43m                \u001b[49m\u001b[43mstorage_options\u001b[49m\u001b[43m=\u001b[49m\u001b[43mstorage_options\u001b[49m\u001b[43m,\u001b[49m\n\u001b[32m    446\u001b[39m \u001b[43m            \u001b[49m\u001b[43m)\u001b[49m\n\u001b[32m    447\u001b[39m \u001b[43m        \u001b[49m\u001b[43m)\u001b[49m\n\u001b[32m    448\u001b[39m     )\n",
      "\u001b[36mFile \u001b[39m\u001b[32m~/miniconda3/envs/cosilico-py/lib/python3.13/site-packages/zarr/core/sync.py:163\u001b[39m, in \u001b[36msync\u001b[39m\u001b[34m(coro, loop, timeout)\u001b[39m\n\u001b[32m    160\u001b[39m return_result = \u001b[38;5;28mnext\u001b[39m(\u001b[38;5;28miter\u001b[39m(finished)).result()\n\u001b[32m    162\u001b[39m \u001b[38;5;28;01mif\u001b[39;00m \u001b[38;5;28misinstance\u001b[39m(return_result, \u001b[38;5;167;01mBaseException\u001b[39;00m):\n\u001b[32m--> \u001b[39m\u001b[32m163\u001b[39m     \u001b[38;5;28;01mraise\u001b[39;00m return_result\n\u001b[32m    164\u001b[39m \u001b[38;5;28;01melse\u001b[39;00m:\n\u001b[32m    165\u001b[39m     \u001b[38;5;28;01mreturn\u001b[39;00m return_result\n",
      "\u001b[36mFile \u001b[39m\u001b[32m~/miniconda3/envs/cosilico-py/lib/python3.13/site-packages/zarr/core/sync.py:119\u001b[39m, in \u001b[36m_runner\u001b[39m\u001b[34m(coro)\u001b[39m\n\u001b[32m    114\u001b[39m \u001b[38;5;250m\u001b[39m\u001b[33;03m\"\"\"\u001b[39;00m\n\u001b[32m    115\u001b[39m \u001b[33;03mAwait a coroutine and return the result of running it. If awaiting the coroutine raises an\u001b[39;00m\n\u001b[32m    116\u001b[39m \u001b[33;03mexception, the exception will be returned.\u001b[39;00m\n\u001b[32m    117\u001b[39m \u001b[33;03m\"\"\"\u001b[39;00m\n\u001b[32m    118\u001b[39m \u001b[38;5;28;01mtry\u001b[39;00m:\n\u001b[32m--> \u001b[39m\u001b[32m119\u001b[39m     \u001b[38;5;28;01mreturn\u001b[39;00m \u001b[38;5;28;01mawait\u001b[39;00m coro\n\u001b[32m    120\u001b[39m \u001b[38;5;28;01mexcept\u001b[39;00m \u001b[38;5;167;01mException\u001b[39;00m \u001b[38;5;28;01mas\u001b[39;00m ex:\n\u001b[32m    121\u001b[39m     \u001b[38;5;28;01mreturn\u001b[39;00m ex\n",
      "\u001b[36mFile \u001b[39m\u001b[32m~/miniconda3/envs/cosilico-py/lib/python3.13/site-packages/zarr/api/asynchronous.py:655\u001b[39m, in \u001b[36mgroup\u001b[39m\u001b[34m(store, overwrite, chunk_store, cache_attrs, synchronizer, path, zarr_version, zarr_format, meta_array, attributes, storage_options)\u001b[39m\n\u001b[32m    653\u001b[39m \u001b[38;5;28;01melse\u001b[39;00m:\n\u001b[32m    654\u001b[39m     mode = \u001b[33m\"\u001b[39m\u001b[33mr+\u001b[39m\u001b[33m\"\u001b[39m\n\u001b[32m--> \u001b[39m\u001b[32m655\u001b[39m store_path = \u001b[38;5;28;01mawait\u001b[39;00m make_store_path(store, path=path, mode=mode, storage_options=storage_options)\n\u001b[32m    657\u001b[39m \u001b[38;5;28;01mif\u001b[39;00m chunk_store \u001b[38;5;129;01mis\u001b[39;00m \u001b[38;5;129;01mnot\u001b[39;00m \u001b[38;5;28;01mNone\u001b[39;00m:\n\u001b[32m    658\u001b[39m     warnings.warn(\u001b[33m\"\u001b[39m\u001b[33mchunk_store is not yet implemented\u001b[39m\u001b[33m\"\u001b[39m, \u001b[38;5;167;01mRuntimeWarning\u001b[39;00m, stacklevel=\u001b[32m2\u001b[39m)\n",
      "\u001b[36mFile \u001b[39m\u001b[32m~/miniconda3/envs/cosilico-py/lib/python3.13/site-packages/zarr/storage/_common.py:318\u001b[39m, in \u001b[36mmake_store_path\u001b[39m\u001b[34m(store_like, path, mode, storage_options)\u001b[39m\n\u001b[32m    315\u001b[39m         msg = \u001b[33mf\u001b[39m\u001b[33m\"\u001b[39m\u001b[33mUnsupported type for store_like: \u001b[39m\u001b[33m'\u001b[39m\u001b[38;5;132;01m{\u001b[39;00m\u001b[38;5;28mtype\u001b[39m(store_like).\u001b[34m__name__\u001b[39m\u001b[38;5;132;01m}\u001b[39;00m\u001b[33m'\u001b[39m\u001b[33m\"\u001b[39m  \u001b[38;5;66;03m# type: ignore[unreachable]\u001b[39;00m\n\u001b[32m    316\u001b[39m         \u001b[38;5;28;01mraise\u001b[39;00m \u001b[38;5;167;01mTypeError\u001b[39;00m(msg)\n\u001b[32m--> \u001b[39m\u001b[32m318\u001b[39m     result = \u001b[38;5;28;01mawait\u001b[39;00m StorePath.open(store, path=path_normalized, mode=mode)\n\u001b[32m    320\u001b[39m \u001b[38;5;28;01mif\u001b[39;00m storage_options \u001b[38;5;129;01mand\u001b[39;00m \u001b[38;5;129;01mnot\u001b[39;00m used_storage_options:\n\u001b[32m    321\u001b[39m     msg = \u001b[33m\"\u001b[39m\u001b[33m'\u001b[39m\u001b[33mstorage_options\u001b[39m\u001b[33m'\u001b[39m\u001b[33m was provided but unused. \u001b[39m\u001b[33m'\u001b[39m\u001b[33mstorage_options\u001b[39m\u001b[33m'\u001b[39m\u001b[33m is only used for fsspec filesystem stores.\u001b[39m\u001b[33m\"\u001b[39m\n",
      "\u001b[36mFile \u001b[39m\u001b[32m~/miniconda3/envs/cosilico-py/lib/python3.13/site-packages/zarr/storage/_common.py:80\u001b[39m, in \u001b[36mStorePath.open\u001b[39m\u001b[34m(cls, store, path, mode)\u001b[39m\n\u001b[32m     77\u001b[39m     \u001b[38;5;28;01mreturn\u001b[39;00m \u001b[38;5;28mself\u001b[39m\n\u001b[32m     79\u001b[39m \u001b[38;5;28;01mif\u001b[39;00m store.read_only \u001b[38;5;129;01mand\u001b[39;00m mode != \u001b[33m\"\u001b[39m\u001b[33mr\u001b[39m\u001b[33m\"\u001b[39m:\n\u001b[32m---> \u001b[39m\u001b[32m80\u001b[39m     \u001b[38;5;28;01mraise\u001b[39;00m \u001b[38;5;167;01mValueError\u001b[39;00m(\u001b[33mf\u001b[39m\u001b[33m\"\u001b[39m\u001b[33mStore is read-only but mode is \u001b[39m\u001b[33m'\u001b[39m\u001b[38;5;132;01m{\u001b[39;00mmode\u001b[38;5;132;01m}\u001b[39;00m\u001b[33m'\u001b[39m\u001b[33m\"\u001b[39m)\n\u001b[32m     82\u001b[39m \u001b[38;5;28;01mmatch\u001b[39;00m mode:\n\u001b[32m     83\u001b[39m     \u001b[38;5;28;01mcase\u001b[39;00m \u001b[33m\"\u001b[39m\u001b[33mw-\u001b[39m\u001b[33m\"\u001b[39m:\n",
      "\u001b[31mValueError\u001b[39m: Store is read-only but mode is 'r+'"
     ]
    }
   ],
   "source": [
    "store = zarr.storage.ZipStore(output_filepath, mode='r')\n",
    "root = zarr.group(store=store)\n",
    "root['/g1/testd']"
   ]
  },
  {
   "cell_type": "code",
   "execution_count": null,
   "id": "063fc9a0",
   "metadata": {},
   "outputs": [],
   "source": []
  }
 ],
 "metadata": {
  "kernelspec": {
   "display_name": "Python 3 (ipykernel)",
   "language": "python",
   "name": "python3"
  },
  "language_info": {
   "codemirror_mode": {
    "name": "ipython",
    "version": 3
   },
   "file_extension": ".py",
   "mimetype": "text/x-python",
   "name": "python",
   "nbconvert_exporter": "python",
   "pygments_lexer": "ipython3",
   "version": "3.13.3"
  }
 },
 "nbformat": 4,
 "nbformat_minor": 5
}
