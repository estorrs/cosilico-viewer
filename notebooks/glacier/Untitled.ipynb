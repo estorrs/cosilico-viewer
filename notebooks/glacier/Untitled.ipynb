{
 "cells": [
  {
   "cell_type": "code",
   "execution_count": 1,
   "id": "5d8ba7ac-bad9-429e-810b-6b7f088a225d",
   "metadata": {},
   "outputs": [],
   "source": [
    "from pathlib import Path\n",
    "import os\n",
    "import json\n",
    "\n",
    "import pandas as pd\n",
    "import numpy as np\n",
    "import typer"
   ]
  },
  {
   "cell_type": "code",
   "execution_count": 2,
   "id": "33a81881-5e94-497e-b476-d139579d598b",
   "metadata": {},
   "outputs": [],
   "source": [
    "from cosilico_py.preprocessing.platform_helpers.experiment import create_bundle_from_input\n",
    "from cosilico_py.models import X10XeniumInput, DirectoryEntity, ExperimentViewSetting\n",
    "from cosilico_py.client.client import CosilicoClient\n",
    "from cosilico_py.config import get_config"
   ]
  },
  {
   "cell_type": "code",
   "execution_count": 8,
   "id": "3bb4273c-d426-4716-bb92-842e525c670b",
   "metadata": {},
   "outputs": [],
   "source": [
    "def save_config(email, password):\n",
    "    app_dir = typer.get_app_dir('cosilico_py')\n",
    "    config_path: Path = Path(app_dir) / \"config.json\"\n",
    "    d = {\n",
    "        'api_url': os.environ.get('API_URL'),\n",
    "        'anon_key': os.environ.get('ANON_KEY'),\n",
    "#         'cache_dir': str((Path(app_dir) / 'cache').absolute()),\n",
    "        'cache_dir': '/data/estorrs/temp_cache',\n",
    "        'email': email,\n",
    "        'password': password,\n",
    "        'preprocessing': {\n",
    "            'layer': {\n",
    "                'cells_max_vert_map': {\n",
    "                    1: 64,\n",
    "                    2: 64,\n",
    "                    4: 64,\n",
    "                    8: 64,\n",
    "                    16: 64,\n",
    "                    32: 64,\n",
    "                    64: 64,\n",
    "                    128: 64,\n",
    "                    256: 64,\n",
    "                    512: 64,\n",
    "                    1024: 64,\n",
    "                    2048: 64,\n",
    "                    4096: 64,\n",
    "                    8192: 8,\n",
    "                    16384: 8,\n",
    "                    32768: 8,\n",
    "                    65536: 8,\n",
    "                    131072: 8,\n",
    "                    262144: 8,\n",
    "                    524288: 8,\n",
    "                    1048576: 8,\n",
    "                },\n",
    "                'cells_downsample_map': {\n",
    "                    1: -1,\n",
    "                    2: -1,\n",
    "                    4: -1,\n",
    "                    8: -1,\n",
    "                    16: -1,\n",
    "                    32: -1,\n",
    "                    64: -1,\n",
    "                    128: -1,\n",
    "                    256: -1,\n",
    "                    512: -1,\n",
    "                    1024: -1,\n",
    "                    2048: -1,\n",
    "                    4096: -1,\n",
    "                    8192: 100_000,\n",
    "                    16384: 100_000,\n",
    "                    32768: 100_000,\n",
    "                    65536: 100_000,\n",
    "                    131072: 100_000,\n",
    "                    262144: 100_000,\n",
    "                    524288: 100_000,\n",
    "                    1048576: 100_000,\n",
    "                },\n",
    "                'cells_object_type_map': {\n",
    "                    1: 'polygon',\n",
    "                    2: 'polygon',\n",
    "                    4: 'polygon',\n",
    "                    8: 'polygon',\n",
    "                    16: 'polygon',\n",
    "                    32: 'polygon',\n",
    "                    64: 'polygon',\n",
    "                    128: 'polygon',\n",
    "                    256: 'polygon',\n",
    "                    512: 'polygon',\n",
    "                    1024: 'polygon',\n",
    "                    2048: 'polygon',\n",
    "                    4096: 'polygon',\n",
    "                    8192: 'polygon',\n",
    "                    16384: 'polygon',\n",
    "                    32768: 'polygon',\n",
    "                    65536: 'polygon',\n",
    "                    131072: 'polygon',\n",
    "                    262144: 'polygon',\n",
    "                    524288: 'polygon',\n",
    "                    1048576: 'polygon',\n",
    "                }\n",
    "            }\n",
    "        }\n",
    "\n",
    "    }\n",
    "\n",
    "    Path(d['cache_dir']).mkdir(parents=True, exist_ok=True)\n",
    "\n",
    "\n",
    "    json.dump(d, open(config_path, 'w'))\n",
    "\n",
    "def autocreate_client(email, password):\n",
    "    save_config(email, password)\n",
    "    client = CosilicoClient()\n",
    "    client.sign_in()\n",
    "    return client\n",
    "    \n",
    "    "
   ]
  },
  {
   "cell_type": "code",
   "execution_count": 9,
   "id": "b781f241-0b20-4881-ba1e-dcac1e44153f",
   "metadata": {},
   "outputs": [],
   "source": [
    "save_config('test@gmail.com', '123456')"
   ]
  },
  {
   "cell_type": "code",
   "execution_count": 10,
   "id": "42dfe02f-8029-4eb8-97f8-9865e905f9ff",
   "metadata": {},
   "outputs": [
    {
     "data": {
      "text/plain": [
       "X10XeniumInput(name='Prostate test', bbox=None, verbose=True, platform=<PlatformEnum.x10_xenium: '10X Xenium'>, cellranger_outs=PosixPath('/data/estorrs/Xenium_Prime_Breast_Cancer_FFPE_outs'), to_uint8=True)"
      ]
     },
     "execution_count": 10,
     "metadata": {},
     "output_type": "execute_result"
    }
   ],
   "source": [
    "x_input = X10XeniumInput(\n",
    "    name='Prostate test',\n",
    "    cellranger_outs='/data/estorrs/Xenium_Prime_Breast_Cancer_FFPE_outs',\n",
    "    bbox=None,\n",
    "    to_uint8=True\n",
    ")\n",
    "x_input"
   ]
  },
  {
   "cell_type": "code",
   "execution_count": 11,
   "id": "e62d9bdf-938e-4c06-8a66-e203508b1fe3",
   "metadata": {},
   "outputs": [
    {
     "data": {
      "text/html": [
       "<pre style=\"white-space:pre;overflow-x:auto;line-height:normal;font-family:Menlo,'DejaVu Sans Mono',consolas,'Courier New',monospace\">Loading xenium experiment from <span style=\"color: #008000; text-decoration-color: #008000\">/data/estorrs/Xenium_Prime_Breast_Cancer_FFPE_outs</span>\n",
       "</pre>\n"
      ],
      "text/plain": [
       "Loading xenium experiment from \u001b[32m/data/estorrs/\u001b[0m\u001b[32mXenium_Prime_Breast_Cancer_FFPE_outs\u001b[0m\n"
      ]
     },
     "metadata": {},
     "output_type": "display_data"
    },
    {
     "data": {
      "text/html": [
       "<pre style=\"white-space:pre;overflow-x:auto;line-height:normal;font-family:Menlo,'DejaVu Sans Mono',consolas,'Courier New',monospace\">Loading xenium morphology image from \n",
       "<span style=\"color: #008000; text-decoration-color: #008000\">/data/estorrs/Xenium_Prime_Breast_Cancer_FFPE_outs/morphology_focus/morphology_focus_0002.ome.tif</span>\n",
       "</pre>\n"
      ],
      "text/plain": [
       "Loading xenium morphology image from \n",
       "\u001b[32m/data/estorrs/Xenium_Prime_Breast_Cancer_FFPE_outs/morphology_focus/\u001b[0m\u001b[32mmorphology_focus_0002.ome.tif\u001b[0m\n"
      ]
     },
     "metadata": {},
     "output_type": "display_data"
    },
    {
     "name": "stderr",
     "output_type": "stream",
     "text": [
      "<tifffile.TiffFile 'morphology_focus_0002.ome.tif'> OME series cannot read multi-file pyramids\n"
     ]
    },
    {
     "data": {
      "text/html": [
       "<pre style=\"white-space:pre;overflow-x:auto;line-height:normal;font-family:Menlo,'DejaVu Sans Mono',consolas,'Courier New',monospace\">Loading xenium transcripts from <span style=\"color: #008000; text-decoration-color: #008000\">/data/estorrs/Xenium_Prime_Breast_Cancer_FFPE_outs/transcripts.parquet</span>\n",
       "</pre>\n"
      ],
      "text/plain": [
       "Loading xenium transcripts from \u001b[32m/data/estorrs/Xenium_Prime_Breast_Cancer_FFPE_outs/\u001b[0m\u001b[32mtranscripts.parquet\u001b[0m\n"
      ]
     },
     "metadata": {},
     "output_type": "display_data"
    },
    {
     "data": {
      "text/html": [
       "<pre style=\"white-space:pre;overflow-x:auto;line-height:normal;font-family:Menlo,'DejaVu Sans Mono',consolas,'Courier New',monospace\">Loading xenium transcript metadata for <span style=\"color: #008000; text-decoration-color: #008000; font-weight: bold\">[</span><span style=\"color: #008000; text-decoration-color: #008000\">'qv'</span><span style=\"color: #008000; text-decoration-color: #008000; font-weight: bold\">]</span>\n",
       "</pre>\n"
      ],
      "text/plain": [
       "Loading xenium transcript metadata for \u001b[1;32m[\u001b[0m\u001b[32m'qv'\u001b[0m\u001b[1;32m]\u001b[0m\n"
      ]
     },
     "metadata": {},
     "output_type": "display_data"
    },
    {
     "data": {
      "text/html": [
       "<pre style=\"white-space:pre;overflow-x:auto;line-height:normal;font-family:Menlo,'DejaVu Sans Mono',consolas,'Courier New',monospace\">Loading xenium cell boundaries from <span style=\"color: #008000; text-decoration-color: #008000\">/data/estorrs/Xenium_Prime_Breast_Cancer_FFPE_outs/cell_boundaries.parquet</span>\n",
       "</pre>\n"
      ],
      "text/plain": [
       "Loading xenium cell boundaries from \u001b[32m/data/estorrs/Xenium_Prime_Breast_Cancer_FFPE_outs/\u001b[0m\u001b[32mcell_boundaries.parquet\u001b[0m\n"
      ]
     },
     "metadata": {},
     "output_type": "display_data"
    },
    {
     "data": {
      "text/html": [
       "<pre style=\"white-space:pre;overflow-x:auto;line-height:normal;font-family:Menlo,'DejaVu Sans Mono',consolas,'Courier New',monospace\">Loading xenium cell transcript counts <span style=\"color: #008000; text-decoration-color: #008000\">/data/estorrs/Xenium_Prime_Breast_Cancer_FFPE_outs/cell_feature_matrix.h5</span>\n",
       "</pre>\n"
      ],
      "text/plain": [
       "Loading xenium cell transcript counts \u001b[32m/data/estorrs/Xenium_Prime_Breast_Cancer_FFPE_outs/\u001b[0m\u001b[32mcell_feature_matrix.h5\u001b[0m\n"
      ]
     },
     "metadata": {},
     "output_type": "display_data"
    },
    {
     "name": "stdout",
     "output_type": "stream",
     "text": [
      "CPU times: user 4h 57min 34s, sys: 41min 15s, total: 5h 38min 49s\n",
      "Wall time: 1h 33min 18s\n"
     ]
    },
    {
     "ename": "ZeroDivisionError",
     "evalue": "division by zero",
     "output_type": "error",
     "traceback": [
      "\u001b[31m---------------------------------------------------------------------------\u001b[39m",
      "\u001b[31mZeroDivisionError\u001b[39m                         Traceback (most recent call last)",
      "\u001b[36mCell\u001b[39m\u001b[36m \u001b[39m\u001b[32mIn[11]\u001b[39m\u001b[32m, line 1\u001b[39m\n\u001b[32m----> \u001b[39m\u001b[32m1\u001b[39m \u001b[43mget_ipython\u001b[49m\u001b[43m(\u001b[49m\u001b[43m)\u001b[49m\u001b[43m.\u001b[49m\u001b[43mrun_cell_magic\u001b[49m\u001b[43m(\u001b[49m\u001b[33;43m'\u001b[39;49m\u001b[33;43mtime\u001b[39;49m\u001b[33;43m'\u001b[39;49m\u001b[43m,\u001b[49m\u001b[43m \u001b[49m\u001b[33;43m'\u001b[39;49m\u001b[33;43m'\u001b[39;49m\u001b[43m,\u001b[49m\u001b[43m \u001b[49m\u001b[33;43m'\u001b[39;49m\u001b[33;43mbundle = create_bundle_from_input(x_input)\u001b[39;49m\u001b[38;5;130;43;01m\\n\u001b[39;49;00m\u001b[33;43mbundle\u001b[39;49m\u001b[38;5;130;43;01m\\n\u001b[39;49;00m\u001b[33;43m'\u001b[39;49m\u001b[43m)\u001b[49m\n",
      "\u001b[36mFile \u001b[39m\u001b[32m/data/estorrs/miniconda3/envs/cosilico-py/lib/python3.13/site-packages/IPython/core/interactiveshell.py:2565\u001b[39m, in \u001b[36mInteractiveShell.run_cell_magic\u001b[39m\u001b[34m(self, magic_name, line, cell)\u001b[39m\n\u001b[32m   2563\u001b[39m \u001b[38;5;28;01mwith\u001b[39;00m \u001b[38;5;28mself\u001b[39m.builtin_trap:\n\u001b[32m   2564\u001b[39m     args = (magic_arg_s, cell)\n\u001b[32m-> \u001b[39m\u001b[32m2565\u001b[39m     result = \u001b[43mfn\u001b[49m\u001b[43m(\u001b[49m\u001b[43m*\u001b[49m\u001b[43margs\u001b[49m\u001b[43m,\u001b[49m\u001b[43m \u001b[49m\u001b[43m*\u001b[49m\u001b[43m*\u001b[49m\u001b[43mkwargs\u001b[49m\u001b[43m)\u001b[49m\n\u001b[32m   2567\u001b[39m \u001b[38;5;66;03m# The code below prevents the output from being displayed\u001b[39;00m\n\u001b[32m   2568\u001b[39m \u001b[38;5;66;03m# when using magics with decorator @output_can_be_silenced\u001b[39;00m\n\u001b[32m   2569\u001b[39m \u001b[38;5;66;03m# when the last Python token in the expression is a ';'.\u001b[39;00m\n\u001b[32m   2570\u001b[39m \u001b[38;5;28;01mif\u001b[39;00m \u001b[38;5;28mgetattr\u001b[39m(fn, magic.MAGIC_OUTPUT_CAN_BE_SILENCED, \u001b[38;5;28;01mFalse\u001b[39;00m):\n",
      "\u001b[36mFile \u001b[39m\u001b[32m/data/estorrs/miniconda3/envs/cosilico-py/lib/python3.13/site-packages/IPython/core/magics/execution.py:1470\u001b[39m, in \u001b[36mExecutionMagics.time\u001b[39m\u001b[34m(self, line, cell, local_ns)\u001b[39m\n\u001b[32m   1468\u001b[39m \u001b[38;5;28;01mif\u001b[39;00m interrupt_occured:\n\u001b[32m   1469\u001b[39m     \u001b[38;5;28;01mif\u001b[39;00m exit_on_interrupt \u001b[38;5;129;01mand\u001b[39;00m captured_exception:\n\u001b[32m-> \u001b[39m\u001b[32m1470\u001b[39m         \u001b[38;5;28;01mraise\u001b[39;00m captured_exception\n\u001b[32m   1471\u001b[39m     \u001b[38;5;28;01mreturn\u001b[39;00m\n\u001b[32m   1472\u001b[39m \u001b[38;5;28;01mreturn\u001b[39;00m out\n",
      "\u001b[36mFile \u001b[39m\u001b[32m/data/estorrs/miniconda3/envs/cosilico-py/lib/python3.13/site-packages/IPython/core/magics/execution.py:1434\u001b[39m, in \u001b[36mExecutionMagics.time\u001b[39m\u001b[34m(self, line, cell, local_ns)\u001b[39m\n\u001b[32m   1432\u001b[39m st = clock2()\n\u001b[32m   1433\u001b[39m \u001b[38;5;28;01mtry\u001b[39;00m:\n\u001b[32m-> \u001b[39m\u001b[32m1434\u001b[39m     \u001b[43mexec\u001b[49m\u001b[43m(\u001b[49m\u001b[43mcode\u001b[49m\u001b[43m,\u001b[49m\u001b[43m \u001b[49m\u001b[43mglob\u001b[49m\u001b[43m,\u001b[49m\u001b[43m \u001b[49m\u001b[43mlocal_ns\u001b[49m\u001b[43m)\u001b[49m\n\u001b[32m   1435\u001b[39m     out = \u001b[38;5;28;01mNone\u001b[39;00m\n\u001b[32m   1436\u001b[39m     \u001b[38;5;66;03m# multi-line %%time case\u001b[39;00m\n",
      "\u001b[36mFile \u001b[39m\u001b[32m<timed exec>:1\u001b[39m\n",
      "\u001b[36mFile \u001b[39m\u001b[32m/data/estorrs/viewer/cosilico-py/src/cosilico_py/preprocessing/platform_helpers/experiment.py:9\u001b[39m, in \u001b[36mcreate_bundle_from_input\u001b[39m\u001b[34m(input)\u001b[39m\n\u001b[32m      7\u001b[39m \u001b[38;5;28;01mdef\u001b[39;00m\u001b[38;5;250m \u001b[39m\u001b[34mcreate_bundle_from_input\u001b[39m(\u001b[38;5;28minput\u001b[39m) -> models.ExperimentUploadBundle:\n\u001b[32m      8\u001b[39m     \u001b[38;5;28;01mif\u001b[39;00m \u001b[38;5;28minput\u001b[39m.platform == models.PlatformEnum.x10_xenium:\n\u001b[32m----> \u001b[39m\u001b[32m9\u001b[39m         bundle = \u001b[43mexperiment_from_x10_xenium_cellranger\u001b[49m\u001b[43m(\u001b[49m\n\u001b[32m     10\u001b[39m \u001b[43m            \u001b[49m\u001b[38;5;28;43minput\u001b[39;49m\u001b[43m.\u001b[49m\u001b[43mcellranger_outs\u001b[49m\u001b[43m,\u001b[49m\n\u001b[32m     11\u001b[39m \u001b[43m            \u001b[49m\u001b[38;5;28;43minput\u001b[39;49m\u001b[43m.\u001b[49m\u001b[43mname\u001b[49m\u001b[43m,\u001b[49m\n\u001b[32m     12\u001b[39m \u001b[43m            \u001b[49m\u001b[43mbbox\u001b[49m\u001b[43m \u001b[49m\u001b[43m=\u001b[49m\u001b[43m \u001b[49m\u001b[38;5;28;43minput\u001b[39;49m\u001b[43m.\u001b[49m\u001b[43mbbox\u001b[49m\u001b[43m,\u001b[49m\n\u001b[32m     13\u001b[39m \u001b[43m            \u001b[49m\u001b[43mto_uint8\u001b[49m\u001b[43m \u001b[49m\u001b[43m=\u001b[49m\u001b[43m \u001b[49m\u001b[38;5;28;43minput\u001b[39;49m\u001b[43m.\u001b[49m\u001b[43mto_uint8\u001b[49m\n\u001b[32m     14\u001b[39m \u001b[43m        \u001b[49m\u001b[43m)\u001b[49m\n\u001b[32m     15\u001b[39m     \u001b[38;5;28;01melse\u001b[39;00m:\n\u001b[32m     16\u001b[39m         \u001b[38;5;28;01mraise\u001b[39;00m \u001b[38;5;167;01mRuntimeError\u001b[39;00m(\u001b[33mf\u001b[39m\u001b[33m'\u001b[39m\u001b[33mPlatform \u001b[39m\u001b[38;5;132;01m{\u001b[39;00m\u001b[38;5;28minput\u001b[39m.platform\u001b[38;5;132;01m}\u001b[39;00m\u001b[33m was not found.\u001b[39m\u001b[33m'\u001b[39m)\n",
      "\u001b[36mFile \u001b[39m\u001b[32m/data/estorrs/viewer/cosilico-py/src/cosilico_py/preprocessing/platforms/x10_xenium.py:253\u001b[39m, in \u001b[36mexperiment_from_x10_xenium_cellranger\u001b[39m\u001b[34m(directory, name, bbox, to_uint8, verbose)\u001b[39m\n\u001b[32m    250\u001b[39m source = combine_barcoded_data(\u001b[38;5;28;01mNone\u001b[39;00m, adata, chunk_size=\u001b[32m1_000_000\u001b[39m).sort_index()\n\u001b[32m    251\u001b[39m fnames = np.asarray(source[\u001b[33m'\u001b[39m\u001b[33mfeature_name\u001b[39m\u001b[33m'\u001b[39m].cat.categories.to_list(), dtype=\u001b[38;5;28mobject\u001b[39m)\n\u001b[32m--> \u001b[39m\u001b[32m253\u001b[39m cell_transcript_count_meta = \u001b[43mwrite_sparse_continuous_ungrouped_layer_metadata\u001b[49m\u001b[43m(\u001b[49m\n\u001b[32m    254\u001b[39m \u001b[43m    \u001b[49m\u001b[43mcell_layer\u001b[49m\u001b[43m.\u001b[49m\u001b[43mid\u001b[49m\u001b[43m,\u001b[49m\n\u001b[32m    255\u001b[39m \u001b[43m    \u001b[49m\u001b[43mfnames\u001b[49m\u001b[43m,\u001b[49m\n\u001b[32m    256\u001b[39m \u001b[43m    \u001b[49m\u001b[33;43m'\u001b[39;49m\u001b[33;43mTranscript Counts\u001b[39;49m\u001b[33;43m'\u001b[39;49m\u001b[43m,\u001b[49m\n\u001b[32m    257\u001b[39m \u001b[43m    \u001b[49m\u001b[43msource\u001b[49m\u001b[43m,\u001b[49m\n\u001b[32m    258\u001b[39m \u001b[43m    \u001b[49m\u001b[33;43m'\u001b[39;49m\u001b[33;43mcount\u001b[39;49m\u001b[33;43m'\u001b[39;49m\u001b[43m,\u001b[49m\n\u001b[32m    259\u001b[39m \u001b[43m    \u001b[49m\u001b[43mcell_layer\u001b[49m\u001b[43m.\u001b[49m\u001b[43mlocal_path\u001b[49m\u001b[43m,\u001b[49m\n\u001b[32m    260\u001b[39m \u001b[43m    \u001b[49m\u001b[43moutput_directory\u001b[49m\u001b[43m,\u001b[49m\n\u001b[32m    261\u001b[39m \u001b[43m\u001b[49m\u001b[43m)\u001b[49m\n\u001b[32m    263\u001b[39m bundle = ExperimentUploadBundle(\n\u001b[32m    264\u001b[39m     experiment = experiment,\n\u001b[32m    265\u001b[39m     images = [image],\n\u001b[32m    266\u001b[39m     layers = [cell_layer, transcript_layer],\n\u001b[32m    267\u001b[39m     layer_metadata = \u001b[38;5;28mlist\u001b[39m(transcript_metas.values()) + [cell_transcript_count_meta]\n\u001b[32m    268\u001b[39m )\n\u001b[32m    270\u001b[39m \u001b[38;5;28;01mreturn\u001b[39;00m bundle\n",
      "\u001b[36mFile \u001b[39m\u001b[32m/data/estorrs/viewer/cosilico-py/src/cosilico_py/preprocessing/core/layer.py:791\u001b[39m, in \u001b[36mwrite_sparse_continuous_ungrouped_layer_metadata\u001b[39m\u001b[34m(layer_id, fnames, name, source, value_col, parent_zarr_path, output_directory)\u001b[39m\n\u001b[32m    782\u001b[39m meta = LayerMetadata(\n\u001b[32m    783\u001b[39m     layer_id=layer_id,\n\u001b[32m    784\u001b[39m     name=name,\n\u001b[32m   (...)\u001b[39m\u001b[32m    787\u001b[39m     fields=fnames.tolist(),\n\u001b[32m    788\u001b[39m )\n\u001b[32m    789\u001b[39m meta.local_path = (output_directory / \u001b[33mf\u001b[39m\u001b[33m'\u001b[39m\u001b[38;5;132;01m{\u001b[39;00mmeta.id\u001b[38;5;132;01m}\u001b[39;00m\u001b[33m.zarr.zip\u001b[39m\u001b[33m'\u001b[39m).absolute()\n\u001b[32m--> \u001b[39m\u001b[32m791\u001b[39m \u001b[43mwrite_sparse_continuous_metadata_zarr\u001b[49m\u001b[43m(\u001b[49m\n\u001b[32m    792\u001b[39m \u001b[43m    \u001b[49m\u001b[43mzoom_to_dfs\u001b[49m\u001b[43m,\u001b[49m\u001b[43m \u001b[49m\u001b[43mfnames\u001b[49m\u001b[43m,\u001b[49m\u001b[43m \u001b[49m\u001b[43mvalue_col\u001b[49m\u001b[43m,\u001b[49m\u001b[43m \u001b[49m\u001b[43mmeta\u001b[49m\u001b[43m.\u001b[49m\u001b[43mlocal_path\u001b[49m\u001b[43m,\u001b[49m\u001b[43m \u001b[49m\u001b[43mname\u001b[49m\u001b[43m,\u001b[49m\u001b[43m \u001b[49m\u001b[43mvmins\u001b[49m\u001b[43m,\u001b[49m\u001b[43m \u001b[49m\u001b[43mvmaxs\u001b[49m\u001b[43m,\u001b[49m\u001b[43m \u001b[49m\u001b[43mvcenters\u001b[49m\u001b[43m=\u001b[49m\u001b[43mvcenters\u001b[49m\n\u001b[32m    793\u001b[39m \u001b[43m\u001b[49m\u001b[43m)\u001b[49m\n\u001b[32m    795\u001b[39m \u001b[38;5;28;01mreturn\u001b[39;00m meta\n",
      "\u001b[36mFile \u001b[39m\u001b[32m/data/estorrs/viewer/cosilico-py/src/cosilico_py/preprocessing/core/layer.py:681\u001b[39m, in \u001b[36mwrite_sparse_continuous_metadata_zarr\u001b[39m\u001b[34m(zoom_to_dfs, fnames, value_col, zarr_path, name, vmins, vmaxs, vcenters)\u001b[39m\n\u001b[32m    678\u001b[39m grid_group = group.create_group(grid)\n\u001b[32m    680\u001b[39m xs = grid_group.create_dataset(\u001b[33m'\u001b[39m\u001b[33mids\u001b[39m\u001b[33m'\u001b[39m, shape=df.shape[\u001b[32m0\u001b[39m], chunks=df.shape[\u001b[32m0\u001b[39m], dtype=\u001b[38;5;28mobject\u001b[39m, object_codec=numcodecs.VLenUTF8())    \n\u001b[32m--> \u001b[39m\u001b[32m681\u001b[39m \u001b[43mxs\u001b[49m\u001b[43m[\u001b[49m\u001b[43m:\u001b[49m\u001b[43m]\u001b[49m = np.asarray(df.index.astype(\u001b[38;5;28mobject\u001b[39m).to_list())\n\u001b[32m    683\u001b[39m xs = grid_group.create_dataset(\u001b[33m'\u001b[39m\u001b[33mvalues\u001b[39m\u001b[33m'\u001b[39m, shape=df.shape[\u001b[32m0\u001b[39m], chunks=df.shape[\u001b[32m0\u001b[39m], dtype=\u001b[33m'\u001b[39m\u001b[33mfloat32\u001b[39m\u001b[33m'\u001b[39m)    \n\u001b[32m    684\u001b[39m xs[:] = df[value_col].values\n",
      "\u001b[36mFile \u001b[39m\u001b[32m/data/estorrs/miniconda3/envs/cosilico-py/lib/python3.13/site-packages/zarr/core.py:1451\u001b[39m, in \u001b[36mArray.__setitem__\u001b[39m\u001b[34m(self, selection, value)\u001b[39m\n\u001b[32m   1449\u001b[39m     \u001b[38;5;28mself\u001b[39m.set_orthogonal_selection(pure_selection, value, fields=fields)\n\u001b[32m   1450\u001b[39m \u001b[38;5;28;01melse\u001b[39;00m:\n\u001b[32m-> \u001b[39m\u001b[32m1451\u001b[39m     \u001b[38;5;28;43mself\u001b[39;49m\u001b[43m.\u001b[49m\u001b[43mset_basic_selection\u001b[49m\u001b[43m(\u001b[49m\u001b[43mpure_selection\u001b[49m\u001b[43m,\u001b[49m\u001b[43m \u001b[49m\u001b[43mvalue\u001b[49m\u001b[43m,\u001b[49m\u001b[43m \u001b[49m\u001b[43mfields\u001b[49m\u001b[43m=\u001b[49m\u001b[43mfields\u001b[49m\u001b[43m)\u001b[49m\n",
      "\u001b[36mFile \u001b[39m\u001b[32m/data/estorrs/miniconda3/envs/cosilico-py/lib/python3.13/site-packages/zarr/core.py:1547\u001b[39m, in \u001b[36mArray.set_basic_selection\u001b[39m\u001b[34m(self, selection, value, fields)\u001b[39m\n\u001b[32m   1545\u001b[39m     \u001b[38;5;28;01mreturn\u001b[39;00m \u001b[38;5;28mself\u001b[39m._set_basic_selection_zd(selection, value, fields=fields)\n\u001b[32m   1546\u001b[39m \u001b[38;5;28;01melse\u001b[39;00m:\n\u001b[32m-> \u001b[39m\u001b[32m1547\u001b[39m     \u001b[38;5;28;01mreturn\u001b[39;00m \u001b[38;5;28;43mself\u001b[39;49m\u001b[43m.\u001b[49m\u001b[43m_set_basic_selection_nd\u001b[49m\u001b[43m(\u001b[49m\u001b[43mselection\u001b[49m\u001b[43m,\u001b[49m\u001b[43m \u001b[49m\u001b[43mvalue\u001b[49m\u001b[43m,\u001b[49m\u001b[43m \u001b[49m\u001b[43mfields\u001b[49m\u001b[43m=\u001b[49m\u001b[43mfields\u001b[49m\u001b[43m)\u001b[49m\n",
      "\u001b[36mFile \u001b[39m\u001b[32m/data/estorrs/miniconda3/envs/cosilico-py/lib/python3.13/site-packages/zarr/core.py:1935\u001b[39m, in \u001b[36mArray._set_basic_selection_nd\u001b[39m\u001b[34m(self, selection, value, fields)\u001b[39m\n\u001b[32m   1931\u001b[39m \u001b[38;5;28;01mdef\u001b[39;00m\u001b[38;5;250m \u001b[39m\u001b[34m_set_basic_selection_nd\u001b[39m(\u001b[38;5;28mself\u001b[39m, selection, value, fields=\u001b[38;5;28;01mNone\u001b[39;00m):\n\u001b[32m   1932\u001b[39m     \u001b[38;5;66;03m# implementation of __setitem__ for array with at least one dimension\u001b[39;00m\n\u001b[32m   1933\u001b[39m \n\u001b[32m   1934\u001b[39m     \u001b[38;5;66;03m# setup indexer\u001b[39;00m\n\u001b[32m-> \u001b[39m\u001b[32m1935\u001b[39m     indexer = \u001b[43mBasicIndexer\u001b[49m\u001b[43m(\u001b[49m\u001b[43mselection\u001b[49m\u001b[43m,\u001b[49m\u001b[43m \u001b[49m\u001b[38;5;28;43mself\u001b[39;49m\u001b[43m)\u001b[49m\n\u001b[32m   1937\u001b[39m     \u001b[38;5;28mself\u001b[39m._set_selection(indexer, value, fields=fields)\n",
      "\u001b[36mFile \u001b[39m\u001b[32m/data/estorrs/miniconda3/envs/cosilico-py/lib/python3.13/site-packages/zarr/indexing.py:339\u001b[39m, in \u001b[36mBasicIndexer.__init__\u001b[39m\u001b[34m(self, selection, array)\u001b[39m\n\u001b[32m    336\u001b[39m     dim_indexer = IntDimIndexer(dim_sel, dim_len, dim_chunk_len)\n\u001b[32m    338\u001b[39m \u001b[38;5;28;01melif\u001b[39;00m is_slice(dim_sel):\n\u001b[32m--> \u001b[39m\u001b[32m339\u001b[39m     dim_indexer = \u001b[43mSliceDimIndexer\u001b[49m\u001b[43m(\u001b[49m\u001b[43mdim_sel\u001b[49m\u001b[43m,\u001b[49m\u001b[43m \u001b[49m\u001b[43mdim_len\u001b[49m\u001b[43m,\u001b[49m\u001b[43m \u001b[49m\u001b[43mdim_chunk_len\u001b[49m\u001b[43m)\u001b[49m\n\u001b[32m    341\u001b[39m \u001b[38;5;28;01melse\u001b[39;00m:\n\u001b[32m    342\u001b[39m     \u001b[38;5;28;01mraise\u001b[39;00m \u001b[38;5;167;01mIndexError\u001b[39;00m(\n\u001b[32m    343\u001b[39m         \u001b[33mf\u001b[39m\u001b[33m\"\u001b[39m\u001b[33munsupported selection item for basic indexing; \u001b[39m\u001b[33m\"\u001b[39m\n\u001b[32m    344\u001b[39m         \u001b[33mf\u001b[39m\u001b[33m\"\u001b[39m\u001b[33mexpected integer or slice, got \u001b[39m\u001b[38;5;132;01m{\u001b[39;00m\u001b[38;5;28mtype\u001b[39m(dim_sel)\u001b[38;5;132;01m!r}\u001b[39;00m\u001b[33m\"\u001b[39m\n\u001b[32m    345\u001b[39m     )\n",
      "\u001b[36mFile \u001b[39m\u001b[32m/data/estorrs/miniconda3/envs/cosilico-py/lib/python3.13/site-packages/zarr/indexing.py:181\u001b[39m, in \u001b[36mSliceDimIndexer.__init__\u001b[39m\u001b[34m(self, dim_sel, dim_len, dim_chunk_len)\u001b[39m\n\u001b[32m    179\u001b[39m \u001b[38;5;28mself\u001b[39m.dim_chunk_len = dim_chunk_len\n\u001b[32m    180\u001b[39m \u001b[38;5;28mself\u001b[39m.nitems = \u001b[38;5;28mmax\u001b[39m(\u001b[32m0\u001b[39m, ceildiv((\u001b[38;5;28mself\u001b[39m.stop - \u001b[38;5;28mself\u001b[39m.start), \u001b[38;5;28mself\u001b[39m.step))\n\u001b[32m--> \u001b[39m\u001b[32m181\u001b[39m \u001b[38;5;28mself\u001b[39m.nchunks = \u001b[43mceildiv\u001b[49m\u001b[43m(\u001b[49m\u001b[38;5;28;43mself\u001b[39;49m\u001b[43m.\u001b[49m\u001b[43mdim_len\u001b[49m\u001b[43m,\u001b[49m\u001b[43m \u001b[49m\u001b[38;5;28;43mself\u001b[39;49m\u001b[43m.\u001b[49m\u001b[43mdim_chunk_len\u001b[49m\u001b[43m)\u001b[49m\n",
      "\u001b[36mFile \u001b[39m\u001b[32m/data/estorrs/miniconda3/envs/cosilico-py/lib/python3.13/site-packages/zarr/indexing.py:167\u001b[39m, in \u001b[36mceildiv\u001b[39m\u001b[34m(a, b)\u001b[39m\n\u001b[32m    166\u001b[39m \u001b[38;5;28;01mdef\u001b[39;00m\u001b[38;5;250m \u001b[39m\u001b[34mceildiv\u001b[39m(a, b):\n\u001b[32m--> \u001b[39m\u001b[32m167\u001b[39m     \u001b[38;5;28;01mreturn\u001b[39;00m math.ceil(\u001b[43ma\u001b[49m\u001b[43m \u001b[49m\u001b[43m/\u001b[49m\u001b[43m \u001b[49m\u001b[43mb\u001b[49m)\n",
      "\u001b[31mZeroDivisionError\u001b[39m: division by zero"
     ]
    }
   ],
   "source": [
    "%%time\n",
    "bundle = create_bundle_from_input(x_input)\n",
    "bundle"
   ]
  },
  {
   "cell_type": "code",
   "execution_count": null,
   "id": "1f6e78b2-dc1a-43b7-bde3-8ce4fac98a7d",
   "metadata": {},
   "outputs": [],
   "source": []
  },
  {
   "cell_type": "code",
   "execution_count": null,
   "id": "6263e062-e4d2-490d-ac2a-2abdb66f1ba9",
   "metadata": {},
   "outputs": [],
   "source": []
  },
  {
   "cell_type": "code",
   "execution_count": null,
   "id": "256cbce7-dc57-4c4f-9954-3086f40543a8",
   "metadata": {},
   "outputs": [],
   "source": []
  }
 ],
 "metadata": {
  "kernelspec": {
   "display_name": "Python 3 (ipykernel)",
   "language": "python",
   "name": "python3"
  },
  "language_info": {
   "codemirror_mode": {
    "name": "ipython",
    "version": 3
   },
   "file_extension": ".py",
   "mimetype": "text/x-python",
   "name": "python",
   "nbconvert_exporter": "python",
   "pygments_lexer": "ipython3",
   "version": "3.13.5"
  }
 },
 "nbformat": 4,
 "nbformat_minor": 5
}
