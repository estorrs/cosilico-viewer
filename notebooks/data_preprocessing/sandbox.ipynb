{
 "cells": [
  {
   "cell_type": "code",
   "execution_count": 5,
   "id": "2c071cb1",
   "metadata": {},
   "outputs": [],
   "source": [
    "import numcodecs\n",
    "import zarr"
   ]
  },
  {
   "cell_type": "code",
   "execution_count": 1,
   "id": "b94b85a7",
   "metadata": {},
   "outputs": [],
   "source": [
    "import h5py"
   ]
  },
  {
   "cell_type": "code",
   "execution_count": 1,
   "id": "090cb386",
   "metadata": {},
   "outputs": [],
   "source": [
    "import cosilico_py.preprocessing.platform_helpers.x10 as x10"
   ]
  },
  {
   "cell_type": "code",
   "execution_count": 1,
   "id": "7bbcf1c9",
   "metadata": {},
   "outputs": [],
   "source": [
    "from rich import print"
   ]
  },
  {
   "cell_type": "code",
   "execution_count": null,
   "id": "ca66edda",
   "metadata": {},
   "outputs": [],
   "source": []
  },
  {
   "cell_type": "code",
   "execution_count": 2,
   "id": "7967fba3",
   "metadata": {},
   "outputs": [],
   "source": [
    "from ome_types import from_xml\n",
    "import tifffile\n",
    "import dask.array as da"
   ]
  },
  {
   "cell_type": "code",
   "execution_count": 19,
   "id": "0a2c1767",
   "metadata": {},
   "outputs": [
    {
     "data": {
      "text/plain": [
       "ZarrTiffStore"
      ]
     },
     "execution_count": 19,
     "metadata": {},
     "output_type": "execute_result"
    }
   ],
   "source": [
    "image"
   ]
  },
  {
   "cell_type": "code",
   "execution_count": 20,
   "id": "f4949471",
   "metadata": {},
   "outputs": [
    {
     "data": {
      "text/plain": [
       "OME(\n",
       "   plates=[{'id': 'Plate:1', 'well_origin_x': -0.0, 'well_origin_x_unit': <UnitsLength.MICROMETER: 'µm'>, 'well_origin_y': -0.0, 'well_origin_y_unit': <UnitsLength.MICROMETER: 'µm'>}],\n",
       "   instruments=[{'microscope': {'manufacturer': '10x Genomics', 'model': 'Xenium', 'kind': 'microscope'}, 'id': 'Instrument:1'}],\n",
       "   images=[<1 field_type>],\n",
       "   uuid='urn:uuid:6f6e3c8f-db12-11ed-a5c7-0644c1d5d2e3',\n",
       "   creator='tifffile.py 2021.4.8',\n",
       ")"
      ]
     },
     "execution_count": 20,
     "metadata": {},
     "output_type": "execute_result"
    }
   ],
   "source": [
    "ome_model"
   ]
  },
  {
   "cell_type": "code",
   "execution_count": 63,
   "id": "66d575ed",
   "metadata": {},
   "outputs": [],
   "source": [
    "# ome_tiff_path = '/Users/erikstorrs/Downloads/Xenium_V1_FFPE_Human_Brain_Healthy_With_Addon_outs/morphology_focus.ome.tif'\n",
    "ome_tiff_path = '/Users/erikstorrs/Downloads/Xenium_V1_FFPE_Human_Brain_Healthy_With_Addon_outs/morphology.ome.tif'\n",
    "# ome_tiff_path = '/Users/erikstorrs/Downloads/Xenium_Prime_Breast_Cancer_FFPE_outs/morphology_focus/morphology_focus_0002.ome.tif'\n",
    "# ome_tiff_path = '/Users/erikstorrs/Downloads/Xenium_V1_Human_Ductal_Adenocarcinoma_FFPE_outs/morphology_focus/morphology_focus_0000.ome.tif'\n",
    "ome_metadata = tifffile.TiffFile(ome_tiff_path).ome_metadata\n",
    "ome_model = from_xml(ome_metadata)\n",
    "\n",
    "with tifffile.TiffFile(ome_tiff_path) as tif:\n",
    "#     z = tif.aszarr()\n",
    "#     zz = tif.series[0].aszarr()\n",
    "    z = tif.series[0].pages[0].aszarr()\n",
    "    image = da.from_zarr(z)\n",
    "#     image = da.from_zarr(zz)\n",
    "#     image = da.from_zarr(image, chunks=(1, 2048, 2048))"
   ]
  },
  {
   "cell_type": "code",
   "execution_count": 64,
   "id": "724651d1",
   "metadata": {},
   "outputs": [
    {
     "data": {
      "text/plain": [
       "Image(\n",
       "   id='Image:0',\n",
       "   name='Image0',\n",
       "   instrument_ref={'id': 'Instrument:1'},\n",
       "   pixels={'channels': [{'id': 'Channel:0:0', 'name': 'DAPI', 'samples_per_pixel': 1}], 'tiff_data_blocks': [{'plane_count': 13}], 'id': 'Pixels:0', 'dimension_order': <Pixels_DimensionOrder.XYZCT: 'XYZCT'>, 'type': <PixelType.UINT16: 'uint16'>, 'size_x': 36955, 'size_y': 27282, 'size_z': 13, 'size_c': 1, 'size_t': 1, 'physical_size_x': 0.2125, 'physical_size_y': 0.2125, 'physical_size_z': 3.0},\n",
       ")"
      ]
     },
     "execution_count": 64,
     "metadata": {},
     "output_type": "execute_result"
    }
   ],
   "source": [
    "ome_model.images[0]"
   ]
  },
  {
   "cell_type": "code",
   "execution_count": 65,
   "id": "6c25fb24",
   "metadata": {},
   "outputs": [
    {
     "name": "stdout",
     "output_type": "stream",
     "text": [
      "13 TiffPageSeries 0  'Image0'  13x27282x36955  uint16  ZYX  ome  8 Levels  13 Pages\n",
      "TiffPage 0 @16  27282x36955  uint16  minisblack tiled jpeg2000  ome\n",
      "TiffFrame 1 @13939344  27282x36955  uint16\n",
      "TiffFrame 2 @146243052  27282x36955  uint16\n",
      "TiffFrame 3 @394109272  27282x36955  uint16\n",
      "TiffFrame 4 @697471996  27282x36955  uint16\n",
      "TiffFrame 5 @998401786  27282x36955  uint16\n",
      "TiffFrame 6 @1298411118  27282x36955  uint16\n",
      "TiffFrame 7 @1597568094  27282x36955  uint16\n",
      "TiffFrame 8 @1896267556  27282x36955  uint16\n",
      "TiffFrame 9 @2195048900  27282x36955  uint16\n",
      "TiffFrame 10 @2496114066  27282x36955  uint16\n",
      "TiffFrame 11 @2786268448  27282x36955  uint16\n",
      "TiffFrame 12 @2959810478  27282x36955  uint16\n"
     ]
    }
   ],
   "source": [
    "for s in tif.series:\n",
    "    print(len(s.pages), s)\n",
    "    for p in s.pages:\n",
    "        print(p)"
   ]
  },
  {
   "cell_type": "code",
   "execution_count": 49,
   "id": "40dbe055",
   "metadata": {},
   "outputs": [
    {
     "name": "stdout",
     "output_type": "stream",
     "text": [
      "TiffPage 0 @16  74945x51265  uint16  minisblack tiled jpeg2000  ome\n"
     ]
    }
   ],
   "source": [
    "for p in tif.pages:\n",
    "    print(p)"
   ]
  },
  {
   "cell_type": "code",
   "execution_count": 59,
   "id": "1cb92ae7",
   "metadata": {},
   "outputs": [
    {
     "data": {
      "text/html": [
       "<table>\n",
       "    <tr>\n",
       "        <td>\n",
       "            <table style=\"border-collapse: collapse;\">\n",
       "                <thead>\n",
       "                    <tr>\n",
       "                        <td> </td>\n",
       "                        <th> Array </th>\n",
       "                        <th> Chunk </th>\n",
       "                    </tr>\n",
       "                </thead>\n",
       "                <tbody>\n",
       "                    \n",
       "                    <tr>\n",
       "                        <th> Bytes </th>\n",
       "                        <td> 1.88 GiB </td>\n",
       "                        <td> 2.00 MiB </td>\n",
       "                    </tr>\n",
       "                    \n",
       "                    <tr>\n",
       "                        <th> Shape </th>\n",
       "                        <td> (27282, 36955) </td>\n",
       "                        <td> (1024, 1024) </td>\n",
       "                    </tr>\n",
       "                    <tr>\n",
       "                        <th> Dask graph </th>\n",
       "                        <td colspan=\"2\"> 999 chunks in 2 graph layers </td>\n",
       "                    </tr>\n",
       "                    <tr>\n",
       "                        <th> Data type </th>\n",
       "                        <td colspan=\"2\"> uint16 numpy.ndarray </td>\n",
       "                    </tr>\n",
       "                </tbody>\n",
       "            </table>\n",
       "        </td>\n",
       "        <td>\n",
       "        <svg width=\"170\" height=\"138\" style=\"stroke:rgb(0,0,0);stroke-width:1\" >\n",
       "\n",
       "  <!-- Horizontal lines -->\n",
       "  <line x1=\"0\" y1=\"0\" x2=\"120\" y2=\"0\" style=\"stroke-width:2\" />\n",
       "  <line x1=\"0\" y1=\"3\" x2=\"120\" y2=\"3\" />\n",
       "  <line x1=\"0\" y1=\"6\" x2=\"120\" y2=\"6\" />\n",
       "  <line x1=\"0\" y1=\"13\" x2=\"120\" y2=\"13\" />\n",
       "  <line x1=\"0\" y1=\"16\" x2=\"120\" y2=\"16\" />\n",
       "  <line x1=\"0\" y1=\"23\" x2=\"120\" y2=\"23\" />\n",
       "  <line x1=\"0\" y1=\"26\" x2=\"120\" y2=\"26\" />\n",
       "  <line x1=\"0\" y1=\"29\" x2=\"120\" y2=\"29\" />\n",
       "  <line x1=\"0\" y1=\"36\" x2=\"120\" y2=\"36\" />\n",
       "  <line x1=\"0\" y1=\"39\" x2=\"120\" y2=\"39\" />\n",
       "  <line x1=\"0\" y1=\"46\" x2=\"120\" y2=\"46\" />\n",
       "  <line x1=\"0\" y1=\"49\" x2=\"120\" y2=\"49\" />\n",
       "  <line x1=\"0\" y1=\"56\" x2=\"120\" y2=\"56\" />\n",
       "  <line x1=\"0\" y1=\"59\" x2=\"120\" y2=\"59\" />\n",
       "  <line x1=\"0\" y1=\"63\" x2=\"120\" y2=\"63\" />\n",
       "  <line x1=\"0\" y1=\"69\" x2=\"120\" y2=\"69\" />\n",
       "  <line x1=\"0\" y1=\"73\" x2=\"120\" y2=\"73\" />\n",
       "  <line x1=\"0\" y1=\"79\" x2=\"120\" y2=\"79\" />\n",
       "  <line x1=\"0\" y1=\"83\" x2=\"120\" y2=\"83\" />\n",
       "  <line x1=\"0\" y1=\"88\" x2=\"120\" y2=\"88\" style=\"stroke-width:2\" />\n",
       "\n",
       "  <!-- Vertical lines -->\n",
       "  <line x1=\"0\" y1=\"0\" x2=\"0\" y2=\"88\" style=\"stroke-width:2\" />\n",
       "  <line x1=\"3\" y1=\"0\" x2=\"3\" y2=\"88\" />\n",
       "  <line x1=\"9\" y1=\"0\" x2=\"9\" y2=\"88\" />\n",
       "  <line x1=\"16\" y1=\"0\" x2=\"16\" y2=\"88\" />\n",
       "  <line x1=\"23\" y1=\"0\" x2=\"23\" y2=\"88\" />\n",
       "  <line x1=\"29\" y1=\"0\" x2=\"29\" y2=\"88\" />\n",
       "  <line x1=\"36\" y1=\"0\" x2=\"36\" y2=\"88\" />\n",
       "  <line x1=\"43\" y1=\"0\" x2=\"43\" y2=\"88\" />\n",
       "  <line x1=\"49\" y1=\"0\" x2=\"49\" y2=\"88\" />\n",
       "  <line x1=\"56\" y1=\"0\" x2=\"56\" y2=\"88\" />\n",
       "  <line x1=\"63\" y1=\"0\" x2=\"63\" y2=\"88\" />\n",
       "  <line x1=\"69\" y1=\"0\" x2=\"69\" y2=\"88\" />\n",
       "  <line x1=\"76\" y1=\"0\" x2=\"76\" y2=\"88\" />\n",
       "  <line x1=\"83\" y1=\"0\" x2=\"83\" y2=\"88\" />\n",
       "  <line x1=\"89\" y1=\"0\" x2=\"89\" y2=\"88\" />\n",
       "  <line x1=\"96\" y1=\"0\" x2=\"96\" y2=\"88\" />\n",
       "  <line x1=\"103\" y1=\"0\" x2=\"103\" y2=\"88\" />\n",
       "  <line x1=\"109\" y1=\"0\" x2=\"109\" y2=\"88\" />\n",
       "  <line x1=\"116\" y1=\"0\" x2=\"116\" y2=\"88\" />\n",
       "  <line x1=\"120\" y1=\"0\" x2=\"120\" y2=\"88\" style=\"stroke-width:2\" />\n",
       "\n",
       "  <!-- Colored Rectangle -->\n",
       "  <polygon points=\"0.0,0.0 120.0,0.0 120.0,88.58990664321472 0.0,88.58990664321472\" style=\"fill:#8B4903A0;stroke-width:0\"/>\n",
       "\n",
       "  <!-- Text -->\n",
       "  <text x=\"60.000000\" y=\"108.589907\" font-size=\"1.0rem\" font-weight=\"100\" text-anchor=\"middle\" >36955</text>\n",
       "  <text x=\"140.000000\" y=\"44.294953\" font-size=\"1.0rem\" font-weight=\"100\" text-anchor=\"middle\" transform=\"rotate(-90,140.000000,44.294953)\">27282</text>\n",
       "</svg>\n",
       "        </td>\n",
       "    </tr>\n",
       "</table>"
      ],
      "text/plain": [
       "dask.array<from-zarr, shape=(27282, 36955), dtype=uint16, chunksize=(1024, 1024), chunktype=numpy.ndarray>"
      ]
     },
     "execution_count": 59,
     "metadata": {},
     "output_type": "execute_result"
    }
   ],
   "source": [
    "image"
   ]
  },
  {
   "cell_type": "code",
   "execution_count": 43,
   "id": "e2b4fbd3",
   "metadata": {},
   "outputs": [
    {
     "data": {
      "text/plain": [
       "<tifffile.TiffPageSeries 0 ome>"
      ]
     },
     "execution_count": 43,
     "metadata": {},
     "output_type": "execute_result"
    }
   ],
   "source": [
    "s = tif.series[0]\n",
    "s"
   ]
  },
  {
   "cell_type": "code",
   "execution_count": 46,
   "id": "c238f8fa",
   "metadata": {},
   "outputs": [
    {
     "ename": "AssertionError",
     "evalue": "",
     "output_type": "error",
     "traceback": [
      "\u001b[31m---------------------------------------------------------------------------\u001b[39m",
      "\u001b[31mAssertionError\u001b[39m                            Traceback (most recent call last)",
      "\u001b[32m/var/folders/l4/tr_3w7sx31z58xhsnb0_07hw0000gr/T/ipykernel_33597/1883054398.py\u001b[39m in \u001b[36m?\u001b[39m\u001b[34m()\u001b[39m\n\u001b[32m----> \u001b[39m\u001b[32m1\u001b[39m s.aszarr()\n",
      "\u001b[32m~/miniconda3/envs/cosilico-py/lib/python3.13/site-packages/tifffile/tifffile.py\u001b[39m in \u001b[36m?\u001b[39m\u001b[34m(self, level, **kwargs)\u001b[39m\n\u001b[32m  12498\u001b[39m             \u001b[38;5;28;01mraise\u001b[39;00m ValueError(\u001b[33m'no parent'\u001b[39m)\n\u001b[32m  12499\u001b[39m \n\u001b[32m  12500\u001b[39m         \u001b[38;5;28;01mfrom\u001b[39;00m .zarr \u001b[38;5;28;01mimport\u001b[39;00m ZarrTiffStore\n\u001b[32m  12501\u001b[39m \n\u001b[32m> \u001b[39m\u001b[32m12502\u001b[39m         \u001b[38;5;28;01mreturn\u001b[39;00m ZarrTiffStore(self, level=level, **kwargs)\n",
      "\u001b[32m~/miniconda3/envs/cosilico-py/lib/python3.13/site-packages/tifffile/zarr.py\u001b[39m in \u001b[36m?\u001b[39m\u001b[34m(self, arg, level, chunkmode, fillvalue, zattrs, multiscales, lock, squeeze, maxworkers, buffersize, read_only, _openfiles, **kwargs)\u001b[39m\n\u001b[32m    346\u001b[39m \n\u001b[32m    347\u001b[39m         fh = self._data[\u001b[32m0\u001b[39m].keyframe.parent._parent.filehandle\n\u001b[32m    348\u001b[39m \n\u001b[32m    349\u001b[39m         \u001b[38;5;28;01mif\u001b[39;00m read_only \u001b[38;5;28;01mis\u001b[39;00m \u001b[38;5;28;01mNone\u001b[39;00m:\n\u001b[32m--> \u001b[39m\u001b[32m350\u001b[39m             read_only = \u001b[38;5;28;01mnot\u001b[39;00m fh.writable() \u001b[38;5;28;01mor\u001b[39;00m self._chunkmode != \u001b[32m0\u001b[39m\n\u001b[32m    351\u001b[39m \n\u001b[32m    352\u001b[39m         super().__init__(\n\u001b[32m    353\u001b[39m             fillvalue=fillvalue, chunkmode=self._chunkmode, read_only=read_only\n",
      "\u001b[32m~/miniconda3/envs/cosilico-py/lib/python3.13/site-packages/tifffile/tifffile.py\u001b[39m in \u001b[36m?\u001b[39m\u001b[34m(self)\u001b[39m\n\u001b[32m  13449\u001b[39m     \u001b[38;5;28;01mdef\u001b[39;00m writable(self) -> bool:\n\u001b[32m  13450\u001b[39m         \u001b[33m\"\"\"Return True if stream supports writing.\"\"\"\u001b[39m\n\u001b[32m> \u001b[39m\u001b[32m13451\u001b[39m         \u001b[38;5;28;01massert\u001b[39;00m self._fh \u001b[38;5;28;01mis\u001b[39;00m \u001b[38;5;28;01mnot\u001b[39;00m \u001b[38;5;28;01mNone\u001b[39;00m\n\u001b[32m  13452\u001b[39m         \u001b[38;5;28;01mif\u001b[39;00m hasattr(self._fh, \u001b[33m'writable'\u001b[39m):\n\u001b[32m  13453\u001b[39m             \u001b[38;5;28;01mreturn\u001b[39;00m self._fh.writable()\n\u001b[32m  13454\u001b[39m         \u001b[38;5;28;01mreturn\u001b[39;00m \u001b[38;5;28;01mFalse\u001b[39;00m\n",
      "\u001b[31mAssertionError\u001b[39m: "
     ]
    }
   ],
   "source": [
    "s.aszarr()"
   ]
  },
  {
   "cell_type": "code",
   "execution_count": null,
   "id": "bbd8287e",
   "metadata": {},
   "outputs": [],
   "source": []
  },
  {
   "cell_type": "code",
   "execution_count": null,
   "id": "70ee7524",
   "metadata": {},
   "outputs": [],
   "source": []
  },
  {
   "cell_type": "code",
   "execution_count": 6,
   "id": "37ccbcaf",
   "metadata": {},
   "outputs": [],
   "source": [
    "import pandas as pd"
   ]
  },
  {
   "cell_type": "code",
   "execution_count": 8,
   "id": "9b072230",
   "metadata": {},
   "outputs": [
    {
     "data": {
      "text/html": [
       "<div>\n",
       "<style scoped>\n",
       "    .dataframe tbody tr th:only-of-type {\n",
       "        vertical-align: middle;\n",
       "    }\n",
       "\n",
       "    .dataframe tbody tr th {\n",
       "        vertical-align: top;\n",
       "    }\n",
       "\n",
       "    .dataframe thead th {\n",
       "        text-align: right;\n",
       "    }\n",
       "</style>\n",
       "<table border=\"1\" class=\"dataframe\">\n",
       "  <thead>\n",
       "    <tr style=\"text-align: right;\">\n",
       "      <th></th>\n",
       "      <th>run_name</th>\n",
       "      <th>cassette_name</th>\n",
       "      <th>region_name</th>\n",
       "      <th>panel_name</th>\n",
       "      <th>panel_design_id</th>\n",
       "      <th>predesigned_panel_id</th>\n",
       "      <th>region_area</th>\n",
       "      <th>total_cell_area</th>\n",
       "      <th>total_high_quality_decoded_transcripts</th>\n",
       "      <th>fraction_transcripts_decoded_q20</th>\n",
       "      <th>...</th>\n",
       "      <th>fraction_of_ambiguous_cell_mask_pixels</th>\n",
       "      <th>fraction_of_nucleus_polygons_removed</th>\n",
       "      <th>fraction_of_cell_polygons_removed</th>\n",
       "      <th>fraction_of_nuclei_without_cell</th>\n",
       "      <th>number_of_cell_non_simple_polygons</th>\n",
       "      <th>number_of_cell_multi_polygons</th>\n",
       "      <th>number_of_nucleus_non_simple_polygons</th>\n",
       "      <th>number_of_nucleus_multi_polygons</th>\n",
       "      <th>segmented_cell_imported_frac</th>\n",
       "      <th>segmented_cell_imported_count</th>\n",
       "    </tr>\n",
       "  </thead>\n",
       "  <tbody>\n",
       "    <tr>\n",
       "      <th>0</th>\n",
       "      <td>Xenium Prime + 100g Custom</td>\n",
       "      <td>NaN</td>\n",
       "      <td>Breast_Cancer</td>\n",
       "      <td>Xenium Human 5K with Cell Typing + HPV-16/18 a...</td>\n",
       "      <td>NaN</td>\n",
       "      <td>hAtlas_v1.1</td>\n",
       "      <td>1.551598e+08</td>\n",
       "      <td>4.553694e+07</td>\n",
       "      <td>80158637</td>\n",
       "      <td>0.86385</td>\n",
       "      <td>...</td>\n",
       "      <td>NaN</td>\n",
       "      <td>NaN</td>\n",
       "      <td>NaN</td>\n",
       "      <td>NaN</td>\n",
       "      <td>NaN</td>\n",
       "      <td>NaN</td>\n",
       "      <td>NaN</td>\n",
       "      <td>NaN</td>\n",
       "      <td>NaN</td>\n",
       "      <td>NaN</td>\n",
       "    </tr>\n",
       "  </tbody>\n",
       "</table>\n",
       "<p>1 rows × 51 columns</p>\n",
       "</div>"
      ],
      "text/plain": [
       "                     run_name  cassette_name    region_name  \\\n",
       "0  Xenium Prime + 100g Custom            NaN  Breast_Cancer   \n",
       "\n",
       "                                          panel_name  panel_design_id  \\\n",
       "0  Xenium Human 5K with Cell Typing + HPV-16/18 a...              NaN   \n",
       "\n",
       "  predesigned_panel_id   region_area  total_cell_area  \\\n",
       "0          hAtlas_v1.1  1.551598e+08     4.553694e+07   \n",
       "\n",
       "   total_high_quality_decoded_transcripts  fraction_transcripts_decoded_q20  \\\n",
       "0                                80158637                           0.86385   \n",
       "\n",
       "   ...  fraction_of_ambiguous_cell_mask_pixels  \\\n",
       "0  ...                                     NaN   \n",
       "\n",
       "   fraction_of_nucleus_polygons_removed  fraction_of_cell_polygons_removed  \\\n",
       "0                                   NaN                                NaN   \n",
       "\n",
       "   fraction_of_nuclei_without_cell  number_of_cell_non_simple_polygons  \\\n",
       "0                              NaN                                 NaN   \n",
       "\n",
       "   number_of_cell_multi_polygons  number_of_nucleus_non_simple_polygons  \\\n",
       "0                            NaN                                    NaN   \n",
       "\n",
       "   number_of_nucleus_multi_polygons  segmented_cell_imported_frac  \\\n",
       "0                               NaN                           NaN   \n",
       "\n",
       "   segmented_cell_imported_count  \n",
       "0                            NaN  \n",
       "\n",
       "[1 rows x 51 columns]"
      ]
     },
     "execution_count": 8,
     "metadata": {},
     "output_type": "execute_result"
    }
   ],
   "source": [
    "df = pd.read_csv('/Users/erikstorrs/Downloads/Xenium_Prime_Breast_Cancer_FFPE_outs/metrics_summary.csv')\n",
    "df"
   ]
  },
  {
   "cell_type": "code",
   "execution_count": 9,
   "id": "cc0910f9",
   "metadata": {},
   "outputs": [
    {
     "data": {
      "text/plain": [
       "'{\"run_name\":{\"0\":\"Xenium Prime + 100g Custom\"},\"cassette_name\":{\"0\":null},\"region_name\":{\"0\":\"Breast_Cancer\"},\"panel_name\":{\"0\":\"Xenium Human 5K with Cell Typing + HPV-16\\\\/18 and SNV Add-on\"},\"panel_design_id\":{\"0\":null},\"predesigned_panel_id\":{\"0\":\"hAtlas_v1.1\"},\"region_area\":{\"0\":155159780.8498440087},\"total_cell_area\":{\"0\":45536938.5737275034},\"total_high_quality_decoded_transcripts\":{\"0\":80158637},\"fraction_transcripts_decoded_q20\":{\"0\":0.8638496091},\"fraction_predesigned_transcripts_decoded_q20\":{\"0\":0.8662174711},\"fraction_custom_transcripts_decoded_q20\":{\"0\":0.8272998337},\"nuclear_transcripts_per_100um2\":{\"0\":196.2993157169},\"decoded_transcripts_per_100um2\":{\"0\":157.1654402812},\"adjusted_negative_control_probe_rate\":{\"0\":0.0013769231},\"adjusted_negative_control_codeword_rate\":{\"0\":0.0002238943},\"adjusted_genomic_control_probe_rate\":{\"0\":0.0336418666},\"negative_control_probe_counts_per_control_per_cell\":{\"0\":0.00002918},\"genomic_control_probe_counts_per_control_per_cell\":{\"0\":0.0007365147},\"estimated_number_of_false_positive_transcripts_per_cell\":{\"0\":0.1488469626},\"estimated_number_of_false_positive_transcripts_per_cell_including_genomic_counts\":{\"0\":3.7569612657},\"num_cells_detected\":{\"0\":699110},\"fraction_empty_cells\":{\"0\":0.0219021327},\"cells_per_100um2\":{\"0\":0.4505742378},\"fraction_transcripts_assigned\":{\"0\":0.8928336693},\"median_genes_per_cell\":{\"0\":47},\"median_predesigned_genes_per_cell\":{\"0\":44},\"median_custom_genes_per_cell\":{\"0\":2},\"median_transcripts_per_cell\":{\"0\":51},\"median_predesigned_transcripts_per_cell\":{\"0\":48},\"median_custom_transcripts_per_cell\":{\"0\":3},\"thickness_transcripts_high_quality\":{\"0\":4.7671447523},\"stain_definition\":{\"0\":\"xenium_cell_segmentation_stains_v1\"},\"segmented_cell_stain_frac\":{\"0\":0.9389795597},\"segmented_cell_boundary_frac\":{\"0\":0.143927279},\"segmented_cell_interior_frac\":{\"0\":0.7950522808},\"segmented_cell_nuc_expansion_frac\":{\"0\":0.0610204403},\"segmented_cell_boundary_count\":{\"0\":100621},\"segmented_cell_interior_count\":{\"0\":555829},\"segmented_cell_nuc_expansion_count\":{\"0\":42660},\"fraction_of_ambiguous_nucleus_mask_pixels\":{\"0\":null},\"fraction_of_ambiguous_cell_mask_pixels\":{\"0\":null},\"fraction_of_nucleus_polygons_removed\":{\"0\":null},\"fraction_of_cell_polygons_removed\":{\"0\":null},\"fraction_of_nuclei_without_cell\":{\"0\":null},\"number_of_cell_non_simple_polygons\":{\"0\":null},\"number_of_cell_multi_polygons\":{\"0\":null},\"number_of_nucleus_non_simple_polygons\":{\"0\":null},\"number_of_nucleus_multi_polygons\":{\"0\":null},\"segmented_cell_imported_frac\":{\"0\":null},\"segmented_cell_imported_count\":{\"0\":null}}'"
      ]
     },
     "execution_count": 9,
     "metadata": {},
     "output_type": "execute_result"
    }
   ],
   "source": [
    "df.to_json()"
   ]
  },
  {
   "cell_type": "code",
   "execution_count": 11,
   "id": "5ae38b81",
   "metadata": {},
   "outputs": [
    {
     "data": {
      "text/plain": [
       "datetime.datetime(2024, 6, 13, 21, 22, 41, tzinfo=tzutc())"
      ]
     },
     "execution_count": 11,
     "metadata": {},
     "output_type": "execute_result"
    }
   ],
   "source": [
    "from dateutil import parser\n",
    "\n",
    "dt = parser.isoparse(\"2024-06-13T21:22:41Z\")\n",
    "dt"
   ]
  },
  {
   "cell_type": "code",
   "execution_count": null,
   "id": "3f33c50e",
   "metadata": {},
   "outputs": [],
   "source": []
  },
  {
   "cell_type": "code",
   "execution_count": null,
   "id": "39f3b930",
   "metadata": {},
   "outputs": [],
   "source": []
  },
  {
   "cell_type": "code",
   "execution_count": null,
   "id": "edfac7c7",
   "metadata": {},
   "outputs": [],
   "source": []
  },
  {
   "cell_type": "code",
   "execution_count": 2,
   "id": "1c1b13af",
   "metadata": {},
   "outputs": [
    {
     "data": {
      "text/html": [
       "<pre style=\"white-space:pre;overflow-x:auto;line-height:normal;font-family:Menlo,'DejaVu Sans Mono',consolas,'Courier New',monospace\"><span style=\"color: #800000; text-decoration-color: #800000; font-weight: bold\">Sign in attempt failed.</span>\n",
       "</pre>\n"
      ],
      "text/plain": [
       "\u001b[1;31mSign in attempt failed.\u001b[0m\n"
      ]
     },
     "metadata": {},
     "output_type": "display_data"
    }
   ],
   "source": [
    "print('[bold red]Sign in attempt failed.[/bold red]')"
   ]
  },
  {
   "cell_type": "code",
   "execution_count": 5,
   "id": "2555ef75",
   "metadata": {},
   "outputs": [
    {
     "data": {
      "text/html": [
       "<pre style=\"white-space:pre;overflow-x:auto;line-height:normal;font-family:Menlo,'DejaVu Sans Mono',consolas,'Courier New',monospace\"><span style=\"color: #008000; text-decoration-color: #008000\">Sign in successfull.</span>\n",
       "</pre>\n"
      ],
      "text/plain": [
       "\u001b[32mSign in successfull.\u001b[0m\n"
      ]
     },
     "metadata": {},
     "output_type": "display_data"
    }
   ],
   "source": [
    "print('[green]Sign in successfull.[/green]')"
   ]
  },
  {
   "cell_type": "code",
   "execution_count": null,
   "id": "b206ea08",
   "metadata": {},
   "outputs": [],
   "source": []
  },
  {
   "cell_type": "code",
   "execution_count": null,
   "id": "a1197649",
   "metadata": {},
   "outputs": [],
   "source": []
  },
  {
   "cell_type": "code",
   "execution_count": null,
   "id": "326dc329",
   "metadata": {},
   "outputs": [],
   "source": []
  },
  {
   "cell_type": "code",
   "execution_count": null,
   "id": "3b5895e1",
   "metadata": {},
   "outputs": [],
   "source": []
  },
  {
   "cell_type": "code",
   "execution_count": 2,
   "id": "68b796e5",
   "metadata": {},
   "outputs": [
    {
     "data": {
      "text/html": [
       "<div>\n",
       "<style scoped>\n",
       "    .dataframe tbody tr th:only-of-type {\n",
       "        vertical-align: middle;\n",
       "    }\n",
       "\n",
       "    .dataframe tbody tr th {\n",
       "        vertical-align: top;\n",
       "    }\n",
       "\n",
       "    .dataframe thead th {\n",
       "        text-align: right;\n",
       "    }\n",
       "</style>\n",
       "<table border=\"1\" class=\"dataframe\">\n",
       "  <thead>\n",
       "    <tr style=\"text-align: right;\">\n",
       "      <th></th>\n",
       "    </tr>\n",
       "  </thead>\n",
       "  <tbody>\n",
       "    <tr>\n",
       "      <th>aaaaaohf-1</th>\n",
       "    </tr>\n",
       "    <tr>\n",
       "      <th>aaaabkoj-1</th>\n",
       "    </tr>\n",
       "    <tr>\n",
       "      <th>aaaafefl-1</th>\n",
       "    </tr>\n",
       "    <tr>\n",
       "      <th>aaaahfjm-1</th>\n",
       "    </tr>\n",
       "    <tr>\n",
       "      <th>aaaahjao-1</th>\n",
       "    </tr>\n",
       "    <tr>\n",
       "      <th>...</th>\n",
       "    </tr>\n",
       "    <tr>\n",
       "      <th>oimkalkm-1</th>\n",
       "    </tr>\n",
       "    <tr>\n",
       "      <th>oimkankb-1</th>\n",
       "    </tr>\n",
       "    <tr>\n",
       "      <th>oimkapok-1</th>\n",
       "    </tr>\n",
       "    <tr>\n",
       "      <th>oimkbcmb-1</th>\n",
       "    </tr>\n",
       "    <tr>\n",
       "      <th>oimkbodc-1</th>\n",
       "    </tr>\n",
       "  </tbody>\n",
       "</table>\n",
       "<p>699110 rows × 0 columns</p>\n",
       "</div>"
      ],
      "text/plain": [
       "Empty DataFrame\n",
       "Columns: []\n",
       "Index: [aaaaaohf-1, aaaabkoj-1, aaaafefl-1, aaaahfjm-1, aaaahjao-1, aaaajdej-1, aaaakcik-1, aaaaknop-1, aaaamepl-1, aaaanang-1, aaaapjmp-1, aaababaf-1, aaabbcid-1, aaabcigg-1, aaabdbih-1, aaabdeeh-1, aaabdgoh-1, aaabfbjp-1, aaabglhc-1, aaabiogn-1, aaabioio-1, aaabkfaa-1, aaabklil-1, aaablcba-1, aaabonao-1, aaabpkbp-1, aaabpnpd-1, aaacaaac-1, aaacafil-1, aaacbjlb-1, aaaccccj-1, aaacddml-1, aaaceool-1, aaacfhbg-1, aaachmhl-1, aaachppe-1, aaacifpc-1, aaackjao-1, aaaclhpj-1, aaacljgp-1, aaacmanj-1, aaacmdcm-1, aaacmkjp-1, aaacndie-1, aaacnllp-1, aaadamno-1, aaadbdpd-1, aaadbebc-1, aaadbgdl-1, aaadclhp-1, aaadcpdo-1, aaaddljk-1, aaadejoa-1, aaadhkcf-1, aaadigdk-1, aaadknmi-1, aaadlfng-1, aaaeaehg-1, aaaeagfl-1, aaaebfbi-1, aaaebobg-1, aaaecblc-1, aaaeeogg-1, aaaekaba-1, aaaekbbc-1, aaaeognk-1, aaaeomcm-1, aaaepeao-1, aaafdeca-1, aaafdlje-1, aaafeabm-1, aaafenei-1, aaaffnbe-1, aaafigpf-1, aaafkbmd-1, aaafkkdb-1, aaaflelb-1, aaafmofb-1, aaafncbi-1, aaafnkbi-1, aaafolfe-1, aaafpgdn-1, aaagaoki-1, aaagbakg-1, aaagcekl-1, aaagcmfl-1, aaagglol-1, aaaggohi-1, aaaghdii-1, aaaghjnl-1, aaagifea-1, aaagjhoo-1, aaagkpok-1, aaaglkbc-1, aaagpmpg-1, aaagppee-1, aaahbime-1, aaahckdh-1, aaahdmel-1, aaaheccl-1, ...]\n",
       "\n",
       "[699110 rows x 0 columns]"
      ]
     },
     "execution_count": 2,
     "metadata": {},
     "output_type": "execute_result"
    }
   ],
   "source": [
    "adata = x10.read_10x_h5('/Users/erikstorrs/Downloads/Xenium_Prime_Breast_Cancer_FFPE_outs/cell_feature_matrix.h5')\n",
    "adata.obs"
   ]
  },
  {
   "cell_type": "code",
   "execution_count": 9,
   "id": "467059ee",
   "metadata": {},
   "outputs": [
    {
     "data": {
      "text/plain": [
       "['a', 'b', 'd']"
      ]
     },
     "execution_count": 9,
     "metadata": {},
     "output_type": "execute_result"
    }
   ],
   "source": [
    "import pandas as pd\n",
    "s = pd.Series(pd.Categorical(['a', 'a', 'b', 'd']))\n",
    "s.cat.categories.to_list()"
   ]
  },
  {
   "cell_type": "code",
   "execution_count": 2,
   "id": "725221df",
   "metadata": {},
   "outputs": [],
   "source": [
    "import pandas as pd\n",
    "dtype_dict = {\n",
    "        \"feature_name\": \"category\",\n",
    "        \"is_gene\": \"bool\",\n",
    "        \"codeword_category\": \"category\",\n",
    "        \"x_location\": \"float32\",\n",
    "        \"y_location\": \"float32\",\n",
    "        \"transcript_id\": \"uint64\",\n",
    "        \"qv\": \"float32\",\n",
    "    }\n",
    "source = pd.read_parquet(\n",
    "    \"/Users/erikstorrs/Downloads/Xenium_Prime_Breast_Cancer_FFPE_outs/transcripts.parquet\",\n",
    "    columns=[\"feature_name\", \"is_gene\", \"codeword_category\", \"x_location\", \"y_location\", \"transcript_id\", \"qv\"],  # Read only needed columns\n",
    "    engine=\"pyarrow\"  # Ensure efficient Parquet reading\n",
    ").astype(dtype_dict)  # Convert data types immediately"
   ]
  },
  {
   "cell_type": "code",
   "execution_count": 3,
   "id": "fab0091e",
   "metadata": {},
   "outputs": [
    {
     "data": {
      "text/html": [
       "<div>\n",
       "<style scoped>\n",
       "    .dataframe tbody tr th:only-of-type {\n",
       "        vertical-align: middle;\n",
       "    }\n",
       "\n",
       "    .dataframe tbody tr th {\n",
       "        vertical-align: top;\n",
       "    }\n",
       "\n",
       "    .dataframe thead th {\n",
       "        text-align: right;\n",
       "    }\n",
       "</style>\n",
       "<table border=\"1\" class=\"dataframe\">\n",
       "  <thead>\n",
       "    <tr style=\"text-align: right;\">\n",
       "      <th></th>\n",
       "      <th>gene_ids</th>\n",
       "      <th>gene_names</th>\n",
       "    </tr>\n",
       "  </thead>\n",
       "  <tbody>\n",
       "    <tr>\n",
       "      <th>0</th>\n",
       "      <td>ENSG00000166535</td>\n",
       "      <td>A2ML1</td>\n",
       "    </tr>\n",
       "    <tr>\n",
       "      <th>1</th>\n",
       "      <td>ENSG00000127837</td>\n",
       "      <td>AAMP</td>\n",
       "    </tr>\n",
       "    <tr>\n",
       "      <th>2</th>\n",
       "      <td>ENSG00000131043</td>\n",
       "      <td>AAR2</td>\n",
       "    </tr>\n",
       "    <tr>\n",
       "      <th>3</th>\n",
       "      <td>ENSG00000266967</td>\n",
       "      <td>AARSD1</td>\n",
       "    </tr>\n",
       "    <tr>\n",
       "      <th>4</th>\n",
       "      <td>ENSG00000183044</td>\n",
       "      <td>ABAT</td>\n",
       "    </tr>\n",
       "    <tr>\n",
       "      <th>...</th>\n",
       "      <td>...</td>\n",
       "      <td>...</td>\n",
       "    </tr>\n",
       "    <tr>\n",
       "      <th>9470</th>\n",
       "      <td>DeprecatedCodeword_18632</td>\n",
       "      <td>DeprecatedCodeword_18632</td>\n",
       "    </tr>\n",
       "    <tr>\n",
       "      <th>9471</th>\n",
       "      <td>DeprecatedCodeword_18637</td>\n",
       "      <td>DeprecatedCodeword_18637</td>\n",
       "    </tr>\n",
       "    <tr>\n",
       "      <th>9472</th>\n",
       "      <td>DeprecatedCodeword_18639</td>\n",
       "      <td>DeprecatedCodeword_18639</td>\n",
       "    </tr>\n",
       "    <tr>\n",
       "      <th>9473</th>\n",
       "      <td>DeprecatedCodeword_18646</td>\n",
       "      <td>DeprecatedCodeword_18646</td>\n",
       "    </tr>\n",
       "    <tr>\n",
       "      <th>9474</th>\n",
       "      <td>DeprecatedCodeword_18649</td>\n",
       "      <td>DeprecatedCodeword_18649</td>\n",
       "    </tr>\n",
       "  </tbody>\n",
       "</table>\n",
       "<p>9475 rows × 2 columns</p>\n",
       "</div>"
      ],
      "text/plain": [
       "                      gene_ids                gene_names\n",
       "0              ENSG00000166535                     A2ML1\n",
       "1              ENSG00000127837                      AAMP\n",
       "2              ENSG00000131043                      AAR2\n",
       "3              ENSG00000266967                    AARSD1\n",
       "4              ENSG00000183044                      ABAT\n",
       "...                        ...                       ...\n",
       "9470  DeprecatedCodeword_18632  DeprecatedCodeword_18632\n",
       "9471  DeprecatedCodeword_18637  DeprecatedCodeword_18637\n",
       "9472  DeprecatedCodeword_18639  DeprecatedCodeword_18639\n",
       "9473  DeprecatedCodeword_18646  DeprecatedCodeword_18646\n",
       "9474  DeprecatedCodeword_18649  DeprecatedCodeword_18649\n",
       "\n",
       "[9475 rows x 2 columns]"
      ]
     },
     "execution_count": 3,
     "metadata": {},
     "output_type": "execute_result"
    }
   ],
   "source": [
    "adata.var"
   ]
  },
  {
   "cell_type": "code",
   "execution_count": 4,
   "id": "83735036",
   "metadata": {},
   "outputs": [
    {
     "data": {
      "text/plain": [
       "(699110, 9475)"
      ]
     },
     "execution_count": 4,
     "metadata": {},
     "output_type": "execute_result"
    }
   ],
   "source": [
    "adata.X.shape"
   ]
  },
  {
   "cell_type": "code",
   "execution_count": null,
   "id": "95d8bd34",
   "metadata": {},
   "outputs": [],
   "source": []
  },
  {
   "cell_type": "code",
   "execution_count": null,
   "id": "86584dff",
   "metadata": {},
   "outputs": [],
   "source": []
  },
  {
   "cell_type": "code",
   "execution_count": null,
   "id": "f5950644",
   "metadata": {},
   "outputs": [],
   "source": []
  },
  {
   "cell_type": "code",
   "execution_count": null,
   "id": "602f0225",
   "metadata": {},
   "outputs": [],
   "source": []
  },
  {
   "cell_type": "code",
   "execution_count": null,
   "id": "efdc0dce",
   "metadata": {},
   "outputs": [],
   "source": []
  },
  {
   "cell_type": "code",
   "execution_count": null,
   "id": "9584556b",
   "metadata": {},
   "outputs": [],
   "source": []
  },
  {
   "cell_type": "code",
   "execution_count": 98,
   "id": "8383707f",
   "metadata": {},
   "outputs": [],
   "source": [
    "output_filepath = '/Users/erikstorrs/Downloads/tempsdf.zarr.zip'\n",
    "store = zarr.storage.ZipStore(output_filepath, mode='w')\n",
    "root = zarr.group(store=store, overwrite=True)\n",
    "g = root.create_group(\"g1\")\n",
    "x = np.asarray(['hello', 'aaaaaaaaddddddddeeeeeeeeeeaaaaaaaaddddddddeeeeeeeeeeaaaaaaaaddddddddeeeeeeeeeeaaaaaaaaddddddddeeeeeeeeeeaaaaaaaaddddddddeeeeeeeeee']).astype(str)\n",
    "x = np.asarray(['a', 'b'], dtype=str)\n",
    "z = g.create_array(\"testd\", shape=(len(x),), chunks=(len(x),), dtype='U50')\n",
    "z[:] = x\n"
   ]
  },
  {
   "cell_type": "code",
   "execution_count": 99,
   "id": "e8388d0a",
   "metadata": {},
   "outputs": [
    {
     "data": {
      "text/plain": [
       "array(['a', 'b'], dtype=StringDType())"
      ]
     },
     "execution_count": 99,
     "metadata": {},
     "output_type": "execute_result"
    }
   ],
   "source": [
    "z[:]"
   ]
  },
  {
   "cell_type": "code",
   "execution_count": 100,
   "id": "570d5e2b",
   "metadata": {},
   "outputs": [
    {
     "data": {
      "text/plain": [
       "array([1, 2])"
      ]
     },
     "execution_count": 100,
     "metadata": {},
     "output_type": "execute_result"
    }
   ],
   "source": [
    "np.asarray(np.asarray([1,2]))"
   ]
  },
  {
   "cell_type": "code",
   "execution_count": 95,
   "id": "ad1710cf",
   "metadata": {},
   "outputs": [
    {
     "ename": "ContainsGroupError",
     "evalue": "A group exists in store ZipStore('zip:///Users/erikstorrs/Downloads/tempsdf.zarr.zip') at path 'g1'.",
     "output_type": "error",
     "traceback": [
      "\u001b[31m---------------------------------------------------------------------------\u001b[39m",
      "\u001b[31mContainsGroupError\u001b[39m                        Traceback (most recent call last)",
      "\u001b[36mCell\u001b[39m\u001b[36m \u001b[39m\u001b[32mIn[95]\u001b[39m\u001b[32m, line 1\u001b[39m\n\u001b[32m----> \u001b[39m\u001b[32m1\u001b[39m g = \u001b[43mroot\u001b[49m\u001b[43m.\u001b[49m\u001b[43mcreate_group\u001b[49m\u001b[43m(\u001b[49m\u001b[33;43m\"\u001b[39;49m\u001b[33;43mg1\u001b[39;49m\u001b[33;43m\"\u001b[39;49m\u001b[43m)\u001b[49m\n",
      "\u001b[36mFile \u001b[39m\u001b[32m~/miniconda3/envs/cosilico-py/lib/python3.13/site-packages/zarr/core/group.py:2334\u001b[39m, in \u001b[36mGroup.create_group\u001b[39m\u001b[34m(self, name, **kwargs)\u001b[39m\n\u001b[32m   2314\u001b[39m \u001b[38;5;28;01mdef\u001b[39;00m\u001b[38;5;250m \u001b[39m\u001b[34mcreate_group\u001b[39m(\u001b[38;5;28mself\u001b[39m, name: \u001b[38;5;28mstr\u001b[39m, **kwargs: Any) -> Group:\n\u001b[32m   2315\u001b[39m \u001b[38;5;250m    \u001b[39m\u001b[33;03m\"\"\"Create a sub-group.\u001b[39;00m\n\u001b[32m   2316\u001b[39m \n\u001b[32m   2317\u001b[39m \u001b[33;03m    Parameters\u001b[39;00m\n\u001b[32m   (...)\u001b[39m\u001b[32m   2332\u001b[39m \u001b[33;03m    <Group memory://132270269438272/subgroup>\u001b[39;00m\n\u001b[32m   2333\u001b[39m \u001b[33;03m    \"\"\"\u001b[39;00m\n\u001b[32m-> \u001b[39m\u001b[32m2334\u001b[39m     \u001b[38;5;28;01mreturn\u001b[39;00m Group(\u001b[38;5;28;43mself\u001b[39;49m\u001b[43m.\u001b[49m\u001b[43m_sync\u001b[49m\u001b[43m(\u001b[49m\u001b[38;5;28;43mself\u001b[39;49m\u001b[43m.\u001b[49m\u001b[43m_async_group\u001b[49m\u001b[43m.\u001b[49m\u001b[43mcreate_group\u001b[49m\u001b[43m(\u001b[49m\u001b[43mname\u001b[49m\u001b[43m,\u001b[49m\u001b[43m \u001b[49m\u001b[43m*\u001b[49m\u001b[43m*\u001b[49m\u001b[43mkwargs\u001b[49m\u001b[43m)\u001b[49m\u001b[43m)\u001b[49m)\n",
      "\u001b[36mFile \u001b[39m\u001b[32m~/miniconda3/envs/cosilico-py/lib/python3.13/site-packages/zarr/core/sync.py:208\u001b[39m, in \u001b[36mSyncMixin._sync\u001b[39m\u001b[34m(self, coroutine)\u001b[39m\n\u001b[32m    205\u001b[39m \u001b[38;5;28;01mdef\u001b[39;00m\u001b[38;5;250m \u001b[39m\u001b[34m_sync\u001b[39m(\u001b[38;5;28mself\u001b[39m, coroutine: Coroutine[Any, Any, T]) -> T:\n\u001b[32m    206\u001b[39m     \u001b[38;5;66;03m# TODO: refactor this to to take *args and **kwargs and pass those to the method\u001b[39;00m\n\u001b[32m    207\u001b[39m     \u001b[38;5;66;03m# this should allow us to better type the sync wrapper\u001b[39;00m\n\u001b[32m--> \u001b[39m\u001b[32m208\u001b[39m     \u001b[38;5;28;01mreturn\u001b[39;00m \u001b[43msync\u001b[49m\u001b[43m(\u001b[49m\n\u001b[32m    209\u001b[39m \u001b[43m        \u001b[49m\u001b[43mcoroutine\u001b[49m\u001b[43m,\u001b[49m\n\u001b[32m    210\u001b[39m \u001b[43m        \u001b[49m\u001b[43mtimeout\u001b[49m\u001b[43m=\u001b[49m\u001b[43mconfig\u001b[49m\u001b[43m.\u001b[49m\u001b[43mget\u001b[49m\u001b[43m(\u001b[49m\u001b[33;43m\"\u001b[39;49m\u001b[33;43masync.timeout\u001b[39;49m\u001b[33;43m\"\u001b[39;49m\u001b[43m)\u001b[49m\u001b[43m,\u001b[49m\n\u001b[32m    211\u001b[39m \u001b[43m    \u001b[49m\u001b[43m)\u001b[49m\n",
      "\u001b[36mFile \u001b[39m\u001b[32m~/miniconda3/envs/cosilico-py/lib/python3.13/site-packages/zarr/core/sync.py:163\u001b[39m, in \u001b[36msync\u001b[39m\u001b[34m(coro, loop, timeout)\u001b[39m\n\u001b[32m    160\u001b[39m return_result = \u001b[38;5;28mnext\u001b[39m(\u001b[38;5;28miter\u001b[39m(finished)).result()\n\u001b[32m    162\u001b[39m \u001b[38;5;28;01mif\u001b[39;00m \u001b[38;5;28misinstance\u001b[39m(return_result, \u001b[38;5;167;01mBaseException\u001b[39;00m):\n\u001b[32m--> \u001b[39m\u001b[32m163\u001b[39m     \u001b[38;5;28;01mraise\u001b[39;00m return_result\n\u001b[32m    164\u001b[39m \u001b[38;5;28;01melse\u001b[39;00m:\n\u001b[32m    165\u001b[39m     \u001b[38;5;28;01mreturn\u001b[39;00m return_result\n",
      "\u001b[36mFile \u001b[39m\u001b[32m~/miniconda3/envs/cosilico-py/lib/python3.13/site-packages/zarr/core/sync.py:119\u001b[39m, in \u001b[36m_runner\u001b[39m\u001b[34m(coro)\u001b[39m\n\u001b[32m    114\u001b[39m \u001b[38;5;250m\u001b[39m\u001b[33;03m\"\"\"\u001b[39;00m\n\u001b[32m    115\u001b[39m \u001b[33;03mAwait a coroutine and return the result of running it. If awaiting the coroutine raises an\u001b[39;00m\n\u001b[32m    116\u001b[39m \u001b[33;03mexception, the exception will be returned.\u001b[39;00m\n\u001b[32m    117\u001b[39m \u001b[33;03m\"\"\"\u001b[39;00m\n\u001b[32m    118\u001b[39m \u001b[38;5;28;01mtry\u001b[39;00m:\n\u001b[32m--> \u001b[39m\u001b[32m119\u001b[39m     \u001b[38;5;28;01mreturn\u001b[39;00m \u001b[38;5;28;01mawait\u001b[39;00m coro\n\u001b[32m    120\u001b[39m \u001b[38;5;28;01mexcept\u001b[39;00m \u001b[38;5;167;01mException\u001b[39;00m \u001b[38;5;28;01mas\u001b[39;00m ex:\n\u001b[32m    121\u001b[39m     \u001b[38;5;28;01mreturn\u001b[39;00m ex\n",
      "\u001b[36mFile \u001b[39m\u001b[32m~/miniconda3/envs/cosilico-py/lib/python3.13/site-packages/zarr/core/group.py:939\u001b[39m, in \u001b[36mAsyncGroup.create_group\u001b[39m\u001b[34m(self, name, overwrite, attributes)\u001b[39m\n\u001b[32m    923\u001b[39m \u001b[38;5;250m\u001b[39m\u001b[33;03m\"\"\"Create a sub-group.\u001b[39;00m\n\u001b[32m    924\u001b[39m \n\u001b[32m    925\u001b[39m \u001b[33;03mParameters\u001b[39;00m\n\u001b[32m   (...)\u001b[39m\u001b[32m    936\u001b[39m \u001b[33;03mg : AsyncGroup\u001b[39;00m\n\u001b[32m    937\u001b[39m \u001b[33;03m\"\"\"\u001b[39;00m\n\u001b[32m    938\u001b[39m attributes = attributes \u001b[38;5;129;01mor\u001b[39;00m {}\n\u001b[32m--> \u001b[39m\u001b[32m939\u001b[39m \u001b[38;5;28;01mreturn\u001b[39;00m \u001b[38;5;28;01mawait\u001b[39;00m \u001b[38;5;28mtype\u001b[39m(\u001b[38;5;28mself\u001b[39m).from_store(\n\u001b[32m    940\u001b[39m     \u001b[38;5;28mself\u001b[39m.store_path / name,\n\u001b[32m    941\u001b[39m     attributes=attributes,\n\u001b[32m    942\u001b[39m     overwrite=overwrite,\n\u001b[32m    943\u001b[39m     zarr_format=\u001b[38;5;28mself\u001b[39m.metadata.zarr_format,\n\u001b[32m    944\u001b[39m )\n",
      "\u001b[36mFile \u001b[39m\u001b[32m~/miniconda3/envs/cosilico-py/lib/python3.13/site-packages/zarr/core/group.py:465\u001b[39m, in \u001b[36mAsyncGroup.from_store\u001b[39m\u001b[34m(cls, store, attributes, overwrite, zarr_format)\u001b[39m\n\u001b[32m    463\u001b[39m         \u001b[38;5;28;01mawait\u001b[39;00m ensure_no_existing_node(store_path, zarr_format=zarr_format)\n\u001b[32m    464\u001b[39m \u001b[38;5;28;01melse\u001b[39;00m:\n\u001b[32m--> \u001b[39m\u001b[32m465\u001b[39m     \u001b[38;5;28;01mawait\u001b[39;00m ensure_no_existing_node(store_path, zarr_format=zarr_format)\n\u001b[32m    466\u001b[39m attributes = attributes \u001b[38;5;129;01mor\u001b[39;00m {}\n\u001b[32m    467\u001b[39m group = \u001b[38;5;28mcls\u001b[39m(\n\u001b[32m    468\u001b[39m     metadata=GroupMetadata(attributes=attributes, zarr_format=zarr_format),\n\u001b[32m    469\u001b[39m     store_path=store_path,\n\u001b[32m    470\u001b[39m )\n",
      "\u001b[36mFile \u001b[39m\u001b[32m~/miniconda3/envs/cosilico-py/lib/python3.13/site-packages/zarr/storage/_common.py:367\u001b[39m, in \u001b[36mensure_no_existing_node\u001b[39m\u001b[34m(store_path, zarr_format)\u001b[39m\n\u001b[32m    365\u001b[39m     \u001b[38;5;28;01mraise\u001b[39;00m ContainsArrayError(store_path.store, store_path.path)\n\u001b[32m    366\u001b[39m \u001b[38;5;28;01melif\u001b[39;00m extant_node == \u001b[33m\"\u001b[39m\u001b[33mgroup\u001b[39m\u001b[33m\"\u001b[39m:\n\u001b[32m--> \u001b[39m\u001b[32m367\u001b[39m     \u001b[38;5;28;01mraise\u001b[39;00m ContainsGroupError(store_path.store, store_path.path)\n\u001b[32m    368\u001b[39m \u001b[38;5;28;01melif\u001b[39;00m extant_node == \u001b[33m\"\u001b[39m\u001b[33mnothing\u001b[39m\u001b[33m\"\u001b[39m:\n\u001b[32m    369\u001b[39m     \u001b[38;5;28;01mreturn\u001b[39;00m\n",
      "\u001b[31mContainsGroupError\u001b[39m: A group exists in store ZipStore('zip:///Users/erikstorrs/Downloads/tempsdf.zarr.zip') at path 'g1'."
     ]
    }
   ],
   "source": [
    "g = root.create_group(\"g1\")"
   ]
  },
  {
   "cell_type": "code",
   "execution_count": 78,
   "id": "8e738cff",
   "metadata": {},
   "outputs": [
    {
     "data": {
      "text/plain": [
       "<Array zip:///Users/erikstorrs/Downloads/tempsdf.zarr.zip/g1/testd shape=(2,) dtype=StringDType()>"
      ]
     },
     "execution_count": 78,
     "metadata": {},
     "output_type": "execute_result"
    }
   ],
   "source": [
    "# feature_meta_group.create_dataset(\"feature_names\", shape=(len(names),), chunks=(len(names),), dtype=object, object_codec=numcodecs.VLenUTF8())\n",
    "x = ['hello', 'worasdfsadfasdfasdfasdfasdfasdfasdfasdfasdfasdfasdfasdfasdfasdfasdfasdfasdfadslddk']\n",
    "g.create_array(\"testd\", shape=(len(x),), chunks=(len(x),), dtype='U50')\n",
    "\n"
   ]
  },
  {
   "cell_type": "code",
   "execution_count": 79,
   "id": "d159c043",
   "metadata": {},
   "outputs": [
    {
     "ename": "AssertionError",
     "evalue": "",
     "output_type": "error",
     "traceback": [
      "\u001b[31m---------------------------------------------------------------------------\u001b[39m",
      "\u001b[31mAssertionError\u001b[39m                            Traceback (most recent call last)",
      "\u001b[36mCell\u001b[39m\u001b[36m \u001b[39m\u001b[32mIn[79]\u001b[39m\u001b[32m, line 1\u001b[39m\n\u001b[32m----> \u001b[39m\u001b[32m1\u001b[39m \u001b[43mg\u001b[49m\u001b[43m[\u001b[49m\u001b[43m:\u001b[49m\u001b[43m]\u001b[49m = np.asarray(x).astype(\u001b[38;5;28mstr\u001b[39m)\n",
      "\u001b[36mFile \u001b[39m\u001b[32m~/miniconda3/envs/cosilico-py/lib/python3.13/site-packages/zarr/core/group.py:1956\u001b[39m, in \u001b[36mGroup.__setitem__\u001b[39m\u001b[34m(self, key, value)\u001b[39m\n\u001b[32m   1935\u001b[39m \u001b[38;5;28;01mdef\u001b[39;00m\u001b[38;5;250m \u001b[39m\u001b[34m__setitem__\u001b[39m(\u001b[38;5;28mself\u001b[39m, key: \u001b[38;5;28mstr\u001b[39m, value: Any) -> \u001b[38;5;28;01mNone\u001b[39;00m:\n\u001b[32m   1936\u001b[39m \u001b[38;5;250m    \u001b[39m\u001b[33;03m\"\"\"Fastpath for creating a new array.\u001b[39;00m\n\u001b[32m   1937\u001b[39m \n\u001b[32m   1938\u001b[39m \u001b[33;03m    New arrays will be created using default settings for the array type.\u001b[39;00m\n\u001b[32m   (...)\u001b[39m\u001b[32m   1954\u001b[39m \u001b[33;03m    <Array memory://132270269438272/foo shape=(10,) dtype=float64>\u001b[39;00m\n\u001b[32m   1955\u001b[39m \u001b[33;03m    \"\"\"\u001b[39;00m\n\u001b[32m-> \u001b[39m\u001b[32m1956\u001b[39m     \u001b[38;5;28;43mself\u001b[39;49m\u001b[43m.\u001b[49m\u001b[43m_sync\u001b[49m\u001b[43m(\u001b[49m\u001b[38;5;28;43mself\u001b[39;49m\u001b[43m.\u001b[49m\u001b[43m_async_group\u001b[49m\u001b[43m.\u001b[49m\u001b[43msetitem\u001b[49m\u001b[43m(\u001b[49m\u001b[43mkey\u001b[49m\u001b[43m,\u001b[49m\u001b[43m \u001b[49m\u001b[43mvalue\u001b[49m\u001b[43m)\u001b[49m\u001b[43m)\u001b[49m\n",
      "\u001b[36mFile \u001b[39m\u001b[32m~/miniconda3/envs/cosilico-py/lib/python3.13/site-packages/zarr/core/sync.py:208\u001b[39m, in \u001b[36mSyncMixin._sync\u001b[39m\u001b[34m(self, coroutine)\u001b[39m\n\u001b[32m    205\u001b[39m \u001b[38;5;28;01mdef\u001b[39;00m\u001b[38;5;250m \u001b[39m\u001b[34m_sync\u001b[39m(\u001b[38;5;28mself\u001b[39m, coroutine: Coroutine[Any, Any, T]) -> T:\n\u001b[32m    206\u001b[39m     \u001b[38;5;66;03m# TODO: refactor this to to take *args and **kwargs and pass those to the method\u001b[39;00m\n\u001b[32m    207\u001b[39m     \u001b[38;5;66;03m# this should allow us to better type the sync wrapper\u001b[39;00m\n\u001b[32m--> \u001b[39m\u001b[32m208\u001b[39m     \u001b[38;5;28;01mreturn\u001b[39;00m \u001b[43msync\u001b[49m\u001b[43m(\u001b[49m\n\u001b[32m    209\u001b[39m \u001b[43m        \u001b[49m\u001b[43mcoroutine\u001b[49m\u001b[43m,\u001b[49m\n\u001b[32m    210\u001b[39m \u001b[43m        \u001b[49m\u001b[43mtimeout\u001b[49m\u001b[43m=\u001b[49m\u001b[43mconfig\u001b[49m\u001b[43m.\u001b[49m\u001b[43mget\u001b[49m\u001b[43m(\u001b[49m\u001b[33;43m\"\u001b[39;49m\u001b[33;43masync.timeout\u001b[39;49m\u001b[33;43m\"\u001b[39;49m\u001b[43m)\u001b[49m\u001b[43m,\u001b[49m\n\u001b[32m    211\u001b[39m \u001b[43m    \u001b[49m\u001b[43m)\u001b[49m\n",
      "\u001b[36mFile \u001b[39m\u001b[32m~/miniconda3/envs/cosilico-py/lib/python3.13/site-packages/zarr/core/sync.py:163\u001b[39m, in \u001b[36msync\u001b[39m\u001b[34m(coro, loop, timeout)\u001b[39m\n\u001b[32m    160\u001b[39m return_result = \u001b[38;5;28mnext\u001b[39m(\u001b[38;5;28miter\u001b[39m(finished)).result()\n\u001b[32m    162\u001b[39m \u001b[38;5;28;01mif\u001b[39;00m \u001b[38;5;28misinstance\u001b[39m(return_result, \u001b[38;5;167;01mBaseException\u001b[39;00m):\n\u001b[32m--> \u001b[39m\u001b[32m163\u001b[39m     \u001b[38;5;28;01mraise\u001b[39;00m return_result\n\u001b[32m    164\u001b[39m \u001b[38;5;28;01melse\u001b[39;00m:\n\u001b[32m    165\u001b[39m     \u001b[38;5;28;01mreturn\u001b[39;00m return_result\n",
      "\u001b[36mFile \u001b[39m\u001b[32m~/miniconda3/envs/cosilico-py/lib/python3.13/site-packages/zarr/core/sync.py:119\u001b[39m, in \u001b[36m_runner\u001b[39m\u001b[34m(coro)\u001b[39m\n\u001b[32m    114\u001b[39m \u001b[38;5;250m\u001b[39m\u001b[33;03m\"\"\"\u001b[39;00m\n\u001b[32m    115\u001b[39m \u001b[33;03mAwait a coroutine and return the result of running it. If awaiting the coroutine raises an\u001b[39;00m\n\u001b[32m    116\u001b[39m \u001b[33;03mexception, the exception will be returned.\u001b[39;00m\n\u001b[32m    117\u001b[39m \u001b[33;03m\"\"\"\u001b[39;00m\n\u001b[32m    118\u001b[39m \u001b[38;5;28;01mtry\u001b[39;00m:\n\u001b[32m--> \u001b[39m\u001b[32m119\u001b[39m     \u001b[38;5;28;01mreturn\u001b[39;00m \u001b[38;5;28;01mawait\u001b[39;00m coro\n\u001b[32m    120\u001b[39m \u001b[38;5;28;01mexcept\u001b[39;00m \u001b[38;5;167;01mException\u001b[39;00m \u001b[38;5;28;01mas\u001b[39;00m ex:\n\u001b[32m    121\u001b[39m     \u001b[38;5;28;01mreturn\u001b[39;00m ex\n",
      "\u001b[36mFile \u001b[39m\u001b[32m~/miniconda3/envs/cosilico-py/lib/python3.13/site-packages/zarr/core/group.py:671\u001b[39m, in \u001b[36mAsyncGroup.setitem\u001b[39m\u001b[34m(self, key, value)\u001b[39m\n\u001b[32m    659\u001b[39m \u001b[38;5;28;01masync\u001b[39;00m \u001b[38;5;28;01mdef\u001b[39;00m\u001b[38;5;250m \u001b[39m\u001b[34msetitem\u001b[39m(\u001b[38;5;28mself\u001b[39m, key: \u001b[38;5;28mstr\u001b[39m, value: Any) -> \u001b[38;5;28;01mNone\u001b[39;00m:\n\u001b[32m    660\u001b[39m \u001b[38;5;250m    \u001b[39m\u001b[33;03m\"\"\"\u001b[39;00m\n\u001b[32m    661\u001b[39m \u001b[33;03m    Fastpath for creating a new array\u001b[39;00m\n\u001b[32m    662\u001b[39m \u001b[33;03m    New arrays will be created with default array settings for the array type.\u001b[39;00m\n\u001b[32m   (...)\u001b[39m\u001b[32m    669\u001b[39m \u001b[33;03m        Array data\u001b[39;00m\n\u001b[32m    670\u001b[39m \u001b[33;03m    \"\"\"\u001b[39;00m\n\u001b[32m--> \u001b[39m\u001b[32m671\u001b[39m     path = \u001b[38;5;28;43mself\u001b[39;49m\u001b[43m.\u001b[49m\u001b[43mstore_path\u001b[49m\u001b[43m \u001b[49m\u001b[43m/\u001b[49m\u001b[43m \u001b[49m\u001b[43mkey\u001b[49m\n\u001b[32m    672\u001b[39m     \u001b[38;5;28;01mawait\u001b[39;00m async_api.save_array(\n\u001b[32m    673\u001b[39m         store=path, arr=value, zarr_format=\u001b[38;5;28mself\u001b[39m.metadata.zarr_format, overwrite=\u001b[38;5;28;01mTrue\u001b[39;00m\n\u001b[32m    674\u001b[39m     )\n",
      "\u001b[36mFile \u001b[39m\u001b[32m~/miniconda3/envs/cosilico-py/lib/python3.13/site-packages/zarr/storage/_common.py:198\u001b[39m, in \u001b[36mStorePath.__truediv__\u001b[39m\u001b[34m(self, other)\u001b[39m\n\u001b[32m    196\u001b[39m \u001b[38;5;28;01mdef\u001b[39;00m\u001b[38;5;250m \u001b[39m\u001b[34m__truediv__\u001b[39m(\u001b[38;5;28mself\u001b[39m, other: \u001b[38;5;28mstr\u001b[39m) -> StorePath:\n\u001b[32m    197\u001b[39m \u001b[38;5;250m    \u001b[39m\u001b[33;03m\"\"\"Combine this store path with another path\"\"\"\u001b[39;00m\n\u001b[32m--> \u001b[39m\u001b[32m198\u001b[39m     \u001b[38;5;28;01mreturn\u001b[39;00m \u001b[38;5;28mself\u001b[39m.\u001b[34m__class__\u001b[39m(\u001b[38;5;28mself\u001b[39m.store, \u001b[43m_dereference_path\u001b[49m\u001b[43m(\u001b[49m\u001b[38;5;28;43mself\u001b[39;49m\u001b[43m.\u001b[49m\u001b[43mpath\u001b[49m\u001b[43m,\u001b[49m\u001b[43m \u001b[49m\u001b[43mother\u001b[49m\u001b[43m)\u001b[49m)\n",
      "\u001b[36mFile \u001b[39m\u001b[32m~/miniconda3/envs/cosilico-py/lib/python3.13/site-packages/zarr/storage/_common.py:21\u001b[39m, in \u001b[36m_dereference_path\u001b[39m\u001b[34m(root, path)\u001b[39m\n\u001b[32m     19\u001b[39m \u001b[38;5;28;01mdef\u001b[39;00m\u001b[38;5;250m \u001b[39m\u001b[34m_dereference_path\u001b[39m(root: \u001b[38;5;28mstr\u001b[39m, path: \u001b[38;5;28mstr\u001b[39m) -> \u001b[38;5;28mstr\u001b[39m:\n\u001b[32m     20\u001b[39m     \u001b[38;5;28;01massert\u001b[39;00m \u001b[38;5;28misinstance\u001b[39m(root, \u001b[38;5;28mstr\u001b[39m)\n\u001b[32m---> \u001b[39m\u001b[32m21\u001b[39m     \u001b[38;5;28;01massert\u001b[39;00m \u001b[38;5;28misinstance\u001b[39m(path, \u001b[38;5;28mstr\u001b[39m)\n\u001b[32m     22\u001b[39m     root = root.rstrip(\u001b[33m\"\u001b[39m\u001b[33m/\u001b[39m\u001b[33m\"\u001b[39m)\n\u001b[32m     23\u001b[39m     path = \u001b[33mf\u001b[39m\u001b[33m\"\u001b[39m\u001b[38;5;132;01m{\u001b[39;00mroot\u001b[38;5;132;01m}\u001b[39;00m\u001b[33m/\u001b[39m\u001b[38;5;132;01m{\u001b[39;00mpath\u001b[38;5;132;01m}\u001b[39;00m\u001b[33m\"\u001b[39m \u001b[38;5;28;01mif\u001b[39;00m root \u001b[38;5;28;01melse\u001b[39;00m path\n",
      "\u001b[31mAssertionError\u001b[39m: "
     ]
    }
   ],
   "source": [
    "g[:] = np.asarray(x).astype(str)"
   ]
  },
  {
   "cell_type": "code",
   "execution_count": 27,
   "id": "0aff4c9b",
   "metadata": {},
   "outputs": [],
   "source": [
    "store.close()"
   ]
  },
  {
   "cell_type": "code",
   "execution_count": null,
   "id": "8f4b522b",
   "metadata": {},
   "outputs": [],
   "source": []
  },
  {
   "cell_type": "code",
   "execution_count": 59,
   "id": "f8b876f2",
   "metadata": {},
   "outputs": [],
   "source": [
    "import numpy as np"
   ]
  },
  {
   "cell_type": "code",
   "execution_count": 81,
   "id": "92609a9f",
   "metadata": {},
   "outputs": [
    {
     "data": {
      "text/plain": [
       "<Array zip:///Users/erikstorrs/Downloads/hghgh.zarr.zip/hello/test shape=(10, 10) dtype=StringDType()>"
      ]
     },
     "execution_count": 81,
     "metadata": {},
     "output_type": "execute_result"
    }
   ],
   "source": [
    "import zarr\n",
    "# store = zarr.storage.MemoryStore()\n",
    "# store = '/Users/erikstorrs/Downloads/alsdkfj.zarr.zip'\n",
    "store = zarr.storage.ZipStore('/Users/erikstorrs/Downloads/hghgh.zarr.zip', mode='w')\n",
    "root = zarr.group(store=store, overwrite=True)\n",
    "g = root.create_group('hello')\n",
    "z = g.create_array(name='test', shape=(10, 10), chunks=(10, 10), dtype='U50')\n",
    "# z = zarr.create_array(store=store, shape=(10000, 10000), chunks=(1000, 1000), dtype='int32')\n",
    "z"
   ]
  },
  {
   "cell_type": "code",
   "execution_count": 82,
   "id": "c9f76f6e",
   "metadata": {},
   "outputs": [],
   "source": [
    "z[:] = np.full((10, 10), 1, dtype=np.int32).astype(str)"
   ]
  },
  {
   "cell_type": "code",
   "execution_count": 83,
   "id": "5a5c7f3e",
   "metadata": {},
   "outputs": [],
   "source": [
    "store.close()"
   ]
  },
  {
   "cell_type": "code",
   "execution_count": null,
   "id": "0fa9b92f",
   "metadata": {},
   "outputs": [],
   "source": []
  }
 ],
 "metadata": {
  "kernelspec": {
   "display_name": "Python 3 (ipykernel)",
   "language": "python",
   "name": "python3"
  },
  "language_info": {
   "codemirror_mode": {
    "name": "ipython",
    "version": 3
   },
   "file_extension": ".py",
   "mimetype": "text/x-python",
   "name": "python",
   "nbconvert_exporter": "python",
   "pygments_lexer": "ipython3",
   "version": "3.13.3"
  }
 },
 "nbformat": 4,
 "nbformat_minor": 5
}
