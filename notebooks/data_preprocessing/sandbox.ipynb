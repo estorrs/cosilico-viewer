{
 "cells": [
  {
   "cell_type": "code",
   "execution_count": 5,
   "id": "2c071cb1",
   "metadata": {},
   "outputs": [],
   "source": [
    "import numcodecs\n",
    "import zarr"
   ]
  },
  {
   "cell_type": "code",
   "execution_count": 1,
   "id": "b94b85a7",
   "metadata": {},
   "outputs": [],
   "source": [
    "import h5py"
   ]
  },
  {
   "cell_type": "code",
   "execution_count": 1,
   "id": "090cb386",
   "metadata": {},
   "outputs": [],
   "source": [
    "import cosilico_py.preprocessing.platform_helpers.x10 as x10"
   ]
  },
  {
   "cell_type": "code",
   "execution_count": 2,
   "id": "68b796e5",
   "metadata": {},
   "outputs": [
    {
     "data": {
      "text/html": [
       "<div>\n",
       "<style scoped>\n",
       "    .dataframe tbody tr th:only-of-type {\n",
       "        vertical-align: middle;\n",
       "    }\n",
       "\n",
       "    .dataframe tbody tr th {\n",
       "        vertical-align: top;\n",
       "    }\n",
       "\n",
       "    .dataframe thead th {\n",
       "        text-align: right;\n",
       "    }\n",
       "</style>\n",
       "<table border=\"1\" class=\"dataframe\">\n",
       "  <thead>\n",
       "    <tr style=\"text-align: right;\">\n",
       "      <th></th>\n",
       "    </tr>\n",
       "  </thead>\n",
       "  <tbody>\n",
       "    <tr>\n",
       "      <th>aaaaaohf-1</th>\n",
       "    </tr>\n",
       "    <tr>\n",
       "      <th>aaaabkoj-1</th>\n",
       "    </tr>\n",
       "    <tr>\n",
       "      <th>aaaafefl-1</th>\n",
       "    </tr>\n",
       "    <tr>\n",
       "      <th>aaaahfjm-1</th>\n",
       "    </tr>\n",
       "    <tr>\n",
       "      <th>aaaahjao-1</th>\n",
       "    </tr>\n",
       "    <tr>\n",
       "      <th>...</th>\n",
       "    </tr>\n",
       "    <tr>\n",
       "      <th>oimkalkm-1</th>\n",
       "    </tr>\n",
       "    <tr>\n",
       "      <th>oimkankb-1</th>\n",
       "    </tr>\n",
       "    <tr>\n",
       "      <th>oimkapok-1</th>\n",
       "    </tr>\n",
       "    <tr>\n",
       "      <th>oimkbcmb-1</th>\n",
       "    </tr>\n",
       "    <tr>\n",
       "      <th>oimkbodc-1</th>\n",
       "    </tr>\n",
       "  </tbody>\n",
       "</table>\n",
       "<p>699110 rows × 0 columns</p>\n",
       "</div>"
      ],
      "text/plain": [
       "Empty DataFrame\n",
       "Columns: []\n",
       "Index: [aaaaaohf-1, aaaabkoj-1, aaaafefl-1, aaaahfjm-1, aaaahjao-1, aaaajdej-1, aaaakcik-1, aaaaknop-1, aaaamepl-1, aaaanang-1, aaaapjmp-1, aaababaf-1, aaabbcid-1, aaabcigg-1, aaabdbih-1, aaabdeeh-1, aaabdgoh-1, aaabfbjp-1, aaabglhc-1, aaabiogn-1, aaabioio-1, aaabkfaa-1, aaabklil-1, aaablcba-1, aaabonao-1, aaabpkbp-1, aaabpnpd-1, aaacaaac-1, aaacafil-1, aaacbjlb-1, aaaccccj-1, aaacddml-1, aaaceool-1, aaacfhbg-1, aaachmhl-1, aaachppe-1, aaacifpc-1, aaackjao-1, aaaclhpj-1, aaacljgp-1, aaacmanj-1, aaacmdcm-1, aaacmkjp-1, aaacndie-1, aaacnllp-1, aaadamno-1, aaadbdpd-1, aaadbebc-1, aaadbgdl-1, aaadclhp-1, aaadcpdo-1, aaaddljk-1, aaadejoa-1, aaadhkcf-1, aaadigdk-1, aaadknmi-1, aaadlfng-1, aaaeaehg-1, aaaeagfl-1, aaaebfbi-1, aaaebobg-1, aaaecblc-1, aaaeeogg-1, aaaekaba-1, aaaekbbc-1, aaaeognk-1, aaaeomcm-1, aaaepeao-1, aaafdeca-1, aaafdlje-1, aaafeabm-1, aaafenei-1, aaaffnbe-1, aaafigpf-1, aaafkbmd-1, aaafkkdb-1, aaaflelb-1, aaafmofb-1, aaafncbi-1, aaafnkbi-1, aaafolfe-1, aaafpgdn-1, aaagaoki-1, aaagbakg-1, aaagcekl-1, aaagcmfl-1, aaagglol-1, aaaggohi-1, aaaghdii-1, aaaghjnl-1, aaagifea-1, aaagjhoo-1, aaagkpok-1, aaaglkbc-1, aaagpmpg-1, aaagppee-1, aaahbime-1, aaahckdh-1, aaahdmel-1, aaaheccl-1, ...]\n",
       "\n",
       "[699110 rows x 0 columns]"
      ]
     },
     "execution_count": 2,
     "metadata": {},
     "output_type": "execute_result"
    }
   ],
   "source": [
    "adata = x10.read_10x_h5('/Users/erikstorrs/Downloads/Xenium_Prime_Breast_Cancer_FFPE_outs/cell_feature_matrix.h5')\n",
    "adata.obs"
   ]
  },
  {
   "cell_type": "code",
   "execution_count": 9,
   "id": "467059ee",
   "metadata": {},
   "outputs": [
    {
     "data": {
      "text/plain": [
       "['a', 'b', 'd']"
      ]
     },
     "execution_count": 9,
     "metadata": {},
     "output_type": "execute_result"
    }
   ],
   "source": [
    "import pandas as pd\n",
    "s = pd.Series(pd.Categorical(['a', 'a', 'b', 'd']))\n",
    "s.cat.categories.to_list()"
   ]
  },
  {
   "cell_type": "code",
   "execution_count": 2,
   "id": "725221df",
   "metadata": {},
   "outputs": [],
   "source": [
    "import pandas as pd\n",
    "dtype_dict = {\n",
    "        \"feature_name\": \"category\",\n",
    "        \"is_gene\": \"bool\",\n",
    "        \"codeword_category\": \"category\",\n",
    "        \"x_location\": \"float32\",\n",
    "        \"y_location\": \"float32\",\n",
    "        \"transcript_id\": \"uint64\",\n",
    "        \"qv\": \"float32\",\n",
    "    }\n",
    "source = pd.read_parquet(\n",
    "    \"/Users/erikstorrs/Downloads/Xenium_Prime_Breast_Cancer_FFPE_outs/transcripts.parquet\",\n",
    "    columns=[\"feature_name\", \"is_gene\", \"codeword_category\", \"x_location\", \"y_location\", \"transcript_id\", \"qv\"],  # Read only needed columns\n",
    "    engine=\"pyarrow\"  # Ensure efficient Parquet reading\n",
    ").astype(dtype_dict)  # Convert data types immediately"
   ]
  },
  {
   "cell_type": "code",
   "execution_count": 3,
   "id": "fab0091e",
   "metadata": {},
   "outputs": [
    {
     "data": {
      "text/html": [
       "<div>\n",
       "<style scoped>\n",
       "    .dataframe tbody tr th:only-of-type {\n",
       "        vertical-align: middle;\n",
       "    }\n",
       "\n",
       "    .dataframe tbody tr th {\n",
       "        vertical-align: top;\n",
       "    }\n",
       "\n",
       "    .dataframe thead th {\n",
       "        text-align: right;\n",
       "    }\n",
       "</style>\n",
       "<table border=\"1\" class=\"dataframe\">\n",
       "  <thead>\n",
       "    <tr style=\"text-align: right;\">\n",
       "      <th></th>\n",
       "      <th>gene_ids</th>\n",
       "      <th>gene_names</th>\n",
       "    </tr>\n",
       "  </thead>\n",
       "  <tbody>\n",
       "    <tr>\n",
       "      <th>0</th>\n",
       "      <td>ENSG00000166535</td>\n",
       "      <td>A2ML1</td>\n",
       "    </tr>\n",
       "    <tr>\n",
       "      <th>1</th>\n",
       "      <td>ENSG00000127837</td>\n",
       "      <td>AAMP</td>\n",
       "    </tr>\n",
       "    <tr>\n",
       "      <th>2</th>\n",
       "      <td>ENSG00000131043</td>\n",
       "      <td>AAR2</td>\n",
       "    </tr>\n",
       "    <tr>\n",
       "      <th>3</th>\n",
       "      <td>ENSG00000266967</td>\n",
       "      <td>AARSD1</td>\n",
       "    </tr>\n",
       "    <tr>\n",
       "      <th>4</th>\n",
       "      <td>ENSG00000183044</td>\n",
       "      <td>ABAT</td>\n",
       "    </tr>\n",
       "    <tr>\n",
       "      <th>...</th>\n",
       "      <td>...</td>\n",
       "      <td>...</td>\n",
       "    </tr>\n",
       "    <tr>\n",
       "      <th>9470</th>\n",
       "      <td>DeprecatedCodeword_18632</td>\n",
       "      <td>DeprecatedCodeword_18632</td>\n",
       "    </tr>\n",
       "    <tr>\n",
       "      <th>9471</th>\n",
       "      <td>DeprecatedCodeword_18637</td>\n",
       "      <td>DeprecatedCodeword_18637</td>\n",
       "    </tr>\n",
       "    <tr>\n",
       "      <th>9472</th>\n",
       "      <td>DeprecatedCodeword_18639</td>\n",
       "      <td>DeprecatedCodeword_18639</td>\n",
       "    </tr>\n",
       "    <tr>\n",
       "      <th>9473</th>\n",
       "      <td>DeprecatedCodeword_18646</td>\n",
       "      <td>DeprecatedCodeword_18646</td>\n",
       "    </tr>\n",
       "    <tr>\n",
       "      <th>9474</th>\n",
       "      <td>DeprecatedCodeword_18649</td>\n",
       "      <td>DeprecatedCodeword_18649</td>\n",
       "    </tr>\n",
       "  </tbody>\n",
       "</table>\n",
       "<p>9475 rows × 2 columns</p>\n",
       "</div>"
      ],
      "text/plain": [
       "                      gene_ids                gene_names\n",
       "0              ENSG00000166535                     A2ML1\n",
       "1              ENSG00000127837                      AAMP\n",
       "2              ENSG00000131043                      AAR2\n",
       "3              ENSG00000266967                    AARSD1\n",
       "4              ENSG00000183044                      ABAT\n",
       "...                        ...                       ...\n",
       "9470  DeprecatedCodeword_18632  DeprecatedCodeword_18632\n",
       "9471  DeprecatedCodeword_18637  DeprecatedCodeword_18637\n",
       "9472  DeprecatedCodeword_18639  DeprecatedCodeword_18639\n",
       "9473  DeprecatedCodeword_18646  DeprecatedCodeword_18646\n",
       "9474  DeprecatedCodeword_18649  DeprecatedCodeword_18649\n",
       "\n",
       "[9475 rows x 2 columns]"
      ]
     },
     "execution_count": 3,
     "metadata": {},
     "output_type": "execute_result"
    }
   ],
   "source": [
    "adata.var"
   ]
  },
  {
   "cell_type": "code",
   "execution_count": 4,
   "id": "83735036",
   "metadata": {},
   "outputs": [
    {
     "data": {
      "text/plain": [
       "(699110, 9475)"
      ]
     },
     "execution_count": 4,
     "metadata": {},
     "output_type": "execute_result"
    }
   ],
   "source": [
    "adata.X.shape"
   ]
  },
  {
   "cell_type": "code",
   "execution_count": null,
   "id": "95d8bd34",
   "metadata": {},
   "outputs": [],
   "source": []
  },
  {
   "cell_type": "code",
   "execution_count": null,
   "id": "86584dff",
   "metadata": {},
   "outputs": [],
   "source": []
  },
  {
   "cell_type": "code",
   "execution_count": null,
   "id": "f5950644",
   "metadata": {},
   "outputs": [],
   "source": []
  },
  {
   "cell_type": "code",
   "execution_count": null,
   "id": "602f0225",
   "metadata": {},
   "outputs": [],
   "source": []
  },
  {
   "cell_type": "code",
   "execution_count": null,
   "id": "efdc0dce",
   "metadata": {},
   "outputs": [],
   "source": []
  },
  {
   "cell_type": "code",
   "execution_count": null,
   "id": "9584556b",
   "metadata": {},
   "outputs": [],
   "source": []
  },
  {
   "cell_type": "code",
   "execution_count": 98,
   "id": "8383707f",
   "metadata": {},
   "outputs": [],
   "source": [
    "output_filepath = '/Users/erikstorrs/Downloads/tempsdf.zarr.zip'\n",
    "store = zarr.storage.ZipStore(output_filepath, mode='w')\n",
    "root = zarr.group(store=store, overwrite=True)\n",
    "g = root.create_group(\"g1\")\n",
    "x = np.asarray(['hello', 'aaaaaaaaddddddddeeeeeeeeeeaaaaaaaaddddddddeeeeeeeeeeaaaaaaaaddddddddeeeeeeeeeeaaaaaaaaddddddddeeeeeeeeeeaaaaaaaaddddddddeeeeeeeeee']).astype(str)\n",
    "x = np.asarray(['a', 'b'], dtype=str)\n",
    "z = g.create_array(\"testd\", shape=(len(x),), chunks=(len(x),), dtype='U50')\n",
    "z[:] = x\n"
   ]
  },
  {
   "cell_type": "code",
   "execution_count": 99,
   "id": "e8388d0a",
   "metadata": {},
   "outputs": [
    {
     "data": {
      "text/plain": [
       "array(['a', 'b'], dtype=StringDType())"
      ]
     },
     "execution_count": 99,
     "metadata": {},
     "output_type": "execute_result"
    }
   ],
   "source": [
    "z[:]"
   ]
  },
  {
   "cell_type": "code",
   "execution_count": 100,
   "id": "570d5e2b",
   "metadata": {},
   "outputs": [
    {
     "data": {
      "text/plain": [
       "array([1, 2])"
      ]
     },
     "execution_count": 100,
     "metadata": {},
     "output_type": "execute_result"
    }
   ],
   "source": [
    "np.asarray(np.asarray([1,2]))"
   ]
  },
  {
   "cell_type": "code",
   "execution_count": 95,
   "id": "ad1710cf",
   "metadata": {},
   "outputs": [
    {
     "ename": "ContainsGroupError",
     "evalue": "A group exists in store ZipStore('zip:///Users/erikstorrs/Downloads/tempsdf.zarr.zip') at path 'g1'.",
     "output_type": "error",
     "traceback": [
      "\u001b[31m---------------------------------------------------------------------------\u001b[39m",
      "\u001b[31mContainsGroupError\u001b[39m                        Traceback (most recent call last)",
      "\u001b[36mCell\u001b[39m\u001b[36m \u001b[39m\u001b[32mIn[95]\u001b[39m\u001b[32m, line 1\u001b[39m\n\u001b[32m----> \u001b[39m\u001b[32m1\u001b[39m g = \u001b[43mroot\u001b[49m\u001b[43m.\u001b[49m\u001b[43mcreate_group\u001b[49m\u001b[43m(\u001b[49m\u001b[33;43m\"\u001b[39;49m\u001b[33;43mg1\u001b[39;49m\u001b[33;43m\"\u001b[39;49m\u001b[43m)\u001b[49m\n",
      "\u001b[36mFile \u001b[39m\u001b[32m~/miniconda3/envs/cosilico-py/lib/python3.13/site-packages/zarr/core/group.py:2334\u001b[39m, in \u001b[36mGroup.create_group\u001b[39m\u001b[34m(self, name, **kwargs)\u001b[39m\n\u001b[32m   2314\u001b[39m \u001b[38;5;28;01mdef\u001b[39;00m\u001b[38;5;250m \u001b[39m\u001b[34mcreate_group\u001b[39m(\u001b[38;5;28mself\u001b[39m, name: \u001b[38;5;28mstr\u001b[39m, **kwargs: Any) -> Group:\n\u001b[32m   2315\u001b[39m \u001b[38;5;250m    \u001b[39m\u001b[33;03m\"\"\"Create a sub-group.\u001b[39;00m\n\u001b[32m   2316\u001b[39m \n\u001b[32m   2317\u001b[39m \u001b[33;03m    Parameters\u001b[39;00m\n\u001b[32m   (...)\u001b[39m\u001b[32m   2332\u001b[39m \u001b[33;03m    <Group memory://132270269438272/subgroup>\u001b[39;00m\n\u001b[32m   2333\u001b[39m \u001b[33;03m    \"\"\"\u001b[39;00m\n\u001b[32m-> \u001b[39m\u001b[32m2334\u001b[39m     \u001b[38;5;28;01mreturn\u001b[39;00m Group(\u001b[38;5;28;43mself\u001b[39;49m\u001b[43m.\u001b[49m\u001b[43m_sync\u001b[49m\u001b[43m(\u001b[49m\u001b[38;5;28;43mself\u001b[39;49m\u001b[43m.\u001b[49m\u001b[43m_async_group\u001b[49m\u001b[43m.\u001b[49m\u001b[43mcreate_group\u001b[49m\u001b[43m(\u001b[49m\u001b[43mname\u001b[49m\u001b[43m,\u001b[49m\u001b[43m \u001b[49m\u001b[43m*\u001b[49m\u001b[43m*\u001b[49m\u001b[43mkwargs\u001b[49m\u001b[43m)\u001b[49m\u001b[43m)\u001b[49m)\n",
      "\u001b[36mFile \u001b[39m\u001b[32m~/miniconda3/envs/cosilico-py/lib/python3.13/site-packages/zarr/core/sync.py:208\u001b[39m, in \u001b[36mSyncMixin._sync\u001b[39m\u001b[34m(self, coroutine)\u001b[39m\n\u001b[32m    205\u001b[39m \u001b[38;5;28;01mdef\u001b[39;00m\u001b[38;5;250m \u001b[39m\u001b[34m_sync\u001b[39m(\u001b[38;5;28mself\u001b[39m, coroutine: Coroutine[Any, Any, T]) -> T:\n\u001b[32m    206\u001b[39m     \u001b[38;5;66;03m# TODO: refactor this to to take *args and **kwargs and pass those to the method\u001b[39;00m\n\u001b[32m    207\u001b[39m     \u001b[38;5;66;03m# this should allow us to better type the sync wrapper\u001b[39;00m\n\u001b[32m--> \u001b[39m\u001b[32m208\u001b[39m     \u001b[38;5;28;01mreturn\u001b[39;00m \u001b[43msync\u001b[49m\u001b[43m(\u001b[49m\n\u001b[32m    209\u001b[39m \u001b[43m        \u001b[49m\u001b[43mcoroutine\u001b[49m\u001b[43m,\u001b[49m\n\u001b[32m    210\u001b[39m \u001b[43m        \u001b[49m\u001b[43mtimeout\u001b[49m\u001b[43m=\u001b[49m\u001b[43mconfig\u001b[49m\u001b[43m.\u001b[49m\u001b[43mget\u001b[49m\u001b[43m(\u001b[49m\u001b[33;43m\"\u001b[39;49m\u001b[33;43masync.timeout\u001b[39;49m\u001b[33;43m\"\u001b[39;49m\u001b[43m)\u001b[49m\u001b[43m,\u001b[49m\n\u001b[32m    211\u001b[39m \u001b[43m    \u001b[49m\u001b[43m)\u001b[49m\n",
      "\u001b[36mFile \u001b[39m\u001b[32m~/miniconda3/envs/cosilico-py/lib/python3.13/site-packages/zarr/core/sync.py:163\u001b[39m, in \u001b[36msync\u001b[39m\u001b[34m(coro, loop, timeout)\u001b[39m\n\u001b[32m    160\u001b[39m return_result = \u001b[38;5;28mnext\u001b[39m(\u001b[38;5;28miter\u001b[39m(finished)).result()\n\u001b[32m    162\u001b[39m \u001b[38;5;28;01mif\u001b[39;00m \u001b[38;5;28misinstance\u001b[39m(return_result, \u001b[38;5;167;01mBaseException\u001b[39;00m):\n\u001b[32m--> \u001b[39m\u001b[32m163\u001b[39m     \u001b[38;5;28;01mraise\u001b[39;00m return_result\n\u001b[32m    164\u001b[39m \u001b[38;5;28;01melse\u001b[39;00m:\n\u001b[32m    165\u001b[39m     \u001b[38;5;28;01mreturn\u001b[39;00m return_result\n",
      "\u001b[36mFile \u001b[39m\u001b[32m~/miniconda3/envs/cosilico-py/lib/python3.13/site-packages/zarr/core/sync.py:119\u001b[39m, in \u001b[36m_runner\u001b[39m\u001b[34m(coro)\u001b[39m\n\u001b[32m    114\u001b[39m \u001b[38;5;250m\u001b[39m\u001b[33;03m\"\"\"\u001b[39;00m\n\u001b[32m    115\u001b[39m \u001b[33;03mAwait a coroutine and return the result of running it. If awaiting the coroutine raises an\u001b[39;00m\n\u001b[32m    116\u001b[39m \u001b[33;03mexception, the exception will be returned.\u001b[39;00m\n\u001b[32m    117\u001b[39m \u001b[33;03m\"\"\"\u001b[39;00m\n\u001b[32m    118\u001b[39m \u001b[38;5;28;01mtry\u001b[39;00m:\n\u001b[32m--> \u001b[39m\u001b[32m119\u001b[39m     \u001b[38;5;28;01mreturn\u001b[39;00m \u001b[38;5;28;01mawait\u001b[39;00m coro\n\u001b[32m    120\u001b[39m \u001b[38;5;28;01mexcept\u001b[39;00m \u001b[38;5;167;01mException\u001b[39;00m \u001b[38;5;28;01mas\u001b[39;00m ex:\n\u001b[32m    121\u001b[39m     \u001b[38;5;28;01mreturn\u001b[39;00m ex\n",
      "\u001b[36mFile \u001b[39m\u001b[32m~/miniconda3/envs/cosilico-py/lib/python3.13/site-packages/zarr/core/group.py:939\u001b[39m, in \u001b[36mAsyncGroup.create_group\u001b[39m\u001b[34m(self, name, overwrite, attributes)\u001b[39m\n\u001b[32m    923\u001b[39m \u001b[38;5;250m\u001b[39m\u001b[33;03m\"\"\"Create a sub-group.\u001b[39;00m\n\u001b[32m    924\u001b[39m \n\u001b[32m    925\u001b[39m \u001b[33;03mParameters\u001b[39;00m\n\u001b[32m   (...)\u001b[39m\u001b[32m    936\u001b[39m \u001b[33;03mg : AsyncGroup\u001b[39;00m\n\u001b[32m    937\u001b[39m \u001b[33;03m\"\"\"\u001b[39;00m\n\u001b[32m    938\u001b[39m attributes = attributes \u001b[38;5;129;01mor\u001b[39;00m {}\n\u001b[32m--> \u001b[39m\u001b[32m939\u001b[39m \u001b[38;5;28;01mreturn\u001b[39;00m \u001b[38;5;28;01mawait\u001b[39;00m \u001b[38;5;28mtype\u001b[39m(\u001b[38;5;28mself\u001b[39m).from_store(\n\u001b[32m    940\u001b[39m     \u001b[38;5;28mself\u001b[39m.store_path / name,\n\u001b[32m    941\u001b[39m     attributes=attributes,\n\u001b[32m    942\u001b[39m     overwrite=overwrite,\n\u001b[32m    943\u001b[39m     zarr_format=\u001b[38;5;28mself\u001b[39m.metadata.zarr_format,\n\u001b[32m    944\u001b[39m )\n",
      "\u001b[36mFile \u001b[39m\u001b[32m~/miniconda3/envs/cosilico-py/lib/python3.13/site-packages/zarr/core/group.py:465\u001b[39m, in \u001b[36mAsyncGroup.from_store\u001b[39m\u001b[34m(cls, store, attributes, overwrite, zarr_format)\u001b[39m\n\u001b[32m    463\u001b[39m         \u001b[38;5;28;01mawait\u001b[39;00m ensure_no_existing_node(store_path, zarr_format=zarr_format)\n\u001b[32m    464\u001b[39m \u001b[38;5;28;01melse\u001b[39;00m:\n\u001b[32m--> \u001b[39m\u001b[32m465\u001b[39m     \u001b[38;5;28;01mawait\u001b[39;00m ensure_no_existing_node(store_path, zarr_format=zarr_format)\n\u001b[32m    466\u001b[39m attributes = attributes \u001b[38;5;129;01mor\u001b[39;00m {}\n\u001b[32m    467\u001b[39m group = \u001b[38;5;28mcls\u001b[39m(\n\u001b[32m    468\u001b[39m     metadata=GroupMetadata(attributes=attributes, zarr_format=zarr_format),\n\u001b[32m    469\u001b[39m     store_path=store_path,\n\u001b[32m    470\u001b[39m )\n",
      "\u001b[36mFile \u001b[39m\u001b[32m~/miniconda3/envs/cosilico-py/lib/python3.13/site-packages/zarr/storage/_common.py:367\u001b[39m, in \u001b[36mensure_no_existing_node\u001b[39m\u001b[34m(store_path, zarr_format)\u001b[39m\n\u001b[32m    365\u001b[39m     \u001b[38;5;28;01mraise\u001b[39;00m ContainsArrayError(store_path.store, store_path.path)\n\u001b[32m    366\u001b[39m \u001b[38;5;28;01melif\u001b[39;00m extant_node == \u001b[33m\"\u001b[39m\u001b[33mgroup\u001b[39m\u001b[33m\"\u001b[39m:\n\u001b[32m--> \u001b[39m\u001b[32m367\u001b[39m     \u001b[38;5;28;01mraise\u001b[39;00m ContainsGroupError(store_path.store, store_path.path)\n\u001b[32m    368\u001b[39m \u001b[38;5;28;01melif\u001b[39;00m extant_node == \u001b[33m\"\u001b[39m\u001b[33mnothing\u001b[39m\u001b[33m\"\u001b[39m:\n\u001b[32m    369\u001b[39m     \u001b[38;5;28;01mreturn\u001b[39;00m\n",
      "\u001b[31mContainsGroupError\u001b[39m: A group exists in store ZipStore('zip:///Users/erikstorrs/Downloads/tempsdf.zarr.zip') at path 'g1'."
     ]
    }
   ],
   "source": [
    "g = root.create_group(\"g1\")"
   ]
  },
  {
   "cell_type": "code",
   "execution_count": 78,
   "id": "8e738cff",
   "metadata": {},
   "outputs": [
    {
     "data": {
      "text/plain": [
       "<Array zip:///Users/erikstorrs/Downloads/tempsdf.zarr.zip/g1/testd shape=(2,) dtype=StringDType()>"
      ]
     },
     "execution_count": 78,
     "metadata": {},
     "output_type": "execute_result"
    }
   ],
   "source": [
    "# feature_meta_group.create_dataset(\"feature_names\", shape=(len(names),), chunks=(len(names),), dtype=object, object_codec=numcodecs.VLenUTF8())\n",
    "x = ['hello', 'worasdfsadfasdfasdfasdfasdfasdfasdfasdfasdfasdfasdfasdfasdfasdfasdfasdfasdfadslddk']\n",
    "g.create_array(\"testd\", shape=(len(x),), chunks=(len(x),), dtype='U50')\n",
    "\n"
   ]
  },
  {
   "cell_type": "code",
   "execution_count": 79,
   "id": "d159c043",
   "metadata": {},
   "outputs": [
    {
     "ename": "AssertionError",
     "evalue": "",
     "output_type": "error",
     "traceback": [
      "\u001b[31m---------------------------------------------------------------------------\u001b[39m",
      "\u001b[31mAssertionError\u001b[39m                            Traceback (most recent call last)",
      "\u001b[36mCell\u001b[39m\u001b[36m \u001b[39m\u001b[32mIn[79]\u001b[39m\u001b[32m, line 1\u001b[39m\n\u001b[32m----> \u001b[39m\u001b[32m1\u001b[39m \u001b[43mg\u001b[49m\u001b[43m[\u001b[49m\u001b[43m:\u001b[49m\u001b[43m]\u001b[49m = np.asarray(x).astype(\u001b[38;5;28mstr\u001b[39m)\n",
      "\u001b[36mFile \u001b[39m\u001b[32m~/miniconda3/envs/cosilico-py/lib/python3.13/site-packages/zarr/core/group.py:1956\u001b[39m, in \u001b[36mGroup.__setitem__\u001b[39m\u001b[34m(self, key, value)\u001b[39m\n\u001b[32m   1935\u001b[39m \u001b[38;5;28;01mdef\u001b[39;00m\u001b[38;5;250m \u001b[39m\u001b[34m__setitem__\u001b[39m(\u001b[38;5;28mself\u001b[39m, key: \u001b[38;5;28mstr\u001b[39m, value: Any) -> \u001b[38;5;28;01mNone\u001b[39;00m:\n\u001b[32m   1936\u001b[39m \u001b[38;5;250m    \u001b[39m\u001b[33;03m\"\"\"Fastpath for creating a new array.\u001b[39;00m\n\u001b[32m   1937\u001b[39m \n\u001b[32m   1938\u001b[39m \u001b[33;03m    New arrays will be created using default settings for the array type.\u001b[39;00m\n\u001b[32m   (...)\u001b[39m\u001b[32m   1954\u001b[39m \u001b[33;03m    <Array memory://132270269438272/foo shape=(10,) dtype=float64>\u001b[39;00m\n\u001b[32m   1955\u001b[39m \u001b[33;03m    \"\"\"\u001b[39;00m\n\u001b[32m-> \u001b[39m\u001b[32m1956\u001b[39m     \u001b[38;5;28;43mself\u001b[39;49m\u001b[43m.\u001b[49m\u001b[43m_sync\u001b[49m\u001b[43m(\u001b[49m\u001b[38;5;28;43mself\u001b[39;49m\u001b[43m.\u001b[49m\u001b[43m_async_group\u001b[49m\u001b[43m.\u001b[49m\u001b[43msetitem\u001b[49m\u001b[43m(\u001b[49m\u001b[43mkey\u001b[49m\u001b[43m,\u001b[49m\u001b[43m \u001b[49m\u001b[43mvalue\u001b[49m\u001b[43m)\u001b[49m\u001b[43m)\u001b[49m\n",
      "\u001b[36mFile \u001b[39m\u001b[32m~/miniconda3/envs/cosilico-py/lib/python3.13/site-packages/zarr/core/sync.py:208\u001b[39m, in \u001b[36mSyncMixin._sync\u001b[39m\u001b[34m(self, coroutine)\u001b[39m\n\u001b[32m    205\u001b[39m \u001b[38;5;28;01mdef\u001b[39;00m\u001b[38;5;250m \u001b[39m\u001b[34m_sync\u001b[39m(\u001b[38;5;28mself\u001b[39m, coroutine: Coroutine[Any, Any, T]) -> T:\n\u001b[32m    206\u001b[39m     \u001b[38;5;66;03m# TODO: refactor this to to take *args and **kwargs and pass those to the method\u001b[39;00m\n\u001b[32m    207\u001b[39m     \u001b[38;5;66;03m# this should allow us to better type the sync wrapper\u001b[39;00m\n\u001b[32m--> \u001b[39m\u001b[32m208\u001b[39m     \u001b[38;5;28;01mreturn\u001b[39;00m \u001b[43msync\u001b[49m\u001b[43m(\u001b[49m\n\u001b[32m    209\u001b[39m \u001b[43m        \u001b[49m\u001b[43mcoroutine\u001b[49m\u001b[43m,\u001b[49m\n\u001b[32m    210\u001b[39m \u001b[43m        \u001b[49m\u001b[43mtimeout\u001b[49m\u001b[43m=\u001b[49m\u001b[43mconfig\u001b[49m\u001b[43m.\u001b[49m\u001b[43mget\u001b[49m\u001b[43m(\u001b[49m\u001b[33;43m\"\u001b[39;49m\u001b[33;43masync.timeout\u001b[39;49m\u001b[33;43m\"\u001b[39;49m\u001b[43m)\u001b[49m\u001b[43m,\u001b[49m\n\u001b[32m    211\u001b[39m \u001b[43m    \u001b[49m\u001b[43m)\u001b[49m\n",
      "\u001b[36mFile \u001b[39m\u001b[32m~/miniconda3/envs/cosilico-py/lib/python3.13/site-packages/zarr/core/sync.py:163\u001b[39m, in \u001b[36msync\u001b[39m\u001b[34m(coro, loop, timeout)\u001b[39m\n\u001b[32m    160\u001b[39m return_result = \u001b[38;5;28mnext\u001b[39m(\u001b[38;5;28miter\u001b[39m(finished)).result()\n\u001b[32m    162\u001b[39m \u001b[38;5;28;01mif\u001b[39;00m \u001b[38;5;28misinstance\u001b[39m(return_result, \u001b[38;5;167;01mBaseException\u001b[39;00m):\n\u001b[32m--> \u001b[39m\u001b[32m163\u001b[39m     \u001b[38;5;28;01mraise\u001b[39;00m return_result\n\u001b[32m    164\u001b[39m \u001b[38;5;28;01melse\u001b[39;00m:\n\u001b[32m    165\u001b[39m     \u001b[38;5;28;01mreturn\u001b[39;00m return_result\n",
      "\u001b[36mFile \u001b[39m\u001b[32m~/miniconda3/envs/cosilico-py/lib/python3.13/site-packages/zarr/core/sync.py:119\u001b[39m, in \u001b[36m_runner\u001b[39m\u001b[34m(coro)\u001b[39m\n\u001b[32m    114\u001b[39m \u001b[38;5;250m\u001b[39m\u001b[33;03m\"\"\"\u001b[39;00m\n\u001b[32m    115\u001b[39m \u001b[33;03mAwait a coroutine and return the result of running it. If awaiting the coroutine raises an\u001b[39;00m\n\u001b[32m    116\u001b[39m \u001b[33;03mexception, the exception will be returned.\u001b[39;00m\n\u001b[32m    117\u001b[39m \u001b[33;03m\"\"\"\u001b[39;00m\n\u001b[32m    118\u001b[39m \u001b[38;5;28;01mtry\u001b[39;00m:\n\u001b[32m--> \u001b[39m\u001b[32m119\u001b[39m     \u001b[38;5;28;01mreturn\u001b[39;00m \u001b[38;5;28;01mawait\u001b[39;00m coro\n\u001b[32m    120\u001b[39m \u001b[38;5;28;01mexcept\u001b[39;00m \u001b[38;5;167;01mException\u001b[39;00m \u001b[38;5;28;01mas\u001b[39;00m ex:\n\u001b[32m    121\u001b[39m     \u001b[38;5;28;01mreturn\u001b[39;00m ex\n",
      "\u001b[36mFile \u001b[39m\u001b[32m~/miniconda3/envs/cosilico-py/lib/python3.13/site-packages/zarr/core/group.py:671\u001b[39m, in \u001b[36mAsyncGroup.setitem\u001b[39m\u001b[34m(self, key, value)\u001b[39m\n\u001b[32m    659\u001b[39m \u001b[38;5;28;01masync\u001b[39;00m \u001b[38;5;28;01mdef\u001b[39;00m\u001b[38;5;250m \u001b[39m\u001b[34msetitem\u001b[39m(\u001b[38;5;28mself\u001b[39m, key: \u001b[38;5;28mstr\u001b[39m, value: Any) -> \u001b[38;5;28;01mNone\u001b[39;00m:\n\u001b[32m    660\u001b[39m \u001b[38;5;250m    \u001b[39m\u001b[33;03m\"\"\"\u001b[39;00m\n\u001b[32m    661\u001b[39m \u001b[33;03m    Fastpath for creating a new array\u001b[39;00m\n\u001b[32m    662\u001b[39m \u001b[33;03m    New arrays will be created with default array settings for the array type.\u001b[39;00m\n\u001b[32m   (...)\u001b[39m\u001b[32m    669\u001b[39m \u001b[33;03m        Array data\u001b[39;00m\n\u001b[32m    670\u001b[39m \u001b[33;03m    \"\"\"\u001b[39;00m\n\u001b[32m--> \u001b[39m\u001b[32m671\u001b[39m     path = \u001b[38;5;28;43mself\u001b[39;49m\u001b[43m.\u001b[49m\u001b[43mstore_path\u001b[49m\u001b[43m \u001b[49m\u001b[43m/\u001b[49m\u001b[43m \u001b[49m\u001b[43mkey\u001b[49m\n\u001b[32m    672\u001b[39m     \u001b[38;5;28;01mawait\u001b[39;00m async_api.save_array(\n\u001b[32m    673\u001b[39m         store=path, arr=value, zarr_format=\u001b[38;5;28mself\u001b[39m.metadata.zarr_format, overwrite=\u001b[38;5;28;01mTrue\u001b[39;00m\n\u001b[32m    674\u001b[39m     )\n",
      "\u001b[36mFile \u001b[39m\u001b[32m~/miniconda3/envs/cosilico-py/lib/python3.13/site-packages/zarr/storage/_common.py:198\u001b[39m, in \u001b[36mStorePath.__truediv__\u001b[39m\u001b[34m(self, other)\u001b[39m\n\u001b[32m    196\u001b[39m \u001b[38;5;28;01mdef\u001b[39;00m\u001b[38;5;250m \u001b[39m\u001b[34m__truediv__\u001b[39m(\u001b[38;5;28mself\u001b[39m, other: \u001b[38;5;28mstr\u001b[39m) -> StorePath:\n\u001b[32m    197\u001b[39m \u001b[38;5;250m    \u001b[39m\u001b[33;03m\"\"\"Combine this store path with another path\"\"\"\u001b[39;00m\n\u001b[32m--> \u001b[39m\u001b[32m198\u001b[39m     \u001b[38;5;28;01mreturn\u001b[39;00m \u001b[38;5;28mself\u001b[39m.\u001b[34m__class__\u001b[39m(\u001b[38;5;28mself\u001b[39m.store, \u001b[43m_dereference_path\u001b[49m\u001b[43m(\u001b[49m\u001b[38;5;28;43mself\u001b[39;49m\u001b[43m.\u001b[49m\u001b[43mpath\u001b[49m\u001b[43m,\u001b[49m\u001b[43m \u001b[49m\u001b[43mother\u001b[49m\u001b[43m)\u001b[49m)\n",
      "\u001b[36mFile \u001b[39m\u001b[32m~/miniconda3/envs/cosilico-py/lib/python3.13/site-packages/zarr/storage/_common.py:21\u001b[39m, in \u001b[36m_dereference_path\u001b[39m\u001b[34m(root, path)\u001b[39m\n\u001b[32m     19\u001b[39m \u001b[38;5;28;01mdef\u001b[39;00m\u001b[38;5;250m \u001b[39m\u001b[34m_dereference_path\u001b[39m(root: \u001b[38;5;28mstr\u001b[39m, path: \u001b[38;5;28mstr\u001b[39m) -> \u001b[38;5;28mstr\u001b[39m:\n\u001b[32m     20\u001b[39m     \u001b[38;5;28;01massert\u001b[39;00m \u001b[38;5;28misinstance\u001b[39m(root, \u001b[38;5;28mstr\u001b[39m)\n\u001b[32m---> \u001b[39m\u001b[32m21\u001b[39m     \u001b[38;5;28;01massert\u001b[39;00m \u001b[38;5;28misinstance\u001b[39m(path, \u001b[38;5;28mstr\u001b[39m)\n\u001b[32m     22\u001b[39m     root = root.rstrip(\u001b[33m\"\u001b[39m\u001b[33m/\u001b[39m\u001b[33m\"\u001b[39m)\n\u001b[32m     23\u001b[39m     path = \u001b[33mf\u001b[39m\u001b[33m\"\u001b[39m\u001b[38;5;132;01m{\u001b[39;00mroot\u001b[38;5;132;01m}\u001b[39;00m\u001b[33m/\u001b[39m\u001b[38;5;132;01m{\u001b[39;00mpath\u001b[38;5;132;01m}\u001b[39;00m\u001b[33m\"\u001b[39m \u001b[38;5;28;01mif\u001b[39;00m root \u001b[38;5;28;01melse\u001b[39;00m path\n",
      "\u001b[31mAssertionError\u001b[39m: "
     ]
    }
   ],
   "source": [
    "g[:] = np.asarray(x).astype(str)"
   ]
  },
  {
   "cell_type": "code",
   "execution_count": 27,
   "id": "0aff4c9b",
   "metadata": {},
   "outputs": [],
   "source": [
    "store.close()"
   ]
  },
  {
   "cell_type": "code",
   "execution_count": null,
   "id": "8f4b522b",
   "metadata": {},
   "outputs": [],
   "source": []
  },
  {
   "cell_type": "code",
   "execution_count": 59,
   "id": "f8b876f2",
   "metadata": {},
   "outputs": [],
   "source": [
    "import numpy as np"
   ]
  },
  {
   "cell_type": "code",
   "execution_count": 81,
   "id": "92609a9f",
   "metadata": {},
   "outputs": [
    {
     "data": {
      "text/plain": [
       "<Array zip:///Users/erikstorrs/Downloads/hghgh.zarr.zip/hello/test shape=(10, 10) dtype=StringDType()>"
      ]
     },
     "execution_count": 81,
     "metadata": {},
     "output_type": "execute_result"
    }
   ],
   "source": [
    "import zarr\n",
    "# store = zarr.storage.MemoryStore()\n",
    "# store = '/Users/erikstorrs/Downloads/alsdkfj.zarr.zip'\n",
    "store = zarr.storage.ZipStore('/Users/erikstorrs/Downloads/hghgh.zarr.zip', mode='w')\n",
    "root = zarr.group(store=store, overwrite=True)\n",
    "g = root.create_group('hello')\n",
    "z = g.create_array(name='test', shape=(10, 10), chunks=(10, 10), dtype='U50')\n",
    "# z = zarr.create_array(store=store, shape=(10000, 10000), chunks=(1000, 1000), dtype='int32')\n",
    "z"
   ]
  },
  {
   "cell_type": "code",
   "execution_count": 82,
   "id": "c9f76f6e",
   "metadata": {},
   "outputs": [],
   "source": [
    "z[:] = np.full((10, 10), 1, dtype=np.int32).astype(str)"
   ]
  },
  {
   "cell_type": "code",
   "execution_count": 83,
   "id": "5a5c7f3e",
   "metadata": {},
   "outputs": [],
   "source": [
    "store.close()"
   ]
  },
  {
   "cell_type": "code",
   "execution_count": null,
   "id": "0fa9b92f",
   "metadata": {},
   "outputs": [],
   "source": []
  }
 ],
 "metadata": {
  "kernelspec": {
   "display_name": "Python 3 (ipykernel)",
   "language": "python",
   "name": "python3"
  },
  "language_info": {
   "codemirror_mode": {
    "name": "ipython",
    "version": 3
   },
   "file_extension": ".py",
   "mimetype": "text/x-python",
   "name": "python",
   "nbconvert_exporter": "python",
   "pygments_lexer": "ipython3",
   "version": "3.13.3"
  }
 },
 "nbformat": 4,
 "nbformat_minor": 5
}
