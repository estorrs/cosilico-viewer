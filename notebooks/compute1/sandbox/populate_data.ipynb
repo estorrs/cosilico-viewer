{
 "cells": [
  {
   "cell_type": "code",
   "execution_count": 1,
   "id": "46a049b1",
   "metadata": {},
   "outputs": [],
   "source": [
    "from pathlib import Path\n",
    "import os\n",
    "import json\n",
    "\n",
    "import pandas as pd\n",
    "import numpy as np\n",
    "import typer"
   ]
  },
  {
   "cell_type": "code",
   "execution_count": 2,
   "id": "98d14f73",
   "metadata": {},
   "outputs": [],
   "source": [
    "from cosilico_py.preprocessing.platform_helpers.experiment import create_bundle_from_input\n",
    "from cosilico_py.models import X10XeniumInput, DirectoryEntity, ExperimentViewSetting\n",
    "from cosilico_py.client.client import CosilicoClient\n",
    "from cosilico_py.config import get_config"
   ]
  },
  {
   "cell_type": "code",
   "execution_count": 3,
   "id": "2e95adbb",
   "metadata": {},
   "outputs": [],
   "source": [
    "def save_config(email, password):\n",
    "    app_dir = typer.get_app_dir('cosilico_py')\n",
    "    config_path: Path = Path(app_dir) / \"config.json\"\n",
    "    d = {\n",
    "        'api_url': os.environ.get('API_URL'),\n",
    "        'anon_key': os.environ.get('ANON_KEY'),\n",
    "#         'cache_dir': str((Path(app_dir) / 'cache').absolute()),\n",
    "        'cache_dir': '/storage1/fs1/dinglab/Active/Projects/estorrs/temp_cache',\n",
    "        'email': email,\n",
    "        'password': password,\n",
    "        'preprocessing': {\n",
    "            'layer': {\n",
    "                'cells_max_vert_map': {\n",
    "                    1: 64,\n",
    "                    2: 64,\n",
    "                    4: 64,\n",
    "                    8: 64,\n",
    "                    16: 64,\n",
    "                    32: 64,\n",
    "                    64: 64,\n",
    "                    128: 64,\n",
    "                    256: 64,\n",
    "                    512: 64,\n",
    "                    1024: 64,\n",
    "                    2048: 64,\n",
    "                    4096: 64,\n",
    "                    8192: 8,\n",
    "                    16384: 8,\n",
    "                    32768: 8,\n",
    "                    65536: 8,\n",
    "                    131072: 8,\n",
    "                    262144: 8,\n",
    "                    524288: 8,\n",
    "                    1048576: 8,\n",
    "                },\n",
    "                'cells_downsample_map': {\n",
    "                    1: -1,\n",
    "                    2: -1,\n",
    "                    4: -1,\n",
    "                    8: -1,\n",
    "                    16: -1,\n",
    "                    32: -1,\n",
    "                    64: -1,\n",
    "                    128: -1,\n",
    "                    256: -1,\n",
    "                    512: -1,\n",
    "                    1024: -1,\n",
    "                    2048: -1,\n",
    "                    4096: -1,\n",
    "                    8192: 100_000,\n",
    "                    16384: 100_000,\n",
    "                    32768: 100_000,\n",
    "                    65536: 100_000,\n",
    "                    131072: 100_000,\n",
    "                    262144: 100_000,\n",
    "                    524288: 100_000,\n",
    "                    1048576: 100_000,\n",
    "                },\n",
    "                'cells_object_type_map': {\n",
    "                    1: 'polygon',\n",
    "                    2: 'polygon',\n",
    "                    4: 'polygon',\n",
    "                    8: 'polygon',\n",
    "                    16: 'polygon',\n",
    "                    32: 'polygon',\n",
    "                    64: 'polygon',\n",
    "                    128: 'polygon',\n",
    "                    256: 'polygon',\n",
    "                    512: 'polygon',\n",
    "                    1024: 'polygon',\n",
    "                    2048: 'polygon',\n",
    "                    4096: 'polygon',\n",
    "                    8192: 'polygon',\n",
    "                    16384: 'polygon',\n",
    "                    32768: 'polygon',\n",
    "                    65536: 'polygon',\n",
    "                    131072: 'polygon',\n",
    "                    262144: 'polygon',\n",
    "                    524288: 'polygon',\n",
    "                    1048576: 'polygon',\n",
    "                }\n",
    "            }\n",
    "        }\n",
    "\n",
    "    }\n",
    "\n",
    "    Path(d['cache_dir']).mkdir(parents=True, exist_ok=True)\n",
    "\n",
    "\n",
    "    json.dump(d, open(config_path, 'w'))\n",
    "\n",
    "def autocreate_client(email, password):\n",
    "    save_config(email, password)\n",
    "    client = CosilicoClient()\n",
    "    client.sign_in()\n",
    "    return client\n",
    "    \n",
    "    "
   ]
  },
  {
   "cell_type": "code",
   "execution_count": 4,
   "id": "5da99dc3",
   "metadata": {},
   "outputs": [],
   "source": [
    "save_config('test@gmail.com', '123456')"
   ]
  },
  {
   "cell_type": "code",
   "execution_count": 5,
   "id": "964b5b53",
   "metadata": {},
   "outputs": [],
   "source": [
    "# # this is for doing the admin only\n",
    "# api_url = os.environ.get('API_URL')\n",
    "# anon_key = os.environ.get('ANON_KEY')\n",
    "\n",
    "# supabase = create_client(api_url, anon_key)\n",
    "# supabase"
   ]
  },
  {
   "cell_type": "code",
   "execution_count": 6,
   "id": "9ed63d04",
   "metadata": {},
   "outputs": [
    {
     "data": {
      "text/plain": [
       "X10XeniumInput(name='Prostate test', bbox=None, verbose=True, platform=<PlatformEnum.x10_xenium: '10X Xenium'>, cellranger_outs=PosixPath('/storage1/fs1/dinglab/Active/Primary/HTAN.Imaging/xenium/data/20240927__185207__20240927_5K_Multi_PCa_GBM_PKD/output-XETG00063__0037329__S18-8122-B28U1__20240927__185257'), to_uint8=True)"
      ]
     },
     "execution_count": 6,
     "metadata": {},
     "output_type": "execute_result"
    }
   ],
   "source": [
    "x_input = X10XeniumInput(\n",
    "    name='Prostate test',\n",
    "    cellranger_outs='/storage1/fs1/dinglab/Active/Primary/HTAN.Imaging/xenium/data/20240927__185207__20240927_5K_Multi_PCa_GBM_PKD/output-XETG00063__0037329__S18-8122-B28U1__20240927__185257',\n",
    "    bbox=None,\n",
    "    to_uint8=True\n",
    ")\n",
    "x_input"
   ]
  },
  {
   "cell_type": "code",
   "execution_count": null,
   "id": "10251a4d",
   "metadata": {},
   "outputs": [
    {
     "data": {
      "text/html": [
       "<pre style=\"white-space:pre;overflow-x:auto;line-height:normal;font-family:Menlo,'DejaVu Sans Mono',consolas,'Courier New',monospace\">Loading xenium experiment from \n",
       "<span style=\"color: #008000; text-decoration-color: #008000\">/storage1/fs1/dinglab/Active/Primary/HTAN.Imaging/xenium/data/20240927__185207__20240927_5K_Multi_PCa_GBM_PKD/outpu</span>\n",
       "<span style=\"color: #008000; text-decoration-color: #008000\">t-XETG00063__0037329__S18-8122-B28U1__20240927__185257</span>\n",
       "</pre>\n"
      ],
      "text/plain": [
       "Loading xenium experiment from \n",
       "\u001b[32m/storage1/fs1/dinglab/Active/Primary/HTAN.Imaging/xenium/data/20240927__185207__20240927_5K_Multi_PCa_GBM_PKD/\u001b[0m\u001b[32moutpu\u001b[0m\n",
       "\u001b[32mt-XETG00063__0037329__S18-8122-B28U1__20240927__185257\u001b[0m\n"
      ]
     },
     "metadata": {},
     "output_type": "display_data"
    },
    {
     "data": {
      "text/html": [
       "<pre style=\"white-space:pre;overflow-x:auto;line-height:normal;font-family:Menlo,'DejaVu Sans Mono',consolas,'Courier New',monospace\">Loading xenium morphology image from \n",
       "<span style=\"color: #008000; text-decoration-color: #008000\">/storage1/fs1/dinglab/Active/Primary/HTAN.Imaging/xenium/data/20240927__185207__20240927_5K_Multi_PCa_GBM_PKD/outpu</span>\n",
       "<span style=\"color: #008000; text-decoration-color: #008000\">t-XETG00063__0037329__S18-8122-B28U1__20240927__185257/morphology_focus/morphology_focus_0002.ome.tif</span>\n",
       "</pre>\n"
      ],
      "text/plain": [
       "Loading xenium morphology image from \n",
       "\u001b[32m/storage1/fs1/dinglab/Active/Primary/HTAN.Imaging/xenium/data/20240927__185207__20240927_5K_Multi_PCa_GBM_PKD/outpu\u001b[0m\n",
       "\u001b[32mt-XETG00063__0037329__S18-8122-B28U1__20240927__185257/morphology_focus/\u001b[0m\u001b[32mmorphology_focus_0002.ome.tif\u001b[0m\n"
      ]
     },
     "metadata": {},
     "output_type": "display_data"
    },
    {
     "name": "stderr",
     "output_type": "stream",
     "text": [
      "<tifffile.TiffFile 'morphology_focus_0002.ome.tif'> OME series cannot read multi-file pyramids\n"
     ]
    },
    {
     "data": {
      "text/html": [
       "<pre style=\"white-space:pre;overflow-x:auto;line-height:normal;font-family:Menlo,'DejaVu Sans Mono',consolas,'Courier New',monospace\">Loading xenium transcripts from \n",
       "<span style=\"color: #008000; text-decoration-color: #008000\">/storage1/fs1/dinglab/Active/Primary/HTAN.Imaging/xenium/data/20240927__185207__20240927_5K_Multi_PCa_GBM_PKD/outpu</span>\n",
       "<span style=\"color: #008000; text-decoration-color: #008000\">t-XETG00063__0037329__S18-8122-B28U1__20240927__185257/transcripts.parquet</span>\n",
       "</pre>\n"
      ],
      "text/plain": [
       "Loading xenium transcripts from \n",
       "\u001b[32m/storage1/fs1/dinglab/Active/Primary/HTAN.Imaging/xenium/data/20240927__185207__20240927_5K_Multi_PCa_GBM_PKD/outpu\u001b[0m\n",
       "\u001b[32mt-XETG00063__0037329__S18-8122-B28U1__20240927__185257/\u001b[0m\u001b[32mtranscripts.parquet\u001b[0m\n"
      ]
     },
     "metadata": {},
     "output_type": "display_data"
    }
   ],
   "source": [
    "%%time\n",
    "bundle = create_bundle_from_input(x_input)\n",
    "bundle"
   ]
  },
  {
   "cell_type": "code",
   "execution_count": 8,
   "id": "8e993782",
   "metadata": {},
   "outputs": [
    {
     "name": "stdout",
     "output_type": "stream",
     "text": [
      "analysis\t\t      cells.zarr.zip\r\n",
      "analysis.zarr.zip\t      experiment.xenium\r\n",
      "analysis_summary.html\t      gene_panel.json\r\n",
      "aux_outputs\t\t      metrics_summary.csv\r\n",
      "cell_boundaries.csv.gz\t      morphology.ome.tif\r\n",
      "cell_boundaries.parquet       morphology_focus\r\n",
      "cell_feature_matrix\t      nucleus_boundaries.csv.gz\r\n",
      "cell_feature_matrix.h5\t      nucleus_boundaries.parquet\r\n",
      "cell_feature_matrix.zarr.zip  transcripts.csv.gz\r\n",
      "cells.csv.gz\t\t      transcripts.parquet\r\n",
      "cells.parquet\t\t      transcripts.zarr.zip\r\n"
     ]
    }
   ],
   "source": [
    "!ls /storage1/fs1/dinglab/Active/Primary/HTAN.Imaging/xenium/data/20240927__185207__20240927_5K_Multi_PCa_GBM_PKD/output-XETG00063__0037329__S18-5929-C27U1__20240927__185257\n"
   ]
  },
  {
   "cell_type": "code",
   "execution_count": 28,
   "id": "ad839d40",
   "metadata": {},
   "outputs": [
    {
     "name": "stdout",
     "output_type": "stream",
     "text": [
      "/storage1/fs1/dinglab/Active/Primary/HTAN.Imaging/xenium/data/20230830__153957__20230830_24001/output-XETG00122__0011120__S18-15142Fp1Us1_1__20230830__154053/morphology_focus.ome.tif\r\n"
     ]
    }
   ],
   "source": [
    "!ls /storage1/fs1/dinglab/Active/Primary/HTAN.Imaging/xenium/data/20240703__174409__20240703_HTAN_prostate-serial/output-XETG00122__0024910__HT913Z1-S2H1Fp1U35__20240703__174440/\n"
   ]
  },
  {
   "cell_type": "code",
   "execution_count": 25,
   "id": "8e95cb73",
   "metadata": {},
   "outputs": [],
   "source": [
    "import tifffile"
   ]
  },
  {
   "cell_type": "code",
   "execution_count": 31,
   "id": "d7553523",
   "metadata": {},
   "outputs": [
    {
     "data": {
      "text/plain": [
       "<tifffile.TiffFile 'morphology.ome.tif'>"
      ]
     },
     "execution_count": 31,
     "metadata": {},
     "output_type": "execute_result"
    }
   ],
   "source": [
    "tf = tifffile.TiffFile('/storage1/fs1/dinglab/Active/Primary/HTAN.Imaging/xenium/data/20240524__182517__20240524_HTAN_prostate_serial/output-XETG00122__0034184__HT891Z1-S2H3Fp1U21__20240524__182554/morphology.ome.tif')\n",
    "tf"
   ]
  },
  {
   "cell_type": "code",
   "execution_count": 39,
   "id": "7692131f",
   "metadata": {},
   "outputs": [
    {
     "name": "stdout",
     "output_type": "stream",
     "text": [
      "ls: cannot access '/storage1/fs1/dinglab/Active/Primary/HTAN.Imaging/xenium/data/20240703__174409__20240703_HTAN_prostate-serial/output-XETG00122__0024910__HT913Z1-S2H1Fp1U35__20240703__174440/experiment.xenium': No such file or directory\r\n"
     ]
    }
   ],
   "source": [
    "!ls /storage1/fs1/dinglab/Active/Primary/HTAN.Imaging/xenium/data/20240703__174409__20240703_HTAN_prostate-serial/output-XETG00122__0024910__HT913Z1-S2H1Fp1U35__20240703__174440/experiment.xenium"
   ]
  },
  {
   "cell_type": "code",
   "execution_count": null,
   "id": "a20b099e",
   "metadata": {},
   "outputs": [],
   "source": []
  },
  {
   "cell_type": "code",
   "execution_count": 48,
   "id": "5dd9f0a2",
   "metadata": {},
   "outputs": [
    {
     "name": "stdout",
     "output_type": "stream",
     "text": [
      "ls: cannot access '/storage1/fs1/dinglab/Active/Primary/HTAN.Imaging/xenium/data/20240927__185207__20240927_5K_Multi_PCa_GBM_PKD/output-XETG00063__0037329__S18-8122-B28U1__20240927__185257/experiment.xenium': No such file or directory\r\n"
     ]
    }
   ],
   "source": [
    "!ls /storage1/fs1/dinglab/Active/Primary/HTAN.Imaging/xenium/data/20240927__185207__20240927_5K_Multi_PCa_GBM_PKD/output-XETG00063__0037329__S18-8122-B28U1__20240927__185257/experiment.xenium"
   ]
  },
  {
   "cell_type": "code",
   "execution_count": 49,
   "id": "b1700b7c",
   "metadata": {},
   "outputs": [
    {
     "name": "stdout",
     "output_type": "stream",
     "text": [
      "analysis\t\t      cells.zarr.zip\r\n",
      "analysis.zarr.zip\t      gene_panel.json\r\n",
      "analysis_summary.html\t      metrics_summary.csv\r\n",
      "aux_outputs\t\t      morphology.ome.tif\r\n",
      "cell_boundaries.csv.gz\t      morphology_focus\r\n",
      "cell_boundaries.parquet       nucleus_boundaries.csv.gz\r\n",
      "cell_feature_matrix\t      nucleus_boundaries.parquet\r\n",
      "cell_feature_matrix.h5\t      transcripts.csv.gz\r\n",
      "cell_feature_matrix.zarr.zip  transcripts.parquet\r\n",
      "cells.csv.gz\t\t      transcripts.zarr.zip\r\n",
      "cells.parquet\r\n"
     ]
    }
   ],
   "source": [
    "!ls /storage1/fs1/dinglab/Active/Primary/HTAN.Imaging/xenium/data/20240927__185207__20240927_5K_Multi_PCa_GBM_PKD/output-XETG00063__0037329__S18-8122-B28U1__20240927__185257"
   ]
  },
  {
   "cell_type": "code",
   "execution_count": null,
   "id": "b21dfe37",
   "metadata": {},
   "outputs": [],
   "source": []
  },
  {
   "cell_type": "code",
   "execution_count": null,
   "id": "213a7dcd",
   "metadata": {},
   "outputs": [],
   "source": []
  },
  {
   "cell_type": "code",
   "execution_count": null,
   "id": "1925c50b",
   "metadata": {},
   "outputs": [],
   "source": []
  }
 ],
 "metadata": {
  "kernelspec": {
   "display_name": "Python 3 (ipykernel)",
   "language": "python",
   "name": "python3"
  },
  "language_info": {
   "codemirror_mode": {
    "name": "ipython",
    "version": 3
   },
   "file_extension": ".py",
   "mimetype": "text/x-python",
   "name": "python",
   "nbconvert_exporter": "python",
   "pygments_lexer": "ipython3",
   "version": "3.13.5"
  }
 },
 "nbformat": 4,
 "nbformat_minor": 5
}
