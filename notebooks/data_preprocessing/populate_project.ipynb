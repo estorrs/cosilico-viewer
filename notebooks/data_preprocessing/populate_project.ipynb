{
 "cells": [
  {
   "cell_type": "code",
   "execution_count": 20,
   "id": "3d2879c2",
   "metadata": {},
   "outputs": [],
   "source": [
    "import json\n",
    "import os\n",
    "from pathlib import Path"
   ]
  },
  {
   "cell_type": "code",
   "execution_count": 44,
   "id": "1cb05024",
   "metadata": {},
   "outputs": [],
   "source": [
    "import matplotlib.pyplot as plt\n",
    "import pandas as pd\n",
    "import scanpy as sc\n",
    "import typer\n",
    "from sklearn.cluster import KMeans\n",
    "from supabase import create_client\n",
    "from dotenv import load_dotenv"
   ]
  },
  {
   "cell_type": "code",
   "execution_count": 8,
   "id": "621e5b68",
   "metadata": {},
   "outputs": [],
   "source": [
    "from cosilico_py.client.client import CosilicoClient\n",
    "from cosilico_py.config import get_config\n",
    "from cosilico_py.models import X10XeniumInput, DirectoryEntity, ExperimentViewSetting"
   ]
  },
  {
   "cell_type": "markdown",
   "id": "b54f62e0",
   "metadata": {},
   "source": [
    "Read in environmental variables."
   ]
  },
  {
   "cell_type": "code",
   "execution_count": 10,
   "id": "a13b0c62",
   "metadata": {},
   "outputs": [
    {
     "data": {
      "text/plain": [
       "True"
      ]
     },
     "execution_count": 10,
     "metadata": {},
     "output_type": "execute_result"
    }
   ],
   "source": [
    "# load environmental variables\n",
    "load_dotenv(dotenv_path='../../.env')\n",
    "load_dotenv(dotenv_path='../../.env.test')"
   ]
  },
  {
   "cell_type": "code",
   "execution_count": 9,
   "id": "83d2c5cf",
   "metadata": {},
   "outputs": [],
   "source": [
    "def save_config(email, password):\n",
    "    \"\"\"\n",
    "    Save a project config for the given email and password.\n",
    "    \"\"\"\n",
    "    app_dir = typer.get_app_dir('cosilico_py')\n",
    "    config_path: Path = Path(app_dir) / \"config.json\"\n",
    "    d = {\n",
    "        'api_url': os.environ.get('API_URL'),\n",
    "        'anon_key': os.environ.get('ANON_KEY'),\n",
    "        'cache_dir': '~/Downloads/temp_cache',\n",
    "        'email': email,\n",
    "        'password': password,\n",
    "        'preprocessing': {\n",
    "            'layer': {\n",
    "                'cells_max_vert_map': {\n",
    "                    1: 64,\n",
    "                    2: 64,\n",
    "                    4: 64,\n",
    "                    8: 64,\n",
    "                    16: 64,\n",
    "                    32: 64,\n",
    "                    64: 64,\n",
    "                    128: 64,\n",
    "                    256: 64,\n",
    "                    512: 64,\n",
    "                    1024: 64,\n",
    "                    2048: 64,\n",
    "                    4096: 64,\n",
    "                    8192: 8,\n",
    "                    16384: 8,\n",
    "                    32768: 8,\n",
    "                    65536: 8,\n",
    "                    131072: 8,\n",
    "                    262144: 8,\n",
    "                    524288: 8,\n",
    "                    1048576: 8,\n",
    "                },\n",
    "                'cells_downsample_map': {\n",
    "                    1: -1,\n",
    "                    2: -1,\n",
    "                    4: -1,\n",
    "                    8: -1,\n",
    "                    16: -1,\n",
    "                    32: -1,\n",
    "                    64: -1,\n",
    "                    128: -1,\n",
    "                    256: -1,\n",
    "                    512: -1,\n",
    "                    1024: -1,\n",
    "                    2048: -1,\n",
    "                    4096: -1,\n",
    "                    8192: 100_000,\n",
    "                    16384: 100_000,\n",
    "                    32768: 100_000,\n",
    "                    65536: 100_000,\n",
    "                    131072: 100_000,\n",
    "                    262144: 100_000,\n",
    "                    524288: 100_000,\n",
    "                    1048576: 100_000,\n",
    "                },\n",
    "                'cells_object_type_map': {\n",
    "                    1: 'polygon',\n",
    "                    2: 'polygon',\n",
    "                    4: 'polygon',\n",
    "                    8: 'polygon',\n",
    "                    16: 'polygon',\n",
    "                    32: 'polygon',\n",
    "                    64: 'polygon',\n",
    "                    128: 'polygon',\n",
    "                    256: 'polygon',\n",
    "                    512: 'polygon',\n",
    "                    1024: 'polygon',\n",
    "                    2048: 'polygon',\n",
    "                    4096: 'polygon',\n",
    "                    8192: 'polygon',\n",
    "                    16384: 'polygon',\n",
    "                    32768: 'polygon',\n",
    "                    65536: 'polygon',\n",
    "                    131072: 'polygon',\n",
    "                    262144: 'polygon',\n",
    "                    524288: 'polygon',\n",
    "                    1048576: 'polygon',\n",
    "                }\n",
    "            }\n",
    "        }\n",
    "\n",
    "    }\n",
    "\n",
    "    Path(d['cache_dir']).mkdir(parents=True, exist_ok=True)\n",
    "\n",
    "\n",
    "    json.dump(d, open(config_path, 'w'))\n",
    "\n",
    "def autocreate_client(email, password):\n",
    "    \"\"\"\n",
    "    Convenience method for creating client.\n",
    "    \"\"\"\n",
    "    save_config(email, password)\n",
    "    client = CosilicoClient()\n",
    "    client.sign_in()\n",
    "    return client\n",
    "    \n",
    "    "
   ]
  },
  {
   "cell_type": "code",
   "execution_count": 11,
   "id": "833539b1",
   "metadata": {},
   "outputs": [
    {
     "data": {
      "text/plain": [
       "<supabase._sync.client.SyncClient at 0x2b45bf110>"
      ]
     },
     "execution_count": 11,
     "metadata": {},
     "output_type": "execute_result"
    }
   ],
   "source": [
    "# supabase client\n",
    "supabase = create_client(os.environ.get('API_URL'), os.environ.get('ANON_KEY'))\n",
    "supabase"
   ]
  },
  {
   "cell_type": "markdown",
   "id": "e2c7fe09",
   "metadata": {},
   "source": [
    "## Populate user"
   ]
  },
  {
   "cell_type": "markdown",
   "id": "75274f4d",
   "metadata": {},
   "source": [
    "Creates a new user"
   ]
  },
  {
   "cell_type": "code",
   "execution_count": 15,
   "id": "d2123b87",
   "metadata": {},
   "outputs": [
    {
     "data": {
      "text/plain": [
       "AuthResponse(user=User(id='605f1ad5-1079-44ed-929b-b9a33a51586a', app_metadata={'provider': 'email', 'providers': ['email']}, user_metadata={'email': 'epstorrs@gmail.com', 'email_verified': True, 'name': 'Erik Storrs', 'phone_verified': False, 'sub': '605f1ad5-1079-44ed-929b-b9a33a51586a'}, aud='authenticated', confirmation_sent_at=None, recovery_sent_at=None, email_change_sent_at=None, new_email=None, new_phone=None, invited_at=None, action_link=None, email='epstorrs@gmail.com', phone='', created_at=datetime.datetime(2025, 7, 28, 1, 32, 36, 300791, tzinfo=TzInfo(UTC)), confirmed_at=None, email_confirmed_at=datetime.datetime(2025, 7, 28, 1, 32, 36, 324476, tzinfo=TzInfo(UTC)), phone_confirmed_at=None, last_sign_in_at=datetime.datetime(2025, 7, 28, 1, 32, 36, 329249, tzinfo=TzInfo(UTC)), role='authenticated', updated_at=datetime.datetime(2025, 7, 28, 1, 32, 36, 335585, tzinfo=TzInfo(UTC)), identities=[UserIdentity(id='605f1ad5-1079-44ed-929b-b9a33a51586a', identity_id='ef7fdcaf-77bd-4355-b295-bccf037b80ac', user_id='605f1ad5-1079-44ed-929b-b9a33a51586a', identity_data={'email': 'epstorrs@gmail.com', 'email_verified': True, 'name': 'Erik Storrs', 'phone_verified': False, 'sub': '605f1ad5-1079-44ed-929b-b9a33a51586a'}, provider='email', created_at=datetime.datetime(2025, 7, 28, 1, 32, 36, 320995, tzinfo=TzInfo(UTC)), last_sign_in_at=datetime.datetime(2025, 7, 28, 1, 32, 36, 320937, tzinfo=TzInfo(UTC)), updated_at=datetime.datetime(2025, 7, 28, 1, 32, 36, 320995, tzinfo=TzInfo(UTC)))], is_anonymous=False, factors=None), session=Session(provider_token=None, provider_refresh_token=None, access_token='eyJhbGciOiJIUzI1NiIsImtpZCI6IjhDa3dnN3dHd2Y0bUhGdXYiLCJ0eXAiOiJKV1QifQ.eyJpc3MiOiJodHRwczovL2NldWtnYWlteXdvcnl0Y2JwdmZ1LnN1cGFiYXNlLmNvL2F1dGgvdjEiLCJzdWIiOiI2MDVmMWFkNS0xMDc5LTQ0ZWQtOTI5Yi1iOWEzM2E1MTU4NmEiLCJhdWQiOiJhdXRoZW50aWNhdGVkIiwiZXhwIjoxNzUzNjY5OTU2LCJpYXQiOjE3NTM2NjYzNTYsImVtYWlsIjoiZXBzdG9ycnNAZ21haWwuY29tIiwicGhvbmUiOiIiLCJhcHBfbWV0YWRhdGEiOnsicHJvdmlkZXIiOiJlbWFpbCIsInByb3ZpZGVycyI6WyJlbWFpbCJdfSwidXNlcl9tZXRhZGF0YSI6eyJlbWFpbCI6ImVwc3RvcnJzQGdtYWlsLmNvbSIsImVtYWlsX3ZlcmlmaWVkIjp0cnVlLCJuYW1lIjoiRXJpayBTdG9ycnMiLCJwaG9uZV92ZXJpZmllZCI6ZmFsc2UsInN1YiI6IjYwNWYxYWQ1LTEwNzktNDRlZC05MjliLWI5YTMzYTUxNTg2YSJ9LCJyb2xlIjoiYXV0aGVudGljYXRlZCIsImFhbCI6ImFhbDEiLCJhbXIiOlt7Im1ldGhvZCI6InBhc3N3b3JkIiwidGltZXN0YW1wIjoxNzUzNjY2MzU2fV0sInNlc3Npb25faWQiOiJlNTZmNGQzYi04ZDY0LTQ4MzItOWNmMy03ZTEyZGM1ZDMxM2UiLCJpc19hbm9ueW1vdXMiOmZhbHNlfQ.cM3JvxAJHDi8aNc6w3IuETRW0yhihMXDqwa6ZmzxAkU', refresh_token='mms3n5hlfhue', expires_in=3600, expires_at=1753669956, token_type='bearer', user=User(id='605f1ad5-1079-44ed-929b-b9a33a51586a', app_metadata={'provider': 'email', 'providers': ['email']}, user_metadata={'email': 'epstorrs@gmail.com', 'email_verified': True, 'name': 'Erik Storrs', 'phone_verified': False, 'sub': '605f1ad5-1079-44ed-929b-b9a33a51586a'}, aud='authenticated', confirmation_sent_at=None, recovery_sent_at=None, email_change_sent_at=None, new_email=None, new_phone=None, invited_at=None, action_link=None, email='epstorrs@gmail.com', phone='', created_at=datetime.datetime(2025, 7, 28, 1, 32, 36, 300791, tzinfo=TzInfo(UTC)), confirmed_at=None, email_confirmed_at=datetime.datetime(2025, 7, 28, 1, 32, 36, 324476, tzinfo=TzInfo(UTC)), phone_confirmed_at=None, last_sign_in_at=datetime.datetime(2025, 7, 28, 1, 32, 36, 329249, tzinfo=TzInfo(UTC)), role='authenticated', updated_at=datetime.datetime(2025, 7, 28, 1, 32, 36, 335585, tzinfo=TzInfo(UTC)), identities=[UserIdentity(id='605f1ad5-1079-44ed-929b-b9a33a51586a', identity_id='ef7fdcaf-77bd-4355-b295-bccf037b80ac', user_id='605f1ad5-1079-44ed-929b-b9a33a51586a', identity_data={'email': 'epstorrs@gmail.com', 'email_verified': True, 'name': 'Erik Storrs', 'phone_verified': False, 'sub': '605f1ad5-1079-44ed-929b-b9a33a51586a'}, provider='email', created_at=datetime.datetime(2025, 7, 28, 1, 32, 36, 320995, tzinfo=TzInfo(UTC)), last_sign_in_at=datetime.datetime(2025, 7, 28, 1, 32, 36, 320937, tzinfo=TzInfo(UTC)), updated_at=datetime.datetime(2025, 7, 28, 1, 32, 36, 320995, tzinfo=TzInfo(UTC)))], is_anonymous=False, factors=None)))"
      ]
     },
     "execution_count": 15,
     "metadata": {},
     "output_type": "execute_result"
    }
   ],
   "source": [
    "response = supabase.auth.sign_up(\n",
    "    {\n",
    "        \"email\": os.environ.get('ME_EMAIL'),\n",
    "        \"password\": os.environ.get('ME_PASSWORD'),\n",
    "        'options': {\n",
    "            'data': {\n",
    "                'name': 'Erik Storrs',\n",
    "            }\n",
    "        }\n",
    "    }\n",
    ")\n",
    "response"
   ]
  },
  {
   "cell_type": "code",
   "execution_count": 21,
   "id": "d8450636",
   "metadata": {},
   "outputs": [
    {
     "data": {
      "text/html": [
       "<pre style=\"white-space:pre;overflow-x:auto;line-height:normal;font-family:Menlo,'DejaVu Sans Mono',consolas,'Courier New',monospace\"><span style=\"color: #008000; text-decoration-color: #008000\">Sign-in successful. 💥</span>\n",
       "</pre>\n"
      ],
      "text/plain": [
       "\u001b[32mSign-in successful. 💥\u001b[0m\n"
      ]
     },
     "metadata": {},
     "output_type": "display_data"
    }
   ],
   "source": [
    "client = autocreate_client(os.environ.get('ME_EMAIL'), os.environ.get('ME_PASSWORD'))"
   ]
  },
  {
   "cell_type": "markdown",
   "id": "1016be00",
   "metadata": {},
   "source": [
    "## Create experiment"
   ]
  },
  {
   "cell_type": "markdown",
   "id": "219d5563",
   "metadata": {},
   "source": [
    "Creating some test directories"
   ]
  },
  {
   "cell_type": "code",
   "execution_count": 22,
   "id": "0f17caaa",
   "metadata": {},
   "outputs": [
    {
     "data": {
      "text/html": [
       "<pre style=\"white-space:pre;overflow-x:auto;line-height:normal;font-family:Menlo,'DejaVu Sans Mono',consolas,'Courier New',monospace\"><span style=\"color: #008000; text-decoration-color: #008000\">Directory successfuly created at</span> <span style=\"color: #008080; text-decoration-color: #008080\">project_a/subproject_a/zzz</span>\n",
       "</pre>\n"
      ],
      "text/plain": [
       "\u001b[32mDirectory successfuly created at\u001b[0m \u001b[36mproject_a/subproject_a/zzz\u001b[0m\n"
      ]
     },
     "metadata": {},
     "output_type": "display_data"
    }
   ],
   "source": [
    "client.create_directory('/project_a/subproject_a/zzz', permission='rw')"
   ]
  },
  {
   "cell_type": "code",
   "execution_count": 23,
   "id": "aa930c7d",
   "metadata": {},
   "outputs": [
    {
     "data": {
      "text/html": [
       "<pre style=\"white-space:pre;overflow-x:auto;line-height:normal;font-family:Menlo,'DejaVu Sans Mono',consolas,'Courier New',monospace\">Permission level 🔑: <span style=\"color: #008000; text-decoration-color: #008000; font-weight: bold\">read</span> <span style=\"color: #0000ff; text-decoration-color: #0000ff; font-weight: bold\">write</span> <span style=\"color: #800080; text-decoration-color: #800080; font-weight: bold\">delete</span>\n",
       "</pre>\n"
      ],
      "text/plain": [
       "Permission level 🔑: \u001b[1;32mread\u001b[0m \u001b[1;38;5;21mwrite\u001b[0m \u001b[1;35mdelete\u001b[0m\n"
      ]
     },
     "metadata": {},
     "output_type": "display_data"
    },
    {
     "data": {
      "text/html": [
       "<pre style=\"white-space:pre;overflow-x:auto;line-height:normal;font-family:Menlo,'DejaVu Sans Mono',consolas,'Courier New',monospace\">└── 📁 <span style=\"color: #800080; text-decoration-color: #800080; font-weight: bold\">project_a</span>\n",
       "</pre>\n"
      ],
      "text/plain": [
       "└── 📁 \u001b[1;35mproject_a\u001b[0m\n"
      ]
     },
     "metadata": {},
     "output_type": "display_data"
    },
    {
     "data": {
      "text/html": [
       "<pre style=\"white-space:pre;overflow-x:auto;line-height:normal;font-family:Menlo,'DejaVu Sans Mono',consolas,'Courier New',monospace\">    └── 📁 <span style=\"color: #800080; text-decoration-color: #800080; font-weight: bold\">subproject_a</span>\n",
       "</pre>\n"
      ],
      "text/plain": [
       "    └── 📁 \u001b[1;35msubproject_a\u001b[0m\n"
      ]
     },
     "metadata": {},
     "output_type": "display_data"
    },
    {
     "data": {
      "text/html": [
       "<pre style=\"white-space:pre;overflow-x:auto;line-height:normal;font-family:Menlo,'DejaVu Sans Mono',consolas,'Courier New',monospace\">        └── 📁 <span style=\"color: #800080; text-decoration-color: #800080; font-weight: bold\">zzz</span>\n",
       "</pre>\n"
      ],
      "text/plain": [
       "        └── 📁 \u001b[1;35mzzz\u001b[0m\n"
      ]
     },
     "metadata": {},
     "output_type": "display_data"
    }
   ],
   "source": [
    "client.display_experiments()"
   ]
  },
  {
   "cell_type": "markdown",
   "id": "6e36c3a5",
   "metadata": {},
   "source": [
    "Creating a 10X Xenium experiment from a spaceranger outputs folder"
   ]
  },
  {
   "cell_type": "code",
   "execution_count": 24,
   "id": "e6b2c859",
   "metadata": {},
   "outputs": [
    {
     "data": {
      "text/plain": [
       "X10XeniumInput(name=None, bbox=[25000, 28000, 25000, 28000], verbose=True, platform=<PlatformEnum.x10_xenium: '10X Xenium'>, cellranger_outs=PosixPath('/Users/erikstorrs/Downloads/Xenium_Prime_Breast_Cancer_FFPE_outs'), to_uint8=True)"
      ]
     },
     "execution_count": 24,
     "metadata": {},
     "output_type": "execute_result"
    }
   ],
   "source": [
    "x_input = X10XeniumInput(\n",
    "    cellranger_outs='/Users/erikstorrs/Downloads/Xenium_Prime_Breast_Cancer_FFPE_outs',\n",
    "    bbox=(25000, 28000, 25000, 28000),\n",
    "    to_uint8=True\n",
    ")\n",
    "x_input"
   ]
  },
  {
   "cell_type": "code",
   "execution_count": 25,
   "id": "561d3a2e",
   "metadata": {},
   "outputs": [
    {
     "data": {
      "text/html": [
       "<pre style=\"white-space:pre;overflow-x:auto;line-height:normal;font-family:Menlo,'DejaVu Sans Mono',consolas,'Courier New',monospace\">Loading xenium experiment from <span style=\"color: #008000; text-decoration-color: #008000\">/Users/erikstorrs/Downloads/Xenium_Prime_Breast_Cancer_FFPE_outs</span>\n",
       "</pre>\n"
      ],
      "text/plain": [
       "Loading xenium experiment from \u001b[32m/Users/erikstorrs/Downloads/\u001b[0m\u001b[32mXenium_Prime_Breast_Cancer_FFPE_outs\u001b[0m\n"
      ]
     },
     "metadata": {},
     "output_type": "display_data"
    },
    {
     "data": {
      "text/html": [
       "<pre style=\"white-space:pre;overflow-x:auto;line-height:normal;font-family:Menlo,'DejaVu Sans Mono',consolas,'Courier New',monospace\">Loading xenium morphology image from \n",
       "<span style=\"color: #008000; text-decoration-color: #008000\">/Users/erikstorrs/Downloads/Xenium_Prime_Breast_Cancer_FFPE_outs/morphology_focus/morphology_focus_0002.ome.tif</span>\n",
       "</pre>\n"
      ],
      "text/plain": [
       "Loading xenium morphology image from \n",
       "\u001b[32m/Users/erikstorrs/Downloads/Xenium_Prime_Breast_Cancer_FFPE_outs/morphology_focus/\u001b[0m\u001b[32mmorphology_focus_0002.ome.tif\u001b[0m\n"
      ]
     },
     "metadata": {},
     "output_type": "display_data"
    },
    {
     "name": "stderr",
     "output_type": "stream",
     "text": [
      "<tifffile.TiffFile 'morphology_focus_0002.ome.tif'> OME series cannot read multi-file pyramids\n"
     ]
    },
    {
     "data": {
      "text/html": [
       "<pre style=\"white-space:pre;overflow-x:auto;line-height:normal;font-family:Menlo,'DejaVu Sans Mono',consolas,'Courier New',monospace\">Loading xenium transcripts from \n",
       "<span style=\"color: #008000; text-decoration-color: #008000\">/Users/erikstorrs/Downloads/Xenium_Prime_Breast_Cancer_FFPE_outs/transcripts.parquet</span>\n",
       "</pre>\n"
      ],
      "text/plain": [
       "Loading xenium transcripts from \n",
       "\u001b[32m/Users/erikstorrs/Downloads/Xenium_Prime_Breast_Cancer_FFPE_outs/\u001b[0m\u001b[32mtranscripts.parquet\u001b[0m\n"
      ]
     },
     "metadata": {},
     "output_type": "display_data"
    },
    {
     "data": {
      "text/html": [
       "<pre style=\"white-space:pre;overflow-x:auto;line-height:normal;font-family:Menlo,'DejaVu Sans Mono',consolas,'Courier New',monospace\">Loading xenium transcript metadata for <span style=\"color: #008000; text-decoration-color: #008000; font-weight: bold\">[</span><span style=\"color: #008000; text-decoration-color: #008000\">'qv'</span><span style=\"color: #008000; text-decoration-color: #008000; font-weight: bold\">]</span>\n",
       "</pre>\n"
      ],
      "text/plain": [
       "Loading xenium transcript metadata for \u001b[1;32m[\u001b[0m\u001b[32m'qv'\u001b[0m\u001b[1;32m]\u001b[0m\n"
      ]
     },
     "metadata": {},
     "output_type": "display_data"
    },
    {
     "name": "stderr",
     "output_type": "stream",
     "text": [
      "/Users/erikstorrs/Documents/viewer/cosilico-py/src/cosilico_py/preprocessing/core/tiling.py:28: RuntimeWarning: divide by zero encountered in remainder\n",
      "  groups = np.arange(num_feats) % group_size  # Vectorized operation\n"
     ]
    },
    {
     "data": {
      "text/html": [
       "<pre style=\"white-space:pre;overflow-x:auto;line-height:normal;font-family:Menlo,'DejaVu Sans Mono',consolas,'Courier New',monospace\">Loading xenium cell boundaries from \n",
       "<span style=\"color: #008000; text-decoration-color: #008000\">/Users/erikstorrs/Downloads/Xenium_Prime_Breast_Cancer_FFPE_outs/cell_boundaries.parquet</span>\n",
       "</pre>\n"
      ],
      "text/plain": [
       "Loading xenium cell boundaries from \n",
       "\u001b[32m/Users/erikstorrs/Downloads/Xenium_Prime_Breast_Cancer_FFPE_outs/\u001b[0m\u001b[32mcell_boundaries.parquet\u001b[0m\n"
      ]
     },
     "metadata": {},
     "output_type": "display_data"
    },
    {
     "data": {
      "text/html": [
       "<pre style=\"white-space:pre;overflow-x:auto;line-height:normal;font-family:Menlo,'DejaVu Sans Mono',consolas,'Courier New',monospace\">Loading xenium cell transcript counts \n",
       "<span style=\"color: #008000; text-decoration-color: #008000\">/Users/erikstorrs/Downloads/Xenium_Prime_Breast_Cancer_FFPE_outs/cell_feature_matrix.h5</span>\n",
       "</pre>\n"
      ],
      "text/plain": [
       "Loading xenium cell transcript counts \n",
       "\u001b[32m/Users/erikstorrs/Downloads/Xenium_Prime_Breast_Cancer_FFPE_outs/\u001b[0m\u001b[32mcell_feature_matrix.h5\u001b[0m\n"
      ]
     },
     "metadata": {},
     "output_type": "display_data"
    }
   ],
   "source": [
    "bundle = client.create_experiment(x_input)"
   ]
  },
  {
   "cell_type": "markdown",
   "id": "929d0bfe",
   "metadata": {},
   "source": [
    "Uploading the experiment"
   ]
  },
  {
   "cell_type": "code",
   "execution_count": 26,
   "id": "2da9c52d",
   "metadata": {},
   "outputs": [
    {
     "data": {
      "text/html": [
       "<pre style=\"white-space:pre;overflow-x:auto;line-height:normal;font-family:Menlo,'DejaVu Sans Mono',consolas,'Courier New',monospace\">Experiment <span style=\"color: #008080; text-decoration-color: #008080\">Xenium Prime + 100g Custom-Breast_Cancer</span> successfuly uploaded 🔬!\n",
       "</pre>\n"
      ],
      "text/plain": [
       "Experiment \u001b[36mXenium Prime + 100g Custom-Breast_Cancer\u001b[0m successfuly uploaded 🔬!\n"
      ]
     },
     "metadata": {},
     "output_type": "display_data"
    }
   ],
   "source": [
    "client.upload_experiment(bundle, '/project_a/subproject_a/zzz')"
   ]
  },
  {
   "cell_type": "code",
   "execution_count": 27,
   "id": "bcd71e16",
   "metadata": {},
   "outputs": [
    {
     "data": {
      "text/html": [
       "<pre style=\"white-space:pre;overflow-x:auto;line-height:normal;font-family:Menlo,'DejaVu Sans Mono',consolas,'Courier New',monospace\">Permission level 🔑: <span style=\"color: #008000; text-decoration-color: #008000; font-weight: bold\">read</span> <span style=\"color: #0000ff; text-decoration-color: #0000ff; font-weight: bold\">write</span> <span style=\"color: #800080; text-decoration-color: #800080; font-weight: bold\">delete</span>\n",
       "</pre>\n"
      ],
      "text/plain": [
       "Permission level 🔑: \u001b[1;32mread\u001b[0m \u001b[1;38;5;21mwrite\u001b[0m \u001b[1;35mdelete\u001b[0m\n"
      ]
     },
     "metadata": {},
     "output_type": "display_data"
    },
    {
     "data": {
      "text/html": [
       "<pre style=\"white-space:pre;overflow-x:auto;line-height:normal;font-family:Menlo,'DejaVu Sans Mono',consolas,'Courier New',monospace\">└── 📁 <span style=\"color: #800080; text-decoration-color: #800080; font-weight: bold\">project_a</span>\n",
       "</pre>\n"
      ],
      "text/plain": [
       "└── 📁 \u001b[1;35mproject_a\u001b[0m\n"
      ]
     },
     "metadata": {},
     "output_type": "display_data"
    },
    {
     "data": {
      "text/html": [
       "<pre style=\"white-space:pre;overflow-x:auto;line-height:normal;font-family:Menlo,'DejaVu Sans Mono',consolas,'Courier New',monospace\">    └── 📁 <span style=\"color: #800080; text-decoration-color: #800080; font-weight: bold\">subproject_a</span>\n",
       "</pre>\n"
      ],
      "text/plain": [
       "    └── 📁 \u001b[1;35msubproject_a\u001b[0m\n"
      ]
     },
     "metadata": {},
     "output_type": "display_data"
    },
    {
     "data": {
      "text/html": [
       "<pre style=\"white-space:pre;overflow-x:auto;line-height:normal;font-family:Menlo,'DejaVu Sans Mono',consolas,'Courier New',monospace\">        └── 📁 <span style=\"color: #800080; text-decoration-color: #800080; font-weight: bold\">zzz</span>\n",
       "</pre>\n"
      ],
      "text/plain": [
       "        └── 📁 \u001b[1;35mzzz\u001b[0m\n"
      ]
     },
     "metadata": {},
     "output_type": "display_data"
    },
    {
     "data": {
      "text/html": [
       "<pre style=\"white-space:pre;overflow-x:auto;line-height:normal;font-family:Menlo,'DejaVu Sans Mono',consolas,'Courier New',monospace\">            └── 🔬 <span style=\"color: #800080; text-decoration-color: #800080; font-weight: bold\">Xenium Prime + 100g Custom-Breast_Cancer</span>\n",
       "</pre>\n"
      ],
      "text/plain": [
       "            └── 🔬 \u001b[1;35mXenium Prime + 100g Custom-Breast_Cancer\u001b[0m\n"
      ]
     },
     "metadata": {},
     "output_type": "display_data"
    }
   ],
   "source": [
    "client.display_experiments()"
   ]
  },
  {
   "cell_type": "markdown",
   "id": "27d510e0",
   "metadata": {},
   "source": [
    "## Downloading and uploading additional data"
   ]
  },
  {
   "cell_type": "markdown",
   "id": "a5195d49",
   "metadata": {},
   "source": [
    "We can also download the experiment and extract the image and layer data"
   ]
  },
  {
   "cell_type": "code",
   "execution_count": 29,
   "id": "0753b5fd",
   "metadata": {},
   "outputs": [],
   "source": [
    "experiment = client.get_experiment('/project_a/subproject_a/zzz/Xenium Prime + 100g Custom-Breast_Cancer')"
   ]
  },
  {
   "cell_type": "code",
   "execution_count": 30,
   "id": "b1453c8b",
   "metadata": {},
   "outputs": [
    {
     "data": {
      "text/plain": [
       "[Image(id='d971a1e5-d441-4a9e-8e05-79da74b4e3cc', version='v0.0.1', experiment_id='429ed69f-28e9-4663-8e71-222a7fbc7533', name='Xenium Morphology', metadata=OME(\n",
       "    plates=[{'id': 'Plate:0', 'well_origin_x': 0.0, 'well_origin_x_unit': <UnitsLength.MICROMETER: 'µm'>, 'well_origin_y': 0.0, 'well_origin_y_unit': <UnitsLength.MICROMETER: 'µm'>}],\n",
       "    instruments=[{'microscope': {'manufacturer': '10x Genomics', 'model': 'Xenium', 'kind': 'microscope'}, 'id': 'Instrument:0'}],\n",
       "    images=[<1 field_type>],\n",
       "    structured_annotations={'map_annotations': [{'id': 'Annotation:0', 'value': {'Purpose': 'Nuclear'}, 'kind': 'mapannotation'}, {'id': 'Annotation:1', 'value': {'Purpose': 'Boundary'}, 'kind': 'mapannotation'}, {'id': 'Annotation:2', 'value': {'Purpose': 'Interior - RNA'}, 'kind': 'mapannotation'}, {'id': 'Annotation:3', 'value': {'Purpose': 'Interior - Protein'}, 'kind': 'mapannotation'}]},\n",
       "    uuid='urn:uuid:fddd3688-7c75-11ef-a04f-067698406db1',\n",
       " ), tags=[], local_path='/Users/erikstorrs/Downloads/temp_cache/d971a1e5d4414a9e8e0579da74b4e3cc.zarr.zip', path='d971a1e5d4414a9e8e0579da74b4e3cc.zarr.zip')]"
      ]
     },
     "execution_count": 30,
     "metadata": {},
     "output_type": "execute_result"
    }
   ],
   "source": [
    "experiment.images ## The IHC image"
   ]
  },
  {
   "cell_type": "markdown",
   "id": "a261c406",
   "metadata": {},
   "source": [
    "Reading the image as a dask array."
   ]
  },
  {
   "cell_type": "code",
   "execution_count": 33,
   "id": "bb1e56ec",
   "metadata": {},
   "outputs": [
    {
     "data": {
      "text/html": [
       "<table>\n",
       "    <tr>\n",
       "        <td>\n",
       "            <table style=\"border-collapse: collapse;\">\n",
       "                <thead>\n",
       "                    <tr>\n",
       "                        <td> </td>\n",
       "                        <th> Array </th>\n",
       "                        <th> Chunk </th>\n",
       "                    </tr>\n",
       "                </thead>\n",
       "                <tbody>\n",
       "                    \n",
       "                    <tr>\n",
       "                        <th> Bytes </th>\n",
       "                        <td> 36.00 MiB </td>\n",
       "                        <td> 256.00 kiB </td>\n",
       "                    </tr>\n",
       "                    \n",
       "                    <tr>\n",
       "                        <th> Shape </th>\n",
       "                        <td> (3072, 3072, 1, 4, 1) </td>\n",
       "                        <td> (512, 512, 1, 1, 1) </td>\n",
       "                    </tr>\n",
       "                    <tr>\n",
       "                        <th> Dask graph </th>\n",
       "                        <td colspan=\"2\"> 144 chunks in 4 graph layers </td>\n",
       "                    </tr>\n",
       "                    <tr>\n",
       "                        <th> Data type </th>\n",
       "                        <td colspan=\"2\"> uint8 numpy.ndarray </td>\n",
       "                    </tr>\n",
       "                </tbody>\n",
       "            </table>\n",
       "        </td>\n",
       "        <td>\n",
       "        <svg width=\"470\" height=\"170\" style=\"stroke:rgb(0,0,0);stroke-width:1\" >\n",
       "\n",
       "  <!-- Horizontal lines -->\n",
       "  <line x1=\"0\" y1=\"0\" x2=\"120\" y2=\"0\" style=\"stroke-width:2\" />\n",
       "  <line x1=\"0\" y1=\"20\" x2=\"120\" y2=\"20\" />\n",
       "  <line x1=\"0\" y1=\"40\" x2=\"120\" y2=\"40\" />\n",
       "  <line x1=\"0\" y1=\"60\" x2=\"120\" y2=\"60\" />\n",
       "  <line x1=\"0\" y1=\"80\" x2=\"120\" y2=\"80\" />\n",
       "  <line x1=\"0\" y1=\"100\" x2=\"120\" y2=\"100\" />\n",
       "  <line x1=\"0\" y1=\"120\" x2=\"120\" y2=\"120\" style=\"stroke-width:2\" />\n",
       "\n",
       "  <!-- Vertical lines -->\n",
       "  <line x1=\"0\" y1=\"0\" x2=\"0\" y2=\"120\" style=\"stroke-width:2\" />\n",
       "  <line x1=\"20\" y1=\"0\" x2=\"20\" y2=\"120\" />\n",
       "  <line x1=\"40\" y1=\"0\" x2=\"40\" y2=\"120\" />\n",
       "  <line x1=\"60\" y1=\"0\" x2=\"60\" y2=\"120\" />\n",
       "  <line x1=\"80\" y1=\"0\" x2=\"80\" y2=\"120\" />\n",
       "  <line x1=\"100\" y1=\"0\" x2=\"100\" y2=\"120\" />\n",
       "  <line x1=\"120\" y1=\"0\" x2=\"120\" y2=\"120\" style=\"stroke-width:2\" />\n",
       "\n",
       "  <!-- Colored Rectangle -->\n",
       "  <polygon points=\"0.0,0.0 120.0,0.0 120.0,120.0 0.0,120.0\" style=\"fill:#ECB172A0;stroke-width:0\"/>\n",
       "\n",
       "  <!-- Text -->\n",
       "  <text x=\"60.000000\" y=\"140.000000\" font-size=\"1.0rem\" font-weight=\"100\" text-anchor=\"middle\" >3072</text>\n",
       "  <text x=\"140.000000\" y=\"60.000000\" font-size=\"1.0rem\" font-weight=\"100\" text-anchor=\"middle\" transform=\"rotate(-90,140.000000,60.000000)\">3072</text>\n",
       "\n",
       "\n",
       "  <!-- Horizontal lines -->\n",
       "  <line x1=\"190\" y1=\"0\" x2=\"204\" y2=\"14\" style=\"stroke-width:2\" />\n",
       "  <line x1=\"190\" y1=\"6\" x2=\"204\" y2=\"21\" />\n",
       "  <line x1=\"190\" y1=\"12\" x2=\"204\" y2=\"27\" />\n",
       "  <line x1=\"190\" y1=\"19\" x2=\"204\" y2=\"34\" />\n",
       "  <line x1=\"190\" y1=\"25\" x2=\"204\" y2=\"40\" style=\"stroke-width:2\" />\n",
       "\n",
       "  <!-- Vertical lines -->\n",
       "  <line x1=\"190\" y1=\"0\" x2=\"190\" y2=\"25\" style=\"stroke-width:2\" />\n",
       "  <line x1=\"204\" y1=\"14\" x2=\"204\" y2=\"40\" style=\"stroke-width:2\" />\n",
       "\n",
       "  <!-- Colored Rectangle -->\n",
       "  <polygon points=\"190.0,0.0 204.9485979497544,14.948597949754403 204.9485979497544,40.36121446433689 190.0,25.412616514582485\" style=\"fill:#ECB172A0;stroke-width:0\"/>\n",
       "\n",
       "  <!-- Horizontal lines -->\n",
       "  <line x1=\"190\" y1=\"0\" x2=\"215\" y2=\"0\" style=\"stroke-width:2\" />\n",
       "  <line x1=\"204\" y1=\"14\" x2=\"230\" y2=\"14\" style=\"stroke-width:2\" />\n",
       "\n",
       "  <!-- Vertical lines -->\n",
       "  <line x1=\"190\" y1=\"0\" x2=\"204\" y2=\"14\" style=\"stroke-width:2\" />\n",
       "  <line x1=\"215\" y1=\"0\" x2=\"230\" y2=\"14\" style=\"stroke-width:2\" />\n",
       "\n",
       "  <!-- Colored Rectangle -->\n",
       "  <polygon points=\"190.0,0.0 215.41261651458248,0.0 230.36121446433688,14.948597949754403 204.9485979497544,14.948597949754403\" style=\"fill:#ECB172A0;stroke-width:0\"/>\n",
       "\n",
       "  <!-- Horizontal lines -->\n",
       "  <line x1=\"204\" y1=\"14\" x2=\"230\" y2=\"14\" style=\"stroke-width:2\" />\n",
       "  <line x1=\"204\" y1=\"21\" x2=\"230\" y2=\"21\" />\n",
       "  <line x1=\"204\" y1=\"27\" x2=\"230\" y2=\"27\" />\n",
       "  <line x1=\"204\" y1=\"34\" x2=\"230\" y2=\"34\" />\n",
       "  <line x1=\"204\" y1=\"40\" x2=\"230\" y2=\"40\" style=\"stroke-width:2\" />\n",
       "\n",
       "  <!-- Vertical lines -->\n",
       "  <line x1=\"204\" y1=\"14\" x2=\"204\" y2=\"40\" style=\"stroke-width:2\" />\n",
       "  <line x1=\"230\" y1=\"14\" x2=\"230\" y2=\"40\" style=\"stroke-width:2\" />\n",
       "\n",
       "  <!-- Colored Rectangle -->\n",
       "  <polygon points=\"204.9485979497544,14.948597949754403 230.36121446433688,14.948597949754403 230.36121446433688,40.36121446433689 204.9485979497544,40.36121446433689\" style=\"fill:#ECB172A0;stroke-width:0\"/>\n",
       "\n",
       "  <!-- Text -->\n",
       "  <text x=\"217.654906\" y=\"60.361214\" font-size=\"1.0rem\" font-weight=\"100\" text-anchor=\"middle\" >1</text>\n",
       "  <text x=\"250.361214\" y=\"27.654906\" font-size=\"1.0rem\" font-weight=\"100\" text-anchor=\"middle\" transform=\"rotate(0,250.361214,27.654906)\">4</text>\n",
       "  <text x=\"187.474299\" y=\"52.886915\" font-size=\"1.0rem\" font-weight=\"100\" text-anchor=\"middle\" transform=\"rotate(45,187.474299,52.886915)\">1</text>\n",
       "</svg>\n",
       "        </td>\n",
       "    </tr>\n",
       "</table>"
      ],
      "text/plain": [
       "dask.array<reshape, shape=(3072, 3072, 1, 4, 1), dtype=uint8, chunksize=(512, 512, 1, 1, 1), chunktype=numpy.ndarray>"
      ]
     },
     "execution_count": 33,
     "metadata": {},
     "output_type": "execute_result"
    }
   ],
   "source": [
    "image = experiment.images[0]\n",
    "arr = experiment.generate_image_data(image) # image is of shape XYZCT\n",
    "arr"
   ]
  },
  {
   "cell_type": "markdown",
   "id": "fa99351b",
   "metadata": {},
   "source": [
    "We can also extract data of a given layer"
   ]
  },
  {
   "cell_type": "code",
   "execution_count": 38,
   "id": "b8df345c",
   "metadata": {},
   "outputs": [
    {
     "data": {
      "text/html": [
       "<div>\n",
       "<style scoped>\n",
       "    .dataframe tbody tr th:only-of-type {\n",
       "        vertical-align: middle;\n",
       "    }\n",
       "\n",
       "    .dataframe tbody tr th {\n",
       "        vertical-align: top;\n",
       "    }\n",
       "\n",
       "    .dataframe thead th {\n",
       "        text-align: right;\n",
       "    }\n",
       "</style>\n",
       "<table border=\"1\" class=\"dataframe\">\n",
       "  <thead>\n",
       "    <tr style=\"text-align: right;\">\n",
       "      <th></th>\n",
       "      <th>x_location</th>\n",
       "      <th>y_location</th>\n",
       "      <th>feature_name</th>\n",
       "      <th>counts</th>\n",
       "      <th>QV</th>\n",
       "    </tr>\n",
       "    <tr>\n",
       "      <th>id</th>\n",
       "      <th></th>\n",
       "      <th></th>\n",
       "      <th></th>\n",
       "      <th></th>\n",
       "      <th></th>\n",
       "    </tr>\n",
       "  </thead>\n",
       "  <tbody>\n",
       "    <tr>\n",
       "      <th>282406984613900</th>\n",
       "      <td>681.101562</td>\n",
       "      <td>2080.072266</td>\n",
       "      <td>STIM1</td>\n",
       "      <td>1.0</td>\n",
       "      <td>31.00</td>\n",
       "    </tr>\n",
       "    <tr>\n",
       "      <th>282406984613956</th>\n",
       "      <td>684.410156</td>\n",
       "      <td>1912.500000</td>\n",
       "      <td>RARA</td>\n",
       "      <td>1.0</td>\n",
       "      <td>31.25</td>\n",
       "    </tr>\n",
       "    <tr>\n",
       "      <th>282406984613958</th>\n",
       "      <td>687.867188</td>\n",
       "      <td>2239.851562</td>\n",
       "      <td>HUWE1</td>\n",
       "      <td>1.0</td>\n",
       "      <td>40.00</td>\n",
       "    </tr>\n",
       "    <tr>\n",
       "      <th>282406984613969</th>\n",
       "      <td>678.750000</td>\n",
       "      <td>528.013672</td>\n",
       "      <td>CD300C</td>\n",
       "      <td>1.0</td>\n",
       "      <td>40.00</td>\n",
       "    </tr>\n",
       "    <tr>\n",
       "      <th>282406984613979</th>\n",
       "      <td>688.013672</td>\n",
       "      <td>2141.910156</td>\n",
       "      <td>PAK1IP1</td>\n",
       "      <td>1.0</td>\n",
       "      <td>34.75</td>\n",
       "    </tr>\n",
       "    <tr>\n",
       "      <th>...</th>\n",
       "      <td>...</td>\n",
       "      <td>...</td>\n",
       "      <td>...</td>\n",
       "      <td>...</td>\n",
       "      <td>...</td>\n",
       "    </tr>\n",
       "    <tr>\n",
       "      <th>282548719750377</th>\n",
       "      <td>720.146484</td>\n",
       "      <td>2405.146484</td>\n",
       "      <td>SOD1</td>\n",
       "      <td>1.0</td>\n",
       "      <td>40.00</td>\n",
       "    </tr>\n",
       "    <tr>\n",
       "      <th>282548719750387</th>\n",
       "      <td>728.529297</td>\n",
       "      <td>2715.367188</td>\n",
       "      <td>FLII</td>\n",
       "      <td>1.0</td>\n",
       "      <td>40.00</td>\n",
       "    </tr>\n",
       "    <tr>\n",
       "      <th>282548719750395</th>\n",
       "      <td>731.029297</td>\n",
       "      <td>2417.205078</td>\n",
       "      <td>TMEM106B</td>\n",
       "      <td>1.0</td>\n",
       "      <td>40.00</td>\n",
       "    </tr>\n",
       "    <tr>\n",
       "      <th>282548719750398</th>\n",
       "      <td>733.087891</td>\n",
       "      <td>2449.410156</td>\n",
       "      <td>METTL16</td>\n",
       "      <td>1.0</td>\n",
       "      <td>40.00</td>\n",
       "    </tr>\n",
       "    <tr>\n",
       "      <th>282548719750408</th>\n",
       "      <td>743.970703</td>\n",
       "      <td>2433.529297</td>\n",
       "      <td>STAT2</td>\n",
       "      <td>1.0</td>\n",
       "      <td>40.00</td>\n",
       "    </tr>\n",
       "  </tbody>\n",
       "</table>\n",
       "<p>902513 rows × 5 columns</p>\n",
       "</div>"
      ],
      "text/plain": [
       "                 x_location   y_location feature_name  counts     QV\n",
       "id                                                                  \n",
       "282406984613900  681.101562  2080.072266        STIM1     1.0  31.00\n",
       "282406984613956  684.410156  1912.500000         RARA     1.0  31.25\n",
       "282406984613958  687.867188  2239.851562        HUWE1     1.0  40.00\n",
       "282406984613969  678.750000   528.013672       CD300C     1.0  40.00\n",
       "282406984613979  688.013672  2141.910156      PAK1IP1     1.0  34.75\n",
       "...                     ...          ...          ...     ...    ...\n",
       "282548719750377  720.146484  2405.146484         SOD1     1.0  40.00\n",
       "282548719750387  728.529297  2715.367188         FLII     1.0  40.00\n",
       "282548719750395  731.029297  2417.205078     TMEM106B     1.0  40.00\n",
       "282548719750398  733.087891  2449.410156      METTL16     1.0  40.00\n",
       "282548719750408  743.970703  2433.529297        STAT2     1.0  40.00\n",
       "\n",
       "[902513 rows x 5 columns]"
      ]
     },
     "execution_count": 38,
     "metadata": {},
     "output_type": "execute_result"
    }
   ],
   "source": [
    "layer = experiment.get_layer('Transcripts')\n",
    "df = experiment.generate_layer_data(layer)\n",
    "df"
   ]
  },
  {
   "cell_type": "markdown",
   "id": "1aebbb43",
   "metadata": {},
   "source": [
    "For grouped layers, we can generate an AnnData object to store the sparse matrix-based data"
   ]
  },
  {
   "cell_type": "code",
   "execution_count": 39,
   "id": "401d8812",
   "metadata": {},
   "outputs": [
    {
     "name": "stderr",
     "output_type": "stream",
     "text": [
      "/Users/erikstorrs/Documents/viewer/cosilico-py/src/cosilico_py/client/experiment.py:206: ImplicitModificationWarning: Setting element `.obsm['spatial']` of view, initializing view as actual.\n",
      "  adata.obsm['spatial'] = df[['x_location', 'y_location']].values\n"
     ]
    },
    {
     "data": {
      "text/plain": [
       "View of AnnData object with n_obs × n_vars = 3100 × 5099\n",
       "    obsm: 'spatial'"
      ]
     },
     "execution_count": 39,
     "metadata": {},
     "output_type": "execute_result"
    }
   ],
   "source": [
    "layer = experiment.get_layer('Cells')\n",
    "adata = experiment.generate_layer_data(layer, experiment.get_layer_metadata(layer, metadata_name='Transcript Counts'))\n",
    "adata"
   ]
  },
  {
   "cell_type": "markdown",
   "id": "dd336beb",
   "metadata": {},
   "source": [
    "Here we add new K means clusters to the cell layer to demonstrate uploading categorical data"
   ]
  },
  {
   "cell_type": "code",
   "execution_count": 40,
   "id": "1d3f86a2",
   "metadata": {},
   "outputs": [
    {
     "name": "stderr",
     "output_type": "stream",
     "text": [
      "/var/folders/l4/tr_3w7sx31z58xhsnb0_07hw0000gr/T/ipykernel_52975/2572132737.py:9: ImplicitModificationWarning: Trying to modify attribute `.obs` of view, initializing view as actual.\n",
      "  adata.obs['Kmeans N=10'] = [f'cluster {x}' for x in clusters]\n"
     ]
    },
    {
     "data": {
      "text/html": [
       "<div>\n",
       "<style scoped>\n",
       "    .dataframe tbody tr th:only-of-type {\n",
       "        vertical-align: middle;\n",
       "    }\n",
       "\n",
       "    .dataframe tbody tr th {\n",
       "        vertical-align: top;\n",
       "    }\n",
       "\n",
       "    .dataframe thead th {\n",
       "        text-align: right;\n",
       "    }\n",
       "</style>\n",
       "<table border=\"1\" class=\"dataframe\">\n",
       "  <thead>\n",
       "    <tr style=\"text-align: right;\">\n",
       "      <th></th>\n",
       "      <th>Kmeans N=10</th>\n",
       "    </tr>\n",
       "  </thead>\n",
       "  <tbody>\n",
       "    <tr>\n",
       "      <th>bbeodhla-1</th>\n",
       "      <td>cluster 9</td>\n",
       "    </tr>\n",
       "    <tr>\n",
       "      <th>bbeoeddl-1</th>\n",
       "      <td>cluster 9</td>\n",
       "    </tr>\n",
       "    <tr>\n",
       "      <th>bbeognab-1</th>\n",
       "      <td>cluster 9</td>\n",
       "    </tr>\n",
       "    <tr>\n",
       "      <th>bbeognch-1</th>\n",
       "      <td>cluster 9</td>\n",
       "    </tr>\n",
       "    <tr>\n",
       "      <th>bbeoickk-1</th>\n",
       "      <td>cluster 9</td>\n",
       "    </tr>\n",
       "    <tr>\n",
       "      <th>...</th>\n",
       "      <td>...</td>\n",
       "    </tr>\n",
       "    <tr>\n",
       "      <th>oanleihg-1</th>\n",
       "      <td>cluster 6</td>\n",
       "    </tr>\n",
       "    <tr>\n",
       "      <th>oanlfaan-1</th>\n",
       "      <td>cluster 0</td>\n",
       "    </tr>\n",
       "    <tr>\n",
       "      <th>oanmapng-1</th>\n",
       "      <td>cluster 0</td>\n",
       "    </tr>\n",
       "    <tr>\n",
       "      <th>oanmbbjc-1</th>\n",
       "      <td>cluster 6</td>\n",
       "    </tr>\n",
       "    <tr>\n",
       "      <th>obghcbkc-1</th>\n",
       "      <td>cluster 0</td>\n",
       "    </tr>\n",
       "  </tbody>\n",
       "</table>\n",
       "<p>3100 rows × 1 columns</p>\n",
       "</div>"
      ],
      "text/plain": [
       "           Kmeans N=10\n",
       "bbeodhla-1   cluster 9\n",
       "bbeoeddl-1   cluster 9\n",
       "bbeognab-1   cluster 9\n",
       "bbeognch-1   cluster 9\n",
       "bbeoickk-1   cluster 9\n",
       "...                ...\n",
       "oanleihg-1   cluster 6\n",
       "oanlfaan-1   cluster 0\n",
       "oanmapng-1   cluster 0\n",
       "oanmbbjc-1   cluster 6\n",
       "obghcbkc-1   cluster 0\n",
       "\n",
       "[3100 rows x 1 columns]"
      ]
     },
     "execution_count": 40,
     "metadata": {},
     "output_type": "execute_result"
    }
   ],
   "source": [
    "a = adata.copy()\n",
    "sc.pp.normalize_total(a)\n",
    "sc.pp.log1p(a)\n",
    "sc.pp.pca(a)\n",
    "\n",
    "n_clusters = 10\n",
    "x = KMeans(n_clusters=n_clusters).fit_transform(a.obsm['X_pca'])\n",
    "clusters = x.argmax(1)\n",
    "adata.obs['Kmeans N=10'] = [f'cluster {x}' for x in clusters]\n",
    "adata.obs"
   ]
  },
  {
   "cell_type": "code",
   "execution_count": 41,
   "id": "5e6b52a2",
   "metadata": {},
   "outputs": [
    {
     "data": {
      "text/plain": [
       "LayerMetadata(id='55a6d06f65bf45e3a4577308da73066c', version='v0.0.1', layer_id='6856bd60-108c-4a8d-b439-46d85f089aaf', name='Kmeans N=10', metadata_type=<MetadataTypeEnum.categorical: 'categorical'>, is_sparse=False, fields=['cluster 0', 'cluster 1', 'cluster 2', 'cluster 3', 'cluster 5', 'cluster 6', 'cluster 7', 'cluster 8', 'cluster 9'], metadata={}, tags=[], local_path=PosixPath('/Users/erikstorrs/Downloads/temp_cache/55a6d06f65bf45e3a4577308da73066c.zarr.zip'), path='55a6d06f65bf45e3a4577308da73066c.zarr.zip')"
      ]
     },
     "execution_count": 41,
     "metadata": {},
     "output_type": "execute_result"
    }
   ],
   "source": [
    "experiment.create_categorical_layer_metadata('Kmeans N=10', adata.obs['Kmeans N=10'], layer)"
   ]
  },
  {
   "cell_type": "markdown",
   "id": "28241e4c",
   "metadata": {},
   "source": [
    "Here we add transcript counts for each gene to the cell layer to demonstrate uploading continuous data"
   ]
  },
  {
   "cell_type": "code",
   "execution_count": 43,
   "id": "8502ed3e",
   "metadata": {},
   "outputs": [
    {
     "name": "stderr",
     "output_type": "stream",
     "text": [
      "/Users/erikstorrs/Documents/viewer/cosilico-py/src/cosilico_py/client/experiment.py:206: ImplicitModificationWarning: Setting element `.obsm['spatial']` of view, initializing view as actual.\n",
      "  adata.obsm['spatial'] = df[['x_location', 'y_location']].values\n"
     ]
    },
    {
     "data": {
      "text/plain": [
       "AnnData object with n_obs × n_vars = 3100 × 5099\n",
       "    obs: 'Kmeans N=10'\n",
       "    obsm: 'spatial'"
      ]
     },
     "execution_count": 43,
     "metadata": {},
     "output_type": "execute_result"
    }
   ],
   "source": [
    "layer = experiment.get_layer('Cells')\n",
    "adata = experiment.generate_layer_data(layer, experiment.get_layer_metadata(layer, metadata_name='Transcript Counts'))\n",
    "adata"
   ]
  },
  {
   "cell_type": "code",
   "execution_count": 45,
   "id": "8c3a8a27",
   "metadata": {},
   "outputs": [
    {
     "data": {
      "text/html": [
       "<div>\n",
       "<style scoped>\n",
       "    .dataframe tbody tr th:only-of-type {\n",
       "        vertical-align: middle;\n",
       "    }\n",
       "\n",
       "    .dataframe tbody tr th {\n",
       "        vertical-align: top;\n",
       "    }\n",
       "\n",
       "    .dataframe thead th {\n",
       "        text-align: right;\n",
       "    }\n",
       "</style>\n",
       "<table border=\"1\" class=\"dataframe\">\n",
       "  <thead>\n",
       "    <tr style=\"text-align: right;\">\n",
       "      <th></th>\n",
       "      <th>PCA 0</th>\n",
       "      <th>PCA 1</th>\n",
       "      <th>PCA 2</th>\n",
       "      <th>PCA 3</th>\n",
       "      <th>PCA 4</th>\n",
       "      <th>PCA 5</th>\n",
       "      <th>PCA 6</th>\n",
       "      <th>PCA 7</th>\n",
       "      <th>PCA 8</th>\n",
       "      <th>PCA 9</th>\n",
       "    </tr>\n",
       "  </thead>\n",
       "  <tbody>\n",
       "    <tr>\n",
       "      <th>bbeodhla-1</th>\n",
       "      <td>1.884373</td>\n",
       "      <td>0.019806</td>\n",
       "      <td>-0.535612</td>\n",
       "      <td>-0.923417</td>\n",
       "      <td>0.284337</td>\n",
       "      <td>0.008906</td>\n",
       "      <td>-0.136600</td>\n",
       "      <td>-0.334375</td>\n",
       "      <td>-0.140023</td>\n",
       "      <td>0.341846</td>\n",
       "    </tr>\n",
       "    <tr>\n",
       "      <th>bbeoeddl-1</th>\n",
       "      <td>1.265127</td>\n",
       "      <td>-0.323408</td>\n",
       "      <td>-0.310701</td>\n",
       "      <td>0.686867</td>\n",
       "      <td>0.036360</td>\n",
       "      <td>-0.192906</td>\n",
       "      <td>-0.659026</td>\n",
       "      <td>-0.315289</td>\n",
       "      <td>-0.464223</td>\n",
       "      <td>0.211977</td>\n",
       "    </tr>\n",
       "    <tr>\n",
       "      <th>bbeognab-1</th>\n",
       "      <td>2.074790</td>\n",
       "      <td>0.245756</td>\n",
       "      <td>0.023433</td>\n",
       "      <td>-0.204142</td>\n",
       "      <td>0.301107</td>\n",
       "      <td>-0.060960</td>\n",
       "      <td>0.208282</td>\n",
       "      <td>-0.406961</td>\n",
       "      <td>0.383027</td>\n",
       "      <td>-0.363321</td>\n",
       "    </tr>\n",
       "    <tr>\n",
       "      <th>bbeognch-1</th>\n",
       "      <td>0.513875</td>\n",
       "      <td>0.093370</td>\n",
       "      <td>0.638010</td>\n",
       "      <td>-1.171560</td>\n",
       "      <td>-2.071590</td>\n",
       "      <td>-1.096752</td>\n",
       "      <td>1.004826</td>\n",
       "      <td>-0.249507</td>\n",
       "      <td>1.815500</td>\n",
       "      <td>0.557605</td>\n",
       "    </tr>\n",
       "    <tr>\n",
       "      <th>bbeoickk-1</th>\n",
       "      <td>1.887420</td>\n",
       "      <td>-0.376451</td>\n",
       "      <td>-0.484315</td>\n",
       "      <td>-0.783921</td>\n",
       "      <td>0.303812</td>\n",
       "      <td>0.477196</td>\n",
       "      <td>0.031322</td>\n",
       "      <td>-0.487668</td>\n",
       "      <td>-0.020544</td>\n",
       "      <td>-0.508676</td>\n",
       "    </tr>\n",
       "    <tr>\n",
       "      <th>...</th>\n",
       "      <td>...</td>\n",
       "      <td>...</td>\n",
       "      <td>...</td>\n",
       "      <td>...</td>\n",
       "      <td>...</td>\n",
       "      <td>...</td>\n",
       "      <td>...</td>\n",
       "      <td>...</td>\n",
       "      <td>...</td>\n",
       "      <td>...</td>\n",
       "    </tr>\n",
       "    <tr>\n",
       "      <th>oanleihg-1</th>\n",
       "      <td>-3.184845</td>\n",
       "      <td>-0.481612</td>\n",
       "      <td>0.098723</td>\n",
       "      <td>-1.368790</td>\n",
       "      <td>2.467744</td>\n",
       "      <td>-1.680421</td>\n",
       "      <td>0.998374</td>\n",
       "      <td>0.083817</td>\n",
       "      <td>-0.362879</td>\n",
       "      <td>-0.378304</td>\n",
       "    </tr>\n",
       "    <tr>\n",
       "      <th>oanlfaan-1</th>\n",
       "      <td>-3.321548</td>\n",
       "      <td>-0.629462</td>\n",
       "      <td>0.137387</td>\n",
       "      <td>-1.046022</td>\n",
       "      <td>0.259058</td>\n",
       "      <td>-0.435915</td>\n",
       "      <td>0.135748</td>\n",
       "      <td>0.049865</td>\n",
       "      <td>-0.061714</td>\n",
       "      <td>-0.677603</td>\n",
       "    </tr>\n",
       "    <tr>\n",
       "      <th>oanmapng-1</th>\n",
       "      <td>-1.624093</td>\n",
       "      <td>-1.117543</td>\n",
       "      <td>-0.568650</td>\n",
       "      <td>-1.149179</td>\n",
       "      <td>-1.911695</td>\n",
       "      <td>-0.569102</td>\n",
       "      <td>0.430738</td>\n",
       "      <td>-0.210436</td>\n",
       "      <td>-0.385713</td>\n",
       "      <td>0.736338</td>\n",
       "    </tr>\n",
       "    <tr>\n",
       "      <th>oanmbbjc-1</th>\n",
       "      <td>-2.271970</td>\n",
       "      <td>-0.928231</td>\n",
       "      <td>-0.115664</td>\n",
       "      <td>-1.440908</td>\n",
       "      <td>-1.031893</td>\n",
       "      <td>-0.359986</td>\n",
       "      <td>-0.584330</td>\n",
       "      <td>-0.560303</td>\n",
       "      <td>-0.427061</td>\n",
       "      <td>-0.787605</td>\n",
       "    </tr>\n",
       "    <tr>\n",
       "      <th>obghcbkc-1</th>\n",
       "      <td>-1.359526</td>\n",
       "      <td>-0.749840</td>\n",
       "      <td>0.926094</td>\n",
       "      <td>0.849647</td>\n",
       "      <td>-0.863734</td>\n",
       "      <td>-0.058270</td>\n",
       "      <td>0.321772</td>\n",
       "      <td>-0.667031</td>\n",
       "      <td>0.843223</td>\n",
       "      <td>-1.005442</td>\n",
       "    </tr>\n",
       "  </tbody>\n",
       "</table>\n",
       "<p>3100 rows × 10 columns</p>\n",
       "</div>"
      ],
      "text/plain": [
       "               PCA 0     PCA 1     PCA 2     PCA 3     PCA 4     PCA 5  \\\n",
       "bbeodhla-1  1.884373  0.019806 -0.535612 -0.923417  0.284337  0.008906   \n",
       "bbeoeddl-1  1.265127 -0.323408 -0.310701  0.686867  0.036360 -0.192906   \n",
       "bbeognab-1  2.074790  0.245756  0.023433 -0.204142  0.301107 -0.060960   \n",
       "bbeognch-1  0.513875  0.093370  0.638010 -1.171560 -2.071590 -1.096752   \n",
       "bbeoickk-1  1.887420 -0.376451 -0.484315 -0.783921  0.303812  0.477196   \n",
       "...              ...       ...       ...       ...       ...       ...   \n",
       "oanleihg-1 -3.184845 -0.481612  0.098723 -1.368790  2.467744 -1.680421   \n",
       "oanlfaan-1 -3.321548 -0.629462  0.137387 -1.046022  0.259058 -0.435915   \n",
       "oanmapng-1 -1.624093 -1.117543 -0.568650 -1.149179 -1.911695 -0.569102   \n",
       "oanmbbjc-1 -2.271970 -0.928231 -0.115664 -1.440908 -1.031893 -0.359986   \n",
       "obghcbkc-1 -1.359526 -0.749840  0.926094  0.849647 -0.863734 -0.058270   \n",
       "\n",
       "               PCA 6     PCA 7     PCA 8     PCA 9  \n",
       "bbeodhla-1 -0.136600 -0.334375 -0.140023  0.341846  \n",
       "bbeoeddl-1 -0.659026 -0.315289 -0.464223  0.211977  \n",
       "bbeognab-1  0.208282 -0.406961  0.383027 -0.363321  \n",
       "bbeognch-1  1.004826 -0.249507  1.815500  0.557605  \n",
       "bbeoickk-1  0.031322 -0.487668 -0.020544 -0.508676  \n",
       "...              ...       ...       ...       ...  \n",
       "oanleihg-1  0.998374  0.083817 -0.362879 -0.378304  \n",
       "oanlfaan-1  0.135748  0.049865 -0.061714 -0.677603  \n",
       "oanmapng-1  0.430738 -0.210436 -0.385713  0.736338  \n",
       "oanmbbjc-1 -0.584330 -0.560303 -0.427061 -0.787605  \n",
       "obghcbkc-1  0.321772 -0.667031  0.843223 -1.005442  \n",
       "\n",
       "[3100 rows x 10 columns]"
      ]
     },
     "execution_count": 45,
     "metadata": {},
     "output_type": "execute_result"
    }
   ],
   "source": [
    "pca_df = pd.DataFrame(a.obsm['X_pca'][:, :10], columns=[f'PCA {i}' for i in range(10)], index=a.obs.index)\n",
    "pca_df"
   ]
  },
  {
   "cell_type": "code",
   "execution_count": 46,
   "id": "538a2f12",
   "metadata": {},
   "outputs": [
    {
     "data": {
      "text/plain": [
       "LayerMetadata(id='ea3f6cff73e44d37b03153f08985212c', version='v0.0.1', layer_id='6856bd60-108c-4a8d-b439-46d85f089aaf', name='PCAs', metadata_type=<MetadataTypeEnum.continuous: 'continuous'>, is_sparse=False, fields=['PCA 0', 'PCA 1', 'PCA 2', 'PCA 3', 'PCA 4', 'PCA 5', 'PCA 6', 'PCA 7', 'PCA 8', 'PCA 9'], metadata={}, tags=[], local_path=PosixPath('/Users/erikstorrs/Downloads/temp_cache/ea3f6cff73e44d37b03153f08985212c.zarr.zip'), path='ea3f6cff73e44d37b03153f08985212c.zarr.zip')"
      ]
     },
     "execution_count": 46,
     "metadata": {},
     "output_type": "execute_result"
    }
   ],
   "source": [
    "experiment.add_continuous_layer_metadata('PCAs', pca_df, layer)"
   ]
  },
  {
   "cell_type": "markdown",
   "id": "f595bbe0",
   "metadata": {},
   "source": [
    "Check out the resulting experiment [here](https://lighthearted-kulfi-ce56ba.netlify.app/portal/demo_429ed69f-28e9-4663-8e71-222a7fbc7533)."
   ]
  },
  {
   "cell_type": "code",
   "execution_count": null,
   "id": "5184eddb",
   "metadata": {},
   "outputs": [],
   "source": []
  }
 ],
 "metadata": {
  "kernelspec": {
   "display_name": "Python 3 (ipykernel)",
   "language": "python",
   "name": "python3"
  },
  "language_info": {
   "codemirror_mode": {
    "name": "ipython",
    "version": 3
   },
   "file_extension": ".py",
   "mimetype": "text/x-python",
   "name": "python",
   "nbconvert_exporter": "python",
   "pygments_lexer": "ipython3",
   "version": "3.13.3"
  }
 },
 "nbformat": 4,
 "nbformat_minor": 5
}
